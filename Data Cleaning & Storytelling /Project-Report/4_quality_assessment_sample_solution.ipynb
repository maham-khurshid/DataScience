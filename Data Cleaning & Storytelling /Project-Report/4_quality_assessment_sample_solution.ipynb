{
 "cells": [
  {
   "cell_type": "code",
   "execution_count": 1,
   "metadata": {
    "executionInfo": {
     "elapsed": 3,
     "status": "ok",
     "timestamp": 1692192942460,
     "user": {
      "displayName": "Vasil Georgiev",
      "userId": "06423363571144121616"
     },
     "user_tz": -120
    },
    "id": "Lq7zsZka4q2m"
   },
   "outputs": [],
   "source": [
    "import pandas as pd"
   ]
  },
  {
   "cell_type": "markdown",
   "metadata": {
    "id": "hzwXSr-xfh97"
   },
   "source": [
    "Load our cleaned DataFrames"
   ]
  },
  {
   "cell_type": "code",
   "execution_count": 2,
   "metadata": {
    "executionInfo": {
     "elapsed": 5755,
     "status": "ok",
     "timestamp": 1692192954992,
     "user": {
      "displayName": "Vasil Georgiev",
      "userId": "06423363571144121616"
     },
     "user_tz": -120
    },
    "id": "30IJsE7t49Eu"
   },
   "outputs": [],
   "source": [
    "# orders_cl.csv\n",
    "url = \"https://drive.google.com/file/d/1Tla62vfu__kCqvgypZyVt2S9VuC016yH/view?usp=sharing\"\n",
    "path = \"https://drive.google.com/uc?export=download&id=\"+url.split(\"/\")[-2]\n",
    "orders_cl = pd.read_csv(path)\n",
    "\n",
    "# orderlines_cl.csv\n",
    "url = \"https://drive.google.com/file/d/1OhtkQS2fwOYdzfd-qPh7im35iLc-L9TA/view?usp=sharing\"\n",
    "path = \"https://drive.google.com/uc?export=download&id=\"+url.split(\"/\")[-2]\n",
    "orderlines_cl = pd.read_csv(path)\n",
    "\n",
    "# products_cl.csv\n",
    "url = \"https://drive.google.com/file/d/1s7Lai4NSlsYjGEPg1QSOUJobNYVsZBOJ/view?usp=sharing\"\n",
    "path = \"https://drive.google.com/uc?export=download&id=\"+url.split(\"/\")[-2]\n",
    "products_cl = pd.read_csv(path)"
   ]
  },
  {
   "cell_type": "markdown",
   "metadata": {
    "id": "GjQD8WPe6h0i"
   },
   "source": [
    "## 1.&nbsp; Define Pandas display format"
   ]
  },
  {
   "cell_type": "code",
   "execution_count": 3,
   "metadata": {
    "executionInfo": {
     "elapsed": 242,
     "status": "ok",
     "timestamp": 1692193007663,
     "user": {
      "displayName": "Vasil Georgiev",
      "userId": "06423363571144121616"
     },
     "user_tz": -120
    },
    "id": "SLikKmNx4WNo"
   },
   "outputs": [],
   "source": [
    "pd.set_option(\"display.float_format\", lambda x: \"%.2f\" % x)\n",
    "#pd.set_option(\"display.precision\", 2)\n",
    "pd.set_option(\"display.max_rows\", 1000)"
   ]
  },
  {
   "cell_type": "markdown",
   "metadata": {
    "id": "M0NhTKzF6jV4"
   },
   "source": [
    "## 2.&nbsp; Exclude unwanted orders"
   ]
  },
  {
   "cell_type": "markdown",
   "metadata": {
    "id": "EKolLICj68Ai"
   },
   "source": [
    "### Include only actual purchases\n",
    "No `shopping cart`, `cancelled` etc..."
   ]
  },
  {
   "cell_type": "markdown",
   "metadata": {
    "id": "i81Z74PVfpWt"
   },
   "source": [
    "Let's create a copy of the `orders_cl` DataFrame, to make sure any of our changes won't affect the original DataFrame."
   ]
  },
  {
   "cell_type": "code",
   "execution_count": 4,
   "metadata": {
    "executionInfo": {
     "elapsed": 250,
     "status": "ok",
     "timestamp": 1692193033334,
     "user": {
      "displayName": "Vasil Georgiev",
      "userId": "06423363571144121616"
     },
     "user_tz": -120
    },
    "id": "tl7AzGxuQTvz"
   },
   "outputs": [],
   "source": [
    "actual_purchases_df = orders_cl.copy()"
   ]
  },
  {
   "cell_type": "code",
   "execution_count": 5,
   "metadata": {
    "colab": {
     "base_uri": "https://localhost:8080/",
     "height": 423
    },
    "executionInfo": {
     "elapsed": 260,
     "status": "ok",
     "timestamp": 1692193037629,
     "user": {
      "displayName": "Vasil Georgiev",
      "userId": "06423363571144121616"
     },
     "user_tz": -120
    },
    "id": "XYTBUMfC6TV6",
    "outputId": "1c781404-85a5-4e16-8c27-ddcd7efe9afc"
   },
   "outputs": [
    {
     "data": {
      "text/html": [
       "\n",
       "\n",
       "  <div id=\"df-4a4ad372-47ca-4372-97c6-a515c3792277\">\n",
       "    <div class=\"colab-df-container\">\n",
       "      <div>\n",
       "<style scoped>\n",
       "    .dataframe tbody tr th:only-of-type {\n",
       "        vertical-align: middle;\n",
       "    }\n",
       "\n",
       "    .dataframe tbody tr th {\n",
       "        vertical-align: top;\n",
       "    }\n",
       "\n",
       "    .dataframe thead th {\n",
       "        text-align: right;\n",
       "    }\n",
       "</style>\n",
       "<table border=\"1\" class=\"dataframe\">\n",
       "  <thead>\n",
       "    <tr style=\"text-align: right;\">\n",
       "      <th></th>\n",
       "      <th>order_id</th>\n",
       "      <th>created_date</th>\n",
       "      <th>total_paid</th>\n",
       "      <th>state</th>\n",
       "    </tr>\n",
       "  </thead>\n",
       "  <tbody>\n",
       "    <tr>\n",
       "      <th>0</th>\n",
       "      <td>241319</td>\n",
       "      <td>2017-01-02 13:35:40</td>\n",
       "      <td>44.99</td>\n",
       "      <td>Cancelled</td>\n",
       "    </tr>\n",
       "    <tr>\n",
       "      <th>1</th>\n",
       "      <td>241423</td>\n",
       "      <td>2017-11-06 13:10:02</td>\n",
       "      <td>136.15</td>\n",
       "      <td>Completed</td>\n",
       "    </tr>\n",
       "    <tr>\n",
       "      <th>2</th>\n",
       "      <td>242832</td>\n",
       "      <td>2017-12-31 17:40:03</td>\n",
       "      <td>15.76</td>\n",
       "      <td>Completed</td>\n",
       "    </tr>\n",
       "    <tr>\n",
       "      <th>3</th>\n",
       "      <td>243330</td>\n",
       "      <td>2017-02-16 10:59:38</td>\n",
       "      <td>84.98</td>\n",
       "      <td>Completed</td>\n",
       "    </tr>\n",
       "    <tr>\n",
       "      <th>4</th>\n",
       "      <td>243784</td>\n",
       "      <td>2017-11-24 13:35:19</td>\n",
       "      <td>157.86</td>\n",
       "      <td>Cancelled</td>\n",
       "    </tr>\n",
       "    <tr>\n",
       "      <th>...</th>\n",
       "      <td>...</td>\n",
       "      <td>...</td>\n",
       "      <td>...</td>\n",
       "      <td>...</td>\n",
       "    </tr>\n",
       "    <tr>\n",
       "      <th>226899</th>\n",
       "      <td>527397</td>\n",
       "      <td>2018-03-14 13:56:38</td>\n",
       "      <td>42.99</td>\n",
       "      <td>Place Order</td>\n",
       "    </tr>\n",
       "    <tr>\n",
       "      <th>226900</th>\n",
       "      <td>527398</td>\n",
       "      <td>2018-03-14 13:57:25</td>\n",
       "      <td>42.99</td>\n",
       "      <td>Shopping Basket</td>\n",
       "    </tr>\n",
       "    <tr>\n",
       "      <th>226901</th>\n",
       "      <td>527399</td>\n",
       "      <td>2018-03-14 13:57:34</td>\n",
       "      <td>141.58</td>\n",
       "      <td>Shopping Basket</td>\n",
       "    </tr>\n",
       "    <tr>\n",
       "      <th>226902</th>\n",
       "      <td>527400</td>\n",
       "      <td>2018-03-14 13:57:41</td>\n",
       "      <td>19.98</td>\n",
       "      <td>Shopping Basket</td>\n",
       "    </tr>\n",
       "    <tr>\n",
       "      <th>226903</th>\n",
       "      <td>527401</td>\n",
       "      <td>2018-03-14 13:58:36</td>\n",
       "      <td>18.98</td>\n",
       "      <td>Place Order</td>\n",
       "    </tr>\n",
       "  </tbody>\n",
       "</table>\n",
       "<p>226904 rows × 4 columns</p>\n",
       "</div>\n",
       "      <button class=\"colab-df-convert\" onclick=\"convertToInteractive('df-4a4ad372-47ca-4372-97c6-a515c3792277')\"\n",
       "              title=\"Convert this dataframe to an interactive table.\"\n",
       "              style=\"display:none;\">\n",
       "\n",
       "  <svg xmlns=\"http://www.w3.org/2000/svg\" height=\"24px\"viewBox=\"0 0 24 24\"\n",
       "       width=\"24px\">\n",
       "    <path d=\"M0 0h24v24H0V0z\" fill=\"none\"/>\n",
       "    <path d=\"M18.56 5.44l.94 2.06.94-2.06 2.06-.94-2.06-.94-.94-2.06-.94 2.06-2.06.94zm-11 1L8.5 8.5l.94-2.06 2.06-.94-2.06-.94L8.5 2.5l-.94 2.06-2.06.94zm10 10l.94 2.06.94-2.06 2.06-.94-2.06-.94-.94-2.06-.94 2.06-2.06.94z\"/><path d=\"M17.41 7.96l-1.37-1.37c-.4-.4-.92-.59-1.43-.59-.52 0-1.04.2-1.43.59L10.3 9.45l-7.72 7.72c-.78.78-.78 2.05 0 2.83L4 21.41c.39.39.9.59 1.41.59.51 0 1.02-.2 1.41-.59l7.78-7.78 2.81-2.81c.8-.78.8-2.07 0-2.86zM5.41 20L4 18.59l7.72-7.72 1.47 1.35L5.41 20z\"/>\n",
       "  </svg>\n",
       "      </button>\n",
       "\n",
       "\n",
       "\n",
       "    <div id=\"df-0059008f-2626-4720-90df-28dd94b24fde\">\n",
       "      <button class=\"colab-df-quickchart\" onclick=\"quickchart('df-0059008f-2626-4720-90df-28dd94b24fde')\"\n",
       "              title=\"Suggest charts.\"\n",
       "              style=\"display:none;\">\n",
       "\n",
       "<svg xmlns=\"http://www.w3.org/2000/svg\" height=\"24px\"viewBox=\"0 0 24 24\"\n",
       "     width=\"24px\">\n",
       "    <g>\n",
       "        <path d=\"M19 3H5c-1.1 0-2 .9-2 2v14c0 1.1.9 2 2 2h14c1.1 0 2-.9 2-2V5c0-1.1-.9-2-2-2zM9 17H7v-7h2v7zm4 0h-2V7h2v10zm4 0h-2v-4h2v4z\"/>\n",
       "    </g>\n",
       "</svg>\n",
       "      </button>\n",
       "    </div>\n",
       "\n",
       "<style>\n",
       "  .colab-df-quickchart {\n",
       "    background-color: #E8F0FE;\n",
       "    border: none;\n",
       "    border-radius: 50%;\n",
       "    cursor: pointer;\n",
       "    display: none;\n",
       "    fill: #1967D2;\n",
       "    height: 32px;\n",
       "    padding: 0 0 0 0;\n",
       "    width: 32px;\n",
       "  }\n",
       "\n",
       "  .colab-df-quickchart:hover {\n",
       "    background-color: #E2EBFA;\n",
       "    box-shadow: 0px 1px 2px rgba(60, 64, 67, 0.3), 0px 1px 3px 1px rgba(60, 64, 67, 0.15);\n",
       "    fill: #174EA6;\n",
       "  }\n",
       "\n",
       "  [theme=dark] .colab-df-quickchart {\n",
       "    background-color: #3B4455;\n",
       "    fill: #D2E3FC;\n",
       "  }\n",
       "\n",
       "  [theme=dark] .colab-df-quickchart:hover {\n",
       "    background-color: #434B5C;\n",
       "    box-shadow: 0px 1px 3px 1px rgba(0, 0, 0, 0.15);\n",
       "    filter: drop-shadow(0px 1px 2px rgba(0, 0, 0, 0.3));\n",
       "    fill: #FFFFFF;\n",
       "  }\n",
       "</style>\n",
       "\n",
       "    <script>\n",
       "      async function quickchart(key) {\n",
       "        const containerElement = document.querySelector('#' + key);\n",
       "        const charts = await google.colab.kernel.invokeFunction(\n",
       "            'suggestCharts', [key], {});\n",
       "      }\n",
       "    </script>\n",
       "\n",
       "      <script>\n",
       "\n",
       "function displayQuickchartButton(domScope) {\n",
       "  let quickchartButtonEl =\n",
       "    domScope.querySelector('#df-0059008f-2626-4720-90df-28dd94b24fde button.colab-df-quickchart');\n",
       "  quickchartButtonEl.style.display =\n",
       "    google.colab.kernel.accessAllowed ? 'block' : 'none';\n",
       "}\n",
       "\n",
       "        displayQuickchartButton(document);\n",
       "      </script>\n",
       "      <style>\n",
       "    .colab-df-container {\n",
       "      display:flex;\n",
       "      flex-wrap:wrap;\n",
       "      gap: 12px;\n",
       "    }\n",
       "\n",
       "    .colab-df-convert {\n",
       "      background-color: #E8F0FE;\n",
       "      border: none;\n",
       "      border-radius: 50%;\n",
       "      cursor: pointer;\n",
       "      display: none;\n",
       "      fill: #1967D2;\n",
       "      height: 32px;\n",
       "      padding: 0 0 0 0;\n",
       "      width: 32px;\n",
       "    }\n",
       "\n",
       "    .colab-df-convert:hover {\n",
       "      background-color: #E2EBFA;\n",
       "      box-shadow: 0px 1px 2px rgba(60, 64, 67, 0.3), 0px 1px 3px 1px rgba(60, 64, 67, 0.15);\n",
       "      fill: #174EA6;\n",
       "    }\n",
       "\n",
       "    [theme=dark] .colab-df-convert {\n",
       "      background-color: #3B4455;\n",
       "      fill: #D2E3FC;\n",
       "    }\n",
       "\n",
       "    [theme=dark] .colab-df-convert:hover {\n",
       "      background-color: #434B5C;\n",
       "      box-shadow: 0px 1px 3px 1px rgba(0, 0, 0, 0.15);\n",
       "      filter: drop-shadow(0px 1px 2px rgba(0, 0, 0, 0.3));\n",
       "      fill: #FFFFFF;\n",
       "    }\n",
       "  </style>\n",
       "\n",
       "      <script>\n",
       "        const buttonEl =\n",
       "          document.querySelector('#df-4a4ad372-47ca-4372-97c6-a515c3792277 button.colab-df-convert');\n",
       "        buttonEl.style.display =\n",
       "          google.colab.kernel.accessAllowed ? 'block' : 'none';\n",
       "\n",
       "        async function convertToInteractive(key) {\n",
       "          const element = document.querySelector('#df-4a4ad372-47ca-4372-97c6-a515c3792277');\n",
       "          const dataTable =\n",
       "            await google.colab.kernel.invokeFunction('convertToInteractive',\n",
       "                                                     [key], {});\n",
       "          if (!dataTable) return;\n",
       "\n",
       "          const docLinkHtml = 'Like what you see? Visit the ' +\n",
       "            '<a target=\"_blank\" href=https://colab.research.google.com/notebooks/data_table.ipynb>data table notebook</a>'\n",
       "            + ' to learn more about interactive tables.';\n",
       "          element.innerHTML = '';\n",
       "          dataTable['output_type'] = 'display_data';\n",
       "          await google.colab.output.renderOutput(dataTable, element);\n",
       "          const docLink = document.createElement('div');\n",
       "          docLink.innerHTML = docLinkHtml;\n",
       "          element.appendChild(docLink);\n",
       "        }\n",
       "      </script>\n",
       "    </div>\n",
       "  </div>\n"
      ],
      "text/plain": [
       "        order_id         created_date  total_paid            state\n",
       "0         241319  2017-01-02 13:35:40       44.99        Cancelled\n",
       "1         241423  2017-11-06 13:10:02      136.15        Completed\n",
       "2         242832  2017-12-31 17:40:03       15.76        Completed\n",
       "3         243330  2017-02-16 10:59:38       84.98        Completed\n",
       "4         243784  2017-11-24 13:35:19      157.86        Cancelled\n",
       "...          ...                  ...         ...              ...\n",
       "226899    527397  2018-03-14 13:56:38       42.99      Place Order\n",
       "226900    527398  2018-03-14 13:57:25       42.99  Shopping Basket\n",
       "226901    527399  2018-03-14 13:57:34      141.58  Shopping Basket\n",
       "226902    527400  2018-03-14 13:57:41       19.98  Shopping Basket\n",
       "226903    527401  2018-03-14 13:58:36       18.98      Place Order\n",
       "\n",
       "[226904 rows x 4 columns]"
      ]
     },
     "execution_count": 5,
     "metadata": {},
     "output_type": "execute_result"
    }
   ],
   "source": [
    "actual_purchases_df"
   ]
  },
  {
   "cell_type": "markdown",
   "metadata": {
    "id": "22OkFav-9yKO"
   },
   "source": [
    "Let's look at the make up of `state`."
   ]
  },
  {
   "cell_type": "code",
   "execution_count": 6,
   "metadata": {
    "colab": {
     "base_uri": "https://localhost:8080/"
    },
    "executionInfo": {
     "elapsed": 239,
     "status": "ok",
     "timestamp": 1692193067727,
     "user": {
      "displayName": "Vasil Georgiev",
      "userId": "06423363571144121616"
     },
     "user_tz": -120
    },
    "id": "j_iNokEi9lsg",
    "outputId": "aceacc53-30d3-4475-ab9a-de43f24b3efb"
   },
   "outputs": [
    {
     "data": {
      "text/plain": [
       "Shopping Basket    117809\n",
       "Completed           46605\n",
       "Place Order         40883\n",
       "Pending             14374\n",
       "Cancelled            7233\n",
       "Name: state, dtype: int64"
      ]
     },
     "execution_count": 6,
     "metadata": {},
     "output_type": "execute_result"
    }
   ],
   "source": [
    "actual_purchases_df.state.value_counts()"
   ]
  },
  {
   "cell_type": "markdown",
   "metadata": {
    "id": "2CwFV85C9-YN"
   },
   "source": [
    "Seems like an ovewhelming amount of the orders are left in the shopping basket - something we'll have to analyse another time. For this task we're interested in only `completed` orders, so let's filter our DataFrame."
   ]
  },
  {
   "cell_type": "code",
   "execution_count": 7,
   "metadata": {
    "executionInfo": {
     "elapsed": 244,
     "status": "ok",
     "timestamp": 1692193116286,
     "user": {
      "displayName": "Vasil Georgiev",
      "userId": "06423363571144121616"
     },
     "user_tz": -120
    },
    "id": "3_FDLqIH-eDl"
   },
   "outputs": [],
   "source": [
    "actual_purchases_df = actual_purchases_df.loc[actual_purchases_df['state'].isin([\"Completed\"]), :]"
   ]
  },
  {
   "cell_type": "markdown",
   "metadata": {
    "id": "_yoaGt0CgGL4"
   },
   "source": [
    "Next, we'll make a list of the `order_id`'s of the `Completed` orders."
   ]
  },
  {
   "cell_type": "code",
   "execution_count": 8,
   "metadata": {
    "executionInfo": {
     "elapsed": 249,
     "status": "ok",
     "timestamp": 1692193162284,
     "user": {
      "displayName": "Vasil Georgiev",
      "userId": "06423363571144121616"
     },
     "user_tz": -120
    },
    "id": "eJgK6h68Qr8T"
   },
   "outputs": [],
   "source": [
    "actual_purchases_list = list(actual_purchases_df[\"order_id\"])"
   ]
  },
  {
   "cell_type": "markdown",
   "metadata": {
    "id": "OHpwu8YkgaWY"
   },
   "source": [
    "Now we can filter our cleaned DataFrames to include only the `order_id`'s in the list we just made. We'll also change the DataFrames from `_cl` to `_qu`, so we can distinguish between the data that has been cleaned, and that which has been quality controlled."
   ]
  },
  {
   "cell_type": "code",
   "execution_count": 9,
   "metadata": {
    "executionInfo": {
     "elapsed": 229,
     "status": "ok",
     "timestamp": 1692193197571,
     "user": {
      "displayName": "Vasil Georgiev",
      "userId": "06423363571144121616"
     },
     "user_tz": -120
    },
    "id": "CYrDdG9bRCBS"
   },
   "outputs": [],
   "source": [
    "orders_qu = orders_cl.loc[orders_cl[\"order_id\"].isin(actual_purchases_df[\"order_id\"]), :].copy()"
   ]
  },
  {
   "cell_type": "code",
   "execution_count": 10,
   "metadata": {
    "executionInfo": {
     "elapsed": 370,
     "status": "ok",
     "timestamp": 1692193199066,
     "user": {
      "displayName": "Vasil Georgiev",
      "userId": "06423363571144121616"
     },
     "user_tz": -120
    },
    "id": "odijtxrCRfAl"
   },
   "outputs": [],
   "source": [
    "orderlines_qu = orderlines_cl.loc[orderlines_cl[\"id_order\"].isin(actual_purchases_list), :].copy()"
   ]
  },
  {
   "cell_type": "markdown",
   "metadata": {
    "id": "Ihny8AC97HY9"
   },
   "source": [
    "### Keep only the orders that are present in both `orders` and `orderlines`\n",
    "Let's begin by looking if there's a big difference between the amount of orders present in `orders` and `orderlines`."
   ]
  },
  {
   "cell_type": "code",
   "execution_count": 11,
   "metadata": {
    "colab": {
     "base_uri": "https://localhost:8080/"
    },
    "executionInfo": {
     "elapsed": 289,
     "status": "ok",
     "timestamp": 1692193226887,
     "user": {
      "displayName": "Vasil Georgiev",
      "userId": "06423363571144121616"
     },
     "user_tz": -120
    },
    "id": "alpTEodZRxch",
    "outputId": "26ad3e07-475e-48cf-b7c7-b47ae26e1d1b"
   },
   "outputs": [
    {
     "data": {
      "text/plain": [
       "46605"
      ]
     },
     "execution_count": 11,
     "metadata": {},
     "output_type": "execute_result"
    }
   ],
   "source": [
    "len(orders_qu.order_id.unique())"
   ]
  },
  {
   "cell_type": "code",
   "execution_count": 12,
   "metadata": {
    "colab": {
     "base_uri": "https://localhost:8080/"
    },
    "executionInfo": {
     "elapsed": 238,
     "status": "ok",
     "timestamp": 1692193228253,
     "user": {
      "displayName": "Vasil Georgiev",
      "userId": "06423363571144121616"
     },
     "user_tz": -120
    },
    "id": "R_SY0aGyR-1M",
    "outputId": "027c2a17-54ab-4402-8050-603346334cca"
   },
   "outputs": [
    {
     "data": {
      "text/plain": [
       "43064"
      ]
     },
     "execution_count": 12,
     "metadata": {},
     "output_type": "execute_result"
    }
   ],
   "source": [
    "len(orderlines_qu.id_order.unique())"
   ]
  },
  {
   "cell_type": "markdown",
   "metadata": {
    "id": "SCsDt6sshN7g"
   },
   "source": [
    "Approximately 3000 difference!!! Let's fix that. We'll perform an inner merge on the two tables using the `order_id` & `id_order`. This will then keep only the `order_id`'s that are present in both tables, which will then help us filter our `_qu` DataFrames once again."
   ]
  },
  {
   "cell_type": "code",
   "execution_count": 13,
   "metadata": {
    "executionInfo": {
     "elapsed": 244,
     "status": "ok",
     "timestamp": 1692193265960,
     "user": {
      "displayName": "Vasil Georgiev",
      "userId": "06423363571144121616"
     },
     "user_tz": -120
    },
    "id": "Ei4ZWuQbTDKV"
   },
   "outputs": [],
   "source": [
    "orders_lines_merged_df = orders_qu.merge(orderlines_qu, how=\"inner\", left_on=\"order_id\", right_on=\"id_order\")"
   ]
  },
  {
   "cell_type": "code",
   "execution_count": 14,
   "metadata": {
    "colab": {
     "base_uri": "https://localhost:8080/",
     "height": 337
    },
    "executionInfo": {
     "elapsed": 270,
     "status": "ok",
     "timestamp": 1692193272514,
     "user": {
      "displayName": "Vasil Georgiev",
      "userId": "06423363571144121616"
     },
     "user_tz": -120
    },
    "id": "SYW4w8hoOqU_",
    "outputId": "22ce7f78-07e0-4c81-a3b8-aa6c14fa8a63"
   },
   "outputs": [
    {
     "data": {
      "text/html": [
       "\n",
       "\n",
       "  <div id=\"df-96586228-a03a-4c6f-b8c3-4811fdf8411e\">\n",
       "    <div class=\"colab-df-container\">\n",
       "      <div>\n",
       "<style scoped>\n",
       "    .dataframe tbody tr th:only-of-type {\n",
       "        vertical-align: middle;\n",
       "    }\n",
       "\n",
       "    .dataframe tbody tr th {\n",
       "        vertical-align: top;\n",
       "    }\n",
       "\n",
       "    .dataframe thead th {\n",
       "        text-align: right;\n",
       "    }\n",
       "</style>\n",
       "<table border=\"1\" class=\"dataframe\">\n",
       "  <thead>\n",
       "    <tr style=\"text-align: right;\">\n",
       "      <th></th>\n",
       "      <th>order_id</th>\n",
       "      <th>created_date</th>\n",
       "      <th>total_paid</th>\n",
       "      <th>state</th>\n",
       "      <th>id</th>\n",
       "      <th>id_order</th>\n",
       "      <th>product_id</th>\n",
       "      <th>product_quantity</th>\n",
       "      <th>sku</th>\n",
       "      <th>unit_price</th>\n",
       "      <th>date</th>\n",
       "    </tr>\n",
       "  </thead>\n",
       "  <tbody>\n",
       "    <tr>\n",
       "      <th>0</th>\n",
       "      <td>241423</td>\n",
       "      <td>2017-11-06 13:10:02</td>\n",
       "      <td>136.15</td>\n",
       "      <td>Completed</td>\n",
       "      <td>1398738</td>\n",
       "      <td>241423</td>\n",
       "      <td>0</td>\n",
       "      <td>1</td>\n",
       "      <td>LAC0212</td>\n",
       "      <td>129.16</td>\n",
       "      <td>2017-11-06 12:47:20</td>\n",
       "    </tr>\n",
       "    <tr>\n",
       "      <th>1</th>\n",
       "      <td>242832</td>\n",
       "      <td>2017-12-31 17:40:03</td>\n",
       "      <td>15.76</td>\n",
       "      <td>Completed</td>\n",
       "      <td>1529178</td>\n",
       "      <td>242832</td>\n",
       "      <td>0</td>\n",
       "      <td>1</td>\n",
       "      <td>PAR0074</td>\n",
       "      <td>10.77</td>\n",
       "      <td>2017-12-31 17:26:40</td>\n",
       "    </tr>\n",
       "    <tr>\n",
       "      <th>2</th>\n",
       "      <td>243330</td>\n",
       "      <td>2017-02-16 10:59:38</td>\n",
       "      <td>84.98</td>\n",
       "      <td>Completed</td>\n",
       "      <td>1181923</td>\n",
       "      <td>243330</td>\n",
       "      <td>0</td>\n",
       "      <td>1</td>\n",
       "      <td>OWC0074</td>\n",
       "      <td>77.99</td>\n",
       "      <td>2017-02-15 17:07:44</td>\n",
       "    </tr>\n",
       "    <tr>\n",
       "      <th>3</th>\n",
       "      <td>245275</td>\n",
       "      <td>2017-06-28 11:35:37</td>\n",
       "      <td>149.00</td>\n",
       "      <td>Completed</td>\n",
       "      <td>1276706</td>\n",
       "      <td>245275</td>\n",
       "      <td>0</td>\n",
       "      <td>1</td>\n",
       "      <td>TAD0007</td>\n",
       "      <td>149.00</td>\n",
       "      <td>2017-06-28 11:12:30</td>\n",
       "    </tr>\n",
       "    <tr>\n",
       "      <th>4</th>\n",
       "      <td>245595</td>\n",
       "      <td>2017-01-21 12:52:47</td>\n",
       "      <td>112.97</td>\n",
       "      <td>Completed</td>\n",
       "      <td>1154394</td>\n",
       "      <td>245595</td>\n",
       "      <td>0</td>\n",
       "      <td>2</td>\n",
       "      <td>PAC1561</td>\n",
       "      <td>52.99</td>\n",
       "      <td>2017-01-21 12:49:00</td>\n",
       "    </tr>\n",
       "  </tbody>\n",
       "</table>\n",
       "</div>\n",
       "      <button class=\"colab-df-convert\" onclick=\"convertToInteractive('df-96586228-a03a-4c6f-b8c3-4811fdf8411e')\"\n",
       "              title=\"Convert this dataframe to an interactive table.\"\n",
       "              style=\"display:none;\">\n",
       "\n",
       "  <svg xmlns=\"http://www.w3.org/2000/svg\" height=\"24px\"viewBox=\"0 0 24 24\"\n",
       "       width=\"24px\">\n",
       "    <path d=\"M0 0h24v24H0V0z\" fill=\"none\"/>\n",
       "    <path d=\"M18.56 5.44l.94 2.06.94-2.06 2.06-.94-2.06-.94-.94-2.06-.94 2.06-2.06.94zm-11 1L8.5 8.5l.94-2.06 2.06-.94-2.06-.94L8.5 2.5l-.94 2.06-2.06.94zm10 10l.94 2.06.94-2.06 2.06-.94-2.06-.94-.94-2.06-.94 2.06-2.06.94z\"/><path d=\"M17.41 7.96l-1.37-1.37c-.4-.4-.92-.59-1.43-.59-.52 0-1.04.2-1.43.59L10.3 9.45l-7.72 7.72c-.78.78-.78 2.05 0 2.83L4 21.41c.39.39.9.59 1.41.59.51 0 1.02-.2 1.41-.59l7.78-7.78 2.81-2.81c.8-.78.8-2.07 0-2.86zM5.41 20L4 18.59l7.72-7.72 1.47 1.35L5.41 20z\"/>\n",
       "  </svg>\n",
       "      </button>\n",
       "\n",
       "\n",
       "\n",
       "    <div id=\"df-ee09ca15-1015-4661-a9fe-d26192642d51\">\n",
       "      <button class=\"colab-df-quickchart\" onclick=\"quickchart('df-ee09ca15-1015-4661-a9fe-d26192642d51')\"\n",
       "              title=\"Suggest charts.\"\n",
       "              style=\"display:none;\">\n",
       "\n",
       "<svg xmlns=\"http://www.w3.org/2000/svg\" height=\"24px\"viewBox=\"0 0 24 24\"\n",
       "     width=\"24px\">\n",
       "    <g>\n",
       "        <path d=\"M19 3H5c-1.1 0-2 .9-2 2v14c0 1.1.9 2 2 2h14c1.1 0 2-.9 2-2V5c0-1.1-.9-2-2-2zM9 17H7v-7h2v7zm4 0h-2V7h2v10zm4 0h-2v-4h2v4z\"/>\n",
       "    </g>\n",
       "</svg>\n",
       "      </button>\n",
       "    </div>\n",
       "\n",
       "<style>\n",
       "  .colab-df-quickchart {\n",
       "    background-color: #E8F0FE;\n",
       "    border: none;\n",
       "    border-radius: 50%;\n",
       "    cursor: pointer;\n",
       "    display: none;\n",
       "    fill: #1967D2;\n",
       "    height: 32px;\n",
       "    padding: 0 0 0 0;\n",
       "    width: 32px;\n",
       "  }\n",
       "\n",
       "  .colab-df-quickchart:hover {\n",
       "    background-color: #E2EBFA;\n",
       "    box-shadow: 0px 1px 2px rgba(60, 64, 67, 0.3), 0px 1px 3px 1px rgba(60, 64, 67, 0.15);\n",
       "    fill: #174EA6;\n",
       "  }\n",
       "\n",
       "  [theme=dark] .colab-df-quickchart {\n",
       "    background-color: #3B4455;\n",
       "    fill: #D2E3FC;\n",
       "  }\n",
       "\n",
       "  [theme=dark] .colab-df-quickchart:hover {\n",
       "    background-color: #434B5C;\n",
       "    box-shadow: 0px 1px 3px 1px rgba(0, 0, 0, 0.15);\n",
       "    filter: drop-shadow(0px 1px 2px rgba(0, 0, 0, 0.3));\n",
       "    fill: #FFFFFF;\n",
       "  }\n",
       "</style>\n",
       "\n",
       "    <script>\n",
       "      async function quickchart(key) {\n",
       "        const containerElement = document.querySelector('#' + key);\n",
       "        const charts = await google.colab.kernel.invokeFunction(\n",
       "            'suggestCharts', [key], {});\n",
       "      }\n",
       "    </script>\n",
       "\n",
       "      <script>\n",
       "\n",
       "function displayQuickchartButton(domScope) {\n",
       "  let quickchartButtonEl =\n",
       "    domScope.querySelector('#df-ee09ca15-1015-4661-a9fe-d26192642d51 button.colab-df-quickchart');\n",
       "  quickchartButtonEl.style.display =\n",
       "    google.colab.kernel.accessAllowed ? 'block' : 'none';\n",
       "}\n",
       "\n",
       "        displayQuickchartButton(document);\n",
       "      </script>\n",
       "      <style>\n",
       "    .colab-df-container {\n",
       "      display:flex;\n",
       "      flex-wrap:wrap;\n",
       "      gap: 12px;\n",
       "    }\n",
       "\n",
       "    .colab-df-convert {\n",
       "      background-color: #E8F0FE;\n",
       "      border: none;\n",
       "      border-radius: 50%;\n",
       "      cursor: pointer;\n",
       "      display: none;\n",
       "      fill: #1967D2;\n",
       "      height: 32px;\n",
       "      padding: 0 0 0 0;\n",
       "      width: 32px;\n",
       "    }\n",
       "\n",
       "    .colab-df-convert:hover {\n",
       "      background-color: #E2EBFA;\n",
       "      box-shadow: 0px 1px 2px rgba(60, 64, 67, 0.3), 0px 1px 3px 1px rgba(60, 64, 67, 0.15);\n",
       "      fill: #174EA6;\n",
       "    }\n",
       "\n",
       "    [theme=dark] .colab-df-convert {\n",
       "      background-color: #3B4455;\n",
       "      fill: #D2E3FC;\n",
       "    }\n",
       "\n",
       "    [theme=dark] .colab-df-convert:hover {\n",
       "      background-color: #434B5C;\n",
       "      box-shadow: 0px 1px 3px 1px rgba(0, 0, 0, 0.15);\n",
       "      filter: drop-shadow(0px 1px 2px rgba(0, 0, 0, 0.3));\n",
       "      fill: #FFFFFF;\n",
       "    }\n",
       "  </style>\n",
       "\n",
       "      <script>\n",
       "        const buttonEl =\n",
       "          document.querySelector('#df-96586228-a03a-4c6f-b8c3-4811fdf8411e button.colab-df-convert');\n",
       "        buttonEl.style.display =\n",
       "          google.colab.kernel.accessAllowed ? 'block' : 'none';\n",
       "\n",
       "        async function convertToInteractive(key) {\n",
       "          const element = document.querySelector('#df-96586228-a03a-4c6f-b8c3-4811fdf8411e');\n",
       "          const dataTable =\n",
       "            await google.colab.kernel.invokeFunction('convertToInteractive',\n",
       "                                                     [key], {});\n",
       "          if (!dataTable) return;\n",
       "\n",
       "          const docLinkHtml = 'Like what you see? Visit the ' +\n",
       "            '<a target=\"_blank\" href=https://colab.research.google.com/notebooks/data_table.ipynb>data table notebook</a>'\n",
       "            + ' to learn more about interactive tables.';\n",
       "          element.innerHTML = '';\n",
       "          dataTable['output_type'] = 'display_data';\n",
       "          await google.colab.output.renderOutput(dataTable, element);\n",
       "          const docLink = document.createElement('div');\n",
       "          docLink.innerHTML = docLinkHtml;\n",
       "          element.appendChild(docLink);\n",
       "        }\n",
       "      </script>\n",
       "    </div>\n",
       "  </div>\n"
      ],
      "text/plain": [
       "   order_id         created_date  total_paid      state       id  id_order  \\\n",
       "0    241423  2017-11-06 13:10:02      136.15  Completed  1398738    241423   \n",
       "1    242832  2017-12-31 17:40:03       15.76  Completed  1529178    242832   \n",
       "2    243330  2017-02-16 10:59:38       84.98  Completed  1181923    243330   \n",
       "3    245275  2017-06-28 11:35:37      149.00  Completed  1276706    245275   \n",
       "4    245595  2017-01-21 12:52:47      112.97  Completed  1154394    245595   \n",
       "\n",
       "   product_id  product_quantity      sku  unit_price                 date  \n",
       "0           0                 1  LAC0212      129.16  2017-11-06 12:47:20  \n",
       "1           0                 1  PAR0074       10.77  2017-12-31 17:26:40  \n",
       "2           0                 1  OWC0074       77.99  2017-02-15 17:07:44  \n",
       "3           0                 1  TAD0007      149.00  2017-06-28 11:12:30  \n",
       "4           0                 2  PAC1561       52.99  2017-01-21 12:49:00  "
      ]
     },
     "execution_count": 14,
     "metadata": {},
     "output_type": "execute_result"
    }
   ],
   "source": [
    "orders_lines_merged_df.head(5)"
   ]
  },
  {
   "cell_type": "code",
   "execution_count": 15,
   "metadata": {
    "executionInfo": {
     "elapsed": 2,
     "status": "ok",
     "timestamp": 1692193300559,
     "user": {
      "displayName": "Vasil Georgiev",
      "userId": "06423363571144121616"
     },
     "user_tz": -120
    },
    "id": "j21RMJayTepy"
   },
   "outputs": [],
   "source": [
    "o_ids_in_both_list = list(orders_lines_merged_df[\"order_id\"].unique())"
   ]
  },
  {
   "cell_type": "code",
   "execution_count": 16,
   "metadata": {
    "executionInfo": {
     "elapsed": 225,
     "status": "ok",
     "timestamp": 1692193307291,
     "user": {
      "displayName": "Vasil Georgiev",
      "userId": "06423363571144121616"
     },
     "user_tz": -120
    },
    "id": "fV0bEfqKWYbD"
   },
   "outputs": [],
   "source": [
    "orders_qu = orders_qu.loc[orders_qu[\"order_id\"].isin(o_ids_in_both_list), :]\n",
    "orderlines_qu = orderlines_qu.loc[orderlines_cl[\"id_order\"].isin(o_ids_in_both_list), :]"
   ]
  },
  {
   "cell_type": "code",
   "execution_count": 17,
   "metadata": {
    "colab": {
     "base_uri": "https://localhost:8080/"
    },
    "executionInfo": {
     "elapsed": 245,
     "status": "ok",
     "timestamp": 1692193311844,
     "user": {
      "displayName": "Vasil Georgiev",
      "userId": "06423363571144121616"
     },
     "user_tz": -120
    },
    "id": "PlRWs_FeIIBs",
    "outputId": "1a32c4ac-06f8-4893-e260-f022d0c8ff31"
   },
   "outputs": [
    {
     "name": "stdout",
     "output_type": "stream",
     "text": [
      "orders_qu 43064 orderlines_qu 56714\n"
     ]
    }
   ],
   "source": [
    "print(f\"orders_qu {orders_qu.shape[0]} orderlines_qu {orderlines_qu.shape[0]}\")"
   ]
  },
  {
   "cell_type": "markdown",
   "metadata": {
    "id": "XSW2Js31kaRF"
   },
   "source": [
    "Let's have a quick check to make sure we're filtering both DataFrames the same. They should both contain the same number of unique `order_id`'s."
   ]
  },
  {
   "cell_type": "code",
   "execution_count": 18,
   "metadata": {
    "colab": {
     "base_uri": "https://localhost:8080/"
    },
    "executionInfo": {
     "elapsed": 265,
     "status": "ok",
     "timestamp": 1692193317610,
     "user": {
      "displayName": "Vasil Georgiev",
      "userId": "06423363571144121616"
     },
     "user_tz": -120
    },
    "id": "ja0XpsDDkZrT",
    "outputId": "e3eaedaf-8915-4f4b-91f4-d93150df87e2"
   },
   "outputs": [
    {
     "data": {
      "text/plain": [
       "(43064, 43064)"
      ]
     },
     "execution_count": 18,
     "metadata": {},
     "output_type": "execute_result"
    }
   ],
   "source": [
    "len(orders_qu[\"order_id\"].unique()), len(orderlines_qu[\"id_order\"].unique())"
   ]
  },
  {
   "cell_type": "markdown",
   "metadata": {
    "id": "F-rtzwAn7WyS"
   },
   "source": [
    "## 3.&nbsp; Exclude orders with unknown products\n",
    "Let's start by making a list of known products."
   ]
  },
  {
   "cell_type": "code",
   "execution_count": 19,
   "metadata": {
    "colab": {
     "base_uri": "https://localhost:8080/",
     "height": 407
    },
    "executionInfo": {
     "elapsed": 269,
     "status": "ok",
     "timestamp": 1692193758396,
     "user": {
      "displayName": "Vasil Georgiev",
      "userId": "06423363571144121616"
     },
     "user_tz": -120
    },
    "id": "b-Wysn1JaTU0",
    "outputId": "55c0a23f-f18c-4515-f0a8-2ff5fbf923e1"
   },
   "outputs": [
    {
     "data": {
      "text/html": [
       "\n",
       "\n",
       "  <div id=\"df-b6bcc6d0-4e95-4224-bd5c-bf2d8e75257d\">\n",
       "    <div class=\"colab-df-container\">\n",
       "      <div>\n",
       "<style scoped>\n",
       "    .dataframe tbody tr th:only-of-type {\n",
       "        vertical-align: middle;\n",
       "    }\n",
       "\n",
       "    .dataframe tbody tr th {\n",
       "        vertical-align: top;\n",
       "    }\n",
       "\n",
       "    .dataframe thead th {\n",
       "        text-align: right;\n",
       "    }\n",
       "</style>\n",
       "<table border=\"1\" class=\"dataframe\">\n",
       "  <thead>\n",
       "    <tr style=\"text-align: right;\">\n",
       "      <th></th>\n",
       "      <th>sku</th>\n",
       "      <th>name</th>\n",
       "      <th>desc</th>\n",
       "      <th>price</th>\n",
       "      <th>in_stock</th>\n",
       "      <th>type</th>\n",
       "    </tr>\n",
       "  </thead>\n",
       "  <tbody>\n",
       "    <tr>\n",
       "      <th>0</th>\n",
       "      <td>RAI0007</td>\n",
       "      <td>Silver Rain Design mStand Support</td>\n",
       "      <td>Aluminum support compatible with all MacBook</td>\n",
       "      <td>59.99</td>\n",
       "      <td>1</td>\n",
       "      <td>8696</td>\n",
       "    </tr>\n",
       "    <tr>\n",
       "      <th>1</th>\n",
       "      <td>APP0023</td>\n",
       "      <td>Apple Mac Keyboard Keypad Spanish</td>\n",
       "      <td>USB ultrathin keyboard Apple Mac Spanish.</td>\n",
       "      <td>59.00</td>\n",
       "      <td>0</td>\n",
       "      <td>13855401</td>\n",
       "    </tr>\n",
       "    <tr>\n",
       "      <th>2</th>\n",
       "      <td>APP0025</td>\n",
       "      <td>Mighty Mouse Apple Mouse for Mac</td>\n",
       "      <td>mouse Apple USB cable.</td>\n",
       "      <td>59.00</td>\n",
       "      <td>0</td>\n",
       "      <td>1387</td>\n",
       "    </tr>\n",
       "    <tr>\n",
       "      <th>3</th>\n",
       "      <td>APP0072</td>\n",
       "      <td>Apple Dock to USB Cable iPhone and iPod white</td>\n",
       "      <td>IPhone dock and USB Cable Apple iPod.</td>\n",
       "      <td>25.00</td>\n",
       "      <td>0</td>\n",
       "      <td>1230</td>\n",
       "    </tr>\n",
       "    <tr>\n",
       "      <th>4</th>\n",
       "      <td>KIN0007</td>\n",
       "      <td>Mac Memory Kingston 2GB 667MHz DDR2 SO-DIMM</td>\n",
       "      <td>2GB RAM Mac mini and iMac (2006/07) MacBook Pr...</td>\n",
       "      <td>34.99</td>\n",
       "      <td>1</td>\n",
       "      <td>1364</td>\n",
       "    </tr>\n",
       "    <tr>\n",
       "      <th>5</th>\n",
       "      <td>APP0073</td>\n",
       "      <td>Apple Composite AV Cable iPhone and iPod white</td>\n",
       "      <td>IPhone and iPod AV Cable Dock to Composite Video.</td>\n",
       "      <td>45.00</td>\n",
       "      <td>0</td>\n",
       "      <td>1230</td>\n",
       "    </tr>\n",
       "    <tr>\n",
       "      <th>6</th>\n",
       "      <td>KIN0008</td>\n",
       "      <td>Mac Memory Kingston 1GB 667MHz DDR2 SO-DIMM</td>\n",
       "      <td>1GB RAM Mac mini and iMac (2006/07) MacBook Pr...</td>\n",
       "      <td>18.99</td>\n",
       "      <td>0</td>\n",
       "      <td>1364</td>\n",
       "    </tr>\n",
       "    <tr>\n",
       "      <th>7</th>\n",
       "      <td>KIN0009</td>\n",
       "      <td>Mac Memory Kingston 2GB 800MHz DDR2 SO-DIMM</td>\n",
       "      <td>2GB RAM iMac with Intel Core 2 Duo (Penryn).</td>\n",
       "      <td>36.99</td>\n",
       "      <td>0</td>\n",
       "      <td>1364</td>\n",
       "    </tr>\n",
       "    <tr>\n",
       "      <th>8</th>\n",
       "      <td>KIN0001-2</td>\n",
       "      <td>Mac memory Kingston 4GB (2x2GB) 667MHz DDR2 SO...</td>\n",
       "      <td>RAM 4GB (2x2GB) Mac mini and iMac (2006/07) Ma...</td>\n",
       "      <td>74.00</td>\n",
       "      <td>0</td>\n",
       "      <td>1364</td>\n",
       "    </tr>\n",
       "    <tr>\n",
       "      <th>9</th>\n",
       "      <td>APP0100</td>\n",
       "      <td>Apple Adapter Mini Display Port to VGA</td>\n",
       "      <td>Adapter Mini Display Port to VGA MacBook and M...</td>\n",
       "      <td>35.00</td>\n",
       "      <td>0</td>\n",
       "      <td>1325</td>\n",
       "    </tr>\n",
       "  </tbody>\n",
       "</table>\n",
       "</div>\n",
       "      <button class=\"colab-df-convert\" onclick=\"convertToInteractive('df-b6bcc6d0-4e95-4224-bd5c-bf2d8e75257d')\"\n",
       "              title=\"Convert this dataframe to an interactive table.\"\n",
       "              style=\"display:none;\">\n",
       "\n",
       "  <svg xmlns=\"http://www.w3.org/2000/svg\" height=\"24px\"viewBox=\"0 0 24 24\"\n",
       "       width=\"24px\">\n",
       "    <path d=\"M0 0h24v24H0V0z\" fill=\"none\"/>\n",
       "    <path d=\"M18.56 5.44l.94 2.06.94-2.06 2.06-.94-2.06-.94-.94-2.06-.94 2.06-2.06.94zm-11 1L8.5 8.5l.94-2.06 2.06-.94-2.06-.94L8.5 2.5l-.94 2.06-2.06.94zm10 10l.94 2.06.94-2.06 2.06-.94-2.06-.94-.94-2.06-.94 2.06-2.06.94z\"/><path d=\"M17.41 7.96l-1.37-1.37c-.4-.4-.92-.59-1.43-.59-.52 0-1.04.2-1.43.59L10.3 9.45l-7.72 7.72c-.78.78-.78 2.05 0 2.83L4 21.41c.39.39.9.59 1.41.59.51 0 1.02-.2 1.41-.59l7.78-7.78 2.81-2.81c.8-.78.8-2.07 0-2.86zM5.41 20L4 18.59l7.72-7.72 1.47 1.35L5.41 20z\"/>\n",
       "  </svg>\n",
       "      </button>\n",
       "\n",
       "\n",
       "\n",
       "    <div id=\"df-78ff0522-5dc2-496b-88bd-3528ccccfd92\">\n",
       "      <button class=\"colab-df-quickchart\" onclick=\"quickchart('df-78ff0522-5dc2-496b-88bd-3528ccccfd92')\"\n",
       "              title=\"Suggest charts.\"\n",
       "              style=\"display:none;\">\n",
       "\n",
       "<svg xmlns=\"http://www.w3.org/2000/svg\" height=\"24px\"viewBox=\"0 0 24 24\"\n",
       "     width=\"24px\">\n",
       "    <g>\n",
       "        <path d=\"M19 3H5c-1.1 0-2 .9-2 2v14c0 1.1.9 2 2 2h14c1.1 0 2-.9 2-2V5c0-1.1-.9-2-2-2zM9 17H7v-7h2v7zm4 0h-2V7h2v10zm4 0h-2v-4h2v4z\"/>\n",
       "    </g>\n",
       "</svg>\n",
       "      </button>\n",
       "    </div>\n",
       "\n",
       "<style>\n",
       "  .colab-df-quickchart {\n",
       "    background-color: #E8F0FE;\n",
       "    border: none;\n",
       "    border-radius: 50%;\n",
       "    cursor: pointer;\n",
       "    display: none;\n",
       "    fill: #1967D2;\n",
       "    height: 32px;\n",
       "    padding: 0 0 0 0;\n",
       "    width: 32px;\n",
       "  }\n",
       "\n",
       "  .colab-df-quickchart:hover {\n",
       "    background-color: #E2EBFA;\n",
       "    box-shadow: 0px 1px 2px rgba(60, 64, 67, 0.3), 0px 1px 3px 1px rgba(60, 64, 67, 0.15);\n",
       "    fill: #174EA6;\n",
       "  }\n",
       "\n",
       "  [theme=dark] .colab-df-quickchart {\n",
       "    background-color: #3B4455;\n",
       "    fill: #D2E3FC;\n",
       "  }\n",
       "\n",
       "  [theme=dark] .colab-df-quickchart:hover {\n",
       "    background-color: #434B5C;\n",
       "    box-shadow: 0px 1px 3px 1px rgba(0, 0, 0, 0.15);\n",
       "    filter: drop-shadow(0px 1px 2px rgba(0, 0, 0, 0.3));\n",
       "    fill: #FFFFFF;\n",
       "  }\n",
       "</style>\n",
       "\n",
       "    <script>\n",
       "      async function quickchart(key) {\n",
       "        const containerElement = document.querySelector('#' + key);\n",
       "        const charts = await google.colab.kernel.invokeFunction(\n",
       "            'suggestCharts', [key], {});\n",
       "      }\n",
       "    </script>\n",
       "\n",
       "      <script>\n",
       "\n",
       "function displayQuickchartButton(domScope) {\n",
       "  let quickchartButtonEl =\n",
       "    domScope.querySelector('#df-78ff0522-5dc2-496b-88bd-3528ccccfd92 button.colab-df-quickchart');\n",
       "  quickchartButtonEl.style.display =\n",
       "    google.colab.kernel.accessAllowed ? 'block' : 'none';\n",
       "}\n",
       "\n",
       "        displayQuickchartButton(document);\n",
       "      </script>\n",
       "      <style>\n",
       "    .colab-df-container {\n",
       "      display:flex;\n",
       "      flex-wrap:wrap;\n",
       "      gap: 12px;\n",
       "    }\n",
       "\n",
       "    .colab-df-convert {\n",
       "      background-color: #E8F0FE;\n",
       "      border: none;\n",
       "      border-radius: 50%;\n",
       "      cursor: pointer;\n",
       "      display: none;\n",
       "      fill: #1967D2;\n",
       "      height: 32px;\n",
       "      padding: 0 0 0 0;\n",
       "      width: 32px;\n",
       "    }\n",
       "\n",
       "    .colab-df-convert:hover {\n",
       "      background-color: #E2EBFA;\n",
       "      box-shadow: 0px 1px 2px rgba(60, 64, 67, 0.3), 0px 1px 3px 1px rgba(60, 64, 67, 0.15);\n",
       "      fill: #174EA6;\n",
       "    }\n",
       "\n",
       "    [theme=dark] .colab-df-convert {\n",
       "      background-color: #3B4455;\n",
       "      fill: #D2E3FC;\n",
       "    }\n",
       "\n",
       "    [theme=dark] .colab-df-convert:hover {\n",
       "      background-color: #434B5C;\n",
       "      box-shadow: 0px 1px 3px 1px rgba(0, 0, 0, 0.15);\n",
       "      filter: drop-shadow(0px 1px 2px rgba(0, 0, 0, 0.3));\n",
       "      fill: #FFFFFF;\n",
       "    }\n",
       "  </style>\n",
       "\n",
       "      <script>\n",
       "        const buttonEl =\n",
       "          document.querySelector('#df-b6bcc6d0-4e95-4224-bd5c-bf2d8e75257d button.colab-df-convert');\n",
       "        buttonEl.style.display =\n",
       "          google.colab.kernel.accessAllowed ? 'block' : 'none';\n",
       "\n",
       "        async function convertToInteractive(key) {\n",
       "          const element = document.querySelector('#df-b6bcc6d0-4e95-4224-bd5c-bf2d8e75257d');\n",
       "          const dataTable =\n",
       "            await google.colab.kernel.invokeFunction('convertToInteractive',\n",
       "                                                     [key], {});\n",
       "          if (!dataTable) return;\n",
       "\n",
       "          const docLinkHtml = 'Like what you see? Visit the ' +\n",
       "            '<a target=\"_blank\" href=https://colab.research.google.com/notebooks/data_table.ipynb>data table notebook</a>'\n",
       "            + ' to learn more about interactive tables.';\n",
       "          element.innerHTML = '';\n",
       "          dataTable['output_type'] = 'display_data';\n",
       "          await google.colab.output.renderOutput(dataTable, element);\n",
       "          const docLink = document.createElement('div');\n",
       "          docLink.innerHTML = docLinkHtml;\n",
       "          element.appendChild(docLink);\n",
       "        }\n",
       "      </script>\n",
       "    </div>\n",
       "  </div>\n"
      ],
      "text/plain": [
       "         sku                                               name  \\\n",
       "0    RAI0007                  Silver Rain Design mStand Support   \n",
       "1    APP0023                  Apple Mac Keyboard Keypad Spanish   \n",
       "2    APP0025                   Mighty Mouse Apple Mouse for Mac   \n",
       "3    APP0072      Apple Dock to USB Cable iPhone and iPod white   \n",
       "4    KIN0007        Mac Memory Kingston 2GB 667MHz DDR2 SO-DIMM   \n",
       "5    APP0073     Apple Composite AV Cable iPhone and iPod white   \n",
       "6    KIN0008        Mac Memory Kingston 1GB 667MHz DDR2 SO-DIMM   \n",
       "7    KIN0009        Mac Memory Kingston 2GB 800MHz DDR2 SO-DIMM   \n",
       "8  KIN0001-2  Mac memory Kingston 4GB (2x2GB) 667MHz DDR2 SO...   \n",
       "9    APP0100             Apple Adapter Mini Display Port to VGA   \n",
       "\n",
       "                                                desc  price  in_stock  \\\n",
       "0       Aluminum support compatible with all MacBook  59.99         1   \n",
       "1          USB ultrathin keyboard Apple Mac Spanish.  59.00         0   \n",
       "2                             mouse Apple USB cable.  59.00         0   \n",
       "3              IPhone dock and USB Cable Apple iPod.  25.00         0   \n",
       "4  2GB RAM Mac mini and iMac (2006/07) MacBook Pr...  34.99         1   \n",
       "5  IPhone and iPod AV Cable Dock to Composite Video.  45.00         0   \n",
       "6  1GB RAM Mac mini and iMac (2006/07) MacBook Pr...  18.99         0   \n",
       "7       2GB RAM iMac with Intel Core 2 Duo (Penryn).  36.99         0   \n",
       "8  RAM 4GB (2x2GB) Mac mini and iMac (2006/07) Ma...  74.00         0   \n",
       "9  Adapter Mini Display Port to VGA MacBook and M...  35.00         0   \n",
       "\n",
       "       type  \n",
       "0      8696  \n",
       "1  13855401  \n",
       "2      1387  \n",
       "3      1230  \n",
       "4      1364  \n",
       "5      1230  \n",
       "6      1364  \n",
       "7      1364  \n",
       "8      1364  \n",
       "9      1325  "
      ]
     },
     "execution_count": 19,
     "metadata": {},
     "output_type": "execute_result"
    }
   ],
   "source": [
    "products_cl.head(10)"
   ]
  },
  {
   "cell_type": "code",
   "execution_count": 20,
   "metadata": {
    "executionInfo": {
     "elapsed": 246,
     "status": "ok",
     "timestamp": 1692193792617,
     "user": {
      "displayName": "Vasil Georgiev",
      "userId": "06423363571144121616"
     },
     "user_tz": -120
    },
    "id": "0HCfsxir7XTc"
   },
   "outputs": [],
   "source": [
    "known_skus_list = list(products_cl[\"sku\"])"
   ]
  },
  {
   "cell_type": "markdown",
   "metadata": {
    "id": "duFPzOPEBmSw"
   },
   "source": [
    "Let's have a look to see how many products in our `orderlines_qu` DataFrame are known and how many are unknown."
   ]
  },
  {
   "cell_type": "code",
   "execution_count": 21,
   "metadata": {
    "colab": {
     "base_uri": "https://localhost:8080/"
    },
    "executionInfo": {
     "elapsed": 233,
     "status": "ok",
     "timestamp": 1692193809525,
     "user": {
      "displayName": "Vasil Georgiev",
      "userId": "06423363571144121616"
     },
     "user_tz": -120
    },
    "id": "1cRigwB7CQlm",
    "outputId": "66941132-bf4d-4851-b407-33de0779d303"
   },
   "outputs": [
    {
     "data": {
      "text/plain": [
       "True     55320\n",
       "False     1394\n",
       "Name: sku, dtype: int64"
      ]
     },
     "execution_count": 21,
     "metadata": {},
     "output_type": "execute_result"
    }
   ],
   "source": [
    "orderlines_qu.sku.isin(known_skus_list).value_counts()"
   ]
  },
  {
   "cell_type": "markdown",
   "metadata": {
    "id": "CL4umUGtCWXX"
   },
   "source": [
    "Looks like the vast majority of products are known.\n",
    "\n",
    "We can't simply delete the rows containing unknown products. We need to remove the entirety of any order that contains an unknown product.\n",
    "\n",
    "The 1st step is to identify any order that contains an unknown product. Then find the `order_id` of these orders. Finally filter these order numbers out of our `_qu` DataFrames."
   ]
  },
  {
   "cell_type": "code",
   "execution_count": 22,
   "metadata": {
    "executionInfo": {
     "elapsed": 312,
     "status": "ok",
     "timestamp": 1692193959186,
     "user": {
      "displayName": "Vasil Georgiev",
      "userId": "06423363571144121616"
     },
     "user_tz": -120
    },
    "id": "wOglyDA7BvRI"
   },
   "outputs": [],
   "source": [
    "orders_with_unknown_products_list = list(orderlines_qu.loc[~orderlines_qu.sku.isin(known_skus_list), \"id_order\"])"
   ]
  },
  {
   "cell_type": "markdown",
   "metadata": {
    "id": "gZjy2XliLnfC"
   },
   "source": [
    "Now we can filter our DataFrame to exclude the `order_id`'s that contain unknown products"
   ]
  },
  {
   "cell_type": "code",
   "execution_count": 23,
   "metadata": {
    "executionInfo": {
     "elapsed": 264,
     "status": "ok",
     "timestamp": 1692193961952,
     "user": {
      "displayName": "Vasil Georgiev",
      "userId": "06423363571144121616"
     },
     "user_tz": -120
    },
    "id": "tPQzehdCL1ny"
   },
   "outputs": [],
   "source": [
    "orders_qu = orders_qu.loc[~orders_qu[\"order_id\"].isin(orders_with_unknown_products_list), :]\n",
    "orderlines_qu = orderlines_qu.loc[~orderlines_qu[\"id_order\"].isin(orders_with_unknown_products_list), :]"
   ]
  },
  {
   "cell_type": "markdown",
   "metadata": {
    "id": "Lih6-IjRkJ0F"
   },
   "source": [
    "Let's have a quick check to make sure we're filtering both DataFrames the same. They should both contain the same number of unique `order_id`'s."
   ]
  },
  {
   "cell_type": "code",
   "execution_count": 24,
   "metadata": {
    "colab": {
     "base_uri": "https://localhost:8080/"
    },
    "executionInfo": {
     "elapsed": 257,
     "status": "ok",
     "timestamp": 1692193975296,
     "user": {
      "displayName": "Vasil Georgiev",
      "userId": "06423363571144121616"
     },
     "user_tz": -120
    },
    "id": "jJ-EYdAbenWo",
    "outputId": "c159e59d-ecc4-4168-f712-8ea7f5645b8c"
   },
   "outputs": [
    {
     "data": {
      "text/plain": [
       "(41701, 41701)"
      ]
     },
     "execution_count": 24,
     "metadata": {},
     "output_type": "execute_result"
    }
   ],
   "source": [
    "len(orders_qu[\"order_id\"].unique()), len(orderlines_qu[\"id_order\"].unique())"
   ]
  },
  {
   "cell_type": "markdown",
   "metadata": {
    "id": "bCLu78B07gN1"
   },
   "source": [
    "## 4.&nbsp; Explore the revenue from different tables"
   ]
  },
  {
   "cell_type": "code",
   "execution_count": 25,
   "metadata": {
    "executionInfo": {
     "elapsed": 277,
     "status": "ok",
     "timestamp": 1692194092371,
     "user": {
      "displayName": "Vasil Georgiev",
      "userId": "06423363571144121616"
     },
     "user_tz": -120
    },
    "id": "Pw0WN7uibB4y"
   },
   "outputs": [],
   "source": [
    "orderlines_qu_copy = orderlines_qu.copy()"
   ]
  },
  {
   "cell_type": "markdown",
   "metadata": {
    "id": "CrmrCXypbflw"
   },
   "source": [
    "#### Step 1:\n",
    "Create the `unit_price_total` as `orderlines.unit_price` * `orderlines.product_quantity`"
   ]
  },
  {
   "cell_type": "code",
   "execution_count": 26,
   "metadata": {
    "executionInfo": {
     "elapsed": 351,
     "status": "ok",
     "timestamp": 1692194117206,
     "user": {
      "displayName": "Vasil Georgiev",
      "userId": "06423363571144121616"
     },
     "user_tz": -120
    },
    "id": "c8MApY6jatlO"
   },
   "outputs": [],
   "source": [
    "orderlines_qu_copy[\"unit_price_total\"] = orderlines_qu_copy[\"product_quantity\"] * orderlines_qu_copy[\"unit_price\"]"
   ]
  },
  {
   "cell_type": "code",
   "execution_count": 27,
   "metadata": {
    "colab": {
     "base_uri": "https://localhost:8080/",
     "height": 423
    },
    "executionInfo": {
     "elapsed": 239,
     "status": "ok",
     "timestamp": 1692194141972,
     "user": {
      "displayName": "Vasil Georgiev",
      "userId": "06423363571144121616"
     },
     "user_tz": -120
    },
    "id": "-PqKatT5oWgE",
    "outputId": "e2ce8b24-5eb4-4179-b6e4-19bc12ba48e2"
   },
   "outputs": [
    {
     "data": {
      "text/html": [
       "\n",
       "\n",
       "  <div id=\"df-6c09c2c0-ca88-490a-b6cd-1f2c27260ced\">\n",
       "    <div class=\"colab-df-container\">\n",
       "      <div>\n",
       "<style scoped>\n",
       "    .dataframe tbody tr th:only-of-type {\n",
       "        vertical-align: middle;\n",
       "    }\n",
       "\n",
       "    .dataframe tbody tr th {\n",
       "        vertical-align: top;\n",
       "    }\n",
       "\n",
       "    .dataframe thead th {\n",
       "        text-align: right;\n",
       "    }\n",
       "</style>\n",
       "<table border=\"1\" class=\"dataframe\">\n",
       "  <thead>\n",
       "    <tr style=\"text-align: right;\">\n",
       "      <th></th>\n",
       "      <th>id</th>\n",
       "      <th>id_order</th>\n",
       "      <th>product_id</th>\n",
       "      <th>product_quantity</th>\n",
       "      <th>sku</th>\n",
       "      <th>unit_price</th>\n",
       "      <th>date</th>\n",
       "      <th>unit_price_total</th>\n",
       "    </tr>\n",
       "  </thead>\n",
       "  <tbody>\n",
       "    <tr>\n",
       "      <th>6</th>\n",
       "      <td>1119116</td>\n",
       "      <td>299545</td>\n",
       "      <td>0</td>\n",
       "      <td>1</td>\n",
       "      <td>OWC0100</td>\n",
       "      <td>47.49</td>\n",
       "      <td>2017-01-01 01:46:16</td>\n",
       "      <td>47.49</td>\n",
       "    </tr>\n",
       "    <tr>\n",
       "      <th>7</th>\n",
       "      <td>1119119</td>\n",
       "      <td>299546</td>\n",
       "      <td>0</td>\n",
       "      <td>1</td>\n",
       "      <td>IOT0014</td>\n",
       "      <td>18.99</td>\n",
       "      <td>2017-01-01 01:50:34</td>\n",
       "      <td>18.99</td>\n",
       "    </tr>\n",
       "    <tr>\n",
       "      <th>8</th>\n",
       "      <td>1119120</td>\n",
       "      <td>295347</td>\n",
       "      <td>0</td>\n",
       "      <td>1</td>\n",
       "      <td>APP0700</td>\n",
       "      <td>72.19</td>\n",
       "      <td>2017-01-01 01:54:11</td>\n",
       "      <td>72.19</td>\n",
       "    </tr>\n",
       "    <tr>\n",
       "      <th>15</th>\n",
       "      <td>1119134</td>\n",
       "      <td>299556</td>\n",
       "      <td>0</td>\n",
       "      <td>1</td>\n",
       "      <td>CRU0039-A</td>\n",
       "      <td>60.90</td>\n",
       "      <td>2017-01-01 02:20:14</td>\n",
       "      <td>60.90</td>\n",
       "    </tr>\n",
       "    <tr>\n",
       "      <th>21</th>\n",
       "      <td>1119145</td>\n",
       "      <td>299561</td>\n",
       "      <td>0</td>\n",
       "      <td>1</td>\n",
       "      <td>PEB0015</td>\n",
       "      <td>142.49</td>\n",
       "      <td>2017-01-01 02:38:50</td>\n",
       "      <td>142.49</td>\n",
       "    </tr>\n",
       "    <tr>\n",
       "      <th>...</th>\n",
       "      <td>...</td>\n",
       "      <td>...</td>\n",
       "      <td>...</td>\n",
       "      <td>...</td>\n",
       "      <td>...</td>\n",
       "      <td>...</td>\n",
       "      <td>...</td>\n",
       "      <td>...</td>\n",
       "    </tr>\n",
       "    <tr>\n",
       "      <th>215889</th>\n",
       "      <td>1649474</td>\n",
       "      <td>525664</td>\n",
       "      <td>0</td>\n",
       "      <td>1</td>\n",
       "      <td>TUC0207</td>\n",
       "      <td>16.52</td>\n",
       "      <td>2018-03-14 11:45:05</td>\n",
       "      <td>16.52</td>\n",
       "    </tr>\n",
       "    <tr>\n",
       "      <th>215906</th>\n",
       "      <td>1649512</td>\n",
       "      <td>527070</td>\n",
       "      <td>0</td>\n",
       "      <td>2</td>\n",
       "      <td>APP0698</td>\n",
       "      <td>9.99</td>\n",
       "      <td>2018-03-14 11:49:01</td>\n",
       "      <td>19.98</td>\n",
       "    </tr>\n",
       "    <tr>\n",
       "      <th>215911</th>\n",
       "      <td>1649522</td>\n",
       "      <td>527074</td>\n",
       "      <td>0</td>\n",
       "      <td>2</td>\n",
       "      <td>APP0698</td>\n",
       "      <td>9.99</td>\n",
       "      <td>2018-03-14 11:49:36</td>\n",
       "      <td>19.98</td>\n",
       "    </tr>\n",
       "    <tr>\n",
       "      <th>215932</th>\n",
       "      <td>1649565</td>\n",
       "      <td>527096</td>\n",
       "      <td>0</td>\n",
       "      <td>3</td>\n",
       "      <td>APP0698</td>\n",
       "      <td>9.99</td>\n",
       "      <td>2018-03-14 11:54:35</td>\n",
       "      <td>29.97</td>\n",
       "    </tr>\n",
       "    <tr>\n",
       "      <th>215949</th>\n",
       "      <td>1649593</td>\n",
       "      <td>527112</td>\n",
       "      <td>0</td>\n",
       "      <td>1</td>\n",
       "      <td>APP0698</td>\n",
       "      <td>9.99</td>\n",
       "      <td>2018-03-14 11:58:13</td>\n",
       "      <td>9.99</td>\n",
       "    </tr>\n",
       "  </tbody>\n",
       "</table>\n",
       "<p>54324 rows × 8 columns</p>\n",
       "</div>\n",
       "      <button class=\"colab-df-convert\" onclick=\"convertToInteractive('df-6c09c2c0-ca88-490a-b6cd-1f2c27260ced')\"\n",
       "              title=\"Convert this dataframe to an interactive table.\"\n",
       "              style=\"display:none;\">\n",
       "\n",
       "  <svg xmlns=\"http://www.w3.org/2000/svg\" height=\"24px\"viewBox=\"0 0 24 24\"\n",
       "       width=\"24px\">\n",
       "    <path d=\"M0 0h24v24H0V0z\" fill=\"none\"/>\n",
       "    <path d=\"M18.56 5.44l.94 2.06.94-2.06 2.06-.94-2.06-.94-.94-2.06-.94 2.06-2.06.94zm-11 1L8.5 8.5l.94-2.06 2.06-.94-2.06-.94L8.5 2.5l-.94 2.06-2.06.94zm10 10l.94 2.06.94-2.06 2.06-.94-2.06-.94-.94-2.06-.94 2.06-2.06.94z\"/><path d=\"M17.41 7.96l-1.37-1.37c-.4-.4-.92-.59-1.43-.59-.52 0-1.04.2-1.43.59L10.3 9.45l-7.72 7.72c-.78.78-.78 2.05 0 2.83L4 21.41c.39.39.9.59 1.41.59.51 0 1.02-.2 1.41-.59l7.78-7.78 2.81-2.81c.8-.78.8-2.07 0-2.86zM5.41 20L4 18.59l7.72-7.72 1.47 1.35L5.41 20z\"/>\n",
       "  </svg>\n",
       "      </button>\n",
       "\n",
       "\n",
       "\n",
       "    <div id=\"df-1c6b90e8-4f78-4fae-872e-040ed06b183b\">\n",
       "      <button class=\"colab-df-quickchart\" onclick=\"quickchart('df-1c6b90e8-4f78-4fae-872e-040ed06b183b')\"\n",
       "              title=\"Suggest charts.\"\n",
       "              style=\"display:none;\">\n",
       "\n",
       "<svg xmlns=\"http://www.w3.org/2000/svg\" height=\"24px\"viewBox=\"0 0 24 24\"\n",
       "     width=\"24px\">\n",
       "    <g>\n",
       "        <path d=\"M19 3H5c-1.1 0-2 .9-2 2v14c0 1.1.9 2 2 2h14c1.1 0 2-.9 2-2V5c0-1.1-.9-2-2-2zM9 17H7v-7h2v7zm4 0h-2V7h2v10zm4 0h-2v-4h2v4z\"/>\n",
       "    </g>\n",
       "</svg>\n",
       "      </button>\n",
       "    </div>\n",
       "\n",
       "<style>\n",
       "  .colab-df-quickchart {\n",
       "    background-color: #E8F0FE;\n",
       "    border: none;\n",
       "    border-radius: 50%;\n",
       "    cursor: pointer;\n",
       "    display: none;\n",
       "    fill: #1967D2;\n",
       "    height: 32px;\n",
       "    padding: 0 0 0 0;\n",
       "    width: 32px;\n",
       "  }\n",
       "\n",
       "  .colab-df-quickchart:hover {\n",
       "    background-color: #E2EBFA;\n",
       "    box-shadow: 0px 1px 2px rgba(60, 64, 67, 0.3), 0px 1px 3px 1px rgba(60, 64, 67, 0.15);\n",
       "    fill: #174EA6;\n",
       "  }\n",
       "\n",
       "  [theme=dark] .colab-df-quickchart {\n",
       "    background-color: #3B4455;\n",
       "    fill: #D2E3FC;\n",
       "  }\n",
       "\n",
       "  [theme=dark] .colab-df-quickchart:hover {\n",
       "    background-color: #434B5C;\n",
       "    box-shadow: 0px 1px 3px 1px rgba(0, 0, 0, 0.15);\n",
       "    filter: drop-shadow(0px 1px 2px rgba(0, 0, 0, 0.3));\n",
       "    fill: #FFFFFF;\n",
       "  }\n",
       "</style>\n",
       "\n",
       "    <script>\n",
       "      async function quickchart(key) {\n",
       "        const containerElement = document.querySelector('#' + key);\n",
       "        const charts = await google.colab.kernel.invokeFunction(\n",
       "            'suggestCharts', [key], {});\n",
       "      }\n",
       "    </script>\n",
       "\n",
       "      <script>\n",
       "\n",
       "function displayQuickchartButton(domScope) {\n",
       "  let quickchartButtonEl =\n",
       "    domScope.querySelector('#df-1c6b90e8-4f78-4fae-872e-040ed06b183b button.colab-df-quickchart');\n",
       "  quickchartButtonEl.style.display =\n",
       "    google.colab.kernel.accessAllowed ? 'block' : 'none';\n",
       "}\n",
       "\n",
       "        displayQuickchartButton(document);\n",
       "      </script>\n",
       "      <style>\n",
       "    .colab-df-container {\n",
       "      display:flex;\n",
       "      flex-wrap:wrap;\n",
       "      gap: 12px;\n",
       "    }\n",
       "\n",
       "    .colab-df-convert {\n",
       "      background-color: #E8F0FE;\n",
       "      border: none;\n",
       "      border-radius: 50%;\n",
       "      cursor: pointer;\n",
       "      display: none;\n",
       "      fill: #1967D2;\n",
       "      height: 32px;\n",
       "      padding: 0 0 0 0;\n",
       "      width: 32px;\n",
       "    }\n",
       "\n",
       "    .colab-df-convert:hover {\n",
       "      background-color: #E2EBFA;\n",
       "      box-shadow: 0px 1px 2px rgba(60, 64, 67, 0.3), 0px 1px 3px 1px rgba(60, 64, 67, 0.15);\n",
       "      fill: #174EA6;\n",
       "    }\n",
       "\n",
       "    [theme=dark] .colab-df-convert {\n",
       "      background-color: #3B4455;\n",
       "      fill: #D2E3FC;\n",
       "    }\n",
       "\n",
       "    [theme=dark] .colab-df-convert:hover {\n",
       "      background-color: #434B5C;\n",
       "      box-shadow: 0px 1px 3px 1px rgba(0, 0, 0, 0.15);\n",
       "      filter: drop-shadow(0px 1px 2px rgba(0, 0, 0, 0.3));\n",
       "      fill: #FFFFFF;\n",
       "    }\n",
       "  </style>\n",
       "\n",
       "      <script>\n",
       "        const buttonEl =\n",
       "          document.querySelector('#df-6c09c2c0-ca88-490a-b6cd-1f2c27260ced button.colab-df-convert');\n",
       "        buttonEl.style.display =\n",
       "          google.colab.kernel.accessAllowed ? 'block' : 'none';\n",
       "\n",
       "        async function convertToInteractive(key) {\n",
       "          const element = document.querySelector('#df-6c09c2c0-ca88-490a-b6cd-1f2c27260ced');\n",
       "          const dataTable =\n",
       "            await google.colab.kernel.invokeFunction('convertToInteractive',\n",
       "                                                     [key], {});\n",
       "          if (!dataTable) return;\n",
       "\n",
       "          const docLinkHtml = 'Like what you see? Visit the ' +\n",
       "            '<a target=\"_blank\" href=https://colab.research.google.com/notebooks/data_table.ipynb>data table notebook</a>'\n",
       "            + ' to learn more about interactive tables.';\n",
       "          element.innerHTML = '';\n",
       "          dataTable['output_type'] = 'display_data';\n",
       "          await google.colab.output.renderOutput(dataTable, element);\n",
       "          const docLink = document.createElement('div');\n",
       "          docLink.innerHTML = docLinkHtml;\n",
       "          element.appendChild(docLink);\n",
       "        }\n",
       "      </script>\n",
       "    </div>\n",
       "  </div>\n"
      ],
      "text/plain": [
       "             id  id_order  product_id  product_quantity        sku  \\\n",
       "6       1119116    299545           0                 1    OWC0100   \n",
       "7       1119119    299546           0                 1    IOT0014   \n",
       "8       1119120    295347           0                 1    APP0700   \n",
       "15      1119134    299556           0                 1  CRU0039-A   \n",
       "21      1119145    299561           0                 1    PEB0015   \n",
       "...         ...       ...         ...               ...        ...   \n",
       "215889  1649474    525664           0                 1    TUC0207   \n",
       "215906  1649512    527070           0                 2    APP0698   \n",
       "215911  1649522    527074           0                 2    APP0698   \n",
       "215932  1649565    527096           0                 3    APP0698   \n",
       "215949  1649593    527112           0                 1    APP0698   \n",
       "\n",
       "        unit_price                 date  unit_price_total  \n",
       "6            47.49  2017-01-01 01:46:16             47.49  \n",
       "7            18.99  2017-01-01 01:50:34             18.99  \n",
       "8            72.19  2017-01-01 01:54:11             72.19  \n",
       "15           60.90  2017-01-01 02:20:14             60.90  \n",
       "21          142.49  2017-01-01 02:38:50            142.49  \n",
       "...            ...                  ...               ...  \n",
       "215889       16.52  2018-03-14 11:45:05             16.52  \n",
       "215906        9.99  2018-03-14 11:49:01             19.98  \n",
       "215911        9.99  2018-03-14 11:49:36             19.98  \n",
       "215932        9.99  2018-03-14 11:54:35             29.97  \n",
       "215949        9.99  2018-03-14 11:58:13              9.99  \n",
       "\n",
       "[54324 rows x 8 columns]"
      ]
     },
     "execution_count": 27,
     "metadata": {},
     "output_type": "execute_result"
    }
   ],
   "source": [
    "orderlines_qu_copy"
   ]
  },
  {
   "cell_type": "markdown",
   "metadata": {
    "id": "gkvMUjymbvSC"
   },
   "source": [
    "#### Step 2:\n",
    "Group by `order_id`, summarising by the sum of `unit_price_total`"
   ]
  },
  {
   "cell_type": "code",
   "execution_count": 28,
   "metadata": {
    "executionInfo": {
     "elapsed": 287,
     "status": "ok",
     "timestamp": 1692194213670,
     "user": {
      "displayName": "Vasil Georgiev",
      "userId": "06423363571144121616"
     },
     "user_tz": -120
    },
    "id": "4hasZA5BaH1k"
   },
   "outputs": [],
   "source": [
    "orderlines_qu_group_order_df = orderlines_qu_copy.groupby(\"id_order\", as_index=False)[\"unit_price_total\"].sum()"
   ]
  },
  {
   "cell_type": "code",
   "execution_count": 29,
   "metadata": {
    "colab": {
     "base_uri": "https://localhost:8080/",
     "height": 423
    },
    "executionInfo": {
     "elapsed": 241,
     "status": "ok",
     "timestamp": 1692194225753,
     "user": {
      "displayName": "Vasil Georgiev",
      "userId": "06423363571144121616"
     },
     "user_tz": -120
    },
    "id": "GReXPAfqorIE",
    "outputId": "3e1ab9c7-8cb9-4100-ffd1-8183aec546d9"
   },
   "outputs": [
    {
     "data": {
      "text/html": [
       "\n",
       "\n",
       "  <div id=\"df-27fb8ea9-d22d-47fa-8d96-0f9d0d34191d\">\n",
       "    <div class=\"colab-df-container\">\n",
       "      <div>\n",
       "<style scoped>\n",
       "    .dataframe tbody tr th:only-of-type {\n",
       "        vertical-align: middle;\n",
       "    }\n",
       "\n",
       "    .dataframe tbody tr th {\n",
       "        vertical-align: top;\n",
       "    }\n",
       "\n",
       "    .dataframe thead th {\n",
       "        text-align: right;\n",
       "    }\n",
       "</style>\n",
       "<table border=\"1\" class=\"dataframe\">\n",
       "  <thead>\n",
       "    <tr style=\"text-align: right;\">\n",
       "      <th></th>\n",
       "      <th>id_order</th>\n",
       "      <th>unit_price_total</th>\n",
       "    </tr>\n",
       "  </thead>\n",
       "  <tbody>\n",
       "    <tr>\n",
       "      <th>0</th>\n",
       "      <td>241423</td>\n",
       "      <td>129.16</td>\n",
       "    </tr>\n",
       "    <tr>\n",
       "      <th>1</th>\n",
       "      <td>242832</td>\n",
       "      <td>10.77</td>\n",
       "    </tr>\n",
       "    <tr>\n",
       "      <th>2</th>\n",
       "      <td>243330</td>\n",
       "      <td>77.99</td>\n",
       "    </tr>\n",
       "    <tr>\n",
       "      <th>3</th>\n",
       "      <td>245275</td>\n",
       "      <td>149.00</td>\n",
       "    </tr>\n",
       "    <tr>\n",
       "      <th>4</th>\n",
       "      <td>245595</td>\n",
       "      <td>105.98</td>\n",
       "    </tr>\n",
       "    <tr>\n",
       "      <th>...</th>\n",
       "      <td>...</td>\n",
       "      <td>...</td>\n",
       "    </tr>\n",
       "    <tr>\n",
       "      <th>41696</th>\n",
       "      <td>527042</td>\n",
       "      <td>13.99</td>\n",
       "    </tr>\n",
       "    <tr>\n",
       "      <th>41697</th>\n",
       "      <td>527070</td>\n",
       "      <td>19.98</td>\n",
       "    </tr>\n",
       "    <tr>\n",
       "      <th>41698</th>\n",
       "      <td>527074</td>\n",
       "      <td>19.98</td>\n",
       "    </tr>\n",
       "    <tr>\n",
       "      <th>41699</th>\n",
       "      <td>527096</td>\n",
       "      <td>29.97</td>\n",
       "    </tr>\n",
       "    <tr>\n",
       "      <th>41700</th>\n",
       "      <td>527112</td>\n",
       "      <td>9.99</td>\n",
       "    </tr>\n",
       "  </tbody>\n",
       "</table>\n",
       "<p>41701 rows × 2 columns</p>\n",
       "</div>\n",
       "      <button class=\"colab-df-convert\" onclick=\"convertToInteractive('df-27fb8ea9-d22d-47fa-8d96-0f9d0d34191d')\"\n",
       "              title=\"Convert this dataframe to an interactive table.\"\n",
       "              style=\"display:none;\">\n",
       "\n",
       "  <svg xmlns=\"http://www.w3.org/2000/svg\" height=\"24px\"viewBox=\"0 0 24 24\"\n",
       "       width=\"24px\">\n",
       "    <path d=\"M0 0h24v24H0V0z\" fill=\"none\"/>\n",
       "    <path d=\"M18.56 5.44l.94 2.06.94-2.06 2.06-.94-2.06-.94-.94-2.06-.94 2.06-2.06.94zm-11 1L8.5 8.5l.94-2.06 2.06-.94-2.06-.94L8.5 2.5l-.94 2.06-2.06.94zm10 10l.94 2.06.94-2.06 2.06-.94-2.06-.94-.94-2.06-.94 2.06-2.06.94z\"/><path d=\"M17.41 7.96l-1.37-1.37c-.4-.4-.92-.59-1.43-.59-.52 0-1.04.2-1.43.59L10.3 9.45l-7.72 7.72c-.78.78-.78 2.05 0 2.83L4 21.41c.39.39.9.59 1.41.59.51 0 1.02-.2 1.41-.59l7.78-7.78 2.81-2.81c.8-.78.8-2.07 0-2.86zM5.41 20L4 18.59l7.72-7.72 1.47 1.35L5.41 20z\"/>\n",
       "  </svg>\n",
       "      </button>\n",
       "\n",
       "\n",
       "\n",
       "    <div id=\"df-495e3160-9b02-4c6e-99fa-cd178fba5a94\">\n",
       "      <button class=\"colab-df-quickchart\" onclick=\"quickchart('df-495e3160-9b02-4c6e-99fa-cd178fba5a94')\"\n",
       "              title=\"Suggest charts.\"\n",
       "              style=\"display:none;\">\n",
       "\n",
       "<svg xmlns=\"http://www.w3.org/2000/svg\" height=\"24px\"viewBox=\"0 0 24 24\"\n",
       "     width=\"24px\">\n",
       "    <g>\n",
       "        <path d=\"M19 3H5c-1.1 0-2 .9-2 2v14c0 1.1.9 2 2 2h14c1.1 0 2-.9 2-2V5c0-1.1-.9-2-2-2zM9 17H7v-7h2v7zm4 0h-2V7h2v10zm4 0h-2v-4h2v4z\"/>\n",
       "    </g>\n",
       "</svg>\n",
       "      </button>\n",
       "    </div>\n",
       "\n",
       "<style>\n",
       "  .colab-df-quickchart {\n",
       "    background-color: #E8F0FE;\n",
       "    border: none;\n",
       "    border-radius: 50%;\n",
       "    cursor: pointer;\n",
       "    display: none;\n",
       "    fill: #1967D2;\n",
       "    height: 32px;\n",
       "    padding: 0 0 0 0;\n",
       "    width: 32px;\n",
       "  }\n",
       "\n",
       "  .colab-df-quickchart:hover {\n",
       "    background-color: #E2EBFA;\n",
       "    box-shadow: 0px 1px 2px rgba(60, 64, 67, 0.3), 0px 1px 3px 1px rgba(60, 64, 67, 0.15);\n",
       "    fill: #174EA6;\n",
       "  }\n",
       "\n",
       "  [theme=dark] .colab-df-quickchart {\n",
       "    background-color: #3B4455;\n",
       "    fill: #D2E3FC;\n",
       "  }\n",
       "\n",
       "  [theme=dark] .colab-df-quickchart:hover {\n",
       "    background-color: #434B5C;\n",
       "    box-shadow: 0px 1px 3px 1px rgba(0, 0, 0, 0.15);\n",
       "    filter: drop-shadow(0px 1px 2px rgba(0, 0, 0, 0.3));\n",
       "    fill: #FFFFFF;\n",
       "  }\n",
       "</style>\n",
       "\n",
       "    <script>\n",
       "      async function quickchart(key) {\n",
       "        const containerElement = document.querySelector('#' + key);\n",
       "        const charts = await google.colab.kernel.invokeFunction(\n",
       "            'suggestCharts', [key], {});\n",
       "      }\n",
       "    </script>\n",
       "\n",
       "      <script>\n",
       "\n",
       "function displayQuickchartButton(domScope) {\n",
       "  let quickchartButtonEl =\n",
       "    domScope.querySelector('#df-495e3160-9b02-4c6e-99fa-cd178fba5a94 button.colab-df-quickchart');\n",
       "  quickchartButtonEl.style.display =\n",
       "    google.colab.kernel.accessAllowed ? 'block' : 'none';\n",
       "}\n",
       "\n",
       "        displayQuickchartButton(document);\n",
       "      </script>\n",
       "      <style>\n",
       "    .colab-df-container {\n",
       "      display:flex;\n",
       "      flex-wrap:wrap;\n",
       "      gap: 12px;\n",
       "    }\n",
       "\n",
       "    .colab-df-convert {\n",
       "      background-color: #E8F0FE;\n",
       "      border: none;\n",
       "      border-radius: 50%;\n",
       "      cursor: pointer;\n",
       "      display: none;\n",
       "      fill: #1967D2;\n",
       "      height: 32px;\n",
       "      padding: 0 0 0 0;\n",
       "      width: 32px;\n",
       "    }\n",
       "\n",
       "    .colab-df-convert:hover {\n",
       "      background-color: #E2EBFA;\n",
       "      box-shadow: 0px 1px 2px rgba(60, 64, 67, 0.3), 0px 1px 3px 1px rgba(60, 64, 67, 0.15);\n",
       "      fill: #174EA6;\n",
       "    }\n",
       "\n",
       "    [theme=dark] .colab-df-convert {\n",
       "      background-color: #3B4455;\n",
       "      fill: #D2E3FC;\n",
       "    }\n",
       "\n",
       "    [theme=dark] .colab-df-convert:hover {\n",
       "      background-color: #434B5C;\n",
       "      box-shadow: 0px 1px 3px 1px rgba(0, 0, 0, 0.15);\n",
       "      filter: drop-shadow(0px 1px 2px rgba(0, 0, 0, 0.3));\n",
       "      fill: #FFFFFF;\n",
       "    }\n",
       "  </style>\n",
       "\n",
       "      <script>\n",
       "        const buttonEl =\n",
       "          document.querySelector('#df-27fb8ea9-d22d-47fa-8d96-0f9d0d34191d button.colab-df-convert');\n",
       "        buttonEl.style.display =\n",
       "          google.colab.kernel.accessAllowed ? 'block' : 'none';\n",
       "\n",
       "        async function convertToInteractive(key) {\n",
       "          const element = document.querySelector('#df-27fb8ea9-d22d-47fa-8d96-0f9d0d34191d');\n",
       "          const dataTable =\n",
       "            await google.colab.kernel.invokeFunction('convertToInteractive',\n",
       "                                                     [key], {});\n",
       "          if (!dataTable) return;\n",
       "\n",
       "          const docLinkHtml = 'Like what you see? Visit the ' +\n",
       "            '<a target=\"_blank\" href=https://colab.research.google.com/notebooks/data_table.ipynb>data table notebook</a>'\n",
       "            + ' to learn more about interactive tables.';\n",
       "          element.innerHTML = '';\n",
       "          dataTable['output_type'] = 'display_data';\n",
       "          await google.colab.output.renderOutput(dataTable, element);\n",
       "          const docLink = document.createElement('div');\n",
       "          docLink.innerHTML = docLinkHtml;\n",
       "          element.appendChild(docLink);\n",
       "        }\n",
       "      </script>\n",
       "    </div>\n",
       "  </div>\n"
      ],
      "text/plain": [
       "       id_order  unit_price_total\n",
       "0        241423            129.16\n",
       "1        242832             10.77\n",
       "2        243330             77.99\n",
       "3        245275            149.00\n",
       "4        245595            105.98\n",
       "...         ...               ...\n",
       "41696    527042             13.99\n",
       "41697    527070             19.98\n",
       "41698    527074             19.98\n",
       "41699    527096             29.97\n",
       "41700    527112              9.99\n",
       "\n",
       "[41701 rows x 2 columns]"
      ]
     },
     "execution_count": 29,
     "metadata": {},
     "output_type": "execute_result"
    }
   ],
   "source": [
    "orderlines_qu_group_order_df"
   ]
  },
  {
   "cell_type": "markdown",
   "metadata": {
    "id": "_d1lwist8F6X"
   },
   "source": [
    "### What is the average difference between `total_paid` and `unit_price_total`?"
   ]
  },
  {
   "cell_type": "code",
   "execution_count": 30,
   "metadata": {
    "executionInfo": {
     "elapsed": 323,
     "status": "ok",
     "timestamp": 1692194252101,
     "user": {
      "displayName": "Vasil Georgiev",
      "userId": "06423363571144121616"
     },
     "user_tz": -120
    },
    "id": "GQIQgOOrcOKe"
   },
   "outputs": [],
   "source": [
    "orders_qu_copy = orders_qu.copy()"
   ]
  },
  {
   "cell_type": "markdown",
   "metadata": {
    "id": "EmTi3m8Akxig"
   },
   "source": [
    "Let's merge our grouped `orderlines` table with the `orders` table, so we can calculate the differences in prices."
   ]
  },
  {
   "cell_type": "code",
   "execution_count": 31,
   "metadata": {
    "executionInfo": {
     "elapsed": 267,
     "status": "ok",
     "timestamp": 1692194264133,
     "user": {
      "displayName": "Vasil Georgiev",
      "userId": "06423363571144121616"
     },
     "user_tz": -120
    },
    "id": "1lNua5XucOFt"
   },
   "outputs": [],
   "source": [
    "diff_df = orders_qu_copy.merge(orderlines_qu_group_order_df,\n",
    "                               how = 'inner',\n",
    "                               left_on=\"order_id\",\n",
    "                               right_on=\"id_order\"\n",
    "                               )"
   ]
  },
  {
   "cell_type": "code",
   "execution_count": 32,
   "metadata": {
    "colab": {
     "base_uri": "https://localhost:8080/",
     "height": 423
    },
    "executionInfo": {
     "elapsed": 259,
     "status": "ok",
     "timestamp": 1692194274642,
     "user": {
      "displayName": "Vasil Georgiev",
      "userId": "06423363571144121616"
     },
     "user_tz": -120
    },
    "id": "Fm6NPHxKo3E6",
    "outputId": "2d4d5f1f-4f64-4a64-8161-f2160b5d7318"
   },
   "outputs": [
    {
     "data": {
      "text/html": [
       "\n",
       "\n",
       "  <div id=\"df-36b349b0-bc57-4426-b2f1-f2c0c6e92151\">\n",
       "    <div class=\"colab-df-container\">\n",
       "      <div>\n",
       "<style scoped>\n",
       "    .dataframe tbody tr th:only-of-type {\n",
       "        vertical-align: middle;\n",
       "    }\n",
       "\n",
       "    .dataframe tbody tr th {\n",
       "        vertical-align: top;\n",
       "    }\n",
       "\n",
       "    .dataframe thead th {\n",
       "        text-align: right;\n",
       "    }\n",
       "</style>\n",
       "<table border=\"1\" class=\"dataframe\">\n",
       "  <thead>\n",
       "    <tr style=\"text-align: right;\">\n",
       "      <th></th>\n",
       "      <th>order_id</th>\n",
       "      <th>created_date</th>\n",
       "      <th>total_paid</th>\n",
       "      <th>state</th>\n",
       "      <th>id_order</th>\n",
       "      <th>unit_price_total</th>\n",
       "    </tr>\n",
       "  </thead>\n",
       "  <tbody>\n",
       "    <tr>\n",
       "      <th>0</th>\n",
       "      <td>241423</td>\n",
       "      <td>2017-11-06 13:10:02</td>\n",
       "      <td>136.15</td>\n",
       "      <td>Completed</td>\n",
       "      <td>241423</td>\n",
       "      <td>129.16</td>\n",
       "    </tr>\n",
       "    <tr>\n",
       "      <th>1</th>\n",
       "      <td>242832</td>\n",
       "      <td>2017-12-31 17:40:03</td>\n",
       "      <td>15.76</td>\n",
       "      <td>Completed</td>\n",
       "      <td>242832</td>\n",
       "      <td>10.77</td>\n",
       "    </tr>\n",
       "    <tr>\n",
       "      <th>2</th>\n",
       "      <td>243330</td>\n",
       "      <td>2017-02-16 10:59:38</td>\n",
       "      <td>84.98</td>\n",
       "      <td>Completed</td>\n",
       "      <td>243330</td>\n",
       "      <td>77.99</td>\n",
       "    </tr>\n",
       "    <tr>\n",
       "      <th>3</th>\n",
       "      <td>245275</td>\n",
       "      <td>2017-06-28 11:35:37</td>\n",
       "      <td>149.00</td>\n",
       "      <td>Completed</td>\n",
       "      <td>245275</td>\n",
       "      <td>149.00</td>\n",
       "    </tr>\n",
       "    <tr>\n",
       "      <th>4</th>\n",
       "      <td>245595</td>\n",
       "      <td>2017-01-21 12:52:47</td>\n",
       "      <td>112.97</td>\n",
       "      <td>Completed</td>\n",
       "      <td>245595</td>\n",
       "      <td>105.98</td>\n",
       "    </tr>\n",
       "    <tr>\n",
       "      <th>...</th>\n",
       "      <td>...</td>\n",
       "      <td>...</td>\n",
       "      <td>...</td>\n",
       "      <td>...</td>\n",
       "      <td>...</td>\n",
       "      <td>...</td>\n",
       "    </tr>\n",
       "    <tr>\n",
       "      <th>41696</th>\n",
       "      <td>527042</td>\n",
       "      <td>2018-03-14 11:47:50</td>\n",
       "      <td>18.98</td>\n",
       "      <td>Completed</td>\n",
       "      <td>527042</td>\n",
       "      <td>13.99</td>\n",
       "    </tr>\n",
       "    <tr>\n",
       "      <th>41697</th>\n",
       "      <td>527070</td>\n",
       "      <td>2018-03-14 11:50:48</td>\n",
       "      <td>24.97</td>\n",
       "      <td>Completed</td>\n",
       "      <td>527070</td>\n",
       "      <td>19.98</td>\n",
       "    </tr>\n",
       "    <tr>\n",
       "      <th>41698</th>\n",
       "      <td>527074</td>\n",
       "      <td>2018-03-14 11:51:42</td>\n",
       "      <td>24.97</td>\n",
       "      <td>Completed</td>\n",
       "      <td>527074</td>\n",
       "      <td>19.98</td>\n",
       "    </tr>\n",
       "    <tr>\n",
       "      <th>41699</th>\n",
       "      <td>527096</td>\n",
       "      <td>2018-03-14 11:58:40</td>\n",
       "      <td>34.96</td>\n",
       "      <td>Completed</td>\n",
       "      <td>527096</td>\n",
       "      <td>29.97</td>\n",
       "    </tr>\n",
       "    <tr>\n",
       "      <th>41700</th>\n",
       "      <td>527112</td>\n",
       "      <td>2018-03-14 12:03:52</td>\n",
       "      <td>14.98</td>\n",
       "      <td>Completed</td>\n",
       "      <td>527112</td>\n",
       "      <td>9.99</td>\n",
       "    </tr>\n",
       "  </tbody>\n",
       "</table>\n",
       "<p>41701 rows × 6 columns</p>\n",
       "</div>\n",
       "      <button class=\"colab-df-convert\" onclick=\"convertToInteractive('df-36b349b0-bc57-4426-b2f1-f2c0c6e92151')\"\n",
       "              title=\"Convert this dataframe to an interactive table.\"\n",
       "              style=\"display:none;\">\n",
       "\n",
       "  <svg xmlns=\"http://www.w3.org/2000/svg\" height=\"24px\"viewBox=\"0 0 24 24\"\n",
       "       width=\"24px\">\n",
       "    <path d=\"M0 0h24v24H0V0z\" fill=\"none\"/>\n",
       "    <path d=\"M18.56 5.44l.94 2.06.94-2.06 2.06-.94-2.06-.94-.94-2.06-.94 2.06-2.06.94zm-11 1L8.5 8.5l.94-2.06 2.06-.94-2.06-.94L8.5 2.5l-.94 2.06-2.06.94zm10 10l.94 2.06.94-2.06 2.06-.94-2.06-.94-.94-2.06-.94 2.06-2.06.94z\"/><path d=\"M17.41 7.96l-1.37-1.37c-.4-.4-.92-.59-1.43-.59-.52 0-1.04.2-1.43.59L10.3 9.45l-7.72 7.72c-.78.78-.78 2.05 0 2.83L4 21.41c.39.39.9.59 1.41.59.51 0 1.02-.2 1.41-.59l7.78-7.78 2.81-2.81c.8-.78.8-2.07 0-2.86zM5.41 20L4 18.59l7.72-7.72 1.47 1.35L5.41 20z\"/>\n",
       "  </svg>\n",
       "      </button>\n",
       "\n",
       "\n",
       "\n",
       "    <div id=\"df-6a93725c-2b58-4052-a954-c26c6754e3e5\">\n",
       "      <button class=\"colab-df-quickchart\" onclick=\"quickchart('df-6a93725c-2b58-4052-a954-c26c6754e3e5')\"\n",
       "              title=\"Suggest charts.\"\n",
       "              style=\"display:none;\">\n",
       "\n",
       "<svg xmlns=\"http://www.w3.org/2000/svg\" height=\"24px\"viewBox=\"0 0 24 24\"\n",
       "     width=\"24px\">\n",
       "    <g>\n",
       "        <path d=\"M19 3H5c-1.1 0-2 .9-2 2v14c0 1.1.9 2 2 2h14c1.1 0 2-.9 2-2V5c0-1.1-.9-2-2-2zM9 17H7v-7h2v7zm4 0h-2V7h2v10zm4 0h-2v-4h2v4z\"/>\n",
       "    </g>\n",
       "</svg>\n",
       "      </button>\n",
       "    </div>\n",
       "\n",
       "<style>\n",
       "  .colab-df-quickchart {\n",
       "    background-color: #E8F0FE;\n",
       "    border: none;\n",
       "    border-radius: 50%;\n",
       "    cursor: pointer;\n",
       "    display: none;\n",
       "    fill: #1967D2;\n",
       "    height: 32px;\n",
       "    padding: 0 0 0 0;\n",
       "    width: 32px;\n",
       "  }\n",
       "\n",
       "  .colab-df-quickchart:hover {\n",
       "    background-color: #E2EBFA;\n",
       "    box-shadow: 0px 1px 2px rgba(60, 64, 67, 0.3), 0px 1px 3px 1px rgba(60, 64, 67, 0.15);\n",
       "    fill: #174EA6;\n",
       "  }\n",
       "\n",
       "  [theme=dark] .colab-df-quickchart {\n",
       "    background-color: #3B4455;\n",
       "    fill: #D2E3FC;\n",
       "  }\n",
       "\n",
       "  [theme=dark] .colab-df-quickchart:hover {\n",
       "    background-color: #434B5C;\n",
       "    box-shadow: 0px 1px 3px 1px rgba(0, 0, 0, 0.15);\n",
       "    filter: drop-shadow(0px 1px 2px rgba(0, 0, 0, 0.3));\n",
       "    fill: #FFFFFF;\n",
       "  }\n",
       "</style>\n",
       "\n",
       "    <script>\n",
       "      async function quickchart(key) {\n",
       "        const containerElement = document.querySelector('#' + key);\n",
       "        const charts = await google.colab.kernel.invokeFunction(\n",
       "            'suggestCharts', [key], {});\n",
       "      }\n",
       "    </script>\n",
       "\n",
       "      <script>\n",
       "\n",
       "function displayQuickchartButton(domScope) {\n",
       "  let quickchartButtonEl =\n",
       "    domScope.querySelector('#df-6a93725c-2b58-4052-a954-c26c6754e3e5 button.colab-df-quickchart');\n",
       "  quickchartButtonEl.style.display =\n",
       "    google.colab.kernel.accessAllowed ? 'block' : 'none';\n",
       "}\n",
       "\n",
       "        displayQuickchartButton(document);\n",
       "      </script>\n",
       "      <style>\n",
       "    .colab-df-container {\n",
       "      display:flex;\n",
       "      flex-wrap:wrap;\n",
       "      gap: 12px;\n",
       "    }\n",
       "\n",
       "    .colab-df-convert {\n",
       "      background-color: #E8F0FE;\n",
       "      border: none;\n",
       "      border-radius: 50%;\n",
       "      cursor: pointer;\n",
       "      display: none;\n",
       "      fill: #1967D2;\n",
       "      height: 32px;\n",
       "      padding: 0 0 0 0;\n",
       "      width: 32px;\n",
       "    }\n",
       "\n",
       "    .colab-df-convert:hover {\n",
       "      background-color: #E2EBFA;\n",
       "      box-shadow: 0px 1px 2px rgba(60, 64, 67, 0.3), 0px 1px 3px 1px rgba(60, 64, 67, 0.15);\n",
       "      fill: #174EA6;\n",
       "    }\n",
       "\n",
       "    [theme=dark] .colab-df-convert {\n",
       "      background-color: #3B4455;\n",
       "      fill: #D2E3FC;\n",
       "    }\n",
       "\n",
       "    [theme=dark] .colab-df-convert:hover {\n",
       "      background-color: #434B5C;\n",
       "      box-shadow: 0px 1px 3px 1px rgba(0, 0, 0, 0.15);\n",
       "      filter: drop-shadow(0px 1px 2px rgba(0, 0, 0, 0.3));\n",
       "      fill: #FFFFFF;\n",
       "    }\n",
       "  </style>\n",
       "\n",
       "      <script>\n",
       "        const buttonEl =\n",
       "          document.querySelector('#df-36b349b0-bc57-4426-b2f1-f2c0c6e92151 button.colab-df-convert');\n",
       "        buttonEl.style.display =\n",
       "          google.colab.kernel.accessAllowed ? 'block' : 'none';\n",
       "\n",
       "        async function convertToInteractive(key) {\n",
       "          const element = document.querySelector('#df-36b349b0-bc57-4426-b2f1-f2c0c6e92151');\n",
       "          const dataTable =\n",
       "            await google.colab.kernel.invokeFunction('convertToInteractive',\n",
       "                                                     [key], {});\n",
       "          if (!dataTable) return;\n",
       "\n",
       "          const docLinkHtml = 'Like what you see? Visit the ' +\n",
       "            '<a target=\"_blank\" href=https://colab.research.google.com/notebooks/data_table.ipynb>data table notebook</a>'\n",
       "            + ' to learn more about interactive tables.';\n",
       "          element.innerHTML = '';\n",
       "          dataTable['output_type'] = 'display_data';\n",
       "          await google.colab.output.renderOutput(dataTable, element);\n",
       "          const docLink = document.createElement('div');\n",
       "          docLink.innerHTML = docLinkHtml;\n",
       "          element.appendChild(docLink);\n",
       "        }\n",
       "      </script>\n",
       "    </div>\n",
       "  </div>\n"
      ],
      "text/plain": [
       "       order_id         created_date  total_paid      state  id_order  \\\n",
       "0        241423  2017-11-06 13:10:02      136.15  Completed    241423   \n",
       "1        242832  2017-12-31 17:40:03       15.76  Completed    242832   \n",
       "2        243330  2017-02-16 10:59:38       84.98  Completed    243330   \n",
       "3        245275  2017-06-28 11:35:37      149.00  Completed    245275   \n",
       "4        245595  2017-01-21 12:52:47      112.97  Completed    245595   \n",
       "...         ...                  ...         ...        ...       ...   \n",
       "41696    527042  2018-03-14 11:47:50       18.98  Completed    527042   \n",
       "41697    527070  2018-03-14 11:50:48       24.97  Completed    527070   \n",
       "41698    527074  2018-03-14 11:51:42       24.97  Completed    527074   \n",
       "41699    527096  2018-03-14 11:58:40       34.96  Completed    527096   \n",
       "41700    527112  2018-03-14 12:03:52       14.98  Completed    527112   \n",
       "\n",
       "       unit_price_total  \n",
       "0                129.16  \n",
       "1                 10.77  \n",
       "2                 77.99  \n",
       "3                149.00  \n",
       "4                105.98  \n",
       "...                 ...  \n",
       "41696             13.99  \n",
       "41697             19.98  \n",
       "41698             19.98  \n",
       "41699             29.97  \n",
       "41700              9.99  \n",
       "\n",
       "[41701 rows x 6 columns]"
      ]
     },
     "execution_count": 32,
     "metadata": {},
     "output_type": "execute_result"
    }
   ],
   "source": [
    "diff_df"
   ]
  },
  {
   "cell_type": "code",
   "execution_count": 33,
   "metadata": {
    "colab": {
     "base_uri": "https://localhost:8080/",
     "height": 206
    },
    "executionInfo": {
     "elapsed": 275,
     "status": "ok",
     "timestamp": 1692194310944,
     "user": {
      "displayName": "Vasil Georgiev",
      "userId": "06423363571144121616"
     },
     "user_tz": -120
    },
    "id": "oI1ZIpSBcOC_",
    "outputId": "be567781-a3b0-47f2-9fbd-e6315ec4efd3"
   },
   "outputs": [
    {
     "data": {
      "text/html": [
       "\n",
       "\n",
       "  <div id=\"df-db0d5ee2-fb7d-44ec-9677-343438e2e07a\">\n",
       "    <div class=\"colab-df-container\">\n",
       "      <div>\n",
       "<style scoped>\n",
       "    .dataframe tbody tr th:only-of-type {\n",
       "        vertical-align: middle;\n",
       "    }\n",
       "\n",
       "    .dataframe tbody tr th {\n",
       "        vertical-align: top;\n",
       "    }\n",
       "\n",
       "    .dataframe thead th {\n",
       "        text-align: right;\n",
       "    }\n",
       "</style>\n",
       "<table border=\"1\" class=\"dataframe\">\n",
       "  <thead>\n",
       "    <tr style=\"text-align: right;\">\n",
       "      <th></th>\n",
       "      <th>order_id</th>\n",
       "      <th>created_date</th>\n",
       "      <th>total_paid</th>\n",
       "      <th>state</th>\n",
       "      <th>id_order</th>\n",
       "      <th>unit_price_total</th>\n",
       "      <th>difference</th>\n",
       "    </tr>\n",
       "  </thead>\n",
       "  <tbody>\n",
       "    <tr>\n",
       "      <th>0</th>\n",
       "      <td>241423</td>\n",
       "      <td>2017-11-06 13:10:02</td>\n",
       "      <td>136.15</td>\n",
       "      <td>Completed</td>\n",
       "      <td>241423</td>\n",
       "      <td>129.16</td>\n",
       "      <td>6.99</td>\n",
       "    </tr>\n",
       "    <tr>\n",
       "      <th>1</th>\n",
       "      <td>242832</td>\n",
       "      <td>2017-12-31 17:40:03</td>\n",
       "      <td>15.76</td>\n",
       "      <td>Completed</td>\n",
       "      <td>242832</td>\n",
       "      <td>10.77</td>\n",
       "      <td>4.99</td>\n",
       "    </tr>\n",
       "    <tr>\n",
       "      <th>2</th>\n",
       "      <td>243330</td>\n",
       "      <td>2017-02-16 10:59:38</td>\n",
       "      <td>84.98</td>\n",
       "      <td>Completed</td>\n",
       "      <td>243330</td>\n",
       "      <td>77.99</td>\n",
       "      <td>6.99</td>\n",
       "    </tr>\n",
       "    <tr>\n",
       "      <th>3</th>\n",
       "      <td>245275</td>\n",
       "      <td>2017-06-28 11:35:37</td>\n",
       "      <td>149.00</td>\n",
       "      <td>Completed</td>\n",
       "      <td>245275</td>\n",
       "      <td>149.00</td>\n",
       "      <td>0.00</td>\n",
       "    </tr>\n",
       "    <tr>\n",
       "      <th>4</th>\n",
       "      <td>245595</td>\n",
       "      <td>2017-01-21 12:52:47</td>\n",
       "      <td>112.97</td>\n",
       "      <td>Completed</td>\n",
       "      <td>245595</td>\n",
       "      <td>105.98</td>\n",
       "      <td>6.99</td>\n",
       "    </tr>\n",
       "  </tbody>\n",
       "</table>\n",
       "</div>\n",
       "      <button class=\"colab-df-convert\" onclick=\"convertToInteractive('df-db0d5ee2-fb7d-44ec-9677-343438e2e07a')\"\n",
       "              title=\"Convert this dataframe to an interactive table.\"\n",
       "              style=\"display:none;\">\n",
       "\n",
       "  <svg xmlns=\"http://www.w3.org/2000/svg\" height=\"24px\"viewBox=\"0 0 24 24\"\n",
       "       width=\"24px\">\n",
       "    <path d=\"M0 0h24v24H0V0z\" fill=\"none\"/>\n",
       "    <path d=\"M18.56 5.44l.94 2.06.94-2.06 2.06-.94-2.06-.94-.94-2.06-.94 2.06-2.06.94zm-11 1L8.5 8.5l.94-2.06 2.06-.94-2.06-.94L8.5 2.5l-.94 2.06-2.06.94zm10 10l.94 2.06.94-2.06 2.06-.94-2.06-.94-.94-2.06-.94 2.06-2.06.94z\"/><path d=\"M17.41 7.96l-1.37-1.37c-.4-.4-.92-.59-1.43-.59-.52 0-1.04.2-1.43.59L10.3 9.45l-7.72 7.72c-.78.78-.78 2.05 0 2.83L4 21.41c.39.39.9.59 1.41.59.51 0 1.02-.2 1.41-.59l7.78-7.78 2.81-2.81c.8-.78.8-2.07 0-2.86zM5.41 20L4 18.59l7.72-7.72 1.47 1.35L5.41 20z\"/>\n",
       "  </svg>\n",
       "      </button>\n",
       "\n",
       "\n",
       "\n",
       "    <div id=\"df-52b7a14d-2ee9-44a1-8ace-32355c893cb8\">\n",
       "      <button class=\"colab-df-quickchart\" onclick=\"quickchart('df-52b7a14d-2ee9-44a1-8ace-32355c893cb8')\"\n",
       "              title=\"Suggest charts.\"\n",
       "              style=\"display:none;\">\n",
       "\n",
       "<svg xmlns=\"http://www.w3.org/2000/svg\" height=\"24px\"viewBox=\"0 0 24 24\"\n",
       "     width=\"24px\">\n",
       "    <g>\n",
       "        <path d=\"M19 3H5c-1.1 0-2 .9-2 2v14c0 1.1.9 2 2 2h14c1.1 0 2-.9 2-2V5c0-1.1-.9-2-2-2zM9 17H7v-7h2v7zm4 0h-2V7h2v10zm4 0h-2v-4h2v4z\"/>\n",
       "    </g>\n",
       "</svg>\n",
       "      </button>\n",
       "    </div>\n",
       "\n",
       "<style>\n",
       "  .colab-df-quickchart {\n",
       "    background-color: #E8F0FE;\n",
       "    border: none;\n",
       "    border-radius: 50%;\n",
       "    cursor: pointer;\n",
       "    display: none;\n",
       "    fill: #1967D2;\n",
       "    height: 32px;\n",
       "    padding: 0 0 0 0;\n",
       "    width: 32px;\n",
       "  }\n",
       "\n",
       "  .colab-df-quickchart:hover {\n",
       "    background-color: #E2EBFA;\n",
       "    box-shadow: 0px 1px 2px rgba(60, 64, 67, 0.3), 0px 1px 3px 1px rgba(60, 64, 67, 0.15);\n",
       "    fill: #174EA6;\n",
       "  }\n",
       "\n",
       "  [theme=dark] .colab-df-quickchart {\n",
       "    background-color: #3B4455;\n",
       "    fill: #D2E3FC;\n",
       "  }\n",
       "\n",
       "  [theme=dark] .colab-df-quickchart:hover {\n",
       "    background-color: #434B5C;\n",
       "    box-shadow: 0px 1px 3px 1px rgba(0, 0, 0, 0.15);\n",
       "    filter: drop-shadow(0px 1px 2px rgba(0, 0, 0, 0.3));\n",
       "    fill: #FFFFFF;\n",
       "  }\n",
       "</style>\n",
       "\n",
       "    <script>\n",
       "      async function quickchart(key) {\n",
       "        const containerElement = document.querySelector('#' + key);\n",
       "        const charts = await google.colab.kernel.invokeFunction(\n",
       "            'suggestCharts', [key], {});\n",
       "      }\n",
       "    </script>\n",
       "\n",
       "      <script>\n",
       "\n",
       "function displayQuickchartButton(domScope) {\n",
       "  let quickchartButtonEl =\n",
       "    domScope.querySelector('#df-52b7a14d-2ee9-44a1-8ace-32355c893cb8 button.colab-df-quickchart');\n",
       "  quickchartButtonEl.style.display =\n",
       "    google.colab.kernel.accessAllowed ? 'block' : 'none';\n",
       "}\n",
       "\n",
       "        displayQuickchartButton(document);\n",
       "      </script>\n",
       "      <style>\n",
       "    .colab-df-container {\n",
       "      display:flex;\n",
       "      flex-wrap:wrap;\n",
       "      gap: 12px;\n",
       "    }\n",
       "\n",
       "    .colab-df-convert {\n",
       "      background-color: #E8F0FE;\n",
       "      border: none;\n",
       "      border-radius: 50%;\n",
       "      cursor: pointer;\n",
       "      display: none;\n",
       "      fill: #1967D2;\n",
       "      height: 32px;\n",
       "      padding: 0 0 0 0;\n",
       "      width: 32px;\n",
       "    }\n",
       "\n",
       "    .colab-df-convert:hover {\n",
       "      background-color: #E2EBFA;\n",
       "      box-shadow: 0px 1px 2px rgba(60, 64, 67, 0.3), 0px 1px 3px 1px rgba(60, 64, 67, 0.15);\n",
       "      fill: #174EA6;\n",
       "    }\n",
       "\n",
       "    [theme=dark] .colab-df-convert {\n",
       "      background-color: #3B4455;\n",
       "      fill: #D2E3FC;\n",
       "    }\n",
       "\n",
       "    [theme=dark] .colab-df-convert:hover {\n",
       "      background-color: #434B5C;\n",
       "      box-shadow: 0px 1px 3px 1px rgba(0, 0, 0, 0.15);\n",
       "      filter: drop-shadow(0px 1px 2px rgba(0, 0, 0, 0.3));\n",
       "      fill: #FFFFFF;\n",
       "    }\n",
       "  </style>\n",
       "\n",
       "      <script>\n",
       "        const buttonEl =\n",
       "          document.querySelector('#df-db0d5ee2-fb7d-44ec-9677-343438e2e07a button.colab-df-convert');\n",
       "        buttonEl.style.display =\n",
       "          google.colab.kernel.accessAllowed ? 'block' : 'none';\n",
       "\n",
       "        async function convertToInteractive(key) {\n",
       "          const element = document.querySelector('#df-db0d5ee2-fb7d-44ec-9677-343438e2e07a');\n",
       "          const dataTable =\n",
       "            await google.colab.kernel.invokeFunction('convertToInteractive',\n",
       "                                                     [key], {});\n",
       "          if (!dataTable) return;\n",
       "\n",
       "          const docLinkHtml = 'Like what you see? Visit the ' +\n",
       "            '<a target=\"_blank\" href=https://colab.research.google.com/notebooks/data_table.ipynb>data table notebook</a>'\n",
       "            + ' to learn more about interactive tables.';\n",
       "          element.innerHTML = '';\n",
       "          dataTable['output_type'] = 'display_data';\n",
       "          await google.colab.output.renderOutput(dataTable, element);\n",
       "          const docLink = document.createElement('div');\n",
       "          docLink.innerHTML = docLinkHtml;\n",
       "          element.appendChild(docLink);\n",
       "        }\n",
       "      </script>\n",
       "    </div>\n",
       "  </div>\n"
      ],
      "text/plain": [
       "   order_id         created_date  total_paid      state  id_order  \\\n",
       "0    241423  2017-11-06 13:10:02      136.15  Completed    241423   \n",
       "1    242832  2017-12-31 17:40:03       15.76  Completed    242832   \n",
       "2    243330  2017-02-16 10:59:38       84.98  Completed    243330   \n",
       "3    245275  2017-06-28 11:35:37      149.00  Completed    245275   \n",
       "4    245595  2017-01-21 12:52:47      112.97  Completed    245595   \n",
       "\n",
       "   unit_price_total  difference  \n",
       "0            129.16        6.99  \n",
       "1             10.77        4.99  \n",
       "2             77.99        6.99  \n",
       "3            149.00        0.00  \n",
       "4            105.98        6.99  "
      ]
     },
     "execution_count": 33,
     "metadata": {},
     "output_type": "execute_result"
    }
   ],
   "source": [
    "diff_df[\"difference\"] = diff_df[\"total_paid\"] - diff_df[\"unit_price_total\"]\n",
    "diff_df.head()"
   ]
  },
  {
   "cell_type": "markdown",
   "metadata": {
    "id": "S_P-ZQ5xgpyO"
   },
   "source": [
    "Now that we know the difference for each order, we can compute the average."
   ]
  },
  {
   "cell_type": "code",
   "execution_count": 34,
   "metadata": {
    "colab": {
     "base_uri": "https://localhost:8080/"
    },
    "executionInfo": {
     "elapsed": 234,
     "status": "ok",
     "timestamp": 1692194331628,
     "user": {
      "displayName": "Vasil Georgiev",
      "userId": "06423363571144121616"
     },
     "user_tz": -120
    },
    "id": "5N02JPCMgyBU",
    "outputId": "19ee8701-0a83-4bfa-8d57-8da531784c46"
   },
   "outputs": [
    {
     "data": {
      "text/plain": [
       "4.47"
      ]
     },
     "execution_count": 34,
     "metadata": {},
     "output_type": "execute_result"
    }
   ],
   "source": [
    "diff_df.difference.mean().round(2)"
   ]
  },
  {
   "cell_type": "markdown",
   "metadata": {
    "id": "UpynvRcO8QBr"
   },
   "source": [
    "### What is the distribution of these differences?"
   ]
  },
  {
   "cell_type": "code",
   "execution_count": 35,
   "metadata": {
    "colab": {
     "base_uri": "https://localhost:8080/",
     "height": 676
    },
    "executionInfo": {
     "elapsed": 623,
     "status": "ok",
     "timestamp": 1692194356092,
     "user": {
      "displayName": "Vasil Georgiev",
      "userId": "06423363571144121616"
     },
     "user_tz": -120
    },
    "id": "gGAcSaG98Rr8",
    "outputId": "48f6f537-88bf-4301-c789-621aea82e06e"
   },
   "outputs": [
    {
     "data": {
      "image/png": "[encoded data removed]",
      "text/plain": [
       "<Figure size 1200x800 with 1 Axes>"
      ]
     },
     "metadata": {},
     "output_type": "display_data"
    }
   ],
   "source": [
    "diff_df.difference.hist(bins= 50, figsize=(12,8));"
   ]
  },
  {
   "cell_type": "markdown",
   "metadata": {
    "id": "2T4efB27h_Q8"
   },
   "source": [
    "Looking at the spread of the data above, some of the difference must be due to corruption. Let's use `.describe()` to investigate the distribution further."
   ]
  },
  {
   "cell_type": "code",
   "execution_count": 36,
   "metadata": {
    "colab": {
     "base_uri": "https://localhost:8080/"
    },
    "executionInfo": {
     "elapsed": 252,
     "status": "ok",
     "timestamp": 1692194416447,
     "user": {
      "displayName": "Vasil Georgiev",
      "userId": "06423363571144121616"
     },
     "user_tz": -120
    },
    "id": "1T3KFlE3iUTW",
    "outputId": "aa97ec3e-ecea-4681-9ab1-be16aba012ab"
   },
   "outputs": [
    {
     "data": {
      "text/plain": [
       "count   41701.00\n",
       "mean        4.47\n",
       "std        26.05\n",
       "min      -165.00\n",
       "25%         0.00\n",
       "50%         4.99\n",
       "75%         6.99\n",
       "max      3984.99\n",
       "Name: difference, dtype: float64"
      ]
     },
     "execution_count": 36,
     "metadata": {},
     "output_type": "execute_result"
    }
   ],
   "source": [
    "diff_df.difference.describe()"
   ]
  },
  {
   "cell_type": "markdown",
   "metadata": {
    "id": "MyeXnzNwjTVf"
   },
   "source": [
    "We can see from the our quartiles (0.00, 4.99, 6.99) that most of our data fits an expected pattern - free, 4.99, and 6.99 all seem like reasonable prices to assume as postage. However, look at the min and the max values, -165.00 and 3984.99, this can only occur due to corrupted data."
   ]
  },
  {
   "cell_type": "markdown",
   "metadata": {
    "id": "NINPK4rB8TSY"
   },
   "source": [
    "### Can all the differences be explained by shipping costs? If not, what are other plausible explanations?"
   ]
  },
  {
   "cell_type": "markdown",
   "metadata": {
    "id": "RJaLHlhklUgF"
   },
   "source": [
    "What reasons have you come up with to explain the difference?"
   ]
  },
  {
   "cell_type": "markdown",
   "metadata": {
    "id": "xPos2ipK8VST"
   },
   "source": [
    "### If there are differences that you can’t explain: what should you do with these orders?\n",
    "There's a rule of thumb, that anything:\n",
    "+ lower than the 25% quartile - (1.5 x interquartile range), or\n",
    "+ higher than the 75% quartile + (1.5 x interquartile range)\n",
    "\n",
    "is an outlier. Let's use this rule to try and exclude any corrupted data."
   ]
  },
  {
   "cell_type": "code",
   "execution_count": 37,
   "metadata": {
    "executionInfo": {
     "elapsed": 225,
     "status": "ok",
     "timestamp": 1692194698080,
     "user": {
      "displayName": "Vasil Georgiev",
      "userId": "06423363571144121616"
     },
     "user_tz": -120
    },
    "id": "xqeCAJBt8V3T"
   },
   "outputs": [],
   "source": [
    "# calculate the quartiles\n",
    "Q1 = diff_df[\"difference\"].quantile(0.25)\n",
    "Q3 = diff_df[\"difference\"].quantile(0.75)\n",
    "\n",
    "# calculate the interquartile range\n",
    "IQR = Q3-Q1\n",
    "\n",
    "# filter the DataFrame to include only \"non-outliers\"\n",
    "diff_no_outliers_df = diff_df.loc[(diff_df[\"difference\"] >= (Q1 - 1.5*IQR)) & (diff_df[\"difference\"] <= (Q3 + 1.5*IQR))]"
   ]
  },
  {
   "cell_type": "markdown",
   "metadata": {
    "id": "HBk64r7CnL4W"
   },
   "source": [
    "Let's look at the distribution again to see the affect of removing the outliers."
   ]
  },
  {
   "cell_type": "code",
   "execution_count": 38,
   "metadata": {
    "colab": {
     "base_uri": "https://localhost:8080/",
     "height": 676
    },
    "executionInfo": {
     "elapsed": 1107,
     "status": "ok",
     "timestamp": 1692194743812,
     "user": {
      "displayName": "Vasil Georgiev",
      "userId": "06423363571144121616"
     },
     "user_tz": -120
    },
    "id": "Kt-sjDRCm78G",
    "outputId": "9cfcebf3-e65c-4179-d8ad-3425d5ab9b2f"
   },
   "outputs": [
    {
     "data": {
      "image/png": "[encoded data removed]",
      "text/plain": [
       "<Figure size 1200x800 with 1 Axes>"
      ]
     },
     "metadata": {},
     "output_type": "display_data"
    }
   ],
   "source": [
    "diff_no_outliers_df.difference.hist(bins= 20, figsize=(12,8));"
   ]
  },
  {
   "cell_type": "markdown",
   "metadata": {
    "id": "3RNO4PxFnVEX"
   },
   "source": [
    "This looks much more like what we would expect: a small difference, but nothing extreme.\n",
    "\n",
    "Now we need to remove these orders with extreme differences from our `orders_lines_merged` DataFrame."
   ]
  },
  {
   "cell_type": "code",
   "execution_count": 39,
   "metadata": {
    "executionInfo": {
     "elapsed": 244,
     "status": "ok",
     "timestamp": 1692194780725,
     "user": {
      "displayName": "Vasil Georgiev",
      "userId": "06423363571144121616"
     },
     "user_tz": -120
    },
    "id": "RgkgYSaJnpcP"
   },
   "outputs": [],
   "source": [
    "normal_diff_list = list(diff_no_outliers_df[\"order_id\"])"
   ]
  },
  {
   "cell_type": "code",
   "execution_count": 40,
   "metadata": {
    "executionInfo": {
     "elapsed": 251,
     "status": "ok",
     "timestamp": 1692194826615,
     "user": {
      "displayName": "Vasil Georgiev",
      "userId": "06423363571144121616"
     },
     "user_tz": -120
    },
    "id": "OHRzuzV6ndcB"
   },
   "outputs": [],
   "source": [
    "orders_qu = orders_qu.loc[orders_qu[\"order_id\"].isin(normal_diff_list), :]\n",
    "orderlines_qu = orderlines_qu.loc[orderlines_cl[\"id_order\"].isin(normal_diff_list), :]"
   ]
  },
  {
   "cell_type": "code",
   "execution_count": 42,
   "metadata": {
    "colab": {
     "base_uri": "https://localhost:8080/"
    },
    "executionInfo": {
     "elapsed": 710,
     "status": "ok",
     "timestamp": 1692196081881,
     "user": {
      "displayName": "Vasil Georgiev",
      "userId": "06423363571144121616"
     },
     "user_tz": -120
    },
    "id": "VXG1mqR0eKk2",
    "outputId": "10ae859d-cf78-4fec-e3f4-f901c99df6db"
   },
   "outputs": [
    {
     "data": {
      "text/plain": [
       "(40985, 40985)"
      ]
     },
     "execution_count": 42,
     "metadata": {},
     "output_type": "execute_result"
    }
   ],
   "source": [
    "len(orders_qu[\"order_id\"].unique()), len(orderlines_qu[\"id_order\"].unique())"
   ]
  },
  {
   "cell_type": "markdown",
   "metadata": {
    "id": "FWROzNEd8b8d"
   },
   "source": [
    "## 5.&nbsp; Become confident about your dataset"
   ]
  },
  {
   "cell_type": "markdown",
   "metadata": {
    "id": "qkiySvbwldvU"
   },
   "source": [
    "Let's hear your thoughts about what you discovered."
   ]
  },
  {
   "cell_type": "code",
   "execution_count": null,
   "metadata": {
    "id": "AR14cjMpfXV0"
   },
   "outputs": [],
   "source": []
  },
  {
   "cell_type": "code",
   "execution_count": null,
   "metadata": {
    "id": "NXkVwi1SfXOU"
   },
   "outputs": [],
   "source": []
  },
  {
   "cell_type": "markdown",
   "metadata": {
    "id": "dvyhnpLcfXdd"
   },
   "source": [
    "Let's not forget to download our quality controlled DataFrames"
   ]
  },
  {
   "cell_type": "code",
   "execution_count": null,
   "metadata": {
    "colab": {
     "base_uri": "https://localhost:8080/",
     "height": 17
    },
    "executionInfo": {
     "elapsed": 317,
     "status": "ok",
     "timestamp": 1675526551306,
     "user": {
      "displayName": "Rami Al-Salman",
      "userId": "16952088725543164630"
     },
     "user_tz": -60
    },
    "id": "gUcJc1E6sVOl",
    "outputId": "4169821b-7512-44a4-e09f-262c5baba6ae"
   },
   "outputs": [
    {
     "data": {
      "application/javascript": [
       "\n",
       "    async function download(id, filename, size) {\n",
       "      if (!google.colab.kernel.accessAllowed) {\n",
       "        return;\n",
       "      }\n",
       "      const div = document.createElement('div');\n",
       "      const label = document.createElement('label');\n",
       "      label.textContent = `Downloading \"${filename}\": `;\n",
       "      div.appendChild(label);\n",
       "      const progress = document.createElement('progress');\n",
       "      progress.max = size;\n",
       "      div.appendChild(progress);\n",
       "      document.body.appendChild(div);\n",
       "\n",
       "      const buffers = [];\n",
       "      let downloaded = 0;\n",
       "\n",
       "      const channel = await google.colab.kernel.comms.open(id);\n",
       "      // Send a message to notify the kernel that we're ready.\n",
       "      channel.send({})\n",
       "\n",
       "      for await (const message of channel.messages) {\n",
       "        // Send a message to notify the kernel that we're ready.\n",
       "        channel.send({})\n",
       "        if (message.buffers) {\n",
       "          for (const buffer of message.buffers) {\n",
       "            buffers.push(buffer);\n",
       "            downloaded += buffer.byteLength;\n",
       "            progress.value = downloaded;\n",
       "          }\n",
       "        }\n",
       "      }\n",
       "      const blob = new Blob(buffers, {type: 'application/binary'});\n",
       "      const a = document.createElement('a');\n",
       "      a.href = window.URL.createObjectURL(blob);\n",
       "      a.download = filename;\n",
       "      div.appendChild(a);\n",
       "      a.click();\n",
       "      div.remove();\n",
       "    }\n",
       "  "
      ],
      "text/plain": [
       "<IPython.core.display.Javascript object>"
      ]
     },
     "metadata": {},
     "output_type": "display_data"
    },
    {
     "data": {
      "application/javascript": [
       "download(\"download_e83224f9-fd7d-40cd-9210-a2568224a329\", \"orders_qu.csv\", 1780166)"
      ],
      "text/plain": [
       "<IPython.core.display.Javascript object>"
      ]
     },
     "metadata": {},
     "output_type": "display_data"
    },
    {
     "data": {
      "application/javascript": [
       "\n",
       "    async function download(id, filename, size) {\n",
       "      if (!google.colab.kernel.accessAllowed) {\n",
       "        return;\n",
       "      }\n",
       "      const div = document.createElement('div');\n",
       "      const label = document.createElement('label');\n",
       "      label.textContent = `Downloading \"${filename}\": `;\n",
       "      div.appendChild(label);\n",
       "      const progress = document.createElement('progress');\n",
       "      progress.max = size;\n",
       "      div.appendChild(progress);\n",
       "      document.body.appendChild(div);\n",
       "\n",
       "      const buffers = [];\n",
       "      let downloaded = 0;\n",
       "\n",
       "      const channel = await google.colab.kernel.comms.open(id);\n",
       "      // Send a message to notify the kernel that we're ready.\n",
       "      channel.send({})\n",
       "\n",
       "      for await (const message of channel.messages) {\n",
       "        // Send a message to notify the kernel that we're ready.\n",
       "        channel.send({})\n",
       "        if (message.buffers) {\n",
       "          for (const buffer of message.buffers) {\n",
       "            buffers.push(buffer);\n",
       "            downloaded += buffer.byteLength;\n",
       "            progress.value = downloaded;\n",
       "          }\n",
       "        }\n",
       "      }\n",
       "      const blob = new Blob(buffers, {type: 'application/binary'});\n",
       "      const a = document.createElement('a');\n",
       "      a.href = window.URL.createObjectURL(blob);\n",
       "      a.download = filename;\n",
       "      div.appendChild(a);\n",
       "      a.click();\n",
       "      div.remove();\n",
       "    }\n",
       "  "
      ],
      "text/plain": [
       "<IPython.core.display.Javascript object>"
      ]
     },
     "metadata": {},
     "output_type": "display_data"
    },
    {
     "data": {
      "application/javascript": [
       "download(\"download_019f1158-e4d6-48e1-aaa0-0809735abc2d\", \"orderlines_qu.csv\", 2835024)"
      ],
      "text/plain": [
       "<IPython.core.display.Javascript object>"
      ]
     },
     "metadata": {},
     "output_type": "display_data"
    }
   ],
   "source": [
    "from google.colab import files\n",
    "\n",
    "orders_qu.to_csv(\"orders_qu.csv\", index=False)\n",
    "files.download(\"orders_qu.csv\")\n",
    "\n",
    "orderlines_qu.to_csv(\"orderlines_qu.csv\", index=False)\n",
    "files.download(\"orderlines_qu.csv\")"
   ]
  }
 ],
 "metadata": {
  "colab": {
   "provenance": [
    {
     "file_id": "1TlNZuNvdv5qNc18I8-4FaNNID2aTyUYW",
     "timestamp": 1692180400792
    },
    {
     "file_id": "1fI25ti0AYp0V39iGhqMWFAGEXUmEubOs",
     "timestamp": 1683703869149
    },
    {
     "file_id": "12dvr7WGPjOAZKy0jMCpHuvKg2ZtaOQwv",
     "timestamp": 1660047699809
    }
   ]
  },
  "kernelspec": {
   "display_name": "Python 3 (ipykernel)",
   "language": "python",
   "name": "python3"
  },
  "language_info": {
   "codemirror_mode": {
    "name": "ipython",
    "version": 3
   },
   "file_extension": ".py",
   "mimetype": "text/x-python",
   "name": "python",
   "nbconvert_exporter": "python",
   "pygments_lexer": "ipython3",
   "version": "3.11.5"
  }
 },
 "nbformat": 4,
 "nbformat_minor": 4
}
