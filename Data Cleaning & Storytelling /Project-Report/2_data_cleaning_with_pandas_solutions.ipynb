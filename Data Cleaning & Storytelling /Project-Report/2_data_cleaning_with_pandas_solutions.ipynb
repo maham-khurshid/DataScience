{
 "cells": [
  {
   "cell_type": "code",
   "execution_count": 3,
   "metadata": {
    "executionInfo": {
     "elapsed": 280,
     "status": "ok",
     "timestamp": 1692019984642,
     "user": {
      "displayName": "Vasil Georgiev",
      "userId": "06423363571144121616"
     },
     "user_tz": -120
    },
    "id": "FgRIdUs1vcZ8",
    "tags": []
   },
   "outputs": [],
   "source": [
    "import pandas as pd"
   ]
  },
  {
   "cell_type": "code",
   "execution_count": 4,
   "metadata": {
    "executionInfo": {
     "elapsed": 4521,
     "status": "ok",
     "timestamp": 1692004480675,
     "user": {
      "displayName": "Vasil Georgiev",
      "userId": "06423363571144121616"
     },
     "user_tz": -120
    },
    "id": "_87JoNgVviOG",
    "tags": []
   },
   "outputs": [],
   "source": [
    "# orders.csv\n",
    "url = \"https://drive.google.com/file/d/1Vu0q91qZw6lqhIqbjoXYvYAQTmVHh6uZ/view?usp=sharing\"\n",
    "path = \"https://drive.google.com/uc?export=download&id=\"+url.split(\"/\")[-2]\n",
    "orders = pd.read_csv(path)\n",
    "\n",
    "# orderlines.csv\n",
    "url = \"https://drive.google.com/file/d/1FYhN_2AzTBFuWcfHaRuKcuCE6CWXsWtG/view?usp=sharing\"\n",
    "path = \"https://drive.google.com/uc?export=download&id=\"+url.split(\"/\")[-2]\n",
    "orderlines = pd.read_csv(path)"
   ]
  },
  {
   "cell_type": "markdown",
   "metadata": {
    "id": "fVLitYX1yhc6"
   },
   "source": [
    "One of the best ways to begin data cleaning is by exploring using `.info()`. This will tell us:\n",
    "* The shape of the DataFrame\n",
    "* The names of the columns\n",
    "* If there are any missing values\n",
    "* The datatypes of the columns\n",
    "\n",
    "By exploring the missing values and correcting any incorrect datatypes, we often come across inconsistencies in our data.\n",
    "\n",
    "Beyond this, we should also have a **check for any duplicate rows**.\n",
    "\n",
    "Let's first deal with the duplicates, as it's nice and easy, then we'll explore what `.info()` has to tell us."
   ]
  },
  {
   "cell_type": "markdown",
   "metadata": {
    "id": "036ciQ6rwBJm"
   },
   "source": [
    "## 1.&nbsp; Duplicates\n",
    "We can check for duplicates using the pandas [.duplicated()](https://pandas.pydata.org/docs/reference/api/pandas.DataFrame.duplicated.html) method.\n",
    "\n",
    "We can then delete these rows, if we wish, using [.drop_duplicates()](https://pandas.pydata.org/docs/reference/api/pandas.DataFrame.drop_duplicates.html)"
   ]
  },
  {
   "cell_type": "code",
   "execution_count": 3,
   "metadata": {
    "colab": {
     "base_uri": "https://localhost:8080/"
    },
    "executionInfo": {
     "elapsed": 335,
     "status": "ok",
     "timestamp": 1692004497799,
     "user": {
      "displayName": "Vasil Georgiev",
      "userId": "06423363571144121616"
     },
     "user_tz": -120
    },
    "id": "6dVkoUu7wC-b",
    "outputId": "c899cc1d-b9a8-47e9-9e44-cb35e7b64806"
   },
   "outputs": [
    {
     "data": {
      "text/plain": [
       "0"
      ]
     },
     "execution_count": 3,
     "metadata": {},
     "output_type": "execute_result"
    }
   ],
   "source": [
    "# orders\n",
    "orders.duplicated().sum()"
   ]
  },
  {
   "cell_type": "code",
   "execution_count": 4,
   "metadata": {
    "colab": {
     "base_uri": "https://localhost:8080/"
    },
    "executionInfo": {
     "elapsed": 387,
     "status": "ok",
     "timestamp": 1692004503742,
     "user": {
      "displayName": "Vasil Georgiev",
      "userId": "06423363571144121616"
     },
     "user_tz": -120
    },
    "id": "iaeAQB_3whli",
    "outputId": "6e0b114a-25d0-4808-a3ca-1d92a416121c"
   },
   "outputs": [
    {
     "data": {
      "text/plain": [
       "0"
      ]
     },
     "execution_count": 4,
     "metadata": {},
     "output_type": "execute_result"
    }
   ],
   "source": [
    "# orderlines\n",
    "orderlines.duplicated().sum()"
   ]
  },
  {
   "cell_type": "markdown",
   "metadata": {
    "id": "3LbnJquF0vRe"
   },
   "source": [
    "We have no duplicate rows in either DataFrame. Easy, there is no problem to solve. Normally though, if there were some duplicates, we'd drop the extra rows."
   ]
  },
  {
   "cell_type": "markdown",
   "metadata": {
    "id": "9lX7YbHlzoEO"
   },
   "source": [
    "# 2.&nbsp; `.info()`"
   ]
  },
  {
   "cell_type": "code",
   "execution_count": 5,
   "metadata": {
    "colab": {
     "base_uri": "https://localhost:8080/"
    },
    "executionInfo": {
     "elapsed": 360,
     "status": "ok",
     "timestamp": 1692004510298,
     "user": {
      "displayName": "Vasil Georgiev",
      "userId": "06423363571144121616"
     },
     "user_tz": -120
    },
    "id": "_AAsMOTS2L9r",
    "outputId": "6b37ab4e-c3e0-4169-8e6c-12c5f18620b4"
   },
   "outputs": [
    {
     "name": "stdout",
     "output_type": "stream",
     "text": [
      "<class 'pandas.core.frame.DataFrame'>\n",
      "RangeIndex: 226909 entries, 0 to 226908\n",
      "Data columns (total 4 columns):\n",
      " #   Column        Non-Null Count   Dtype  \n",
      "---  ------        --------------   -----  \n",
      " 0   order_id      226909 non-null  int64  \n",
      " 1   created_date  226909 non-null  object \n",
      " 2   total_paid    226904 non-null  float64\n",
      " 3   state         226909 non-null  object \n",
      "dtypes: float64(1), int64(1), object(2)\n",
      "memory usage: 6.9+ MB\n"
     ]
    }
   ],
   "source": [
    "orders.info()"
   ]
  },
  {
   "cell_type": "markdown",
   "metadata": {
    "id": "Txm3Bv952UCb"
   },
   "source": [
    "* `total_paid` has 5 missing values\n",
    "* `created_date` should become datetime datatype"
   ]
  },
  {
   "cell_type": "code",
   "execution_count": 6,
   "metadata": {
    "colab": {
     "base_uri": "https://localhost:8080/"
    },
    "executionInfo": {
     "elapsed": 374,
     "status": "ok",
     "timestamp": 1692004512754,
     "user": {
      "displayName": "Vasil Georgiev",
      "userId": "06423363571144121616"
     },
     "user_tz": -120
    },
    "id": "kvDA-z032Rm2",
    "outputId": "fd7d1e37-7186-4ba8-b69a-8dc012a8643f"
   },
   "outputs": [
    {
     "name": "stdout",
     "output_type": "stream",
     "text": [
      "<class 'pandas.core.frame.DataFrame'>\n",
      "RangeIndex: 293983 entries, 0 to 293982\n",
      "Data columns (total 7 columns):\n",
      " #   Column            Non-Null Count   Dtype \n",
      "---  ------            --------------   ----- \n",
      " 0   id                293983 non-null  int64 \n",
      " 1   id_order          293983 non-null  int64 \n",
      " 2   product_id        293983 non-null  int64 \n",
      " 3   product_quantity  293983 non-null  int64 \n",
      " 4   sku               293983 non-null  object\n",
      " 5   unit_price        293983 non-null  object\n",
      " 6   date              293983 non-null  object\n",
      "dtypes: int64(4), object(3)\n",
      "memory usage: 15.7+ MB\n"
     ]
    }
   ],
   "source": [
    "orderlines.info()"
   ]
  },
  {
   "cell_type": "markdown",
   "metadata": {
    "id": "iLSpYm1G2sPD"
   },
   "source": [
    "* `date` should be a datetime datatype\n",
    "* `unit_price` should be a float datatype"
   ]
  },
  {
   "cell_type": "markdown",
   "metadata": {
    "id": "MlwJt5c-wiQh"
   },
   "source": [
    "## 3.&nbsp; Missing values"
   ]
  },
  {
   "cell_type": "markdown",
   "metadata": {
    "id": "63eKHGzJwkuT"
   },
   "source": [
    "### 3.1.&nbsp; Orders\n",
    "* `total_paid` has 5 missing values"
   ]
  },
  {
   "cell_type": "code",
   "execution_count": 7,
   "metadata": {
    "colab": {
     "base_uri": "https://localhost:8080/"
    },
    "executionInfo": {
     "elapsed": 288,
     "status": "ok",
     "timestamp": 1692004521951,
     "user": {
      "displayName": "Vasil Georgiev",
      "userId": "06423363571144121616"
     },
     "user_tz": -120
    },
    "id": "Yh81k3ppwl37",
    "outputId": "0c8d3c10-1d28-431f-bcb5-ec45e9893871"
   },
   "outputs": [
    {
     "name": "stdout",
     "output_type": "stream",
     "text": [
      "5 missing values represents 0.0022% of the rows in our DataFrame\n"
     ]
    }
   ],
   "source": [
    "print(f\"5 missing values represents {((orders.total_paid.isna().sum() / orders.shape[0])*100).round(5)}% of the rows in our DataFrame\")"
   ]
  },
  {
   "cell_type": "markdown",
   "metadata": {
    "id": "8s6q6JScX9QV"
   },
   "source": [
    "A quick way to find out a percentage here, if you don't need to print out a sentence for yourself/students/colleagues is `.value_count(normalize=True)`"
   ]
  },
  {
   "cell_type": "code",
   "execution_count": 9,
   "metadata": {
    "colab": {
     "base_uri": "https://localhost:8080/"
    },
    "executionInfo": {
     "elapsed": 296,
     "status": "ok",
     "timestamp": 1692004570624,
     "user": {
      "displayName": "Vasil Georgiev",
      "userId": "06423363571144121616"
     },
     "user_tz": -120
    },
    "id": "PJedh_tXX8jO",
    "outputId": "7855bdc8-b806-48d8-ad79-4a6ad1384ceb"
   },
   "outputs": [
    {
     "data": {
      "text/plain": [
       "False    99.997796\n",
       "True      0.002204\n",
       "Name: total_paid, dtype: float64"
      ]
     },
     "execution_count": 9,
     "metadata": {},
     "output_type": "execute_result"
    }
   ],
   "source": [
    "orders.total_paid.isna().value_counts(normalize=True)*100"
   ]
  },
  {
   "cell_type": "markdown",
   "metadata": {
    "id": "eMW6J-4v_iVM"
   },
   "source": [
    "As there is such a tiny amount of missing values, we will simply delete these rows, as we have enough data without them."
   ]
  },
  {
   "cell_type": "code",
   "execution_count": 10,
   "metadata": {
    "executionInfo": {
     "elapsed": 284,
     "status": "ok",
     "timestamp": 1692004634091,
     "user": {
      "displayName": "Vasil Georgiev",
      "userId": "06423363571144121616"
     },
     "user_tz": -120
    },
    "id": "ohcl2Pb2B_Ch"
   },
   "outputs": [],
   "source": [
    "orders = orders.loc[~orders.total_paid.isna(), :]"
   ]
  },
  {
   "cell_type": "markdown",
   "metadata": {
    "id": "AIWAR4xI_3jv"
   },
   "source": [
    "Should you have a significant number of missing values in the future, you have a choice:\n",
    "+ you can impute the values\n",
    "+ you can take the values from other DataFrames, if they are present there\n",
    "+ you can delete the values\n",
    "+ or any number of other creative solutions\n",
    "\n",
    "Please, always consider how much time you have on your project, and what impact your method of choice will have on your final assesment."
   ]
  },
  {
   "cell_type": "markdown",
   "metadata": {
    "id": "nziIE3hbwmNa"
   },
   "source": [
    "### 3.2.&nbsp; Orderlines\n",
    "There are no missing values in `orderlines`"
   ]
  },
  {
   "cell_type": "markdown",
   "metadata": {
    "id": "_feog1aCwosJ"
   },
   "source": [
    "## 4.&nbsp; Datatypes"
   ]
  },
  {
   "cell_type": "markdown",
   "metadata": {
    "id": "wCJyQYkOwrBE"
   },
   "source": [
    "### 4.1.&nbsp; Orders\n",
    "* `created_date` should become datetime datatype"
   ]
  },
  {
   "cell_type": "code",
   "execution_count": 11,
   "metadata": {
    "executionInfo": {
     "elapsed": 2,
     "status": "ok",
     "timestamp": 1692004645024,
     "user": {
      "displayName": "Vasil Georgiev",
      "userId": "06423363571144121616"
     },
     "user_tz": -120
    },
    "id": "cF9roGlewr8j"
   },
   "outputs": [],
   "source": [
    "orders[\"created_date\"] = pd.to_datetime(orders[\"created_date\"])"
   ]
  },
  {
   "cell_type": "markdown",
   "metadata": {
    "id": "osvynBTNwsin"
   },
   "source": [
    "### 4.1.&nbsp; Orderlines\n",
    "* `date` should be a datetime datatype\n",
    "* `unit_price` should be a float datatype"
   ]
  },
  {
   "cell_type": "markdown",
   "metadata": {
    "id": "PJcuKn8K06Yd"
   },
   "source": [
    "#### 4.1.1.&nbsp; `date`"
   ]
  },
  {
   "cell_type": "code",
   "execution_count": 12,
   "metadata": {
    "executionInfo": {
     "elapsed": 326,
     "status": "ok",
     "timestamp": 1692004649972,
     "user": {
      "displayName": "Vasil Georgiev",
      "userId": "06423363571144121616"
     },
     "user_tz": -120
    },
    "id": "FnXgRKERwtvS"
   },
   "outputs": [],
   "source": [
    "orderlines[\"date\"] = pd.to_datetime(orderlines[\"date\"])"
   ]
  },
  {
   "cell_type": "markdown",
   "metadata": {
    "id": "F7i78NDY0-oF"
   },
   "source": [
    "#### 4.1.2.&nbsp;`unit_price`"
   ]
  },
  {
   "cell_type": "code",
   "execution_count": 13,
   "metadata": {
    "colab": {
     "base_uri": "https://localhost:8080/",
     "height": 304
    },
    "executionInfo": {
     "elapsed": 294,
     "status": "error",
     "timestamp": 1692004653606,
     "user": {
      "displayName": "Vasil Georgiev",
      "userId": "06423363571144121616"
     },
     "user_tz": -120
    },
    "id": "iOFBNmuRDuGU",
    "outputId": "7c20da53-b941-4e07-d510-bfe592cf2263"
   },
   "outputs": [
    {
     "ename": "ValueError",
     "evalue": "ignored",
     "output_type": "error",
     "traceback": [
      "\u001b[0;31m---------------------------------------------------------------------------\u001b[0m",
      "\u001b[0;31mValueError\u001b[0m                                Traceback (most recent call last)",
      "\u001b[0;32m/usr/local/lib/python3.10/dist-packages/pandas/_libs/lib.pyx\u001b[0m in \u001b[0;36mpandas._libs.lib.maybe_convert_numeric\u001b[0;34m()\u001b[0m\n",
      "\u001b[0;31mValueError\u001b[0m: Unable to parse string \"1.137.99\"",
      "\nDuring handling of the above exception, another exception occurred:\n",
      "\u001b[0;31mValueError\u001b[0m                                Traceback (most recent call last)",
      "\u001b[0;32m<ipython-input-13-ddce6c16f698>\u001b[0m in \u001b[0;36m<cell line: 1>\u001b[0;34m()\u001b[0m\n\u001b[0;32m----> 1\u001b[0;31m \u001b[0morderlines\u001b[0m\u001b[0;34m[\u001b[0m\u001b[0;34m\"unit_price\"\u001b[0m\u001b[0;34m]\u001b[0m \u001b[0;34m=\u001b[0m \u001b[0mpd\u001b[0m\u001b[0;34m.\u001b[0m\u001b[0mto_numeric\u001b[0m\u001b[0;34m(\u001b[0m\u001b[0morderlines\u001b[0m\u001b[0;34m[\u001b[0m\u001b[0;34m\"unit_price\"\u001b[0m\u001b[0;34m]\u001b[0m\u001b[0;34m)\u001b[0m\u001b[0;34m\u001b[0m\u001b[0;34m\u001b[0m\u001b[0m\n\u001b[0m",
      "\u001b[0;32m/usr/local/lib/python3.10/dist-packages/pandas/core/tools/numeric.py\u001b[0m in \u001b[0;36mto_numeric\u001b[0;34m(arg, errors, downcast)\u001b[0m\n\u001b[1;32m    183\u001b[0m         \u001b[0mcoerce_numeric\u001b[0m \u001b[0;34m=\u001b[0m \u001b[0merrors\u001b[0m \u001b[0;32mnot\u001b[0m \u001b[0;32min\u001b[0m \u001b[0;34m(\u001b[0m\u001b[0;34m\"ignore\"\u001b[0m\u001b[0;34m,\u001b[0m \u001b[0;34m\"raise\"\u001b[0m\u001b[0;34m)\u001b[0m\u001b[0;34m\u001b[0m\u001b[0;34m\u001b[0m\u001b[0m\n\u001b[1;32m    184\u001b[0m         \u001b[0;32mtry\u001b[0m\u001b[0;34m:\u001b[0m\u001b[0;34m\u001b[0m\u001b[0;34m\u001b[0m\u001b[0m\n\u001b[0;32m--> 185\u001b[0;31m             values, _ = lib.maybe_convert_numeric(\n\u001b[0m\u001b[1;32m    186\u001b[0m                 \u001b[0mvalues\u001b[0m\u001b[0;34m,\u001b[0m \u001b[0mset\u001b[0m\u001b[0;34m(\u001b[0m\u001b[0;34m)\u001b[0m\u001b[0;34m,\u001b[0m \u001b[0mcoerce_numeric\u001b[0m\u001b[0;34m=\u001b[0m\u001b[0mcoerce_numeric\u001b[0m\u001b[0;34m\u001b[0m\u001b[0;34m\u001b[0m\u001b[0m\n\u001b[1;32m    187\u001b[0m             )\n",
      "\u001b[0;32m/usr/local/lib/python3.10/dist-packages/pandas/_libs/lib.pyx\u001b[0m in \u001b[0;36mpandas._libs.lib.maybe_convert_numeric\u001b[0;34m()\u001b[0m\n",
      "\u001b[0;31mValueError\u001b[0m: Unable to parse string \"1.137.99\" at position 6"
     ]
    }
   ],
   "source": [
    "orderlines[\"unit_price\"] = pd.to_numeric(orderlines[\"unit_price\"])"
   ]
  },
  {
   "cell_type": "markdown",
   "metadata": {
    "id": "xEqhP5RFSmRi"
   },
   "source": [
    "As you can see when we try to convert `unit_price` to a numerical datatype, we receive a `ValueError` telling us that pandas doesn't understand the number `1.137.99`. This is probably because numbers cannot have 2 decimal points. Let's see if there are any other numbers like this."
   ]
  },
  {
   "cell_type": "code",
   "execution_count": 14,
   "metadata": {
    "colab": {
     "base_uri": "https://localhost:8080/"
    },
    "executionInfo": {
     "elapsed": 328,
     "status": "ok",
     "timestamp": 1692004658403,
     "user": {
      "displayName": "Vasil Georgiev",
      "userId": "06423363571144121616"
     },
     "user_tz": -120
    },
    "id": "ONy-oCt0SkrR",
    "outputId": "c246bb07-f0dd-4f3c-afc6-3ff05a811ff1"
   },
   "outputs": [
    {
     "data": {
      "text/plain": [
       "False    257814\n",
       "True      36169\n",
       "Name: unit_price, dtype: int64"
      ]
     },
     "execution_count": 14,
     "metadata": {},
     "output_type": "execute_result"
    }
   ],
   "source": [
    "orderlines.unit_price.str.contains(\"\\d+\\.\\d+\\.\\d+\").value_counts()"
   ]
  },
  {
   "cell_type": "markdown",
   "metadata": {
    "id": "HSUPvFJU6Jv-"
   },
   "source": [
    "Looks like over 36000 rows in `orderlines` are affected by this problem. Let's work out how much that is as a percentage of our total data."
   ]
  },
  {
   "cell_type": "code",
   "execution_count": 15,
   "metadata": {
    "colab": {
     "base_uri": "https://localhost:8080/"
    },
    "executionInfo": {
     "elapsed": 342,
     "status": "ok",
     "timestamp": 1692004675164,
     "user": {
      "displayName": "Vasil Georgiev",
      "userId": "06423363571144121616"
     },
     "user_tz": -120
    },
    "id": "r75Rm1EgVjpi",
    "outputId": "5e831c20-227d-4ab8-d0a2-4c5285f444b7"
   },
   "outputs": [
    {
     "name": "stdout",
     "output_type": "stream",
     "text": [
      "The 2 dot problem represents 12.3% of the rows in our DataFrame\n"
     ]
    }
   ],
   "source": [
    "two_dot_percentage = ((orderlines.unit_price.str.contains(\"\\d+\\.\\d+\\.\\d+\").value_counts()[1] / orderlines.shape[0])*100).round(2)\n",
    "print(f\"The 2 dot problem represents {two_dot_percentage}% of the rows in our DataFrame\")"
   ]
  },
  {
   "cell_type": "markdown",
   "metadata": {
    "id": "5Kp9_4pqeu5J"
   },
   "source": [
    "This is a bit of a tricky decision as 12.3% is a significant amount of our data... and we might even end up losing a larger portion of our data than this too. For the moment we will delete the rows as we only have 2 weeks for this project and I'd like some quick, accurate results to show. If we have time at the end, we can come back and investigate this problem further, maybe there's a solution?\n",
    "\n",
    "Each row of `orderlines` represents a product in an order. For example, if order number 175 contained 3 seperate products, then order 175 would have 3 rows in `orderlines`, one row for each of the products. If 2 of those products have 'normal' prices (14.99, 15.85) and 1 has a price with 2 decimal points (1.137.99), we need to remove the whole order and not just the affected row. If we only remove the row with 2 decimal places then any later analysis about products and prices could be misleading.\n",
    "\n",
    "We therefore need to find the order numbers associated with the rows that have 2 decimal points, and then remove all the associated rows."
   ]
  },
  {
   "cell_type": "code",
   "execution_count": 16,
   "metadata": {
    "executionInfo": {
     "elapsed": 585,
     "status": "ok",
     "timestamp": 1692004689674,
     "user": {
      "displayName": "Vasil Georgiev",
      "userId": "06423363571144121616"
     },
     "user_tz": -120
    },
    "id": "wQnSe-n1WCqv"
   },
   "outputs": [],
   "source": [
    "two_dot_order_ids_list = orderlines.loc[orderlines.unit_price.str.contains(\"\\d+\\.\\d+\\.\\d+\"), \"id_order\"]\n",
    "orderlines = orderlines.loc[~orderlines.id_order.isin(two_dot_order_ids_list)]"
   ]
  },
  {
   "cell_type": "code",
   "execution_count": null,
   "metadata": {
    "id": "k-GLzXuV0Ioj"
   },
   "outputs": [],
   "source": [
    "orderlines.shape[0]"
   ]
  },
  {
   "cell_type": "markdown",
   "metadata": {
    "id": "2pd5t4110iz3"
   },
   "source": [
    "We still have 216250 rows in orderlines to work with. This should be more than enough for our evaluation.\n",
    "\n",
    "Now that all of the 2 decimal point prices have been removed, let's try again to convert the column `unit_price` to the correct datatype."
   ]
  },
  {
   "cell_type": "code",
   "execution_count": 17,
   "metadata": {
    "executionInfo": {
     "elapsed": 325,
     "status": "ok",
     "timestamp": 1692004739882,
     "user": {
      "displayName": "Vasil Georgiev",
      "userId": "06423363571144121616"
     },
     "user_tz": -120
    },
    "id": "Q4eDTAPs1HMZ"
   },
   "outputs": [],
   "source": [
    "orderlines[\"unit_price\"] = pd.to_numeric(orderlines[\"unit_price\"])"
   ]
  },
  {
   "cell_type": "markdown",
   "metadata": {
    "id": "sBudIQLm6oJQ"
   },
   "source": [
    "It worked perfectly"
   ]
  },
  {
   "cell_type": "markdown",
   "metadata": {
    "id": "1zGAzgIX8_-D"
   },
   "source": [
    "# Challenge: Clean the `products` DataFrame\n",
    "Now it's your turn. Use the lessons you learnt above and clean the products DataFrame. You don't have to copy exactly what we did. Think about the consequences of your actions, sometimes it is ok to delete rows, other times you may wish to come up with more creative solutions."
   ]
  },
  {
   "cell_type": "code",
   "execution_count": 49,
   "metadata": {
    "executionInfo": {
     "elapsed": 1068,
     "status": "ok",
     "timestamp": 1692021167148,
     "user": {
      "displayName": "Vasil Georgiev",
      "userId": "06423363571144121616"
     },
     "user_tz": -120
    },
    "id": "LtYqdFsa9KTS"
   },
   "outputs": [],
   "source": [
    "# products.csv\n",
    "url = \"https://drive.google.com/file/d/1afxwDXfl-7cQ_qLwyDitfcCx3u7WMvkU/view?usp=sharing\"\n",
    "path = \"https://drive.google.com/uc?export=download&id=\"+url.split(\"/\")[-2]\n",
    "products = pd.read_csv(path)"
   ]
  },
  {
   "cell_type": "code",
   "execution_count": 31,
   "metadata": {
    "colab": {
     "base_uri": "https://localhost:8080/",
     "height": 337
    },
    "executionInfo": {
     "elapsed": 413,
     "status": "ok",
     "timestamp": 1692020124928,
     "user": {
      "displayName": "Vasil Georgiev",
      "userId": "06423363571144121616"
     },
     "user_tz": -120
    },
    "id": "UW3zYoni9Vcy",
    "outputId": "b3d41686-d0cf-4984-ede5-877617dbfaff"
   },
   "outputs": [
    {
     "data": {
      "text/html": [
       "\n",
       "\n",
       "  <div id=\"df-be2286a8-3524-4a94-aa4c-0db35a0d73a6\">\n",
       "    <div class=\"colab-df-container\">\n",
       "      <div>\n",
       "<style scoped>\n",
       "    .dataframe tbody tr th:only-of-type {\n",
       "        vertical-align: middle;\n",
       "    }\n",
       "\n",
       "    .dataframe tbody tr th {\n",
       "        vertical-align: top;\n",
       "    }\n",
       "\n",
       "    .dataframe thead th {\n",
       "        text-align: right;\n",
       "    }\n",
       "</style>\n",
       "<table border=\"1\" class=\"dataframe\">\n",
       "  <thead>\n",
       "    <tr style=\"text-align: right;\">\n",
       "      <th></th>\n",
       "      <th>sku</th>\n",
       "      <th>name</th>\n",
       "      <th>desc</th>\n",
       "      <th>price</th>\n",
       "      <th>promo_price</th>\n",
       "      <th>in_stock</th>\n",
       "      <th>type</th>\n",
       "    </tr>\n",
       "  </thead>\n",
       "  <tbody>\n",
       "    <tr>\n",
       "      <th>0</th>\n",
       "      <td>RAI0007</td>\n",
       "      <td>Silver Rain Design mStand Support</td>\n",
       "      <td>Aluminum support compatible with all MacBook</td>\n",
       "      <td>59.99</td>\n",
       "      <td>499.899</td>\n",
       "      <td>1</td>\n",
       "      <td>8696</td>\n",
       "    </tr>\n",
       "    <tr>\n",
       "      <th>1</th>\n",
       "      <td>APP0023</td>\n",
       "      <td>Apple Mac Keyboard Keypad Spanish</td>\n",
       "      <td>USB ultrathin keyboard Apple Mac Spanish.</td>\n",
       "      <td>59</td>\n",
       "      <td>589.996</td>\n",
       "      <td>0</td>\n",
       "      <td>13855401</td>\n",
       "    </tr>\n",
       "    <tr>\n",
       "      <th>2</th>\n",
       "      <td>APP0025</td>\n",
       "      <td>Mighty Mouse Apple Mouse for Mac</td>\n",
       "      <td>mouse Apple USB cable.</td>\n",
       "      <td>59</td>\n",
       "      <td>569.898</td>\n",
       "      <td>0</td>\n",
       "      <td>1387</td>\n",
       "    </tr>\n",
       "    <tr>\n",
       "      <th>3</th>\n",
       "      <td>APP0072</td>\n",
       "      <td>Apple Dock to USB Cable iPhone and iPod white</td>\n",
       "      <td>IPhone dock and USB Cable Apple iPod.</td>\n",
       "      <td>25</td>\n",
       "      <td>229.997</td>\n",
       "      <td>0</td>\n",
       "      <td>1230</td>\n",
       "    </tr>\n",
       "    <tr>\n",
       "      <th>4</th>\n",
       "      <td>KIN0007</td>\n",
       "      <td>Mac Memory Kingston 2GB 667MHz DDR2 SO-DIMM</td>\n",
       "      <td>2GB RAM Mac mini and iMac (2006/07) MacBook Pr...</td>\n",
       "      <td>34.99</td>\n",
       "      <td>31.99</td>\n",
       "      <td>1</td>\n",
       "      <td>1364</td>\n",
       "    </tr>\n",
       "  </tbody>\n",
       "</table>\n",
       "</div>\n",
       "      <button class=\"colab-df-convert\" onclick=\"convertToInteractive('df-be2286a8-3524-4a94-aa4c-0db35a0d73a6')\"\n",
       "              title=\"Convert this dataframe to an interactive table.\"\n",
       "              style=\"display:none;\">\n",
       "\n",
       "  <svg xmlns=\"http://www.w3.org/2000/svg\" height=\"24px\"viewBox=\"0 0 24 24\"\n",
       "       width=\"24px\">\n",
       "    <path d=\"M0 0h24v24H0V0z\" fill=\"none\"/>\n",
       "    <path d=\"M18.56 5.44l.94 2.06.94-2.06 2.06-.94-2.06-.94-.94-2.06-.94 2.06-2.06.94zm-11 1L8.5 8.5l.94-2.06 2.06-.94-2.06-.94L8.5 2.5l-.94 2.06-2.06.94zm10 10l.94 2.06.94-2.06 2.06-.94-2.06-.94-.94-2.06-.94 2.06-2.06.94z\"/><path d=\"M17.41 7.96l-1.37-1.37c-.4-.4-.92-.59-1.43-.59-.52 0-1.04.2-1.43.59L10.3 9.45l-7.72 7.72c-.78.78-.78 2.05 0 2.83L4 21.41c.39.39.9.59 1.41.59.51 0 1.02-.2 1.41-.59l7.78-7.78 2.81-2.81c.8-.78.8-2.07 0-2.86zM5.41 20L4 18.59l7.72-7.72 1.47 1.35L5.41 20z\"/>\n",
       "  </svg>\n",
       "      </button>\n",
       "\n",
       "\n",
       "\n",
       "    <div id=\"df-ef6434e1-33ad-4e92-bd7c-64184c819512\">\n",
       "      <button class=\"colab-df-quickchart\" onclick=\"quickchart('df-ef6434e1-33ad-4e92-bd7c-64184c819512')\"\n",
       "              title=\"Suggest charts.\"\n",
       "              style=\"display:none;\">\n",
       "\n",
       "<svg xmlns=\"http://www.w3.org/2000/svg\" height=\"24px\"viewBox=\"0 0 24 24\"\n",
       "     width=\"24px\">\n",
       "    <g>\n",
       "        <path d=\"M19 3H5c-1.1 0-2 .9-2 2v14c0 1.1.9 2 2 2h14c1.1 0 2-.9 2-2V5c0-1.1-.9-2-2-2zM9 17H7v-7h2v7zm4 0h-2V7h2v10zm4 0h-2v-4h2v4z\"/>\n",
       "    </g>\n",
       "</svg>\n",
       "      </button>\n",
       "    </div>\n",
       "\n",
       "<style>\n",
       "  .colab-df-quickchart {\n",
       "    background-color: #E8F0FE;\n",
       "    border: none;\n",
       "    border-radius: 50%;\n",
       "    cursor: pointer;\n",
       "    display: none;\n",
       "    fill: #1967D2;\n",
       "    height: 32px;\n",
       "    padding: 0 0 0 0;\n",
       "    width: 32px;\n",
       "  }\n",
       "\n",
       "  .colab-df-quickchart:hover {\n",
       "    background-color: #E2EBFA;\n",
       "    box-shadow: 0px 1px 2px rgba(60, 64, 67, 0.3), 0px 1px 3px 1px rgba(60, 64, 67, 0.15);\n",
       "    fill: #174EA6;\n",
       "  }\n",
       "\n",
       "  [theme=dark] .colab-df-quickchart {\n",
       "    background-color: #3B4455;\n",
       "    fill: #D2E3FC;\n",
       "  }\n",
       "\n",
       "  [theme=dark] .colab-df-quickchart:hover {\n",
       "    background-color: #434B5C;\n",
       "    box-shadow: 0px 1px 3px 1px rgba(0, 0, 0, 0.15);\n",
       "    filter: drop-shadow(0px 1px 2px rgba(0, 0, 0, 0.3));\n",
       "    fill: #FFFFFF;\n",
       "  }\n",
       "</style>\n",
       "\n",
       "    <script>\n",
       "      async function quickchart(key) {\n",
       "        const containerElement = document.querySelector('#' + key);\n",
       "        const charts = await google.colab.kernel.invokeFunction(\n",
       "            'suggestCharts', [key], {});\n",
       "      }\n",
       "    </script>\n",
       "\n",
       "      <script>\n",
       "\n",
       "function displayQuickchartButton(domScope) {\n",
       "  let quickchartButtonEl =\n",
       "    domScope.querySelector('#df-ef6434e1-33ad-4e92-bd7c-64184c819512 button.colab-df-quickchart');\n",
       "  quickchartButtonEl.style.display =\n",
       "    google.colab.kernel.accessAllowed ? 'block' : 'none';\n",
       "}\n",
       "\n",
       "        displayQuickchartButton(document);\n",
       "      </script>\n",
       "      <style>\n",
       "    .colab-df-container {\n",
       "      display:flex;\n",
       "      flex-wrap:wrap;\n",
       "      gap: 12px;\n",
       "    }\n",
       "\n",
       "    .colab-df-convert {\n",
       "      background-color: #E8F0FE;\n",
       "      border: none;\n",
       "      border-radius: 50%;\n",
       "      cursor: pointer;\n",
       "      display: none;\n",
       "      fill: #1967D2;\n",
       "      height: 32px;\n",
       "      padding: 0 0 0 0;\n",
       "      width: 32px;\n",
       "    }\n",
       "\n",
       "    .colab-df-convert:hover {\n",
       "      background-color: #E2EBFA;\n",
       "      box-shadow: 0px 1px 2px rgba(60, 64, 67, 0.3), 0px 1px 3px 1px rgba(60, 64, 67, 0.15);\n",
       "      fill: #174EA6;\n",
       "    }\n",
       "\n",
       "    [theme=dark] .colab-df-convert {\n",
       "      background-color: #3B4455;\n",
       "      fill: #D2E3FC;\n",
       "    }\n",
       "\n",
       "    [theme=dark] .colab-df-convert:hover {\n",
       "      background-color: #434B5C;\n",
       "      box-shadow: 0px 1px 3px 1px rgba(0, 0, 0, 0.15);\n",
       "      filter: drop-shadow(0px 1px 2px rgba(0, 0, 0, 0.3));\n",
       "      fill: #FFFFFF;\n",
       "    }\n",
       "  </style>\n",
       "\n",
       "      <script>\n",
       "        const buttonEl =\n",
       "          document.querySelector('#df-be2286a8-3524-4a94-aa4c-0db35a0d73a6 button.colab-df-convert');\n",
       "        buttonEl.style.display =\n",
       "          google.colab.kernel.accessAllowed ? 'block' : 'none';\n",
       "\n",
       "        async function convertToInteractive(key) {\n",
       "          const element = document.querySelector('#df-be2286a8-3524-4a94-aa4c-0db35a0d73a6');\n",
       "          const dataTable =\n",
       "            await google.colab.kernel.invokeFunction('convertToInteractive',\n",
       "                                                     [key], {});\n",
       "          if (!dataTable) return;\n",
       "\n",
       "          const docLinkHtml = 'Like what you see? Visit the ' +\n",
       "            '<a target=\"_blank\" href=https://colab.research.google.com/notebooks/data_table.ipynb>data table notebook</a>'\n",
       "            + ' to learn more about interactive tables.';\n",
       "          element.innerHTML = '';\n",
       "          dataTable['output_type'] = 'display_data';\n",
       "          await google.colab.output.renderOutput(dataTable, element);\n",
       "          const docLink = document.createElement('div');\n",
       "          docLink.innerHTML = docLinkHtml;\n",
       "          element.appendChild(docLink);\n",
       "        }\n",
       "      </script>\n",
       "    </div>\n",
       "  </div>\n"
      ],
      "text/plain": [
       "       sku                                           name  \\\n",
       "0  RAI0007              Silver Rain Design mStand Support   \n",
       "1  APP0023              Apple Mac Keyboard Keypad Spanish   \n",
       "2  APP0025               Mighty Mouse Apple Mouse for Mac   \n",
       "3  APP0072  Apple Dock to USB Cable iPhone and iPod white   \n",
       "4  KIN0007    Mac Memory Kingston 2GB 667MHz DDR2 SO-DIMM   \n",
       "\n",
       "                                                desc  price promo_price  \\\n",
       "0       Aluminum support compatible with all MacBook  59.99     499.899   \n",
       "1          USB ultrathin keyboard Apple Mac Spanish.     59     589.996   \n",
       "2                             mouse Apple USB cable.     59     569.898   \n",
       "3              IPhone dock and USB Cable Apple iPod.     25     229.997   \n",
       "4  2GB RAM Mac mini and iMac (2006/07) MacBook Pr...  34.99       31.99   \n",
       "\n",
       "   in_stock      type  \n",
       "0         1      8696  \n",
       "1         0  13855401  \n",
       "2         0      1387  \n",
       "3         0      1230  \n",
       "4         1      1364  "
      ]
     },
     "execution_count": 31,
     "metadata": {},
     "output_type": "execute_result"
    }
   ],
   "source": [
    "products.head()"
   ]
  },
  {
   "cell_type": "code",
   "execution_count": 32,
   "metadata": {
    "colab": {
     "base_uri": "https://localhost:8080/"
    },
    "executionInfo": {
     "elapsed": 396,
     "status": "ok",
     "timestamp": 1692020154177,
     "user": {
      "displayName": "Vasil Georgiev",
      "userId": "06423363571144121616"
     },
     "user_tz": -120
    },
    "id": "per_bjhcO0_L",
    "outputId": "09bbf230-29a4-4f5b-ce50-09ae824b4530"
   },
   "outputs": [
    {
     "name": "stdout",
     "output_type": "stream",
     "text": [
      "<class 'pandas.core.frame.DataFrame'>\n",
      "RangeIndex: 19326 entries, 0 to 19325\n",
      "Data columns (total 7 columns):\n",
      " #   Column       Non-Null Count  Dtype \n",
      "---  ------       --------------  ----- \n",
      " 0   sku          19326 non-null  object\n",
      " 1   name         19326 non-null  object\n",
      " 2   desc         19319 non-null  object\n",
      " 3   price        19280 non-null  object\n",
      " 4   promo_price  19326 non-null  object\n",
      " 5   in_stock     19326 non-null  int64 \n",
      " 6   type         19276 non-null  object\n",
      "dtypes: int64(1), object(6)\n",
      "memory usage: 1.0+ MB\n"
     ]
    }
   ],
   "source": [
    "products.info()"
   ]
  },
  {
   "cell_type": "markdown",
   "metadata": {
    "id": "eJJELJjD9l3W"
   },
   "source": [
    "We'll go through the steps above in order\n",
    "* Duplicates\n",
    "* Missing values\n",
    "* Datatypes\n",
    "\n",
    "But I think we can all see straight away from `products.head()` above that some of the prices in `promo_price` look wrong. Let's make sure we deal with this later."
   ]
  },
  {
   "cell_type": "markdown",
   "metadata": {
    "id": "DyTfC-WY-IWe"
   },
   "source": [
    "## Duplicates"
   ]
  },
  {
   "cell_type": "code",
   "execution_count": 33,
   "metadata": {
    "colab": {
     "base_uri": "https://localhost:8080/"
    },
    "executionInfo": {
     "elapsed": 338,
     "status": "ok",
     "timestamp": 1692020371397,
     "user": {
      "displayName": "Vasil Georgiev",
      "userId": "06423363571144121616"
     },
     "user_tz": -120
    },
    "id": "7WzmgCuz9X1x",
    "outputId": "a89cc843-f063-4296-c9d6-6d5a3f274c08"
   },
   "outputs": [
    {
     "data": {
      "text/plain": [
       "8746"
      ]
     },
     "execution_count": 33,
     "metadata": {},
     "output_type": "execute_result"
    }
   ],
   "source": [
    "products.duplicated().sum()"
   ]
  },
  {
   "cell_type": "markdown",
   "metadata": {
    "id": "goe2v94N-Oyk"
   },
   "source": [
    "Wow, that's a lot of duplicates. Let's get rid of them."
   ]
  },
  {
   "cell_type": "code",
   "execution_count": 61,
   "metadata": {
    "colab": {
     "base_uri": "https://localhost:8080/",
     "height": 641
    },
    "executionInfo": {
     "elapsed": 253,
     "status": "ok",
     "timestamp": 1692021703614,
     "user": {
      "displayName": "Vasil Georgiev",
      "userId": "06423363571144121616"
     },
     "user_tz": -120
    },
    "id": "gePZLcGVedOB",
    "outputId": "781532eb-4bd8-4ff6-e5ec-2692f09ded1a"
   },
   "outputs": [
    {
     "data": {
      "text/html": [
       "\n",
       "\n",
       "  <div id=\"df-64528a4e-09d6-49bb-86a0-73e6e79bd235\">\n",
       "    <div class=\"colab-df-container\">\n",
       "      <div>\n",
       "<style scoped>\n",
       "    .dataframe tbody tr th:only-of-type {\n",
       "        vertical-align: middle;\n",
       "    }\n",
       "\n",
       "    .dataframe tbody tr th {\n",
       "        vertical-align: top;\n",
       "    }\n",
       "\n",
       "    .dataframe thead th {\n",
       "        text-align: right;\n",
       "    }\n",
       "</style>\n",
       "<table border=\"1\" class=\"dataframe\">\n",
       "  <thead>\n",
       "    <tr style=\"text-align: right;\">\n",
       "      <th></th>\n",
       "      <th>sku</th>\n",
       "      <th>name</th>\n",
       "      <th>desc</th>\n",
       "      <th>price</th>\n",
       "      <th>in_stock</th>\n",
       "      <th>type</th>\n",
       "    </tr>\n",
       "  </thead>\n",
       "  <tbody>\n",
       "    <tr>\n",
       "      <th>100</th>\n",
       "      <td>APP0390</td>\n",
       "      <td>Apple MacBook Pro 133 \"Core i5 25GHz | 4GB RAM...</td>\n",
       "      <td>MacBook Pro laptop 133 inches (MD101Y / A).</td>\n",
       "      <td>1199.00</td>\n",
       "      <td>0</td>\n",
       "      <td>1282</td>\n",
       "    </tr>\n",
       "    <tr>\n",
       "      <th>101</th>\n",
       "      <td>APP0390</td>\n",
       "      <td>Apple MacBook Pro 133 \"Core i5 25GHz | 4GB RAM...</td>\n",
       "      <td>MacBook Pro laptop 133 inches (MD101Y / A).</td>\n",
       "      <td>1199.00</td>\n",
       "      <td>0</td>\n",
       "      <td>1282</td>\n",
       "    </tr>\n",
       "    <tr>\n",
       "      <th>102</th>\n",
       "      <td>APP0390</td>\n",
       "      <td>Apple MacBook Pro 133 \"Core i5 25GHz | 4GB RAM...</td>\n",
       "      <td>MacBook Pro laptop 133 inches (MD101Y / A).</td>\n",
       "      <td>1199.00</td>\n",
       "      <td>0</td>\n",
       "      <td>1282</td>\n",
       "    </tr>\n",
       "    <tr>\n",
       "      <th>103</th>\n",
       "      <td>APP0390</td>\n",
       "      <td>Apple MacBook Pro 133 \"Core i5 25GHz | 4GB RAM...</td>\n",
       "      <td>MacBook Pro laptop 133 inches (MD101Y / A).</td>\n",
       "      <td>1199.00</td>\n",
       "      <td>0</td>\n",
       "      <td>1282</td>\n",
       "    </tr>\n",
       "    <tr>\n",
       "      <th>104</th>\n",
       "      <td>APP0390</td>\n",
       "      <td>Apple MacBook Pro 133 \"Core i5 25GHz | 4GB RAM...</td>\n",
       "      <td>MacBook Pro laptop 133 inches (MD101Y / A).</td>\n",
       "      <td>1199.00</td>\n",
       "      <td>0</td>\n",
       "      <td>1282</td>\n",
       "    </tr>\n",
       "    <tr>\n",
       "      <th>...</th>\n",
       "      <td>...</td>\n",
       "      <td>...</td>\n",
       "      <td>...</td>\n",
       "      <td>...</td>\n",
       "      <td>...</td>\n",
       "      <td>...</td>\n",
       "    </tr>\n",
       "    <tr>\n",
       "      <th>18190</th>\n",
       "      <td>PAR0077</td>\n",
       "      <td>Parrot Bebop Drone 2 Power</td>\n",
       "      <td>Drone cuadricóptero quality camera integrated ...</td>\n",
       "      <td>699.90</td>\n",
       "      <td>0</td>\n",
       "      <td>11905404</td>\n",
       "    </tr>\n",
       "    <tr>\n",
       "      <th>18307</th>\n",
       "      <td>NKI0010</td>\n",
       "      <td>Nokia Wireless sphygmomanometer Plata</td>\n",
       "      <td>Sphygmomanometer for iPhone iPad and iPod App.</td>\n",
       "      <td>129.99</td>\n",
       "      <td>1</td>\n",
       "      <td>11905404</td>\n",
       "    </tr>\n",
       "    <tr>\n",
       "      <th>18308</th>\n",
       "      <td>NKI0010</td>\n",
       "      <td>Nokia Wireless sphygmomanometer Plata</td>\n",
       "      <td>Sphygmomanometer for iPhone iPad and iPod App.</td>\n",
       "      <td>129.99</td>\n",
       "      <td>1</td>\n",
       "      <td>11905404</td>\n",
       "    </tr>\n",
       "    <tr>\n",
       "      <th>18513</th>\n",
       "      <td>PLA0035</td>\n",
       "      <td>Bluetooth Headset Plantronics Explorer 80</td>\n",
       "      <td>egonómico wireless headset design for iPhone i...</td>\n",
       "      <td>39.99</td>\n",
       "      <td>1</td>\n",
       "      <td>5384</td>\n",
       "    </tr>\n",
       "    <tr>\n",
       "      <th>18514</th>\n",
       "      <td>PLA0035</td>\n",
       "      <td>Bluetooth Headset Plantronics Explorer 80</td>\n",
       "      <td>egonómico wireless headset design for iPhone i...</td>\n",
       "      <td>39.99</td>\n",
       "      <td>1</td>\n",
       "      <td>5384</td>\n",
       "    </tr>\n",
       "  </tbody>\n",
       "</table>\n",
       "<p>9407 rows × 6 columns</p>\n",
       "</div>\n",
       "      <button class=\"colab-df-convert\" onclick=\"convertToInteractive('df-64528a4e-09d6-49bb-86a0-73e6e79bd235')\"\n",
       "              title=\"Convert this dataframe to an interactive table.\"\n",
       "              style=\"display:none;\">\n",
       "\n",
       "  <svg xmlns=\"http://www.w3.org/2000/svg\" height=\"24px\"viewBox=\"0 0 24 24\"\n",
       "       width=\"24px\">\n",
       "    <path d=\"M0 0h24v24H0V0z\" fill=\"none\"/>\n",
       "    <path d=\"M18.56 5.44l.94 2.06.94-2.06 2.06-.94-2.06-.94-.94-2.06-.94 2.06-2.06.94zm-11 1L8.5 8.5l.94-2.06 2.06-.94-2.06-.94L8.5 2.5l-.94 2.06-2.06.94zm10 10l.94 2.06.94-2.06 2.06-.94-2.06-.94-.94-2.06-.94 2.06-2.06.94z\"/><path d=\"M17.41 7.96l-1.37-1.37c-.4-.4-.92-.59-1.43-.59-.52 0-1.04.2-1.43.59L10.3 9.45l-7.72 7.72c-.78.78-.78 2.05 0 2.83L4 21.41c.39.39.9.59 1.41.59.51 0 1.02-.2 1.41-.59l7.78-7.78 2.81-2.81c.8-.78.8-2.07 0-2.86zM5.41 20L4 18.59l7.72-7.72 1.47 1.35L5.41 20z\"/>\n",
       "  </svg>\n",
       "      </button>\n",
       "\n",
       "\n",
       "\n",
       "    <div id=\"df-a70e3f56-ee17-4eb2-b3ff-9ece2100612f\">\n",
       "      <button class=\"colab-df-quickchart\" onclick=\"quickchart('df-a70e3f56-ee17-4eb2-b3ff-9ece2100612f')\"\n",
       "              title=\"Suggest charts.\"\n",
       "              style=\"display:none;\">\n",
       "\n",
       "<svg xmlns=\"http://www.w3.org/2000/svg\" height=\"24px\"viewBox=\"0 0 24 24\"\n",
       "     width=\"24px\">\n",
       "    <g>\n",
       "        <path d=\"M19 3H5c-1.1 0-2 .9-2 2v14c0 1.1.9 2 2 2h14c1.1 0 2-.9 2-2V5c0-1.1-.9-2-2-2zM9 17H7v-7h2v7zm4 0h-2V7h2v10zm4 0h-2v-4h2v4z\"/>\n",
       "    </g>\n",
       "</svg>\n",
       "      </button>\n",
       "    </div>\n",
       "\n",
       "<style>\n",
       "  .colab-df-quickchart {\n",
       "    background-color: #E8F0FE;\n",
       "    border: none;\n",
       "    border-radius: 50%;\n",
       "    cursor: pointer;\n",
       "    display: none;\n",
       "    fill: #1967D2;\n",
       "    height: 32px;\n",
       "    padding: 0 0 0 0;\n",
       "    width: 32px;\n",
       "  }\n",
       "\n",
       "  .colab-df-quickchart:hover {\n",
       "    background-color: #E2EBFA;\n",
       "    box-shadow: 0px 1px 2px rgba(60, 64, 67, 0.3), 0px 1px 3px 1px rgba(60, 64, 67, 0.15);\n",
       "    fill: #174EA6;\n",
       "  }\n",
       "\n",
       "  [theme=dark] .colab-df-quickchart {\n",
       "    background-color: #3B4455;\n",
       "    fill: #D2E3FC;\n",
       "  }\n",
       "\n",
       "  [theme=dark] .colab-df-quickchart:hover {\n",
       "    background-color: #434B5C;\n",
       "    box-shadow: 0px 1px 3px 1px rgba(0, 0, 0, 0.15);\n",
       "    filter: drop-shadow(0px 1px 2px rgba(0, 0, 0, 0.3));\n",
       "    fill: #FFFFFF;\n",
       "  }\n",
       "</style>\n",
       "\n",
       "    <script>\n",
       "      async function quickchart(key) {\n",
       "        const containerElement = document.querySelector('#' + key);\n",
       "        const charts = await google.colab.kernel.invokeFunction(\n",
       "            'suggestCharts', [key], {});\n",
       "      }\n",
       "    </script>\n",
       "\n",
       "      <script>\n",
       "\n",
       "function displayQuickchartButton(domScope) {\n",
       "  let quickchartButtonEl =\n",
       "    domScope.querySelector('#df-a70e3f56-ee17-4eb2-b3ff-9ece2100612f button.colab-df-quickchart');\n",
       "  quickchartButtonEl.style.display =\n",
       "    google.colab.kernel.accessAllowed ? 'block' : 'none';\n",
       "}\n",
       "\n",
       "        displayQuickchartButton(document);\n",
       "      </script>\n",
       "      <style>\n",
       "    .colab-df-container {\n",
       "      display:flex;\n",
       "      flex-wrap:wrap;\n",
       "      gap: 12px;\n",
       "    }\n",
       "\n",
       "    .colab-df-convert {\n",
       "      background-color: #E8F0FE;\n",
       "      border: none;\n",
       "      border-radius: 50%;\n",
       "      cursor: pointer;\n",
       "      display: none;\n",
       "      fill: #1967D2;\n",
       "      height: 32px;\n",
       "      padding: 0 0 0 0;\n",
       "      width: 32px;\n",
       "    }\n",
       "\n",
       "    .colab-df-convert:hover {\n",
       "      background-color: #E2EBFA;\n",
       "      box-shadow: 0px 1px 2px rgba(60, 64, 67, 0.3), 0px 1px 3px 1px rgba(60, 64, 67, 0.15);\n",
       "      fill: #174EA6;\n",
       "    }\n",
       "\n",
       "    [theme=dark] .colab-df-convert {\n",
       "      background-color: #3B4455;\n",
       "      fill: #D2E3FC;\n",
       "    }\n",
       "\n",
       "    [theme=dark] .colab-df-convert:hover {\n",
       "      background-color: #434B5C;\n",
       "      box-shadow: 0px 1px 3px 1px rgba(0, 0, 0, 0.15);\n",
       "      filter: drop-shadow(0px 1px 2px rgba(0, 0, 0, 0.3));\n",
       "      fill: #FFFFFF;\n",
       "    }\n",
       "  </style>\n",
       "\n",
       "      <script>\n",
       "        const buttonEl =\n",
       "          document.querySelector('#df-64528a4e-09d6-49bb-86a0-73e6e79bd235 button.colab-df-convert');\n",
       "        buttonEl.style.display =\n",
       "          google.colab.kernel.accessAllowed ? 'block' : 'none';\n",
       "\n",
       "        async function convertToInteractive(key) {\n",
       "          const element = document.querySelector('#df-64528a4e-09d6-49bb-86a0-73e6e79bd235');\n",
       "          const dataTable =\n",
       "            await google.colab.kernel.invokeFunction('convertToInteractive',\n",
       "                                                     [key], {});\n",
       "          if (!dataTable) return;\n",
       "\n",
       "          const docLinkHtml = 'Like what you see? Visit the ' +\n",
       "            '<a target=\"_blank\" href=https://colab.research.google.com/notebooks/data_table.ipynb>data table notebook</a>'\n",
       "            + ' to learn more about interactive tables.';\n",
       "          element.innerHTML = '';\n",
       "          dataTable['output_type'] = 'display_data';\n",
       "          await google.colab.output.renderOutput(dataTable, element);\n",
       "          const docLink = document.createElement('div');\n",
       "          docLink.innerHTML = docLinkHtml;\n",
       "          element.appendChild(docLink);\n",
       "        }\n",
       "      </script>\n",
       "    </div>\n",
       "  </div>\n"
      ],
      "text/plain": [
       "           sku                                               name  \\\n",
       "100    APP0390  Apple MacBook Pro 133 \"Core i5 25GHz | 4GB RAM...   \n",
       "101    APP0390  Apple MacBook Pro 133 \"Core i5 25GHz | 4GB RAM...   \n",
       "102    APP0390  Apple MacBook Pro 133 \"Core i5 25GHz | 4GB RAM...   \n",
       "103    APP0390  Apple MacBook Pro 133 \"Core i5 25GHz | 4GB RAM...   \n",
       "104    APP0390  Apple MacBook Pro 133 \"Core i5 25GHz | 4GB RAM...   \n",
       "...        ...                                                ...   \n",
       "18190  PAR0077                         Parrot Bebop Drone 2 Power   \n",
       "18307  NKI0010              Nokia Wireless sphygmomanometer Plata   \n",
       "18308  NKI0010              Nokia Wireless sphygmomanometer Plata   \n",
       "18513  PLA0035          Bluetooth Headset Plantronics Explorer 80   \n",
       "18514  PLA0035          Bluetooth Headset Plantronics Explorer 80   \n",
       "\n",
       "                                                    desc    price  in_stock  \\\n",
       "100          MacBook Pro laptop 133 inches (MD101Y / A).  1199.00         0   \n",
       "101          MacBook Pro laptop 133 inches (MD101Y / A).  1199.00         0   \n",
       "102          MacBook Pro laptop 133 inches (MD101Y / A).  1199.00         0   \n",
       "103          MacBook Pro laptop 133 inches (MD101Y / A).  1199.00         0   \n",
       "104          MacBook Pro laptop 133 inches (MD101Y / A).  1199.00         0   \n",
       "...                                                  ...      ...       ...   \n",
       "18190  Drone cuadricóptero quality camera integrated ...   699.90         0   \n",
       "18307     Sphygmomanometer for iPhone iPad and iPod App.   129.99         1   \n",
       "18308     Sphygmomanometer for iPhone iPad and iPod App.   129.99         1   \n",
       "18513  egonómico wireless headset design for iPhone i...    39.99         1   \n",
       "18514  egonómico wireless headset design for iPhone i...    39.99         1   \n",
       "\n",
       "           type  \n",
       "100        1282  \n",
       "101        1282  \n",
       "102        1282  \n",
       "103        1282  \n",
       "104        1282  \n",
       "...         ...  \n",
       "18190  11905404  \n",
       "18307  11905404  \n",
       "18308  11905404  \n",
       "18513      5384  \n",
       "18514      5384  \n",
       "\n",
       "[9407 rows x 6 columns]"
      ]
     },
     "execution_count": 61,
     "metadata": {},
     "output_type": "execute_result"
    }
   ],
   "source": [
    "products[products.duplicated(keep=False)]"
   ]
  },
  {
   "cell_type": "code",
   "execution_count": 62,
   "metadata": {
    "executionInfo": {
     "elapsed": 257,
     "status": "ok",
     "timestamp": 1692021709413,
     "user": {
      "displayName": "Vasil Georgiev",
      "userId": "06423363571144121616"
     },
     "user_tz": -120
    },
    "id": "aP-EeieW-N5i"
   },
   "outputs": [],
   "source": [
    "products = products.drop_duplicates()"
   ]
  },
  {
   "cell_type": "markdown",
   "metadata": {
    "id": "kAgpknOR-zAg"
   },
   "source": [
    "## `.info()`"
   ]
  },
  {
   "cell_type": "code",
   "execution_count": 63,
   "metadata": {
    "colab": {
     "base_uri": "https://localhost:8080/"
    },
    "executionInfo": {
     "elapsed": 265,
     "status": "ok",
     "timestamp": 1692021713834,
     "user": {
      "displayName": "Vasil Georgiev",
      "userId": "06423363571144121616"
     },
     "user_tz": -120
    },
    "id": "MXZXRvUa_GTW",
    "outputId": "d9dc0845-c7c0-4f89-d6fe-d3bf7eb94821"
   },
   "outputs": [
    {
     "name": "stdout",
     "output_type": "stream",
     "text": [
      "<class 'pandas.core.frame.DataFrame'>\n",
      "Int64Index: 10038 entries, 0 to 19325\n",
      "Data columns (total 6 columns):\n",
      " #   Column    Non-Null Count  Dtype  \n",
      "---  ------    --------------  -----  \n",
      " 0   sku       10038 non-null  object \n",
      " 1   name      10038 non-null  object \n",
      " 2   desc      10032 non-null  object \n",
      " 3   price     9992 non-null   float64\n",
      " 4   in_stock  10038 non-null  int64  \n",
      " 5   type      9992 non-null   object \n",
      "dtypes: float64(1), int64(1), object(4)\n",
      "memory usage: 549.0+ KB\n"
     ]
    }
   ],
   "source": [
    "products.info()"
   ]
  },
  {
   "cell_type": "markdown",
   "metadata": {
    "id": "XTGqkqtm--ln"
   },
   "source": [
    "### Missing values\n",
    "We can see from `.info()` above that we have missing values in `desc` and `price`"
   ]
  },
  {
   "cell_type": "markdown",
   "metadata": {
    "id": "LnW3DuWh_ZFr"
   },
   "source": [
    "#### `desc`"
   ]
  },
  {
   "cell_type": "code",
   "execution_count": 64,
   "metadata": {
    "colab": {
     "base_uri": "https://localhost:8080/"
    },
    "executionInfo": {
     "elapsed": 368,
     "status": "ok",
     "timestamp": 1692021722975,
     "user": {
      "displayName": "Vasil Georgiev",
      "userId": "06423363571144121616"
     },
     "user_tz": -120
    },
    "id": "1cS0Zz9kSNrr",
    "outputId": "7edeecfe-2e90-4c38-ddaa-00a2dd29f37d"
   },
   "outputs": [
    {
     "data": {
      "text/plain": [
       "6"
      ]
     },
     "execution_count": 64,
     "metadata": {},
     "output_type": "execute_result"
    }
   ],
   "source": [
    "products[\"desc\"].isna().sum()"
   ]
  },
  {
   "cell_type": "markdown",
   "metadata": {
    "id": "tiRskHsWlrqC"
   },
   "source": [
    "7 is a very small number to have missing, let's have a closer look"
   ]
  },
  {
   "cell_type": "code",
   "execution_count": 38,
   "metadata": {
    "colab": {
     "base_uri": "https://localhost:8080/",
     "height": 313
    },
    "executionInfo": {
     "elapsed": 276,
     "status": "ok",
     "timestamp": 1692020530385,
     "user": {
      "displayName": "Vasil Georgiev",
      "userId": "06423363571144121616"
     },
     "user_tz": -120
    },
    "id": "eK9_QN6H-klR",
    "outputId": "52b04bc4-65aa-4028-eaca-ef48b44d8319"
   },
   "outputs": [
    {
     "data": {
      "text/html": [
       "\n",
       "\n",
       "  <div id=\"df-e693a5b5-c3b9-49e4-aaa9-15c2e5147e40\">\n",
       "    <div class=\"colab-df-container\">\n",
       "      <div>\n",
       "<style scoped>\n",
       "    .dataframe tbody tr th:only-of-type {\n",
       "        vertical-align: middle;\n",
       "    }\n",
       "\n",
       "    .dataframe tbody tr th {\n",
       "        vertical-align: top;\n",
       "    }\n",
       "\n",
       "    .dataframe thead th {\n",
       "        text-align: right;\n",
       "    }\n",
       "</style>\n",
       "<table border=\"1\" class=\"dataframe\">\n",
       "  <thead>\n",
       "    <tr style=\"text-align: right;\">\n",
       "      <th></th>\n",
       "      <th>sku</th>\n",
       "      <th>name</th>\n",
       "      <th>desc</th>\n",
       "      <th>price</th>\n",
       "      <th>promo_price</th>\n",
       "      <th>in_stock</th>\n",
       "      <th>type</th>\n",
       "    </tr>\n",
       "  </thead>\n",
       "  <tbody>\n",
       "    <tr>\n",
       "      <th>16126</th>\n",
       "      <td>WDT0211-A</td>\n",
       "      <td>Open - Purple 2TB WD 35 \"PC Security Mac hard ...</td>\n",
       "      <td>NaN</td>\n",
       "      <td>107</td>\n",
       "      <td>814.659</td>\n",
       "      <td>0</td>\n",
       "      <td>1298</td>\n",
       "    </tr>\n",
       "    <tr>\n",
       "      <th>16128</th>\n",
       "      <td>APP1622-A</td>\n",
       "      <td>Open - Apple Smart Keyboard Pro Keyboard Folio...</td>\n",
       "      <td>NaN</td>\n",
       "      <td>1.568.206</td>\n",
       "      <td>1.568.206</td>\n",
       "      <td>0</td>\n",
       "      <td>1298</td>\n",
       "    </tr>\n",
       "    <tr>\n",
       "      <th>17843</th>\n",
       "      <td>PAC2334</td>\n",
       "      <td>Synology DS718 + NAS Server | 10GB RAM</td>\n",
       "      <td>NaN</td>\n",
       "      <td>566.35</td>\n",
       "      <td>5.659.896</td>\n",
       "      <td>0</td>\n",
       "      <td>12175397</td>\n",
       "    </tr>\n",
       "    <tr>\n",
       "      <th>18152</th>\n",
       "      <td>KAN0034-A</td>\n",
       "      <td>Open - Kanex USB-C Gigabit Ethernet Adapter Ma...</td>\n",
       "      <td>NaN</td>\n",
       "      <td>29.99</td>\n",
       "      <td>237.925</td>\n",
       "      <td>0</td>\n",
       "      <td>1298</td>\n",
       "    </tr>\n",
       "    <tr>\n",
       "      <th>18490</th>\n",
       "      <td>HTE0025</td>\n",
       "      <td>Hyper Pearl 1600mAh battery Mini USB Mirror an...</td>\n",
       "      <td>NaN</td>\n",
       "      <td>24.99</td>\n",
       "      <td>22.99</td>\n",
       "      <td>1</td>\n",
       "      <td>1515</td>\n",
       "    </tr>\n",
       "    <tr>\n",
       "      <th>18612</th>\n",
       "      <td>OTT0200</td>\n",
       "      <td>OtterBox External Battery Power Pack 20000 mAHr</td>\n",
       "      <td>NaN</td>\n",
       "      <td>79.99</td>\n",
       "      <td>56.99</td>\n",
       "      <td>1</td>\n",
       "      <td>1515</td>\n",
       "    </tr>\n",
       "    <tr>\n",
       "      <th>18690</th>\n",
       "      <td>HOW0001-A</td>\n",
       "      <td>Open - Honeywell thermostat Lyric zonificador ...</td>\n",
       "      <td>NaN</td>\n",
       "      <td>199.99</td>\n",
       "      <td>1.441.174</td>\n",
       "      <td>0</td>\n",
       "      <td>11905404</td>\n",
       "    </tr>\n",
       "  </tbody>\n",
       "</table>\n",
       "</div>\n",
       "      <button class=\"colab-df-convert\" onclick=\"convertToInteractive('df-e693a5b5-c3b9-49e4-aaa9-15c2e5147e40')\"\n",
       "              title=\"Convert this dataframe to an interactive table.\"\n",
       "              style=\"display:none;\">\n",
       "\n",
       "  <svg xmlns=\"http://www.w3.org/2000/svg\" height=\"24px\"viewBox=\"0 0 24 24\"\n",
       "       width=\"24px\">\n",
       "    <path d=\"M0 0h24v24H0V0z\" fill=\"none\"/>\n",
       "    <path d=\"M18.56 5.44l.94 2.06.94-2.06 2.06-.94-2.06-.94-.94-2.06-.94 2.06-2.06.94zm-11 1L8.5 8.5l.94-2.06 2.06-.94-2.06-.94L8.5 2.5l-.94 2.06-2.06.94zm10 10l.94 2.06.94-2.06 2.06-.94-2.06-.94-.94-2.06-.94 2.06-2.06.94z\"/><path d=\"M17.41 7.96l-1.37-1.37c-.4-.4-.92-.59-1.43-.59-.52 0-1.04.2-1.43.59L10.3 9.45l-7.72 7.72c-.78.78-.78 2.05 0 2.83L4 21.41c.39.39.9.59 1.41.59.51 0 1.02-.2 1.41-.59l7.78-7.78 2.81-2.81c.8-.78.8-2.07 0-2.86zM5.41 20L4 18.59l7.72-7.72 1.47 1.35L5.41 20z\"/>\n",
       "  </svg>\n",
       "      </button>\n",
       "\n",
       "\n",
       "\n",
       "    <div id=\"df-9affc144-7c9f-4f7e-a2a4-699c6f0b36d1\">\n",
       "      <button class=\"colab-df-quickchart\" onclick=\"quickchart('df-9affc144-7c9f-4f7e-a2a4-699c6f0b36d1')\"\n",
       "              title=\"Suggest charts.\"\n",
       "              style=\"display:none;\">\n",
       "\n",
       "<svg xmlns=\"http://www.w3.org/2000/svg\" height=\"24px\"viewBox=\"0 0 24 24\"\n",
       "     width=\"24px\">\n",
       "    <g>\n",
       "        <path d=\"M19 3H5c-1.1 0-2 .9-2 2v14c0 1.1.9 2 2 2h14c1.1 0 2-.9 2-2V5c0-1.1-.9-2-2-2zM9 17H7v-7h2v7zm4 0h-2V7h2v10zm4 0h-2v-4h2v4z\"/>\n",
       "    </g>\n",
       "</svg>\n",
       "      </button>\n",
       "    </div>\n",
       "\n",
       "<style>\n",
       "  .colab-df-quickchart {\n",
       "    background-color: #E8F0FE;\n",
       "    border: none;\n",
       "    border-radius: 50%;\n",
       "    cursor: pointer;\n",
       "    display: none;\n",
       "    fill: #1967D2;\n",
       "    height: 32px;\n",
       "    padding: 0 0 0 0;\n",
       "    width: 32px;\n",
       "  }\n",
       "\n",
       "  .colab-df-quickchart:hover {\n",
       "    background-color: #E2EBFA;\n",
       "    box-shadow: 0px 1px 2px rgba(60, 64, 67, 0.3), 0px 1px 3px 1px rgba(60, 64, 67, 0.15);\n",
       "    fill: #174EA6;\n",
       "  }\n",
       "\n",
       "  [theme=dark] .colab-df-quickchart {\n",
       "    background-color: #3B4455;\n",
       "    fill: #D2E3FC;\n",
       "  }\n",
       "\n",
       "  [theme=dark] .colab-df-quickchart:hover {\n",
       "    background-color: #434B5C;\n",
       "    box-shadow: 0px 1px 3px 1px rgba(0, 0, 0, 0.15);\n",
       "    filter: drop-shadow(0px 1px 2px rgba(0, 0, 0, 0.3));\n",
       "    fill: #FFFFFF;\n",
       "  }\n",
       "</style>\n",
       "\n",
       "    <script>\n",
       "      async function quickchart(key) {\n",
       "        const containerElement = document.querySelector('#' + key);\n",
       "        const charts = await google.colab.kernel.invokeFunction(\n",
       "            'suggestCharts', [key], {});\n",
       "      }\n",
       "    </script>\n",
       "\n",
       "      <script>\n",
       "\n",
       "function displayQuickchartButton(domScope) {\n",
       "  let quickchartButtonEl =\n",
       "    domScope.querySelector('#df-9affc144-7c9f-4f7e-a2a4-699c6f0b36d1 button.colab-df-quickchart');\n",
       "  quickchartButtonEl.style.display =\n",
       "    google.colab.kernel.accessAllowed ? 'block' : 'none';\n",
       "}\n",
       "\n",
       "        displayQuickchartButton(document);\n",
       "      </script>\n",
       "      <style>\n",
       "    .colab-df-container {\n",
       "      display:flex;\n",
       "      flex-wrap:wrap;\n",
       "      gap: 12px;\n",
       "    }\n",
       "\n",
       "    .colab-df-convert {\n",
       "      background-color: #E8F0FE;\n",
       "      border: none;\n",
       "      border-radius: 50%;\n",
       "      cursor: pointer;\n",
       "      display: none;\n",
       "      fill: #1967D2;\n",
       "      height: 32px;\n",
       "      padding: 0 0 0 0;\n",
       "      width: 32px;\n",
       "    }\n",
       "\n",
       "    .colab-df-convert:hover {\n",
       "      background-color: #E2EBFA;\n",
       "      box-shadow: 0px 1px 2px rgba(60, 64, 67, 0.3), 0px 1px 3px 1px rgba(60, 64, 67, 0.15);\n",
       "      fill: #174EA6;\n",
       "    }\n",
       "\n",
       "    [theme=dark] .colab-df-convert {\n",
       "      background-color: #3B4455;\n",
       "      fill: #D2E3FC;\n",
       "    }\n",
       "\n",
       "    [theme=dark] .colab-df-convert:hover {\n",
       "      background-color: #434B5C;\n",
       "      box-shadow: 0px 1px 3px 1px rgba(0, 0, 0, 0.15);\n",
       "      filter: drop-shadow(0px 1px 2px rgba(0, 0, 0, 0.3));\n",
       "      fill: #FFFFFF;\n",
       "    }\n",
       "  </style>\n",
       "\n",
       "      <script>\n",
       "        const buttonEl =\n",
       "          document.querySelector('#df-e693a5b5-c3b9-49e4-aaa9-15c2e5147e40 button.colab-df-convert');\n",
       "        buttonEl.style.display =\n",
       "          google.colab.kernel.accessAllowed ? 'block' : 'none';\n",
       "\n",
       "        async function convertToInteractive(key) {\n",
       "          const element = document.querySelector('#df-e693a5b5-c3b9-49e4-aaa9-15c2e5147e40');\n",
       "          const dataTable =\n",
       "            await google.colab.kernel.invokeFunction('convertToInteractive',\n",
       "                                                     [key], {});\n",
       "          if (!dataTable) return;\n",
       "\n",
       "          const docLinkHtml = 'Like what you see? Visit the ' +\n",
       "            '<a target=\"_blank\" href=https://colab.research.google.com/notebooks/data_table.ipynb>data table notebook</a>'\n",
       "            + ' to learn more about interactive tables.';\n",
       "          element.innerHTML = '';\n",
       "          dataTable['output_type'] = 'display_data';\n",
       "          await google.colab.output.renderOutput(dataTable, element);\n",
       "          const docLink = document.createElement('div');\n",
       "          docLink.innerHTML = docLinkHtml;\n",
       "          element.appendChild(docLink);\n",
       "        }\n",
       "      </script>\n",
       "    </div>\n",
       "  </div>\n"
      ],
      "text/plain": [
       "             sku                                               name desc  \\\n",
       "16126  WDT0211-A  Open - Purple 2TB WD 35 \"PC Security Mac hard ...  NaN   \n",
       "16128  APP1622-A  Open - Apple Smart Keyboard Pro Keyboard Folio...  NaN   \n",
       "17843    PAC2334             Synology DS718 + NAS Server | 10GB RAM  NaN   \n",
       "18152  KAN0034-A  Open - Kanex USB-C Gigabit Ethernet Adapter Ma...  NaN   \n",
       "18490    HTE0025  Hyper Pearl 1600mAh battery Mini USB Mirror an...  NaN   \n",
       "18612    OTT0200    OtterBox External Battery Power Pack 20000 mAHr  NaN   \n",
       "18690  HOW0001-A  Open - Honeywell thermostat Lyric zonificador ...  NaN   \n",
       "\n",
       "           price promo_price  in_stock      type  \n",
       "16126        107     814.659         0      1298  \n",
       "16128  1.568.206   1.568.206         0      1298  \n",
       "17843     566.35   5.659.896         0  12175397  \n",
       "18152      29.99     237.925         0      1298  \n",
       "18490      24.99       22.99         1      1515  \n",
       "18612      79.99       56.99         1      1515  \n",
       "18690     199.99   1.441.174         0  11905404  "
      ]
     },
     "execution_count": 38,
     "metadata": {},
     "output_type": "execute_result"
    }
   ],
   "source": [
    "products.loc[products['desc'].isna(), :]"
   ]
  },
  {
   "cell_type": "markdown",
   "metadata": {
    "id": "PlFfSOI5_zTB"
   },
   "source": [
    "We have 2 choices here:\n",
    "* We can quickly and easily remove these rows.\n",
    "* Or, alternatively, the products names here are quite descriptive, so I'm tempted to just copy them to the description column, so that there is a description if we later want utilise this column. I wouldn't recommend this if this DataFrame was the source of truth for our website. But this is not the case here, and we're not faking any information (guessing a price or so), so I'm happy with this option"
   ]
  },
  {
   "cell_type": "code",
   "execution_count": 65,
   "metadata": {
    "executionInfo": {
     "elapsed": 335,
     "status": "ok",
     "timestamp": 1692021731884,
     "user": {
      "displayName": "Vasil Georgiev",
      "userId": "06423363571144121616"
     },
     "user_tz": -120
    },
    "id": "Tu_ZH5e0PZ4W"
   },
   "outputs": [],
   "source": [
    "products.loc[products['desc'].isna(), 'desc'] = products.loc[products['desc'].isna(), 'name']"
   ]
  },
  {
   "cell_type": "code",
   "execution_count": 66,
   "metadata": {
    "colab": {
     "base_uri": "https://localhost:8080/",
     "height": 49
    },
    "executionInfo": {
     "elapsed": 358,
     "status": "ok",
     "timestamp": 1692021736880,
     "user": {
      "displayName": "Vasil Georgiev",
      "userId": "06423363571144121616"
     },
     "user_tz": -120
    },
    "id": "gwsE37LjShIY",
    "outputId": "7903251a-1411-4608-a5c6-a8bdd72ac9a1"
   },
   "outputs": [
    {
     "data": {
      "text/html": [
       "\n",
       "\n",
       "  <div id=\"df-a1ddd036-00ed-4ca2-a2c3-4572e2ce0483\">\n",
       "    <div class=\"colab-df-container\">\n",
       "      <div>\n",
       "<style scoped>\n",
       "    .dataframe tbody tr th:only-of-type {\n",
       "        vertical-align: middle;\n",
       "    }\n",
       "\n",
       "    .dataframe tbody tr th {\n",
       "        vertical-align: top;\n",
       "    }\n",
       "\n",
       "    .dataframe thead th {\n",
       "        text-align: right;\n",
       "    }\n",
       "</style>\n",
       "<table border=\"1\" class=\"dataframe\">\n",
       "  <thead>\n",
       "    <tr style=\"text-align: right;\">\n",
       "      <th></th>\n",
       "      <th>sku</th>\n",
       "      <th>name</th>\n",
       "      <th>desc</th>\n",
       "      <th>price</th>\n",
       "      <th>in_stock</th>\n",
       "      <th>type</th>\n",
       "    </tr>\n",
       "  </thead>\n",
       "  <tbody>\n",
       "  </tbody>\n",
       "</table>\n",
       "</div>\n",
       "      <button class=\"colab-df-convert\" onclick=\"convertToInteractive('df-a1ddd036-00ed-4ca2-a2c3-4572e2ce0483')\"\n",
       "              title=\"Convert this dataframe to an interactive table.\"\n",
       "              style=\"display:none;\">\n",
       "\n",
       "  <svg xmlns=\"http://www.w3.org/2000/svg\" height=\"24px\"viewBox=\"0 0 24 24\"\n",
       "       width=\"24px\">\n",
       "    <path d=\"M0 0h24v24H0V0z\" fill=\"none\"/>\n",
       "    <path d=\"M18.56 5.44l.94 2.06.94-2.06 2.06-.94-2.06-.94-.94-2.06-.94 2.06-2.06.94zm-11 1L8.5 8.5l.94-2.06 2.06-.94-2.06-.94L8.5 2.5l-.94 2.06-2.06.94zm10 10l.94 2.06.94-2.06 2.06-.94-2.06-.94-.94-2.06-.94 2.06-2.06.94z\"/><path d=\"M17.41 7.96l-1.37-1.37c-.4-.4-.92-.59-1.43-.59-.52 0-1.04.2-1.43.59L10.3 9.45l-7.72 7.72c-.78.78-.78 2.05 0 2.83L4 21.41c.39.39.9.59 1.41.59.51 0 1.02-.2 1.41-.59l7.78-7.78 2.81-2.81c.8-.78.8-2.07 0-2.86zM5.41 20L4 18.59l7.72-7.72 1.47 1.35L5.41 20z\"/>\n",
       "  </svg>\n",
       "      </button>\n",
       "\n",
       "\n",
       "\n",
       "    <div id=\"df-87bdada6-e2b8-40cb-b3f7-a017234bf4bd\">\n",
       "      <button class=\"colab-df-quickchart\" onclick=\"quickchart('df-87bdada6-e2b8-40cb-b3f7-a017234bf4bd')\"\n",
       "              title=\"Suggest charts.\"\n",
       "              style=\"display:none;\">\n",
       "\n",
       "<svg xmlns=\"http://www.w3.org/2000/svg\" height=\"24px\"viewBox=\"0 0 24 24\"\n",
       "     width=\"24px\">\n",
       "    <g>\n",
       "        <path d=\"M19 3H5c-1.1 0-2 .9-2 2v14c0 1.1.9 2 2 2h14c1.1 0 2-.9 2-2V5c0-1.1-.9-2-2-2zM9 17H7v-7h2v7zm4 0h-2V7h2v10zm4 0h-2v-4h2v4z\"/>\n",
       "    </g>\n",
       "</svg>\n",
       "      </button>\n",
       "    </div>\n",
       "\n",
       "<style>\n",
       "  .colab-df-quickchart {\n",
       "    background-color: #E8F0FE;\n",
       "    border: none;\n",
       "    border-radius: 50%;\n",
       "    cursor: pointer;\n",
       "    display: none;\n",
       "    fill: #1967D2;\n",
       "    height: 32px;\n",
       "    padding: 0 0 0 0;\n",
       "    width: 32px;\n",
       "  }\n",
       "\n",
       "  .colab-df-quickchart:hover {\n",
       "    background-color: #E2EBFA;\n",
       "    box-shadow: 0px 1px 2px rgba(60, 64, 67, 0.3), 0px 1px 3px 1px rgba(60, 64, 67, 0.15);\n",
       "    fill: #174EA6;\n",
       "  }\n",
       "\n",
       "  [theme=dark] .colab-df-quickchart {\n",
       "    background-color: #3B4455;\n",
       "    fill: #D2E3FC;\n",
       "  }\n",
       "\n",
       "  [theme=dark] .colab-df-quickchart:hover {\n",
       "    background-color: #434B5C;\n",
       "    box-shadow: 0px 1px 3px 1px rgba(0, 0, 0, 0.15);\n",
       "    filter: drop-shadow(0px 1px 2px rgba(0, 0, 0, 0.3));\n",
       "    fill: #FFFFFF;\n",
       "  }\n",
       "</style>\n",
       "\n",
       "    <script>\n",
       "      async function quickchart(key) {\n",
       "        const containerElement = document.querySelector('#' + key);\n",
       "        const charts = await google.colab.kernel.invokeFunction(\n",
       "            'suggestCharts', [key], {});\n",
       "      }\n",
       "    </script>\n",
       "\n",
       "      <script>\n",
       "\n",
       "function displayQuickchartButton(domScope) {\n",
       "  let quickchartButtonEl =\n",
       "    domScope.querySelector('#df-87bdada6-e2b8-40cb-b3f7-a017234bf4bd button.colab-df-quickchart');\n",
       "  quickchartButtonEl.style.display =\n",
       "    google.colab.kernel.accessAllowed ? 'block' : 'none';\n",
       "}\n",
       "\n",
       "        displayQuickchartButton(document);\n",
       "      </script>\n",
       "      <style>\n",
       "    .colab-df-container {\n",
       "      display:flex;\n",
       "      flex-wrap:wrap;\n",
       "      gap: 12px;\n",
       "    }\n",
       "\n",
       "    .colab-df-convert {\n",
       "      background-color: #E8F0FE;\n",
       "      border: none;\n",
       "      border-radius: 50%;\n",
       "      cursor: pointer;\n",
       "      display: none;\n",
       "      fill: #1967D2;\n",
       "      height: 32px;\n",
       "      padding: 0 0 0 0;\n",
       "      width: 32px;\n",
       "    }\n",
       "\n",
       "    .colab-df-convert:hover {\n",
       "      background-color: #E2EBFA;\n",
       "      box-shadow: 0px 1px 2px rgba(60, 64, 67, 0.3), 0px 1px 3px 1px rgba(60, 64, 67, 0.15);\n",
       "      fill: #174EA6;\n",
       "    }\n",
       "\n",
       "    [theme=dark] .colab-df-convert {\n",
       "      background-color: #3B4455;\n",
       "      fill: #D2E3FC;\n",
       "    }\n",
       "\n",
       "    [theme=dark] .colab-df-convert:hover {\n",
       "      background-color: #434B5C;\n",
       "      box-shadow: 0px 1px 3px 1px rgba(0, 0, 0, 0.15);\n",
       "      filter: drop-shadow(0px 1px 2px rgba(0, 0, 0, 0.3));\n",
       "      fill: #FFFFFF;\n",
       "    }\n",
       "  </style>\n",
       "\n",
       "      <script>\n",
       "        const buttonEl =\n",
       "          document.querySelector('#df-a1ddd036-00ed-4ca2-a2c3-4572e2ce0483 button.colab-df-convert');\n",
       "        buttonEl.style.display =\n",
       "          google.colab.kernel.accessAllowed ? 'block' : 'none';\n",
       "\n",
       "        async function convertToInteractive(key) {\n",
       "          const element = document.querySelector('#df-a1ddd036-00ed-4ca2-a2c3-4572e2ce0483');\n",
       "          const dataTable =\n",
       "            await google.colab.kernel.invokeFunction('convertToInteractive',\n",
       "                                                     [key], {});\n",
       "          if (!dataTable) return;\n",
       "\n",
       "          const docLinkHtml = 'Like what you see? Visit the ' +\n",
       "            '<a target=\"_blank\" href=https://colab.research.google.com/notebooks/data_table.ipynb>data table notebook</a>'\n",
       "            + ' to learn more about interactive tables.';\n",
       "          element.innerHTML = '';\n",
       "          dataTable['output_type'] = 'display_data';\n",
       "          await google.colab.output.renderOutput(dataTable, element);\n",
       "          const docLink = document.createElement('div');\n",
       "          docLink.innerHTML = docLinkHtml;\n",
       "          element.appendChild(docLink);\n",
       "        }\n",
       "      </script>\n",
       "    </div>\n",
       "  </div>\n"
      ],
      "text/plain": [
       "Empty DataFrame\n",
       "Columns: [sku, name, desc, price, in_stock, type]\n",
       "Index: []"
      ]
     },
     "execution_count": 66,
     "metadata": {},
     "output_type": "execute_result"
    }
   ],
   "source": [
    "products.loc[products['desc'].isna(), :]"
   ]
  },
  {
   "cell_type": "markdown",
   "metadata": {
    "id": "yb37eyvIBuep"
   },
   "source": [
    "Did you also notice above that we have the dreaded two decimal point problem in both the `price` and `promo_price` columns? We can also see prices with 3 decimal places, prices should have 2 decimal places: this gives us more cause for concern"
   ]
  },
  {
   "cell_type": "markdown",
   "metadata": {
    "id": "DX9u7jeE_c95"
   },
   "source": [
    "#### `price`"
   ]
  },
  {
   "cell_type": "code",
   "execution_count": 67,
   "metadata": {
    "colab": {
     "base_uri": "https://localhost:8080/"
    },
    "executionInfo": {
     "elapsed": 306,
     "status": "ok",
     "timestamp": 1692021743872,
     "user": {
      "displayName": "Vasil Georgiev",
      "userId": "06423363571144121616"
     },
     "user_tz": -120
    },
    "id": "AzID-a2TS6y_",
    "outputId": "a840fa14-58d9-459d-c7ca-097dacdcac89"
   },
   "outputs": [
    {
     "data": {
      "text/plain": [
       "46"
      ]
     },
     "execution_count": 67,
     "metadata": {},
     "output_type": "execute_result"
    }
   ],
   "source": [
    "products.price.isna().sum()"
   ]
  },
  {
   "cell_type": "code",
   "execution_count": 68,
   "metadata": {
    "colab": {
     "base_uri": "https://localhost:8080/"
    },
    "executionInfo": {
     "elapsed": 352,
     "status": "ok",
     "timestamp": 1692021746566,
     "user": {
      "displayName": "Vasil Georgiev",
      "userId": "06423363571144121616"
     },
     "user_tz": -120
    },
    "id": "LRknumaMk9gn",
    "outputId": "7c5f08ec-87bd-4b02-b1cb-47999d1c4552"
   },
   "outputs": [
    {
     "name": "stdout",
     "output_type": "stream",
     "text": [
      "The missing values in price are 0.46% of all rows in the DataFrame\n"
     ]
    }
   ],
   "source": [
    "print(f\"The missing values in price are {(products.price.isna().value_counts(normalize=True)[1] * 100).round(2)}% of all rows in the DataFrame\")"
   ]
  },
  {
   "cell_type": "markdown",
   "metadata": {
    "id": "WVAC9q6Zldyu"
   },
   "source": [
    "Let's simply delete these rows to ensure that we can trust the numbers in our final DataFrame. Afterall, the price is very important when investigating discounts."
   ]
  },
  {
   "cell_type": "markdown",
   "metadata": {
    "id": "W7Bv1QXrTVbR"
   },
   "source": [
    "Option 1: `.loc`"
   ]
  },
  {
   "cell_type": "code",
   "execution_count": 69,
   "metadata": {
    "executionInfo": {
     "elapsed": 282,
     "status": "ok",
     "timestamp": 1692021749075,
     "user": {
      "displayName": "Vasil Georgiev",
      "userId": "06423363571144121616"
     },
     "user_tz": -120
    },
    "id": "aJIuqC1LQL8u"
   },
   "outputs": [],
   "source": [
    "products = products.loc[~products['price'].isna()]"
   ]
  },
  {
   "cell_type": "markdown",
   "metadata": {
    "id": "5iShhiyRTcCz"
   },
   "source": [
    "Option 2: `.dropna()`"
   ]
  },
  {
   "cell_type": "code",
   "execution_count": null,
   "metadata": {
    "id": "2_S5lPV3QcnR"
   },
   "outputs": [],
   "source": [
    "# products = products.dropna(subset=['price'])"
   ]
  },
  {
   "cell_type": "markdown",
   "metadata": {
    "id": "4x6xeGDu_B0N"
   },
   "source": [
    "### Data types\n",
    "\n",
    "We saw from looking at the output of `.info()` that both `price` and `promo_price` have been stored as objects and not as a numerical datatypes. We also saw while solving other problems that both columns have some prices with 3 decimal places and others with 2 decimal points - the latter will prevent us from converting the datatype to numerical, so first we must investigate and solve these problems."
   ]
  },
  {
   "cell_type": "markdown",
   "metadata": {
    "id": "u0CsTv1WnMie"
   },
   "source": [
    "#### `price`"
   ]
  },
  {
   "cell_type": "markdown",
   "metadata": {
    "id": "2mIc7YWdva5I"
   },
   "source": [
    "First, let's see how many values are affected by the 2 problems or 3 decimal places."
   ]
  },
  {
   "cell_type": "code",
   "execution_count": 44,
   "metadata": {
    "colab": {
     "base_uri": "https://localhost:8080/"
    },
    "executionInfo": {
     "elapsed": 267,
     "status": "ok",
     "timestamp": 1692020938521,
     "user": {
      "displayName": "Vasil Georgiev",
      "userId": "06423363571144121616"
     },
     "user_tz": -120
    },
    "id": "bShFL27Nq3Da",
    "outputId": "ba4dd8f3-c7a8-498a-d52f-bb6a2f9a7fb9"
   },
   "outputs": [
    {
     "data": {
      "text/plain": [
       "542"
      ]
     },
     "execution_count": 44,
     "metadata": {},
     "output_type": "execute_result"
    }
   ],
   "source": [
    "price_problems_number = products.loc[(products.price.astype(str).str.contains(\"\\d+\\.\\d+\\.\\d+\"))|(products.price.astype(str).str.contains(\"\\d+\\.\\d{3,}\")), :].shape[0]\n",
    "price_problems_number"
   ]
  },
  {
   "cell_type": "code",
   "execution_count": 45,
   "metadata": {
    "colab": {
     "base_uri": "https://localhost:8080/"
    },
    "executionInfo": {
     "elapsed": 251,
     "status": "ok",
     "timestamp": 1692020948011,
     "user": {
      "displayName": "Vasil Georgiev",
      "userId": "06423363571144121616"
     },
     "user_tz": -120
    },
    "id": "R-HG2ur6eOiP",
    "outputId": "beebc6b8-d655-4292-e04d-f76982121dbd"
   },
   "outputs": [
    {
     "name": "stdout",
     "output_type": "stream",
     "text": [
      "The column price has in total 542 wrong values. This is 5.15% of the rows of the DataFrame\n"
     ]
    }
   ],
   "source": [
    "print(f\"The column price has in total {price_problems_number} wrong values. This is {round(((price_problems_number / products.shape[0]) * 100), 2)}% of the rows of the DataFrame\")"
   ]
  },
  {
   "cell_type": "markdown",
   "metadata": {
    "id": "p9QV50j3orpP"
   },
   "source": [
    "5.15% is a reasonable amount of our data. However, the price column will be important to understanding discounts, so I'd like it to be very trustworthy as we are basing business decisions on it. Therefore, we'll delete these rows"
   ]
  },
  {
   "cell_type": "code",
   "execution_count": 51,
   "metadata": {
    "executionInfo": {
     "elapsed": 268,
     "status": "ok",
     "timestamp": 1692021297656,
     "user": {
      "displayName": "Vasil Georgiev",
      "userId": "06423363571144121616"
     },
     "user_tz": -120
    },
    "id": "3xkK12Mspand"
   },
   "outputs": [],
   "source": [
    "products = products.loc[(~products.price.astype(str).str.contains(\"\\d+\\.\\d+\\.\\d+\"))&(~products.price.astype(str).str.contains(\"\\d+\\.\\d{3,}\")), :]"
   ]
  },
  {
   "cell_type": "code",
   "execution_count": 47,
   "metadata": {
    "colab": {
     "base_uri": "https://localhost:8080/",
     "height": 641
    },
    "executionInfo": {
     "elapsed": 332,
     "status": "ok",
     "timestamp": 1692021025803,
     "user": {
      "displayName": "Vasil Georgiev",
      "userId": "06423363571144121616"
     },
     "user_tz": -120
    },
    "id": "h8R_vq6-VZ1X",
    "outputId": "7554adc7-d3d5-4b1c-e7c6-59c8ef0f5dbb"
   },
   "outputs": [
    {
     "data": {
      "text/html": [
       "\n",
       "\n",
       "  <div id=\"df-b50f0f5d-0488-4160-a9b5-f851fd420aa8\">\n",
       "    <div class=\"colab-df-container\">\n",
       "      <div>\n",
       "<style scoped>\n",
       "    .dataframe tbody tr th:only-of-type {\n",
       "        vertical-align: middle;\n",
       "    }\n",
       "\n",
       "    .dataframe tbody tr th {\n",
       "        vertical-align: top;\n",
       "    }\n",
       "\n",
       "    .dataframe thead th {\n",
       "        text-align: right;\n",
       "    }\n",
       "</style>\n",
       "<table border=\"1\" class=\"dataframe\">\n",
       "  <thead>\n",
       "    <tr style=\"text-align: right;\">\n",
       "      <th></th>\n",
       "      <th>sku</th>\n",
       "      <th>name</th>\n",
       "      <th>desc</th>\n",
       "      <th>price</th>\n",
       "      <th>promo_price</th>\n",
       "      <th>in_stock</th>\n",
       "      <th>type</th>\n",
       "    </tr>\n",
       "  </thead>\n",
       "  <tbody>\n",
       "    <tr>\n",
       "      <th>0</th>\n",
       "      <td>RAI0007</td>\n",
       "      <td>Silver Rain Design mStand Support</td>\n",
       "      <td>Aluminum support compatible with all MacBook</td>\n",
       "      <td>59.99</td>\n",
       "      <td>499.899</td>\n",
       "      <td>1</td>\n",
       "      <td>8696</td>\n",
       "    </tr>\n",
       "    <tr>\n",
       "      <th>1</th>\n",
       "      <td>APP0023</td>\n",
       "      <td>Apple Mac Keyboard Keypad Spanish</td>\n",
       "      <td>USB ultrathin keyboard Apple Mac Spanish.</td>\n",
       "      <td>59</td>\n",
       "      <td>589.996</td>\n",
       "      <td>0</td>\n",
       "      <td>13855401</td>\n",
       "    </tr>\n",
       "    <tr>\n",
       "      <th>2</th>\n",
       "      <td>APP0025</td>\n",
       "      <td>Mighty Mouse Apple Mouse for Mac</td>\n",
       "      <td>mouse Apple USB cable.</td>\n",
       "      <td>59</td>\n",
       "      <td>569.898</td>\n",
       "      <td>0</td>\n",
       "      <td>1387</td>\n",
       "    </tr>\n",
       "    <tr>\n",
       "      <th>3</th>\n",
       "      <td>APP0072</td>\n",
       "      <td>Apple Dock to USB Cable iPhone and iPod white</td>\n",
       "      <td>IPhone dock and USB Cable Apple iPod.</td>\n",
       "      <td>25</td>\n",
       "      <td>229.997</td>\n",
       "      <td>0</td>\n",
       "      <td>1230</td>\n",
       "    </tr>\n",
       "    <tr>\n",
       "      <th>4</th>\n",
       "      <td>KIN0007</td>\n",
       "      <td>Mac Memory Kingston 2GB 667MHz DDR2 SO-DIMM</td>\n",
       "      <td>2GB RAM Mac mini and iMac (2006/07) MacBook Pr...</td>\n",
       "      <td>34.99</td>\n",
       "      <td>31.99</td>\n",
       "      <td>1</td>\n",
       "      <td>1364</td>\n",
       "    </tr>\n",
       "    <tr>\n",
       "      <th>...</th>\n",
       "      <td>...</td>\n",
       "      <td>...</td>\n",
       "      <td>...</td>\n",
       "      <td>...</td>\n",
       "      <td>...</td>\n",
       "      <td>...</td>\n",
       "      <td>...</td>\n",
       "    </tr>\n",
       "    <tr>\n",
       "      <th>19321</th>\n",
       "      <td>BEL0376</td>\n",
       "      <td>Belkin Travel Support Apple Watch Black</td>\n",
       "      <td>compact and portable stand vertically or horiz...</td>\n",
       "      <td>29.99</td>\n",
       "      <td>269.903</td>\n",
       "      <td>1</td>\n",
       "      <td>12282</td>\n",
       "    </tr>\n",
       "    <tr>\n",
       "      <th>19322</th>\n",
       "      <td>THU0060</td>\n",
       "      <td>Enroute Thule 14L Backpack MacBook 13 \"Black</td>\n",
       "      <td>Backpack with capacity of 14 liter compartment...</td>\n",
       "      <td>69.95</td>\n",
       "      <td>649.903</td>\n",
       "      <td>1</td>\n",
       "      <td>1392</td>\n",
       "    </tr>\n",
       "    <tr>\n",
       "      <th>19323</th>\n",
       "      <td>THU0061</td>\n",
       "      <td>Enroute Thule 14L Backpack MacBook 13 \"Blue</td>\n",
       "      <td>Backpack with capacity of 14 liter compartment...</td>\n",
       "      <td>69.95</td>\n",
       "      <td>649.903</td>\n",
       "      <td>1</td>\n",
       "      <td>1392</td>\n",
       "    </tr>\n",
       "    <tr>\n",
       "      <th>19324</th>\n",
       "      <td>THU0062</td>\n",
       "      <td>Enroute Thule 14L Backpack MacBook 13 \"Red</td>\n",
       "      <td>Backpack with capacity of 14 liter compartment...</td>\n",
       "      <td>69.95</td>\n",
       "      <td>649.903</td>\n",
       "      <td>0</td>\n",
       "      <td>1392</td>\n",
       "    </tr>\n",
       "    <tr>\n",
       "      <th>19325</th>\n",
       "      <td>THU0063</td>\n",
       "      <td>Enroute Thule 14L Backpack MacBook 13 \"Green</td>\n",
       "      <td>Backpack with capacity of 14 liter compartment...</td>\n",
       "      <td>69.95</td>\n",
       "      <td>649.903</td>\n",
       "      <td>1</td>\n",
       "      <td>1392</td>\n",
       "    </tr>\n",
       "  </tbody>\n",
       "</table>\n",
       "<p>9992 rows × 7 columns</p>\n",
       "</div>\n",
       "      <button class=\"colab-df-convert\" onclick=\"convertToInteractive('df-b50f0f5d-0488-4160-a9b5-f851fd420aa8')\"\n",
       "              title=\"Convert this dataframe to an interactive table.\"\n",
       "              style=\"display:none;\">\n",
       "\n",
       "  <svg xmlns=\"http://www.w3.org/2000/svg\" height=\"24px\"viewBox=\"0 0 24 24\"\n",
       "       width=\"24px\">\n",
       "    <path d=\"M0 0h24v24H0V0z\" fill=\"none\"/>\n",
       "    <path d=\"M18.56 5.44l.94 2.06.94-2.06 2.06-.94-2.06-.94-.94-2.06-.94 2.06-2.06.94zm-11 1L8.5 8.5l.94-2.06 2.06-.94-2.06-.94L8.5 2.5l-.94 2.06-2.06.94zm10 10l.94 2.06.94-2.06 2.06-.94-2.06-.94-.94-2.06-.94 2.06-2.06.94z\"/><path d=\"M17.41 7.96l-1.37-1.37c-.4-.4-.92-.59-1.43-.59-.52 0-1.04.2-1.43.59L10.3 9.45l-7.72 7.72c-.78.78-.78 2.05 0 2.83L4 21.41c.39.39.9.59 1.41.59.51 0 1.02-.2 1.41-.59l7.78-7.78 2.81-2.81c.8-.78.8-2.07 0-2.86zM5.41 20L4 18.59l7.72-7.72 1.47 1.35L5.41 20z\"/>\n",
       "  </svg>\n",
       "      </button>\n",
       "\n",
       "\n",
       "\n",
       "    <div id=\"df-8b669dfe-9800-4017-b6e1-17d4d33e957d\">\n",
       "      <button class=\"colab-df-quickchart\" onclick=\"quickchart('df-8b669dfe-9800-4017-b6e1-17d4d33e957d')\"\n",
       "              title=\"Suggest charts.\"\n",
       "              style=\"display:none;\">\n",
       "\n",
       "<svg xmlns=\"http://www.w3.org/2000/svg\" height=\"24px\"viewBox=\"0 0 24 24\"\n",
       "     width=\"24px\">\n",
       "    <g>\n",
       "        <path d=\"M19 3H5c-1.1 0-2 .9-2 2v14c0 1.1.9 2 2 2h14c1.1 0 2-.9 2-2V5c0-1.1-.9-2-2-2zM9 17H7v-7h2v7zm4 0h-2V7h2v10zm4 0h-2v-4h2v4z\"/>\n",
       "    </g>\n",
       "</svg>\n",
       "      </button>\n",
       "    </div>\n",
       "\n",
       "<style>\n",
       "  .colab-df-quickchart {\n",
       "    background-color: #E8F0FE;\n",
       "    border: none;\n",
       "    border-radius: 50%;\n",
       "    cursor: pointer;\n",
       "    display: none;\n",
       "    fill: #1967D2;\n",
       "    height: 32px;\n",
       "    padding: 0 0 0 0;\n",
       "    width: 32px;\n",
       "  }\n",
       "\n",
       "  .colab-df-quickchart:hover {\n",
       "    background-color: #E2EBFA;\n",
       "    box-shadow: 0px 1px 2px rgba(60, 64, 67, 0.3), 0px 1px 3px 1px rgba(60, 64, 67, 0.15);\n",
       "    fill: #174EA6;\n",
       "  }\n",
       "\n",
       "  [theme=dark] .colab-df-quickchart {\n",
       "    background-color: #3B4455;\n",
       "    fill: #D2E3FC;\n",
       "  }\n",
       "\n",
       "  [theme=dark] .colab-df-quickchart:hover {\n",
       "    background-color: #434B5C;\n",
       "    box-shadow: 0px 1px 3px 1px rgba(0, 0, 0, 0.15);\n",
       "    filter: drop-shadow(0px 1px 2px rgba(0, 0, 0, 0.3));\n",
       "    fill: #FFFFFF;\n",
       "  }\n",
       "</style>\n",
       "\n",
       "    <script>\n",
       "      async function quickchart(key) {\n",
       "        const containerElement = document.querySelector('#' + key);\n",
       "        const charts = await google.colab.kernel.invokeFunction(\n",
       "            'suggestCharts', [key], {});\n",
       "      }\n",
       "    </script>\n",
       "\n",
       "      <script>\n",
       "\n",
       "function displayQuickchartButton(domScope) {\n",
       "  let quickchartButtonEl =\n",
       "    domScope.querySelector('#df-8b669dfe-9800-4017-b6e1-17d4d33e957d button.colab-df-quickchart');\n",
       "  quickchartButtonEl.style.display =\n",
       "    google.colab.kernel.accessAllowed ? 'block' : 'none';\n",
       "}\n",
       "\n",
       "        displayQuickchartButton(document);\n",
       "      </script>\n",
       "      <style>\n",
       "    .colab-df-container {\n",
       "      display:flex;\n",
       "      flex-wrap:wrap;\n",
       "      gap: 12px;\n",
       "    }\n",
       "\n",
       "    .colab-df-convert {\n",
       "      background-color: #E8F0FE;\n",
       "      border: none;\n",
       "      border-radius: 50%;\n",
       "      cursor: pointer;\n",
       "      display: none;\n",
       "      fill: #1967D2;\n",
       "      height: 32px;\n",
       "      padding: 0 0 0 0;\n",
       "      width: 32px;\n",
       "    }\n",
       "\n",
       "    .colab-df-convert:hover {\n",
       "      background-color: #E2EBFA;\n",
       "      box-shadow: 0px 1px 2px rgba(60, 64, 67, 0.3), 0px 1px 3px 1px rgba(60, 64, 67, 0.15);\n",
       "      fill: #174EA6;\n",
       "    }\n",
       "\n",
       "    [theme=dark] .colab-df-convert {\n",
       "      background-color: #3B4455;\n",
       "      fill: #D2E3FC;\n",
       "    }\n",
       "\n",
       "    [theme=dark] .colab-df-convert:hover {\n",
       "      background-color: #434B5C;\n",
       "      box-shadow: 0px 1px 3px 1px rgba(0, 0, 0, 0.15);\n",
       "      filter: drop-shadow(0px 1px 2px rgba(0, 0, 0, 0.3));\n",
       "      fill: #FFFFFF;\n",
       "    }\n",
       "  </style>\n",
       "\n",
       "      <script>\n",
       "        const buttonEl =\n",
       "          document.querySelector('#df-b50f0f5d-0488-4160-a9b5-f851fd420aa8 button.colab-df-convert');\n",
       "        buttonEl.style.display =\n",
       "          google.colab.kernel.accessAllowed ? 'block' : 'none';\n",
       "\n",
       "        async function convertToInteractive(key) {\n",
       "          const element = document.querySelector('#df-b50f0f5d-0488-4160-a9b5-f851fd420aa8');\n",
       "          const dataTable =\n",
       "            await google.colab.kernel.invokeFunction('convertToInteractive',\n",
       "                                                     [key], {});\n",
       "          if (!dataTable) return;\n",
       "\n",
       "          const docLinkHtml = 'Like what you see? Visit the ' +\n",
       "            '<a target=\"_blank\" href=https://colab.research.google.com/notebooks/data_table.ipynb>data table notebook</a>'\n",
       "            + ' to learn more about interactive tables.';\n",
       "          element.innerHTML = '';\n",
       "          dataTable['output_type'] = 'display_data';\n",
       "          await google.colab.output.renderOutput(dataTable, element);\n",
       "          const docLink = document.createElement('div');\n",
       "          docLink.innerHTML = docLinkHtml;\n",
       "          element.appendChild(docLink);\n",
       "        }\n",
       "      </script>\n",
       "    </div>\n",
       "  </div>\n"
      ],
      "text/plain": [
       "           sku                                           name  \\\n",
       "0      RAI0007              Silver Rain Design mStand Support   \n",
       "1      APP0023              Apple Mac Keyboard Keypad Spanish   \n",
       "2      APP0025               Mighty Mouse Apple Mouse for Mac   \n",
       "3      APP0072  Apple Dock to USB Cable iPhone and iPod white   \n",
       "4      KIN0007    Mac Memory Kingston 2GB 667MHz DDR2 SO-DIMM   \n",
       "...        ...                                            ...   \n",
       "19321  BEL0376        Belkin Travel Support Apple Watch Black   \n",
       "19322  THU0060   Enroute Thule 14L Backpack MacBook 13 \"Black   \n",
       "19323  THU0061    Enroute Thule 14L Backpack MacBook 13 \"Blue   \n",
       "19324  THU0062     Enroute Thule 14L Backpack MacBook 13 \"Red   \n",
       "19325  THU0063   Enroute Thule 14L Backpack MacBook 13 \"Green   \n",
       "\n",
       "                                                    desc  price promo_price  \\\n",
       "0           Aluminum support compatible with all MacBook  59.99     499.899   \n",
       "1              USB ultrathin keyboard Apple Mac Spanish.     59     589.996   \n",
       "2                                 mouse Apple USB cable.     59     569.898   \n",
       "3                  IPhone dock and USB Cable Apple iPod.     25     229.997   \n",
       "4      2GB RAM Mac mini and iMac (2006/07) MacBook Pr...  34.99       31.99   \n",
       "...                                                  ...    ...         ...   \n",
       "19321  compact and portable stand vertically or horiz...  29.99     269.903   \n",
       "19322  Backpack with capacity of 14 liter compartment...  69.95     649.903   \n",
       "19323  Backpack with capacity of 14 liter compartment...  69.95     649.903   \n",
       "19324  Backpack with capacity of 14 liter compartment...  69.95     649.903   \n",
       "19325  Backpack with capacity of 14 liter compartment...  69.95     649.903   \n",
       "\n",
       "       in_stock      type  \n",
       "0             1      8696  \n",
       "1             0  13855401  \n",
       "2             0      1387  \n",
       "3             0      1230  \n",
       "4             1      1364  \n",
       "...         ...       ...  \n",
       "19321         1     12282  \n",
       "19322         1      1392  \n",
       "19323         1      1392  \n",
       "19324         0      1392  \n",
       "19325         1      1392  \n",
       "\n",
       "[9992 rows x 7 columns]"
      ]
     },
     "execution_count": 47,
     "metadata": {},
     "output_type": "execute_result"
    }
   ],
   "source": [
    "products"
   ]
  },
  {
   "cell_type": "markdown",
   "metadata": {
    "id": "Y_3K0v8wvMP1"
   },
   "source": [
    "To complete our task, let's convert the column to a numeric datatype"
   ]
  },
  {
   "cell_type": "code",
   "execution_count": 57,
   "metadata": {
    "executionInfo": {
     "elapsed": 271,
     "status": "ok",
     "timestamp": 1692021500034,
     "user": {
      "displayName": "Vasil Georgiev",
      "userId": "06423363571144121616"
     },
     "user_tz": -120
    },
    "id": "3evkDaafvFUq"
   },
   "outputs": [],
   "source": [
    "products[\"price\"] = pd.to_numeric(products[\"price\"])"
   ]
  },
  {
   "cell_type": "markdown",
   "metadata": {
    "id": "9GcbI2upeG3M"
   },
   "source": [
    "#### `promo_price`"
   ]
  },
  {
   "cell_type": "markdown",
   "metadata": {
    "id": "NQq3M2zGvzS5"
   },
   "source": [
    "Again, let's begin by seeing how many values are affected by the 2 problems, or the 3 decimal problem"
   ]
  },
  {
   "cell_type": "code",
   "execution_count": 52,
   "metadata": {
    "colab": {
     "base_uri": "https://localhost:8080/"
    },
    "executionInfo": {
     "elapsed": 266,
     "status": "ok",
     "timestamp": 1692021348355,
     "user": {
      "displayName": "Vasil Georgiev",
      "userId": "06423363571144121616"
     },
     "user_tz": -120
    },
    "id": "vI4ueHibtK1P",
    "outputId": "4329dcd7-0b97-4ffb-faed-46cb7f5f521e"
   },
   "outputs": [
    {
     "data": {
      "text/plain": [
       "17547"
      ]
     },
     "execution_count": 52,
     "metadata": {},
     "output_type": "execute_result"
    }
   ],
   "source": [
    "promo_problems_number = products.loc[(products.promo_price.astype(str).str.contains(\"\\d+\\.\\d+\\.\\d+\"))|(products.promo_price.astype(str).str.contains(\"\\d+\\.\\d{3,}\")), :].shape[0]\n",
    "promo_problems_number"
   ]
  },
  {
   "cell_type": "code",
   "execution_count": 53,
   "metadata": {
    "colab": {
     "base_uri": "https://localhost:8080/"
    },
    "executionInfo": {
     "elapsed": 283,
     "status": "ok",
     "timestamp": 1692021355807,
     "user": {
      "displayName": "Vasil Georgiev",
      "userId": "06423363571144121616"
     },
     "user_tz": -120
    },
    "id": "Jxpd8nVptKxs",
    "outputId": "e2e08cdf-e3f6-456b-bbb4-966392ae74bf"
   },
   "outputs": [
    {
     "name": "stdout",
     "output_type": "stream",
     "text": [
      "The column promo_price has in total 17547 wrong values. This is 93.68% of the rows of the DataFrame\n"
     ]
    }
   ],
   "source": [
    "print(f\"The column promo_price has in total {promo_problems_number} wrong values. This is {round(((promo_problems_number / products.shape[0]) * 100), 2)}% of the rows of the DataFrame\")"
   ]
  },
  {
   "cell_type": "markdown",
   "metadata": {
    "id": "dnEM5lBruU0U"
   },
   "source": [
    "WOW!!! That's a lot of wrong data. Let's have a quick investigate to check that's correct. We'll make a DataFrame by copy-pasting the code we used above and then look at a large sample to check that all the numbers in the `promo_price` column really have either 2 decimal points or 3 decimal places."
   ]
  },
  {
   "cell_type": "code",
   "execution_count": null,
   "metadata": {
    "id": "6S88DpsRtaM0"
   },
   "outputs": [],
   "source": [
    "promo_price_df = products.loc[(products.promo_price.astype(str).str.contains(\"\\d+\\.\\d+\\.\\d+\"))|(products.promo_price.astype(str).str.contains(\"\\d+\\.\\d{3,}\")), :]\n",
    "promo_price_df.sample(50)"
   ]
  },
  {
   "cell_type": "markdown",
   "metadata": {
    "id": "0Hfgo84xu_VS"
   },
   "source": [
    "So we were correct, over 90% of the data in this column is corrupt. There's no point deleting all of these rows, then we would barely have a products table. Instead, as it's only this column that appears to be very untrustworthy, we will delete the column."
   ]
  },
  {
   "cell_type": "code",
   "execution_count": 59,
   "metadata": {
    "executionInfo": {
     "elapsed": 267,
     "status": "ok",
     "timestamp": 1692021587973,
     "user": {
      "displayName": "Vasil Georgiev",
      "userId": "06423363571144121616"
     },
     "user_tz": -120
    },
    "id": "OalyJ-8atij8"
   },
   "outputs": [],
   "source": [
    "products = products.drop(columns=[\"promo_price\"])"
   ]
  },
  {
   "cell_type": "code",
   "execution_count": 70,
   "metadata": {
    "colab": {
     "base_uri": "https://localhost:8080/"
    },
    "executionInfo": {
     "elapsed": 294,
     "status": "ok",
     "timestamp": 1692021766563,
     "user": {
      "displayName": "Vasil Georgiev",
      "userId": "06423363571144121616"
     },
     "user_tz": -120
    },
    "id": "mJQtVYS-Knyf",
    "outputId": "427bf4ad-0b39-47f3-9bc9-cc0d73c7f9c1"
   },
   "outputs": [
    {
     "name": "stdout",
     "output_type": "stream",
     "text": [
      "<class 'pandas.core.frame.DataFrame'>\n",
      "Int64Index: 9992 entries, 0 to 19325\n",
      "Data columns (total 6 columns):\n",
      " #   Column    Non-Null Count  Dtype  \n",
      "---  ------    --------------  -----  \n",
      " 0   sku       9992 non-null   object \n",
      " 1   name      9992 non-null   object \n",
      " 2   desc      9992 non-null   object \n",
      " 3   price     9992 non-null   float64\n",
      " 4   in_stock  9992 non-null   int64  \n",
      " 5   type      9946 non-null   object \n",
      "dtypes: float64(1), int64(1), object(4)\n",
      "memory usage: 546.4+ KB\n"
     ]
    }
   ],
   "source": [
    "products.info()"
   ]
  },
  {
   "cell_type": "markdown",
   "metadata": {
    "id": "vyyISxnQ1YVG"
   },
   "source": [
    "Obviously, there's now no need to convert `promo_price` to a numerical datatype\n",
    "\n",
    "Don't forget to download/save your new DataFrames. Also, give them an obvious name, so that you know they are the cleaned version and not the original DataFrame."
   ]
  },
  {
   "cell_type": "code",
   "execution_count": 5,
   "metadata": {
    "id": "6M4Jxfz-8G2b",
    "tags": []
   },
   "outputs": [
    {
     "ename": "ModuleNotFoundError",
     "evalue": "No module named 'google'",
     "output_type": "error",
     "traceback": [
      "\u001b[1;31m---------------------------------------------------------------------------\u001b[0m",
      "\u001b[1;31mModuleNotFoundError\u001b[0m                       Traceback (most recent call last)",
      "Cell \u001b[1;32mIn[5], line 1\u001b[0m\n\u001b[1;32m----> 1\u001b[0m \u001b[38;5;28;01mfrom\u001b[39;00m \u001b[38;5;21;01mgoogle\u001b[39;00m\u001b[38;5;21;01m.\u001b[39;00m\u001b[38;5;21;01mcolab\u001b[39;00m \u001b[38;5;28;01mimport\u001b[39;00m files\n\u001b[0;32m      3\u001b[0m orders\u001b[38;5;241m.\u001b[39mto_csv(\u001b[38;5;124m\"\u001b[39m\u001b[38;5;124morders_cl.csv\u001b[39m\u001b[38;5;124m\"\u001b[39m, index\u001b[38;5;241m=\u001b[39m\u001b[38;5;28;01mFalse\u001b[39;00m)\n\u001b[0;32m      4\u001b[0m files\u001b[38;5;241m.\u001b[39mdownload(\u001b[38;5;124m\"\u001b[39m\u001b[38;5;124morders_cl.csv\u001b[39m\u001b[38;5;124m\"\u001b[39m)\n",
      "\u001b[1;31mModuleNotFoundError\u001b[0m: No module named 'google'"
     ]
    }
   ],
   "source": [
    "from google.colab import files\n",
    "\n",
    "orders.to_csv(\"orders_cl.csv\", index=False)\n",
    "files.download(\"orders_cl.csv\")\n",
    "\n",
    "orderlines.to_csv(\"orderlines_cl.csv\", index=False)\n",
    "files.download(\"orderlines_cl.csv\")\n",
    "\n",
    "products.to_csv(\"products_cl.csv\", index=False)\n",
    "files.download(\"products_cl.csv\")"
   ]
  },
  {
   "cell_type": "code",
   "execution_count": null,
   "metadata": {
    "id": "yjHnxWw6nIi6"
   },
   "outputs": [],
   "source": []
  }
 ],
 "metadata": {
  "colab": {
   "collapsed_sections": [
    "u0CsTv1WnMie",
    "9GcbI2upeG3M"
   ],
   "provenance": [
    {
     "file_id": "1mD_LzinGOgqg1l3qeXKzaU7-oKUv6Bvi",
     "timestamp": 1692004447801
    }
   ]
  },
  "kernelspec": {
   "display_name": "Python 3 (ipykernel)",
   "language": "python",
   "name": "python3"
  },
  "language_info": {
   "codemirror_mode": {
    "name": "ipython",
    "version": 3
   },
   "file_extension": ".py",
   "mimetype": "text/x-python",
   "name": "python",
   "nbconvert_exporter": "python",
   "pygments_lexer": "ipython3",
   "version": "3.11.5"
  }
 },
 "nbformat": 4,
 "nbformat_minor": 4
}
