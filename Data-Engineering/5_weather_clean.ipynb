{
 "cells": [
  {
   "cell_type": "code",
   "execution_count": 1,
   "id": "38e8ebbd-ce64-4f3d-9807-98d1160008e6",
   "metadata": {
    "tags": []
   },
   "outputs": [],
   "source": [
    "import pandas as pd\n",
    "import sqlalchemy\n",
    "import requests"
   ]
  },
  {
   "cell_type": "code",
   "execution_count": 2,
   "id": "eed88d24-824d-4126-82cc-3253afa5a4d2",
   "metadata": {
    "tags": []
   },
   "outputs": [],
   "source": [
    "schema=\"gans\"   # name of the database you want to use here\n",
    "host=\"database-gansproject.erhehrhheheheehehehe1.rds.amazonaws.com\"        # to connect to your aws server\n",
    "user=\"admin\"\n",
    "password=\"blabalblaal\" # your password!!!!\n",
    "port=3306\n",
    "con = f'mysql+pymysql://{user}:{password}@{host}:{port}/{schema}'"
   ]
  },
  {
   "cell_type": "code",
   "execution_count": 3,
   "id": "c16dc483-d93d-4d7d-bdde-0a3efe8391a2",
   "metadata": {
    "tags": []
   },
   "outputs": [
    {
     "data": {
      "text/html": [
       "<div>\n",
       "<style scoped>\n",
       "    .dataframe tbody tr th:only-of-type {\n",
       "        vertical-align: middle;\n",
       "    }\n",
       "\n",
       "    .dataframe tbody tr th {\n",
       "        vertical-align: top;\n",
       "    }\n",
       "\n",
       "    .dataframe thead th {\n",
       "        text-align: right;\n",
       "    }\n",
       "</style>\n",
       "<table border=\"1\" class=\"dataframe\">\n",
       "  <thead>\n",
       "    <tr style=\"text-align: right;\">\n",
       "      <th></th>\n",
       "      <th>city_id</th>\n",
       "      <th>City</th>\n",
       "      <th>Country</th>\n",
       "      <th>Population</th>\n",
       "      <th>latitude</th>\n",
       "      <th>longitude</th>\n",
       "    </tr>\n",
       "  </thead>\n",
       "  <tbody>\n",
       "    <tr>\n",
       "      <th>0</th>\n",
       "      <td>1</td>\n",
       "      <td>Berlin</td>\n",
       "      <td>DE</td>\n",
       "      <td>3800000</td>\n",
       "      <td>52.3112</td>\n",
       "      <td>13.2418</td>\n",
       "    </tr>\n",
       "    <tr>\n",
       "      <th>1</th>\n",
       "      <td>2</td>\n",
       "      <td>London</td>\n",
       "      <td>GB</td>\n",
       "      <td>4100000</td>\n",
       "      <td>51.3026</td>\n",
       "      <td>0.7390</td>\n",
       "    </tr>\n",
       "  </tbody>\n",
       "</table>\n",
       "</div>"
      ],
      "text/plain": [
       "   city_id    City Country  Population  latitude  longitude\n",
       "0        1  Berlin      DE     3800000   52.3112    13.2418\n",
       "1        2  London      GB     4100000   51.3026     0.7390"
      ]
     },
     "execution_count": 3,
     "metadata": {},
     "output_type": "execute_result"
    }
   ],
   "source": [
    "cities_df = pd.read_sql_table('cities',con=con)\n",
    "cities_df"
   ]
  },
  {
   "cell_type": "code",
   "execution_count": 5,
   "id": "9c607666-2a65-4b49-81d8-a7f7d6bd59d9",
   "metadata": {
    "tags": []
   },
   "outputs": [],
   "source": [
    "API_key = \"balalalallalalalalalallala\"    #your api key here"
   ]
  },
  {
   "cell_type": "code",
   "execution_count": 6,
   "id": "d7808321-d91b-41ac-8cdc-7944afb7a04b",
   "metadata": {
    "tags": []
   },
   "outputs": [
    {
     "name": "stdout",
     "output_type": "stream",
     "text": [
      "0\n",
      "Berlin\n",
      "1\n",
      "NEW_ITERATION\n",
      "1\n",
      "London\n",
      "2\n",
      "NEW_ITERATION\n"
     ]
    }
   ],
   "source": [
    "for index, row in cities_df.iterrows():\n",
    "    print(index)\n",
    "    print(row['City'])\n",
    "    print(row['city_id'])\n",
    "    print('NEW_ITERATION')"
   ]
  },
  {
   "cell_type": "code",
   "execution_count": 7,
   "id": "91c3787c-8d06-423d-96a7-034b1e4ac7ed",
   "metadata": {
    "tags": []
   },
   "outputs": [],
   "source": [
    "list_of_jsons = []\n",
    "\n",
    "for index, row in cities_df.iterrows():\n",
    "    \n",
    "    url = (f\"http://api.openweathermap.org/data/2.5/forecast?q={row['City']}&appid={API_key}&units=metric\")\n",
    "\n",
    "    response = requests.get(url)\n",
    "    list_of_jsons.append(response.json())"
   ]
  },
  {
   "cell_type": "code",
   "execution_count": 8,
   "id": "366fd3e2-5316-4e01-9a32-3f967b02654c",
   "metadata": {
    "tags": []
   },
   "outputs": [
    {
     "data": {
      "application/json": {
       "city": {
        "coord": {
         "lat": 52.5244,
         "lon": 13.4105
        },
        "country": "DE",
        "id": 2950159,
        "name": "Berlin",
        "population": 1000000,
        "sunrise": 1694406794,
        "sunset": 1694453605,
        "timezone": 7200
       },
       "cnt": 40,
       "cod": "200",
       "list": [
        {
         "clouds": {
          "all": 0
         },
         "dt": 1694433600,
         "dt_txt": "2023-09-11 12:00:00",
         "main": {
          "feels_like": 29.36,
          "grnd_level": 1008,
          "humidity": 43,
          "pressure": 1012,
          "sea_level": 1012,
          "temp": 29.42,
          "temp_kf": -0.8,
          "temp_max": 30.22,
          "temp_min": 29.42
         },
         "pop": 0,
         "sys": {
          "pod": "d"
         },
         "visibility": 10000,
         "weather": [
          {
           "description": "clear sky",
           "icon": "01d",
           "id": 800,
           "main": "Clear"
          }
         ],
         "wind": {
          "deg": 202,
          "gust": 1.75,
          "speed": 1.23
         }
        },
        {
         "clouds": {
          "all": 19
         },
         "dt": 1694444400,
         "dt_txt": "2023-09-11 15:00:00",
         "main": {
          "feels_like": 29.13,
          "grnd_level": 1007,
          "humidity": 37,
          "pressure": 1012,
          "sea_level": 1012,
          "temp": 29.78,
          "temp_kf": -0.71,
          "temp_max": 30.49,
          "temp_min": 29.78
         },
         "pop": 0,
         "sys": {
          "pod": "d"
         },
         "visibility": 10000,
         "weather": [
          {
           "description": "few clouds",
           "icon": "02d",
           "id": 801,
           "main": "Clouds"
          }
         ],
         "wind": {
          "deg": 198,
          "gust": 1.63,
          "speed": 1
         }
        },
        {
         "clouds": {
          "all": 33
         },
         "dt": 1694455200,
         "dt_txt": "2023-09-11 18:00:00",
         "main": {
          "feels_like": 26.92,
          "grnd_level": 1007,
          "humidity": 38,
          "pressure": 1012,
          "sea_level": 1012,
          "temp": 27.22,
          "temp_kf": 1.1,
          "temp_max": 27.22,
          "temp_min": 26.12
         },
         "pop": 0,
         "sys": {
          "pod": "n"
         },
         "visibility": 10000,
         "weather": [
          {
           "description": "scattered clouds",
           "icon": "03n",
           "id": 802,
           "main": "Clouds"
          }
         ],
         "wind": {
          "deg": 153,
          "gust": 1.24,
          "speed": 1.15
         }
        },
        {
         "clouds": {
          "all": 18
         },
         "dt": 1694466000,
         "dt_txt": "2023-09-11 21:00:00",
         "main": {
          "feels_like": 23.35,
          "grnd_level": 1007,
          "humidity": 43,
          "pressure": 1012,
          "sea_level": 1012,
          "temp": 23.79,
          "temp_kf": 0,
          "temp_max": 23.79,
          "temp_min": 23.79
         },
         "pop": 0,
         "sys": {
          "pod": "n"
         },
         "visibility": 10000,
         "weather": [
          {
           "description": "few clouds",
           "icon": "02n",
           "id": 801,
           "main": "Clouds"
          }
         ],
         "wind": {
          "deg": 186,
          "gust": 1.73,
          "speed": 1.55
         }
        },
        {
         "clouds": {
          "all": 25
         },
         "dt": 1694476800,
         "dt_txt": "2023-09-12 00:00:00",
         "main": {
          "feels_like": 21.65,
          "grnd_level": 1007,
          "humidity": 49,
          "pressure": 1012,
          "sea_level": 1012,
          "temp": 22.1,
          "temp_kf": 0,
          "temp_max": 22.1,
          "temp_min": 22.1
         },
         "pop": 0,
         "sys": {
          "pod": "n"
         },
         "visibility": 10000,
         "weather": [
          {
           "description": "scattered clouds",
           "icon": "03n",
           "id": 802,
           "main": "Clouds"
          }
         ],
         "wind": {
          "deg": 201,
          "gust": 1.36,
          "speed": 1.24
         }
        },
        {
         "clouds": {
          "all": 63
         },
         "dt": 1694487600,
         "dt_txt": "2023-09-12 03:00:00",
         "main": {
          "feels_like": 20.51,
          "grnd_level": 1006,
          "humidity": 52,
          "pressure": 1012,
          "sea_level": 1012,
          "temp": 21,
          "temp_kf": 0,
          "temp_max": 21,
          "temp_min": 21
         },
         "pop": 0,
         "sys": {
          "pod": "n"
         },
         "visibility": 10000,
         "weather": [
          {
           "description": "broken clouds",
           "icon": "04n",
           "id": 803,
           "main": "Clouds"
          }
         ],
         "wind": {
          "deg": 218,
          "gust": 2.12,
          "speed": 1.78
         }
        },
        {
         "clouds": {
          "all": 71
         },
         "dt": 1694498400,
         "dt_txt": "2023-09-12 06:00:00",
         "main": {
          "feels_like": 20.85,
          "grnd_level": 1007,
          "humidity": 59,
          "pressure": 1012,
          "sea_level": 1012,
          "temp": 21.14,
          "temp_kf": 0,
          "temp_max": 21.14,
          "temp_min": 21.14
         },
         "pop": 0,
         "sys": {
          "pod": "d"
         },
         "visibility": 10000,
         "weather": [
          {
           "description": "broken clouds",
           "icon": "04d",
           "id": 803,
           "main": "Clouds"
          }
         ],
         "wind": {
          "deg": 345,
          "gust": 1.6,
          "speed": 0.91
         }
        },
        {
         "clouds": {
          "all": 100
         },
         "dt": 1694509200,
         "dt_txt": "2023-09-12 09:00:00",
         "main": {
          "feels_like": 25.22,
          "grnd_level": 1008,
          "humidity": 51,
          "pressure": 1013,
          "sea_level": 1013,
          "temp": 25.3,
          "temp_kf": 0,
          "temp_max": 25.3,
          "temp_min": 25.3
         },
         "pop": 0.29,
         "rain": {
          "3h": 0.18
         },
         "sys": {
          "pod": "d"
         },
         "visibility": 10000,
         "weather": [
          {
           "description": "light rain",
           "icon": "10d",
           "id": 500,
           "main": "Rain"
          }
         ],
         "wind": {
          "deg": 273,
          "gust": 2.71,
          "speed": 2.24
         }
        },
        {
         "clouds": {
          "all": 97
         },
         "dt": 1694520000,
         "dt_txt": "2023-09-12 12:00:00",
         "main": {
          "feels_like": 28.38,
          "grnd_level": 1007,
          "humidity": 47,
          "pressure": 1012,
          "sea_level": 1012,
          "temp": 28.18,
          "temp_kf": 0,
          "temp_max": 28.18,
          "temp_min": 28.18
         },
         "pop": 0.27,
         "rain": {
          "3h": 0.25
         },
         "sys": {
          "pod": "d"
         },
         "visibility": 10000,
         "weather": [
          {
           "description": "light rain",
           "icon": "10d",
           "id": 500,
           "main": "Rain"
          }
         ],
         "wind": {
          "deg": 303,
          "gust": 2.51,
          "speed": 2.39
         }
        },
        {
         "clouds": {
          "all": 65
         },
         "dt": 1694530800,
         "dt_txt": "2023-09-12 15:00:00",
         "main": {
          "feels_like": 28.48,
          "grnd_level": 1006,
          "humidity": 45,
          "pressure": 1011,
          "sea_level": 1011,
          "temp": 28.44,
          "temp_kf": 0,
          "temp_max": 28.44,
          "temp_min": 28.44
         },
         "pop": 0,
         "sys": {
          "pod": "d"
         },
         "visibility": 10000,
         "weather": [
          {
           "description": "broken clouds",
           "icon": "04d",
           "id": 803,
           "main": "Clouds"
          }
         ],
         "wind": {
          "deg": 328,
          "gust": 1.76,
          "speed": 2.27
         }
        },
        {
         "clouds": {
          "all": 61
         },
         "dt": 1694541600,
         "dt_txt": "2023-09-12 18:00:00",
         "main": {
          "feels_like": 23.38,
          "grnd_level": 1006,
          "humidity": 68,
          "pressure": 1011,
          "sea_level": 1011,
          "temp": 23.23,
          "temp_kf": 0,
          "temp_max": 23.23,
          "temp_min": 23.23
         },
         "pop": 0.57,
         "rain": {
          "3h": 1.28
         },
         "sys": {
          "pod": "n"
         },
         "visibility": 10000,
         "weather": [
          {
           "description": "light rain",
           "icon": "10n",
           "id": 500,
           "main": "Rain"
          }
         ],
         "wind": {
          "deg": 18,
          "gust": 5.18,
          "speed": 2.59
         }
        },
        {
         "clouds": {
          "all": 88
         },
         "dt": 1694552400,
         "dt_txt": "2023-09-12 21:00:00",
         "main": {
          "feels_like": 20.43,
          "grnd_level": 1007,
          "humidity": 85,
          "pressure": 1012,
          "sea_level": 1012,
          "temp": 20.14,
          "temp_kf": 0,
          "temp_max": 20.14,
          "temp_min": 20.14
         },
         "pop": 0.77,
         "rain": {
          "3h": 2.71
         },
         "sys": {
          "pod": "n"
         },
         "visibility": 4254,
         "weather": [
          {
           "description": "light rain",
           "icon": "10n",
           "id": 500,
           "main": "Rain"
          }
         ],
         "wind": {
          "deg": 26,
          "gust": 5.82,
          "speed": 2.23
         }
        },
        {
         "clouds": {
          "all": 94
         },
         "dt": 1694563200,
         "dt_txt": "2023-09-13 00:00:00",
         "main": {
          "feels_like": 19.43,
          "grnd_level": 1006,
          "humidity": 93,
          "pressure": 1011,
          "sea_level": 1011,
          "temp": 19.04,
          "temp_kf": 0,
          "temp_max": 19.04,
          "temp_min": 19.04
         },
         "pop": 1,
         "rain": {
          "3h": 6.04
         },
         "sys": {
          "pod": "n"
         },
         "visibility": 10000,
         "weather": [
          {
           "description": "moderate rain",
           "icon": "10n",
           "id": 501,
           "main": "Rain"
          }
         ],
         "wind": {
          "deg": 27,
          "gust": 8.49,
          "speed": 4.45
         }
        },
        {
         "clouds": {
          "all": 100
         },
         "dt": 1694574000,
         "dt_txt": "2023-09-13 03:00:00",
         "main": {
          "feels_like": 18.87,
          "grnd_level": 1006,
          "humidity": 92,
          "pressure": 1011,
          "sea_level": 1011,
          "temp": 18.56,
          "temp_kf": 0,
          "temp_max": 18.56,
          "temp_min": 18.56
         },
         "pop": 1,
         "rain": {
          "3h": 1.88
         },
         "sys": {
          "pod": "n"
         },
         "visibility": 8661,
         "weather": [
          {
           "description": "light rain",
           "icon": "10n",
           "id": 500,
           "main": "Rain"
          }
         ],
         "wind": {
          "deg": 71,
          "gust": 7.62,
          "speed": 2.68
         }
        },
        {
         "clouds": {
          "all": 100
         },
         "dt": 1694584800,
         "dt_txt": "2023-09-13 06:00:00",
         "main": {
          "feels_like": 19.01,
          "grnd_level": 1006,
          "humidity": 90,
          "pressure": 1011,
          "sea_level": 1011,
          "temp": 18.73,
          "temp_kf": 0,
          "temp_max": 18.73,
          "temp_min": 18.73
         },
         "pop": 1,
         "rain": {
          "3h": 0.74
         },
         "sys": {
          "pod": "d"
         },
         "visibility": 10000,
         "weather": [
          {
           "description": "light rain",
           "icon": "10d",
           "id": 500,
           "main": "Rain"
          }
         ],
         "wind": {
          "deg": 283,
          "gust": 1.55,
          "speed": 0.59
         }
        },
        {
         "clouds": {
          "all": 100
         },
         "dt": 1694595600,
         "dt_txt": "2023-09-13 09:00:00",
         "main": {
          "feels_like": 19.11,
          "grnd_level": 1008,
          "humidity": 88,
          "pressure": 1013,
          "sea_level": 1013,
          "temp": 18.87,
          "temp_kf": 0,
          "temp_max": 18.87,
          "temp_min": 18.87
         },
         "pop": 0.38,
         "rain": {
          "3h": 0.11
         },
         "sys": {
          "pod": "d"
         },
         "visibility": 10000,
         "weather": [
          {
           "description": "light rain",
           "icon": "10d",
           "id": 500,
           "main": "Rain"
          }
         ],
         "wind": {
          "deg": 329,
          "gust": 5.98,
          "speed": 3.13
         }
        },
        {
         "clouds": {
          "all": 100
         },
         "dt": 1694606400,
         "dt_txt": "2023-09-13 12:00:00",
         "main": {
          "feels_like": 16.19,
          "grnd_level": 1012,
          "humidity": 86,
          "pressure": 1017,
          "sea_level": 1017,
          "temp": 16.26,
          "temp_kf": 0,
          "temp_max": 16.26,
          "temp_min": 16.26
         },
         "pop": 0.52,
         "rain": {
          "3h": 0.44
         },
         "sys": {
          "pod": "d"
         },
         "visibility": 10000,
         "weather": [
          {
           "description": "light rain",
           "icon": "10d",
           "id": 500,
           "main": "Rain"
          }
         ],
         "wind": {
          "deg": 350,
          "gust": 9.78,
          "speed": 5.61
         }
        },
        {
         "clouds": {
          "all": 100
         },
         "dt": 1694617200,
         "dt_txt": "2023-09-13 15:00:00",
         "main": {
          "feels_like": 15.52,
          "grnd_level": 1013,
          "humidity": 77,
          "pressure": 1019,
          "sea_level": 1019,
          "temp": 15.87,
          "temp_kf": 0,
          "temp_max": 15.87,
          "temp_min": 15.87
         },
         "pop": 0.02,
         "sys": {
          "pod": "d"
         },
         "visibility": 10000,
         "weather": [
          {
           "description": "overcast clouds",
           "icon": "04d",
           "id": 804,
           "main": "Clouds"
          }
         ],
         "wind": {
          "deg": 346,
          "gust": 7.56,
          "speed": 4.68
         }
        },
        {
         "clouds": {
          "all": 73
         },
         "dt": 1694628000,
         "dt_txt": "2023-09-13 18:00:00",
         "main": {
          "feels_like": 14.83,
          "grnd_level": 1015,
          "humidity": 69,
          "pressure": 1020,
          "sea_level": 1020,
          "temp": 15.43,
          "temp_kf": 0,
          "temp_max": 15.43,
          "temp_min": 15.43
         },
         "pop": 0,
         "sys": {
          "pod": "n"
         },
         "visibility": 10000,
         "weather": [
          {
           "description": "broken clouds",
           "icon": "04n",
           "id": 803,
           "main": "Clouds"
          }
         ],
         "wind": {
          "deg": 340,
          "gust": 6.44,
          "speed": 2.55
         }
        },
        {
         "clouds": {
          "all": 0
         },
         "dt": 1694638800,
         "dt_txt": "2023-09-13 21:00:00",
         "main": {
          "feels_like": 12.33,
          "grnd_level": 1016,
          "humidity": 69,
          "pressure": 1021,
          "sea_level": 1021,
          "temp": 13.16,
          "temp_kf": 0,
          "temp_max": 13.16,
          "temp_min": 13.16
         },
         "pop": 0,
         "sys": {
          "pod": "n"
         },
         "visibility": 10000,
         "weather": [
          {
           "description": "clear sky",
           "icon": "01n",
           "id": 800,
           "main": "Clear"
          }
         ],
         "wind": {
          "deg": 343,
          "gust": 5.98,
          "speed": 2.75
         }
        },
        {
         "clouds": {
          "all": 1
         },
         "dt": 1694649600,
         "dt_txt": "2023-09-14 00:00:00",
         "main": {
          "feels_like": 11.17,
          "grnd_level": 1017,
          "humidity": 72,
          "pressure": 1022,
          "sea_level": 1022,
          "temp": 12.03,
          "temp_kf": 0,
          "temp_max": 12.03,
          "temp_min": 12.03
         },
         "pop": 0,
         "sys": {
          "pod": "n"
         },
         "visibility": 10000,
         "weather": [
          {
           "description": "clear sky",
           "icon": "01n",
           "id": 800,
           "main": "Clear"
          }
         ],
         "wind": {
          "deg": 342,
          "gust": 2.3,
          "speed": 1.51
         }
        },
        {
         "clouds": {
          "all": 11
         },
         "dt": 1694660400,
         "dt_txt": "2023-09-14 03:00:00",
         "main": {
          "feels_like": 10.23,
          "grnd_level": 1017,
          "humidity": 74,
          "pressure": 1023,
          "sea_level": 1023,
          "temp": 11.13,
          "temp_kf": 0,
          "temp_max": 11.13,
          "temp_min": 11.13
         },
         "pop": 0,
         "sys": {
          "pod": "n"
         },
         "visibility": 10000,
         "weather": [
          {
           "description": "few clouds",
           "icon": "02n",
           "id": 801,
           "main": "Clouds"
          }
         ],
         "wind": {
          "deg": 327,
          "gust": 2.82,
          "speed": 1.96
         }
        },
        {
         "clouds": {
          "all": 6
         },
         "dt": 1694671200,
         "dt_txt": "2023-09-14 06:00:00",
         "main": {
          "feels_like": 11.02,
          "grnd_level": 1018,
          "humidity": 71,
          "pressure": 1023,
          "sea_level": 1023,
          "temp": 11.92,
          "temp_kf": 0,
          "temp_max": 11.92,
          "temp_min": 11.92
         },
         "pop": 0,
         "sys": {
          "pod": "d"
         },
         "visibility": 10000,
         "weather": [
          {
           "description": "clear sky",
           "icon": "01d",
           "id": 800,
           "main": "Clear"
          }
         ],
         "wind": {
          "deg": 334,
          "gust": 2.28,
          "speed": 1.49
         }
        },
        {
         "clouds": {
          "all": 7
         },
         "dt": 1694682000,
         "dt_txt": "2023-09-14 09:00:00",
         "main": {
          "feels_like": 15.77,
          "grnd_level": 1019,
          "humidity": 52,
          "pressure": 1024,
          "sea_level": 1024,
          "temp": 16.69,
          "temp_kf": 0,
          "temp_max": 16.69,
          "temp_min": 16.69
         },
         "pop": 0,
         "sys": {
          "pod": "d"
         },
         "visibility": 10000,
         "weather": [
          {
           "description": "clear sky",
           "icon": "01d",
           "id": 800,
           "main": "Clear"
          }
         ],
         "wind": {
          "deg": 352,
          "gust": 2.06,
          "speed": 1.8
         }
        },
        {
         "clouds": {
          "all": 12
         },
         "dt": 1694692800,
         "dt_txt": "2023-09-14 12:00:00",
         "main": {
          "feels_like": 18.89,
          "grnd_level": 1018,
          "humidity": 38,
          "pressure": 1023,
          "sea_level": 1023,
          "temp": 19.86,
          "temp_kf": 0,
          "temp_max": 19.86,
          "temp_min": 19.86
         },
         "pop": 0,
         "sys": {
          "pod": "d"
         },
         "visibility": 10000,
         "weather": [
          {
           "description": "few clouds",
           "icon": "02d",
           "id": 801,
           "main": "Clouds"
          }
         ],
         "wind": {
          "deg": 343,
          "gust": 1.56,
          "speed": 1.59
         }
        },
        {
         "clouds": {
          "all": 8
         },
         "dt": 1694703600,
         "dt_txt": "2023-09-14 15:00:00",
         "main": {
          "feels_like": 19.19,
          "grnd_level": 1017,
          "humidity": 36,
          "pressure": 1022,
          "sea_level": 1022,
          "temp": 20.18,
          "temp_kf": 0,
          "temp_max": 20.18,
          "temp_min": 20.18
         },
         "pop": 0,
         "sys": {
          "pod": "d"
         },
         "visibility": 10000,
         "weather": [
          {
           "description": "clear sky",
           "icon": "01d",
           "id": 800,
           "main": "Clear"
          }
         ],
         "wind": {
          "deg": 354,
          "gust": 1.45,
          "speed": 1.75
         }
        },
        {
         "clouds": {
          "all": 7
         },
         "dt": 1694714400,
         "dt_txt": "2023-09-14 18:00:00",
         "main": {
          "feels_like": 15.78,
          "grnd_level": 1018,
          "humidity": 49,
          "pressure": 1023,
          "sea_level": 1023,
          "temp": 16.77,
          "temp_kf": 0,
          "temp_max": 16.77,
          "temp_min": 16.77
         },
         "pop": 0,
         "sys": {
          "pod": "n"
         },
         "visibility": 10000,
         "weather": [
          {
           "description": "clear sky",
           "icon": "01n",
           "id": 800,
           "main": "Clear"
          }
         ],
         "wind": {
          "deg": 23,
          "gust": 2.85,
          "speed": 1.69
         }
        },
        {
         "clouds": {
          "all": 8
         },
         "dt": 1694725200,
         "dt_txt": "2023-09-14 21:00:00",
         "main": {
          "feels_like": 13.8,
          "grnd_level": 1018,
          "humidity": 56,
          "pressure": 1024,
          "sea_level": 1024,
          "temp": 14.8,
          "temp_kf": 0,
          "temp_max": 14.8,
          "temp_min": 14.8
         },
         "pop": 0,
         "sys": {
          "pod": "n"
         },
         "visibility": 10000,
         "weather": [
          {
           "description": "clear sky",
           "icon": "01n",
           "id": 800,
           "main": "Clear"
          }
         ],
         "wind": {
          "deg": 70,
          "gust": 2.48,
          "speed": 1.53
         }
        },
        {
         "clouds": {
          "all": 8
         },
         "dt": 1694736000,
         "dt_txt": "2023-09-15 00:00:00",
         "main": {
          "feels_like": 12.37,
          "grnd_level": 1018,
          "humidity": 62,
          "pressure": 1024,
          "sea_level": 1024,
          "temp": 13.36,
          "temp_kf": 0,
          "temp_max": 13.36,
          "temp_min": 13.36
         },
         "pop": 0,
         "sys": {
          "pod": "n"
         },
         "visibility": 10000,
         "weather": [
          {
           "description": "clear sky",
           "icon": "01n",
           "id": 800,
           "main": "Clear"
          }
         ],
         "wind": {
          "deg": 93,
          "gust": 3.03,
          "speed": 1.91
         }
        },
        {
         "clouds": {
          "all": 7
         },
         "dt": 1694746800,
         "dt_txt": "2023-09-15 03:00:00",
         "main": {
          "feels_like": 11.71,
          "grnd_level": 1019,
          "humidity": 76,
          "pressure": 1024,
          "sea_level": 1024,
          "temp": 12.43,
          "temp_kf": 0,
          "temp_max": 12.43,
          "temp_min": 12.43
         },
         "pop": 0,
         "sys": {
          "pod": "n"
         },
         "visibility": 10000,
         "weather": [
          {
           "description": "clear sky",
           "icon": "01n",
           "id": 800,
           "main": "Clear"
          }
         ],
         "wind": {
          "deg": 87,
          "gust": 2.77,
          "speed": 1.75
         }
        },
        {
         "clouds": {
          "all": 7
         },
         "dt": 1694757600,
         "dt_txt": "2023-09-15 06:00:00",
         "main": {
          "feels_like": 12.48,
          "grnd_level": 1019,
          "humidity": 73,
          "pressure": 1024,
          "sea_level": 1024,
          "temp": 13.2,
          "temp_kf": 0,
          "temp_max": 13.2,
          "temp_min": 13.2
         },
         "pop": 0,
         "sys": {
          "pod": "d"
         },
         "visibility": 10000,
         "weather": [
          {
           "description": "clear sky",
           "icon": "01d",
           "id": 800,
           "main": "Clear"
          }
         ],
         "wind": {
          "deg": 102,
          "gust": 3.22,
          "speed": 1.97
         }
        },
        {
         "clouds": {
          "all": 7
         },
         "dt": 1694768400,
         "dt_txt": "2023-09-15 09:00:00",
         "main": {
          "feels_like": 17.66,
          "grnd_level": 1019,
          "humidity": 48,
          "pressure": 1024,
          "sea_level": 1024,
          "temp": 18.5,
          "temp_kf": 0,
          "temp_max": 18.5,
          "temp_min": 18.5
         },
         "pop": 0,
         "sys": {
          "pod": "d"
         },
         "visibility": 10000,
         "weather": [
          {
           "description": "clear sky",
           "icon": "01d",
           "id": 800,
           "main": "Clear"
          }
         ],
         "wind": {
          "deg": 93,
          "gust": 2.46,
          "speed": 2.03
         }
        },
        {
         "clouds": {
          "all": 7
         },
         "dt": 1694779200,
         "dt_txt": "2023-09-15 12:00:00",
         "main": {
          "feels_like": 21.05,
          "grnd_level": 1017,
          "humidity": 33,
          "pressure": 1022,
          "sea_level": 1022,
          "temp": 21.94,
          "temp_kf": 0,
          "temp_max": 21.94,
          "temp_min": 21.94
         },
         "pop": 0,
         "sys": {
          "pod": "d"
         },
         "visibility": 10000,
         "weather": [
          {
           "description": "clear sky",
           "icon": "01d",
           "id": 800,
           "main": "Clear"
          }
         ],
         "wind": {
          "deg": 86,
          "gust": 2.2,
          "speed": 1.94
         }
        },
        {
         "clouds": {
          "all": 7
         },
         "dt": 1694790000,
         "dt_txt": "2023-09-15 15:00:00",
         "main": {
          "feels_like": 21.78,
          "grnd_level": 1016,
          "humidity": 32,
          "pressure": 1021,
          "sea_level": 1021,
          "temp": 22.63,
          "temp_kf": 0,
          "temp_max": 22.63,
          "temp_min": 22.63
         },
         "pop": 0,
         "sys": {
          "pod": "d"
         },
         "visibility": 10000,
         "weather": [
          {
           "description": "clear sky",
           "icon": "01d",
           "id": 800,
           "main": "Clear"
          }
         ],
         "wind": {
          "deg": 84,
          "gust": 3.03,
          "speed": 2.72
         }
        },
        {
         "clouds": {
          "all": 6
         },
         "dt": 1694800800,
         "dt_txt": "2023-09-15 18:00:00",
         "main": {
          "feels_like": 17.73,
          "grnd_level": 1016,
          "humidity": 45,
          "pressure": 1021,
          "sea_level": 1021,
          "temp": 18.64,
          "temp_kf": 0,
          "temp_max": 18.64,
          "temp_min": 18.64
         },
         "pop": 0,
         "sys": {
          "pod": "n"
         },
         "visibility": 10000,
         "weather": [
          {
           "description": "clear sky",
           "icon": "01n",
           "id": 800,
           "main": "Clear"
          }
         ],
         "wind": {
          "deg": 70,
          "gust": 5.26,
          "speed": 2.67
         }
        },
        {
         "clouds": {
          "all": 2
         },
         "dt": 1694811600,
         "dt_txt": "2023-09-15 21:00:00",
         "main": {
          "feels_like": 15.72,
          "grnd_level": 1016,
          "humidity": 51,
          "pressure": 1021,
          "sea_level": 1021,
          "temp": 16.67,
          "temp_kf": 0,
          "temp_max": 16.67,
          "temp_min": 16.67
         },
         "pop": 0,
         "sys": {
          "pod": "n"
         },
         "visibility": 10000,
         "weather": [
          {
           "description": "clear sky",
           "icon": "01n",
           "id": 800,
           "main": "Clear"
          }
         ],
         "wind": {
          "deg": 82,
          "gust": 6.58,
          "speed": 2.81
         }
        },
        {
         "clouds": {
          "all": 1
         },
         "dt": 1694822400,
         "dt_txt": "2023-09-16 00:00:00",
         "main": {
          "feels_like": 14.76,
          "grnd_level": 1016,
          "humidity": 55,
          "pressure": 1021,
          "sea_level": 1021,
          "temp": 15.7,
          "temp_kf": 0,
          "temp_max": 15.7,
          "temp_min": 15.7
         },
         "pop": 0,
         "sys": {
          "pod": "n"
         },
         "visibility": 10000,
         "weather": [
          {
           "description": "clear sky",
           "icon": "01n",
           "id": 800,
           "main": "Clear"
          }
         ],
         "wind": {
          "deg": 92,
          "gust": 6.4,
          "speed": 2.69
         }
        },
        {
         "clouds": {
          "all": 0
         },
         "dt": 1694833200,
         "dt_txt": "2023-09-16 03:00:00",
         "main": {
          "feels_like": 13.78,
          "grnd_level": 1016,
          "humidity": 54,
          "pressure": 1021,
          "sea_level": 1021,
          "temp": 14.83,
          "temp_kf": 0,
          "temp_max": 14.83,
          "temp_min": 14.83
         },
         "pop": 0,
         "sys": {
          "pod": "n"
         },
         "visibility": 10000,
         "weather": [
          {
           "description": "clear sky",
           "icon": "01n",
           "id": 800,
           "main": "Clear"
          }
         ],
         "wind": {
          "deg": 90,
          "gust": 7.06,
          "speed": 2.93
         }
        },
        {
         "clouds": {
          "all": 0
         },
         "dt": 1694844000,
         "dt_txt": "2023-09-16 06:00:00",
         "main": {
          "feels_like": 14.22,
          "grnd_level": 1016,
          "humidity": 54,
          "pressure": 1021,
          "sea_level": 1021,
          "temp": 15.23,
          "temp_kf": 0,
          "temp_max": 15.23,
          "temp_min": 15.23
         },
         "pop": 0,
         "sys": {
          "pod": "d"
         },
         "visibility": 10000,
         "weather": [
          {
           "description": "clear sky",
           "icon": "01d",
           "id": 800,
           "main": "Clear"
          }
         ],
         "wind": {
          "deg": 97,
          "gust": 7.34,
          "speed": 3.05
         }
        },
        {
         "clouds": {
          "all": 0
         },
         "dt": 1694854800,
         "dt_txt": "2023-09-16 09:00:00",
         "main": {
          "feels_like": 20.85,
          "grnd_level": 1016,
          "humidity": 41,
          "pressure": 1021,
          "sea_level": 1021,
          "temp": 21.57,
          "temp_kf": 0,
          "temp_max": 21.57,
          "temp_min": 21.57
         },
         "pop": 0,
         "sys": {
          "pod": "d"
         },
         "visibility": 10000,
         "weather": [
          {
           "description": "clear sky",
           "icon": "01d",
           "id": 800,
           "main": "Clear"
          }
         ],
         "wind": {
          "deg": 107,
          "gust": 6.79,
          "speed": 4.11
         }
        }
       ],
       "message": 0
      },
      "text/plain": [
       "<IPython.core.display.JSON object>"
      ]
     },
     "execution_count": 8,
     "metadata": {
      "application/json": {
       "expanded": false,
       "root": "root"
      }
     },
     "output_type": "execute_result"
    }
   ],
   "source": [
    "from IPython.display import JSON\n",
    "JSON(list_of_jsons[0])"
   ]
  },
  {
   "cell_type": "code",
   "execution_count": 9,
   "id": "d35e6082-ea94-40ef-a6bf-e3e9d78ef422",
   "metadata": {
    "tags": []
   },
   "outputs": [
    {
     "data": {
      "text/html": [
       "<div>\n",
       "<style scoped>\n",
       "    .dataframe tbody tr th:only-of-type {\n",
       "        vertical-align: middle;\n",
       "    }\n",
       "\n",
       "    .dataframe tbody tr th {\n",
       "        vertical-align: top;\n",
       "    }\n",
       "\n",
       "    .dataframe thead th {\n",
       "        text-align: right;\n",
       "    }\n",
       "</style>\n",
       "<table border=\"1\" class=\"dataframe\">\n",
       "  <thead>\n",
       "    <tr style=\"text-align: right;\">\n",
       "      <th></th>\n",
       "      <th>city_id</th>\n",
       "      <th>forecast_time</th>\n",
       "      <th>temperature</th>\n",
       "      <th>wind_speed</th>\n",
       "      <th>humidity</th>\n",
       "    </tr>\n",
       "  </thead>\n",
       "  <tbody>\n",
       "    <tr>\n",
       "      <th>0</th>\n",
       "      <td>1</td>\n",
       "      <td>2023-09-11 12:00:00</td>\n",
       "      <td>29.42</td>\n",
       "      <td>1.23</td>\n",
       "      <td>43</td>\n",
       "    </tr>\n",
       "    <tr>\n",
       "      <th>1</th>\n",
       "      <td>1</td>\n",
       "      <td>2023-09-11 15:00:00</td>\n",
       "      <td>29.78</td>\n",
       "      <td>1.00</td>\n",
       "      <td>37</td>\n",
       "    </tr>\n",
       "    <tr>\n",
       "      <th>2</th>\n",
       "      <td>1</td>\n",
       "      <td>2023-09-11 18:00:00</td>\n",
       "      <td>27.22</td>\n",
       "      <td>1.15</td>\n",
       "      <td>38</td>\n",
       "    </tr>\n",
       "    <tr>\n",
       "      <th>3</th>\n",
       "      <td>1</td>\n",
       "      <td>2023-09-11 21:00:00</td>\n",
       "      <td>23.79</td>\n",
       "      <td>1.55</td>\n",
       "      <td>43</td>\n",
       "    </tr>\n",
       "    <tr>\n",
       "      <th>4</th>\n",
       "      <td>1</td>\n",
       "      <td>2023-09-12 00:00:00</td>\n",
       "      <td>22.10</td>\n",
       "      <td>1.24</td>\n",
       "      <td>49</td>\n",
       "    </tr>\n",
       "    <tr>\n",
       "      <th>5</th>\n",
       "      <td>1</td>\n",
       "      <td>2023-09-12 03:00:00</td>\n",
       "      <td>21.00</td>\n",
       "      <td>1.78</td>\n",
       "      <td>52</td>\n",
       "    </tr>\n",
       "    <tr>\n",
       "      <th>6</th>\n",
       "      <td>1</td>\n",
       "      <td>2023-09-12 06:00:00</td>\n",
       "      <td>21.14</td>\n",
       "      <td>0.91</td>\n",
       "      <td>59</td>\n",
       "    </tr>\n",
       "    <tr>\n",
       "      <th>7</th>\n",
       "      <td>1</td>\n",
       "      <td>2023-09-12 09:00:00</td>\n",
       "      <td>25.30</td>\n",
       "      <td>2.24</td>\n",
       "      <td>51</td>\n",
       "    </tr>\n",
       "    <tr>\n",
       "      <th>8</th>\n",
       "      <td>1</td>\n",
       "      <td>2023-09-12 12:00:00</td>\n",
       "      <td>28.18</td>\n",
       "      <td>2.39</td>\n",
       "      <td>47</td>\n",
       "    </tr>\n",
       "    <tr>\n",
       "      <th>9</th>\n",
       "      <td>2</td>\n",
       "      <td>2023-09-11 12:00:00</td>\n",
       "      <td>23.26</td>\n",
       "      <td>3.83</td>\n",
       "      <td>65</td>\n",
       "    </tr>\n",
       "    <tr>\n",
       "      <th>10</th>\n",
       "      <td>2</td>\n",
       "      <td>2023-09-11 15:00:00</td>\n",
       "      <td>24.19</td>\n",
       "      <td>3.45</td>\n",
       "      <td>58</td>\n",
       "    </tr>\n",
       "    <tr>\n",
       "      <th>11</th>\n",
       "      <td>2</td>\n",
       "      <td>2023-09-11 18:00:00</td>\n",
       "      <td>23.82</td>\n",
       "      <td>3.07</td>\n",
       "      <td>57</td>\n",
       "    </tr>\n",
       "    <tr>\n",
       "      <th>12</th>\n",
       "      <td>2</td>\n",
       "      <td>2023-09-11 21:00:00</td>\n",
       "      <td>21.12</td>\n",
       "      <td>2.81</td>\n",
       "      <td>70</td>\n",
       "    </tr>\n",
       "    <tr>\n",
       "      <th>13</th>\n",
       "      <td>2</td>\n",
       "      <td>2023-09-12 00:00:00</td>\n",
       "      <td>20.20</td>\n",
       "      <td>2.16</td>\n",
       "      <td>71</td>\n",
       "    </tr>\n",
       "    <tr>\n",
       "      <th>14</th>\n",
       "      <td>2</td>\n",
       "      <td>2023-09-12 03:00:00</td>\n",
       "      <td>18.75</td>\n",
       "      <td>2.14</td>\n",
       "      <td>78</td>\n",
       "    </tr>\n",
       "    <tr>\n",
       "      <th>15</th>\n",
       "      <td>2</td>\n",
       "      <td>2023-09-12 06:00:00</td>\n",
       "      <td>17.88</td>\n",
       "      <td>2.00</td>\n",
       "      <td>82</td>\n",
       "    </tr>\n",
       "    <tr>\n",
       "      <th>16</th>\n",
       "      <td>2</td>\n",
       "      <td>2023-09-12 09:00:00</td>\n",
       "      <td>20.64</td>\n",
       "      <td>1.76</td>\n",
       "      <td>69</td>\n",
       "    </tr>\n",
       "    <tr>\n",
       "      <th>17</th>\n",
       "      <td>2</td>\n",
       "      <td>2023-09-12 12:00:00</td>\n",
       "      <td>22.40</td>\n",
       "      <td>3.49</td>\n",
       "      <td>60</td>\n",
       "    </tr>\n",
       "  </tbody>\n",
       "</table>\n",
       "</div>"
      ],
      "text/plain": [
       "    city_id        forecast_time  temperature  wind_speed  humidity\n",
       "0         1  2023-09-11 12:00:00        29.42        1.23        43\n",
       "1         1  2023-09-11 15:00:00        29.78        1.00        37\n",
       "2         1  2023-09-11 18:00:00        27.22        1.15        38\n",
       "3         1  2023-09-11 21:00:00        23.79        1.55        43\n",
       "4         1  2023-09-12 00:00:00        22.10        1.24        49\n",
       "5         1  2023-09-12 03:00:00        21.00        1.78        52\n",
       "6         1  2023-09-12 06:00:00        21.14        0.91        59\n",
       "7         1  2023-09-12 09:00:00        25.30        2.24        51\n",
       "8         1  2023-09-12 12:00:00        28.18        2.39        47\n",
       "9         2  2023-09-11 12:00:00        23.26        3.83        65\n",
       "10        2  2023-09-11 15:00:00        24.19        3.45        58\n",
       "11        2  2023-09-11 18:00:00        23.82        3.07        57\n",
       "12        2  2023-09-11 21:00:00        21.12        2.81        70\n",
       "13        2  2023-09-12 00:00:00        20.20        2.16        71\n",
       "14        2  2023-09-12 03:00:00        18.75        2.14        78\n",
       "15        2  2023-09-12 06:00:00        17.88        2.00        82\n",
       "16        2  2023-09-12 09:00:00        20.64        1.76        69\n",
       "17        2  2023-09-12 12:00:00        22.40        3.49        60"
      ]
     },
     "execution_count": 9,
     "metadata": {},
     "output_type": "execute_result"
    }
   ],
   "source": [
    "weather_dict = {'city_id':[],\n",
    "                'forecast_time': [],\n",
    "                'temperature': [],\n",
    "                'wind_speed': [],\n",
    "                'humidity': []}\n",
    "\n",
    "for index, row in cities_df.iterrows():\n",
    "    for weather in list_of_jsons[index]['list'][:9]:\n",
    "        weather_dict['city_id'].append(row['city_id'])\n",
    "        weather_dict['forecast_time'].append(weather['dt_txt'])\n",
    "        weather_dict['temperature'].append(weather['main']['temp'])\n",
    "        weather_dict['wind_speed'].append(weather['wind']['speed'])\n",
    "        weather_dict['humidity'].append(weather['main']['humidity'])\n",
    "        \n",
    "weather_df=pd.DataFrame(weather_dict)\n",
    "weather_df"
   ]
  },
  {
   "cell_type": "code",
   "execution_count": 10,
   "id": "c23653a8-3af8-425e-b509-b8e6b1a6e49c",
   "metadata": {
    "tags": []
   },
   "outputs": [
    {
     "data": {
      "text/plain": [
       "18"
      ]
     },
     "execution_count": 10,
     "metadata": {},
     "output_type": "execute_result"
    }
   ],
   "source": [
    "weather_df.to_sql('weathers',if_exists='append',index=False,con=con)"
   ]
  },
  {
   "cell_type": "code",
   "execution_count": 13,
   "id": "27428206-0623-47fb-8354-6c90fe0c0626",
   "metadata": {},
   "outputs": [],
   "source": [
    "# weather_dict = {'city_id':[],\n",
    "#                 'forecast_time': [],\n",
    "#                 'temperature': [],\n",
    "#                 'wind_speed': [],\n",
    "#                 'humidity': []}\n",
    "\n",
    "# for index, row in cities_df.iterrows():\n",
    "    \n",
    "#     url = (f\"http://api.openweathermap.org/data/2.5/forecast?q={row['City']}&appid={API_key}&units=metric\")\n",
    "\n",
    "#     response = requests.get(url)\n",
    "#     my_json = response.json()\n",
    "#     for weather in my_json['list'][:9]:\n",
    "#         weather_dict['city_id'].append(row['city_id'])\n",
    "#         weather_dict['forecast_time'].append(weather['dt_txt'])\n",
    "#         weather_dict['temperature'].append(weather['main']['temp'])\n",
    "#         weather_dict['wind_speed'].append(weather['wind']['speed'])\n",
    "#         weather_dict['humidity'].append(weather['main']['humidity'])\n",
    "        \n",
    "# weather_df=pd.DataFrame(weather_dict)\n",
    "# weather_df"
   ]
  }
 ],
 "metadata": {
  "kernelspec": {
   "display_name": "Python 3 (ipykernel)",
   "language": "python",
   "name": "python3"
  },
  "language_info": {
   "codemirror_mode": {
    "name": "ipython",
    "version": 3
   },
   "file_extension": ".py",
   "mimetype": "text/x-python",
   "name": "python",
   "nbconvert_exporter": "python",
   "pygments_lexer": "ipython3",
   "version": "3.11.5"
  }
 },
 "nbformat": 4,
 "nbformat_minor": 5
}
