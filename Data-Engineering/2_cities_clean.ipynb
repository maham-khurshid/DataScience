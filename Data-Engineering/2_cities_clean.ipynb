{
 "cells": [
  {
   "cell_type": "code",
   "execution_count": 1,
   "id": "7e373786-2886-4977-81e8-b33b2c67b267",
   "metadata": {
    "executionInfo": {
     "elapsed": 4,
     "status": "ok",
     "timestamp": 1694158254237,
     "user": {
      "displayName": "Liane Gybas",
      "userId": "00850058138446702565"
     },
     "user_tz": -120
    },
    "id": "7e373786-2886-4977-81e8-b33b2c67b267",
    "tags": []
   },
   "outputs": [],
   "source": [
    "import pandas as pd\n",
    "import sqlalchemy\n",
    "#import my_file"
   ]
  },
  {
   "cell_type": "code",
   "execution_count": 2,
   "id": "f0707174-0e63-4738-b8c8-3e0cf630d33f",
   "metadata": {
    "executionInfo": {
     "elapsed": 13,
     "status": "ok",
     "timestamp": 1694158255902,
     "user": {
      "displayName": "Liane Gybas",
      "userId": "00850058138446702565"
     },
     "user_tz": -120
    },
    "id": "f0707174-0e63-4738-b8c8-3e0cf630d33f",
    "tags": []
   },
   "outputs": [],
   "source": [
    "cities_dict = {\n",
    "    'City':['Berlin','London'],\n",
    "    'Country':['DE','GB'],\n",
    "    'Population':[3800000,4100000],\n",
    "    'latitude':[52.3112,51.3026],\n",
    "    'longitude':[13.2418,0.739]\n",
    "}"
   ]
  },
  {
   "cell_type": "code",
   "execution_count": 3,
   "id": "b79152fc-64fb-4e39-8ad9-157a963358b0",
   "metadata": {
    "colab": {
     "base_uri": "https://localhost:8080/",
     "height": 112
    },
    "executionInfo": {
     "elapsed": 376,
     "status": "ok",
     "timestamp": 1694158258267,
     "user": {
      "displayName": "Liane Gybas",
      "userId": "00850058138446702565"
     },
     "user_tz": -120
    },
    "id": "b79152fc-64fb-4e39-8ad9-157a963358b0",
    "outputId": "f6d25480-6f43-4c09-dc73-eaf7199750dc",
    "tags": []
   },
   "outputs": [
    {
     "data": {
      "text/html": [
       "<div>\n",
       "<style scoped>\n",
       "    .dataframe tbody tr th:only-of-type {\n",
       "        vertical-align: middle;\n",
       "    }\n",
       "\n",
       "    .dataframe tbody tr th {\n",
       "        vertical-align: top;\n",
       "    }\n",
       "\n",
       "    .dataframe thead th {\n",
       "        text-align: right;\n",
       "    }\n",
       "</style>\n",
       "<table border=\"1\" class=\"dataframe\">\n",
       "  <thead>\n",
       "    <tr style=\"text-align: right;\">\n",
       "      <th></th>\n",
       "      <th>City</th>\n",
       "      <th>Country</th>\n",
       "      <th>Population</th>\n",
       "      <th>latitude</th>\n",
       "      <th>longitude</th>\n",
       "    </tr>\n",
       "  </thead>\n",
       "  <tbody>\n",
       "    <tr>\n",
       "      <th>0</th>\n",
       "      <td>Berlin</td>\n",
       "      <td>DE</td>\n",
       "      <td>3800000</td>\n",
       "      <td>52.3112</td>\n",
       "      <td>13.2418</td>\n",
       "    </tr>\n",
       "    <tr>\n",
       "      <th>1</th>\n",
       "      <td>London</td>\n",
       "      <td>GB</td>\n",
       "      <td>4100000</td>\n",
       "      <td>51.3026</td>\n",
       "      <td>0.7390</td>\n",
       "    </tr>\n",
       "  </tbody>\n",
       "</table>\n",
       "</div>"
      ],
      "text/plain": [
       "     City Country  Population  latitude  longitude\n",
       "0  Berlin      DE     3800000   52.3112    13.2418\n",
       "1  London      GB     4100000   51.3026     0.7390"
      ]
     },
     "execution_count": 3,
     "metadata": {},
     "output_type": "execute_result"
    }
   ],
   "source": [
    "cities_df = pd.DataFrame(cities_dict)\n",
    "cities_df"
   ]
  },
  {
   "cell_type": "code",
   "execution_count": 4,
   "id": "FTz6dGHnsyTI",
   "metadata": {
    "colab": {
     "base_uri": "https://localhost:8080/"
    },
    "executionInfo": {
     "elapsed": 30,
     "status": "ok",
     "timestamp": 1694158258268,
     "user": {
      "displayName": "Liane Gybas",
      "userId": "00850058138446702565"
     },
     "user_tz": -120
    },
    "id": "FTz6dGHnsyTI",
    "outputId": "76236047-cdee-40f5-882c-6533fa7bcdde",
    "tags": []
   },
   "outputs": [
    {
     "name": "stdout",
     "output_type": "stream",
     "text": [
      "<class 'pandas.core.frame.DataFrame'>\n",
      "RangeIndex: 2 entries, 0 to 1\n",
      "Data columns (total 5 columns):\n",
      " #   Column      Non-Null Count  Dtype  \n",
      "---  ------      --------------  -----  \n",
      " 0   City        2 non-null      object \n",
      " 1   Country     2 non-null      object \n",
      " 2   Population  2 non-null      int64  \n",
      " 3   latitude    2 non-null      float64\n",
      " 4   longitude   2 non-null      float64\n",
      "dtypes: float64(2), int64(1), object(2)\n",
      "memory usage: 212.0+ bytes\n"
     ]
    }
   ],
   "source": [
    "cities_df.info()"
   ]
  },
  {
   "cell_type": "code",
   "execution_count": 5,
   "id": "e5d48b24-b2d8-4c40-b1a9-b6da4c98c583",
   "metadata": {
    "executionInfo": {
     "elapsed": 76,
     "status": "aborted",
     "timestamp": 1694158241201,
     "user": {
      "displayName": "Liane Gybas",
      "userId": "00850058138446702565"
     },
     "user_tz": -120
    },
    "id": "e5d48b24-b2d8-4c40-b1a9-b6da4c98c583",
    "tags": []
   },
   "outputs": [],
   "source": [
    "schema=\"gans\"   # name of the database you want to use here\n",
    "host=\"database-gansproject.blablaablaa.rds.amazonaws.com\"        # to connect to your aws server\n",
    "user=\"admin\"\n",
    "password=\"blablablabla\" # your password!!!!\n",
    "port=3306\n",
    "con = f'mysql+pymysql://{user}:{password}@{host}:{port}/{schema}'"
   ]
  },
  {
   "cell_type": "code",
   "execution_count": 6,
   "id": "e3e92e11-8360-4f49-ab45-4ab77430dae4",
   "metadata": {
    "executionInfo": {
     "elapsed": 81,
     "status": "aborted",
     "timestamp": 1694158241206,
     "user": {
      "displayName": "Liane Gybas",
      "userId": "00850058138446702565"
     },
     "user_tz": -120
    },
    "id": "e3e92e11-8360-4f49-ab45-4ab77430dae4",
    "tags": []
   },
   "outputs": [
    {
     "data": {
      "text/plain": [
       "2"
      ]
     },
     "execution_count": 6,
     "metadata": {},
     "output_type": "execute_result"
    }
   ],
   "source": [
    "cities_df.to_sql('cities',\n",
    "                 if_exists='append',\n",
    "                 con=con,\n",
    "                 index=False)"
   ]
  },
  {
   "cell_type": "code",
   "execution_count": null,
   "id": "35a3596c-244b-4016-944b-aebd9125ec47",
   "metadata": {},
   "outputs": [],
   "source": []
  }
 ],
 "metadata": {
  "colab": {
   "provenance": []
  },
  "kernelspec": {
   "display_name": "Python 3 (ipykernel)",
   "language": "python",
   "name": "python3"
  },
  "language_info": {
   "codemirror_mode": {
    "name": "ipython",
    "version": 3
   },
   "file_extension": ".py",
   "mimetype": "text/x-python",
   "name": "python",
   "nbconvert_exporter": "python",
   "pygments_lexer": "ipython3",
   "version": "3.11.5"
  }
 },
 "nbformat": 4,
 "nbformat_minor": 5
}
