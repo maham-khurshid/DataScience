{
 "cells": [
  {
   "cell_type": "code",
   "execution_count": 1,
   "id": "c23e350e-afc1-4c0c-9ad1-3b04b4197b3a",
   "metadata": {},
   "outputs": [],
   "source": [
    "# pip install spotipy"
   ]
  },
  {
   "cell_type": "code",
   "execution_count": 1,
   "id": "38149035-2036-424b-a472-1988c455740d",
   "metadata": {},
   "outputs": [],
   "source": [
    "import pandas as pd\n",
    "import spotipy\n",
    "from spotipy.oauth2 import SpotifyOAuth\n",
    "import keys"
   ]
  },
  {
   "cell_type": "code",
   "execution_count": 2,
   "id": "1497b2bc-9e35-473d-b3d8-0f9e3b13073a",
   "metadata": {},
   "outputs": [],
   "source": [
    "songs = pd.read_csv('df_audio_features_10.csv')"
   ]
  },
  {
   "cell_type": "code",
   "execution_count": 17,
   "id": "16e79210-f688-437f-8284-497670e055e1",
   "metadata": {},
   "outputs": [
    {
     "data": {
      "text/html": [
       "<div>\n",
       "<style scoped>\n",
       "    .dataframe tbody tr th:only-of-type {\n",
       "        vertical-align: middle;\n",
       "    }\n",
       "\n",
       "    .dataframe tbody tr th {\n",
       "        vertical-align: top;\n",
       "    }\n",
       "\n",
       "    .dataframe thead th {\n",
       "        text-align: right;\n",
       "    }\n",
       "</style>\n",
       "<table border=\"1\" class=\"dataframe\">\n",
       "  <thead>\n",
       "    <tr style=\"text-align: right;\">\n",
       "      <th></th>\n",
       "      <th>song_name</th>\n",
       "      <th>artist</th>\n",
       "      <th>danceability</th>\n",
       "      <th>energy</th>\n",
       "      <th>key</th>\n",
       "      <th>loudness</th>\n",
       "      <th>mode</th>\n",
       "      <th>speechiness</th>\n",
       "      <th>acousticness</th>\n",
       "      <th>instrumentalness</th>\n",
       "      <th>liveness</th>\n",
       "      <th>valence</th>\n",
       "      <th>tempo</th>\n",
       "      <th>duration_ms</th>\n",
       "      <th>time_signature</th>\n",
       "      <th>id</th>\n",
       "      <th>html</th>\n",
       "    </tr>\n",
       "  </thead>\n",
       "  <tbody>\n",
       "    <tr>\n",
       "      <th>0</th>\n",
       "      <td>My Band</td>\n",
       "      <td>D12</td>\n",
       "      <td>0.851</td>\n",
       "      <td>0.849</td>\n",
       "      <td>1</td>\n",
       "      <td>-3.383</td>\n",
       "      <td>0</td>\n",
       "      <td>0.0828</td>\n",
       "      <td>0.4970</td>\n",
       "      <td>0.000002</td>\n",
       "      <td>0.1160</td>\n",
       "      <td>0.844</td>\n",
       "      <td>120.014</td>\n",
       "      <td>298773</td>\n",
       "      <td>4</td>\n",
       "      <td>4XHQyvbrBsQaaBUW1VvmsL</td>\n",
       "      <td>https://open.spotify.com/track/4XHQyvbrBsQaaBU...</td>\n",
       "    </tr>\n",
       "    <tr>\n",
       "      <th>1</th>\n",
       "      <td>The Real Slim Shady</td>\n",
       "      <td>Eminem</td>\n",
       "      <td>0.949</td>\n",
       "      <td>0.661</td>\n",
       "      <td>5</td>\n",
       "      <td>-4.244</td>\n",
       "      <td>0</td>\n",
       "      <td>0.0572</td>\n",
       "      <td>0.0302</td>\n",
       "      <td>0.000000</td>\n",
       "      <td>0.0454</td>\n",
       "      <td>0.760</td>\n",
       "      <td>104.504</td>\n",
       "      <td>284200</td>\n",
       "      <td>4</td>\n",
       "      <td>3yfqSUWxFvZELEM4PmlwIR</td>\n",
       "      <td>https://open.spotify.com/track/3yfqSUWxFvZELEM...</td>\n",
       "    </tr>\n",
       "  </tbody>\n",
       "</table>\n",
       "</div>"
      ],
      "text/plain": [
       "             song_name  artist  danceability  energy  key  loudness  mode  \\\n",
       "0              My Band     D12         0.851   0.849    1    -3.383     0   \n",
       "1  The Real Slim Shady  Eminem         0.949   0.661    5    -4.244     0   \n",
       "\n",
       "   speechiness  acousticness  instrumentalness  liveness  valence    tempo  \\\n",
       "0       0.0828        0.4970          0.000002    0.1160    0.844  120.014   \n",
       "1       0.0572        0.0302          0.000000    0.0454    0.760  104.504   \n",
       "\n",
       "   duration_ms  time_signature                      id  \\\n",
       "0       298773               4  4XHQyvbrBsQaaBUW1VvmsL   \n",
       "1       284200               4  3yfqSUWxFvZELEM4PmlwIR   \n",
       "\n",
       "                                                html  \n",
       "0  https://open.spotify.com/track/4XHQyvbrBsQaaBU...  \n",
       "1  https://open.spotify.com/track/3yfqSUWxFvZELEM...  "
      ]
     },
     "execution_count": 17,
     "metadata": {},
     "output_type": "execute_result"
    }
   ],
   "source": [
    "songs.head(2)"
   ]
  },
  {
   "cell_type": "code",
   "execution_count": 3,
   "id": "d8be5dea-9673-4720-a02f-1cf0c3200250",
   "metadata": {},
   "outputs": [],
   "source": [
    "scope='playlist-modify-public'\n",
    "username= keys.username\n",
    "redirectUri = 'http://localhost:7000/callback'\n",
    "client_id=keys.client_id\n",
    "client_secret=keys.client_secret"
   ]
  },
  {
   "cell_type": "code",
   "execution_count": 4,
   "id": "8b9e27fd-fcd3-4b18-aeb2-dc005ac59db5",
   "metadata": {},
   "outputs": [],
   "source": [
    "token = SpotifyOAuth(scope=scope,username=username,client_id=client_id,\n",
    "                     client_secret=client_secret, redirect_uri=redirectUri)"
   ]
  },
  {
   "cell_type": "code",
   "execution_count": 5,
   "id": "659c0ba5-1acd-44bc-9b06-60c160605bd4",
   "metadata": {},
   "outputs": [],
   "source": [
    "spotifyObject = spotipy.Spotify(auth_manager=token)"
   ]
  },
  {
   "cell_type": "code",
   "execution_count": 6,
   "id": "1965aba3-ad92-4d65-9dcf-b0ca20c71f8d",
   "metadata": {},
   "outputs": [],
   "source": [
    "playlist_name='our_little_playlist'\n",
    "playlist_description='10 very diferent songs'"
   ]
  },
  {
   "cell_type": "code",
   "execution_count": 7,
   "id": "03ec5a36-000f-4603-a714-2c29901eb67f",
   "metadata": {},
   "outputs": [],
   "source": [
    "playlist_id = spotifyObject.user_playlist_create(user=username,name=playlist_name,\n",
    "                                                 description=playlist_description,public=True)"
   ]
  },
  {
   "cell_type": "code",
   "execution_count": 8,
   "id": "f44aa6e9-e2da-4800-a186-8605b51e9c69",
   "metadata": {},
   "outputs": [
    {
     "data": {
      "text/plain": [
       "{'collaborative': False,\n",
       " 'description': None,\n",
       " 'external_urls': {'spotify': 'https://open.spotify.com/playlist/43gQ2D6rtiugtG5mD3SMTS'},\n",
       " 'followers': {'href': None, 'total': 0},\n",
       " 'href': 'https://api.spotify.com/v1/playlists/43gQ2D6rtiugtG5mD3SMTS',\n",
       " 'id': '43gQ2D6rtiugtG5mD3SMTS',\n",
       " 'images': [],\n",
       " 'name': 'our_little_playlist',\n",
       " 'owner': {'display_name': 'Muvalikespare1911',\n",
       "  'external_urls': {'spotify': 'https://open.spotify.com/user/znho6oa18kc76b0vfp48ezlb6'},\n",
       "  'href': 'https://api.spotify.com/v1/users/znho6oa18kc76b0vfp48ezlb6',\n",
       "  'id': 'znho6oa18kc76b0vfp48ezlb6',\n",
       "  'type': 'user',\n",
       "  'uri': 'spotify:user:znho6oa18kc76b0vfp48ezlb6'},\n",
       " 'primary_color': None,\n",
       " 'public': True,\n",
       " 'snapshot_id': 'MSxlMjQ0YTA1ZmEzZWIyMzliOGZlNTZkYmJjOTIwMGU2YWVmYTA2MDY4',\n",
       " 'tracks': {'href': 'https://api.spotify.com/v1/playlists/43gQ2D6rtiugtG5mD3SMTS/tracks',\n",
       "  'items': [],\n",
       "  'limit': 100,\n",
       "  'next': None,\n",
       "  'offset': 0,\n",
       "  'previous': None,\n",
       "  'total': 0},\n",
       " 'type': 'playlist',\n",
       " 'uri': 'spotify:playlist:43gQ2D6rtiugtG5mD3SMTS'}"
      ]
     },
     "execution_count": 8,
     "metadata": {},
     "output_type": "execute_result"
    }
   ],
   "source": [
    "playlist_id"
   ]
  },
  {
   "cell_type": "code",
   "execution_count": 20,
   "id": "901a4b1f-a7d8-431a-81d3-1cc8177aa75e",
   "metadata": {},
   "outputs": [],
   "source": [
    "list_of_songs=[]\n",
    "for i, row in songs.iterrows():\n",
    "    list_of_songs.append(f'spotify:track:{row[\"id\"]}')"
   ]
  },
  {
   "cell_type": "code",
   "execution_count": 21,
   "id": "ef22b3d8-d080-42fc-93f9-65e15969f8d3",
   "metadata": {},
   "outputs": [
    {
     "data": {
      "text/plain": [
       "['spotify:track:4XHQyvbrBsQaaBUW1VvmsL',\n",
       " 'spotify:track:3yfqSUWxFvZELEM4PmlwIR',\n",
       " 'spotify:track:1y7OxO5i6sfrHXAmUM77YG',\n",
       " 'spotify:track:3898C4AbdbptwYet6547e5',\n",
       " 'spotify:track:63T7DJ1AFDD6Bn8VzG6JE8',\n",
       " 'spotify:track:6cr6UDpkjEaMQ80OjWqEBQ',\n",
       " 'spotify:track:4F8OK7mNa51mKqgHqWQiYm',\n",
       " 'spotify:track:2vfSCFvMbpf4hwxt22Wx7b',\n",
       " 'spotify:track:59cPOVxrn3Yjwydl1pullI',\n",
       " 'spotify:track:7n92QzQomRCLlciO14X0kd']"
      ]
     },
     "execution_count": 21,
     "metadata": {},
     "output_type": "execute_result"
    }
   ],
   "source": [
    "list_of_songs"
   ]
  },
  {
   "cell_type": "code",
   "execution_count": 22,
   "id": "3cd9b352-69e5-4fa1-ae58-3c05b5acc669",
   "metadata": {},
   "outputs": [
    {
     "data": {
      "text/plain": [
       "{'snapshot_id': 'MyxlNGEwODA2OTU4Y2FkMDgxNGRjMjQxYzlmMWJiNDExZjQ1MTg4MzU4'}"
      ]
     },
     "execution_count": 22,
     "metadata": {},
     "output_type": "execute_result"
    }
   ],
   "source": [
    "spotifyObject.user_playlist_add_tracks(user=username,playlist_id=playlist_id['id'],tracks=list_of_songs)"
   ]
  },
  {
   "cell_type": "code",
   "execution_count": 9,
   "id": "db184aba-bb07-408e-9771-ac750487eab5",
   "metadata": {},
   "outputs": [
    {
     "data": {
      "text/plain": [
       "'https://open.spotify.com/track/3yfqSUWxFvZELEM4PmlwIR'"
      ]
     },
     "execution_count": 9,
     "metadata": {},
     "output_type": "execute_result"
    }
   ],
   "source": []
  }
 ],
 "metadata": {
  "kernelspec": {
   "display_name": "Python 3 (ipykernel)",
   "language": "python",
   "name": "python3"
  },
  "language_info": {
   "codemirror_mode": {
    "name": "ipython",
    "version": 3
   },
   "file_extension": ".py",
   "mimetype": "text/x-python",
   "name": "python",
   "nbconvert_exporter": "python",
   "pygments_lexer": "ipython3",
   "version": "3.11.3"
  }
 },
 "nbformat": 4,
 "nbformat_minor": 5
}
