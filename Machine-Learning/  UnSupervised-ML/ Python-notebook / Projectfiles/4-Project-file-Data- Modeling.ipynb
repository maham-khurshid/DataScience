{
 "cells": [
  {
   "cell_type": "code",
   "execution_count": null,
   "id": "4de25701-7751-41e0-b964-f53ca9d22608",
   "metadata": {},
   "outputs": [],
   "source": [
    "#Data Modelling\n",
    "#Manual clustering"
   ]
  },
  {
   "cell_type": "code",
   "execution_count": null,
   "id": "6c63a323-d8e9-43a2-a4b8-7a78a952a9d5",
   "metadata": {
    "tags": []
   },
   "outputs": [],
   "source": [
    "import pandas as pd "
   ]
  },
  {
   "cell_type": "code",
   "execution_count": null,
   "id": "f27bcbcf-320f-47c0-8d16-318366bbf6ab",
   "metadata": {
    "tags": []
   },
   "outputs": [],
   "source": [
    "final_df = pd.read_csv(\"final5000.csv\")\n",
    "final_df.set_index('title', inplace=True)\n",
    "final_df.columns = final_df.columns.str.strip()\n",
    "final_df.cluster.value_counts() # thought that might fix it..."
   ]
  },
  {
   "cell_type": "code",
   "execution_count": null,
   "id": "13b8e1b1-41dd-4e62-ba58-be5aea6766af",
   "metadata": {},
   "outputs": [],
   "source": [
    "#Sampling the different clusters:"
   ]
  },
  {
   "cell_type": "code",
   "execution_count": null,
   "id": "eb9ab213-1449-4063-813a-b17eeae8aa91",
   "metadata": {},
   "outputs": [],
   "source": [
    "# Sample_df_XX = final_df.loc[final_df['cluster'] == XX] - create a df out of cluster 'XX' e.g.:"
   ]
  },
  {
   "cell_type": "code",
   "execution_count": null,
   "id": "b31e28fa-0782-4ce9-8bfb-d85ae12f90c5",
   "metadata": {
    "tags": []
   },
   "outputs": [],
   "source": [
    "Sample_df_00= final_df.loc[final_df['cluster'] == 0]\n",
    "Sample_df_00"
   ]
  },
  {
   "cell_type": "code",
   "execution_count": null,
   "id": "19ad15a0-a0e4-4a9d-af94-049f7c756119",
   "metadata": {
    "tags": []
   },
   "outputs": [],
   "source": [
    "Sample_df_08 = final_df.loc[final_df['cluster'] == 8]\n",
    "Sample_df_08"
   ]
  },
  {
   "cell_type": "code",
   "execution_count": null,
   "id": "3e68d7a2-5d83-4742-b6b1-cac77bf94761",
   "metadata": {
    "tags": []
   },
   "outputs": [],
   "source": [
    "Sample_df_02 = final_df.loc[final_df['cluster'] == 2]\n",
    "Sample_df_02"
   ]
  },
  {
   "cell_type": "code",
   "execution_count": null,
   "id": "09bb6079-5e8e-42a0-b86b-752ebcc082e9",
   "metadata": {
    "tags": []
   },
   "outputs": [],
   "source": [
    "Sample_df_01 = final_df.loc[final_df['cluster'] == 1]\n",
    "Sample_df_01"
   ]
  },
  {
   "cell_type": "code",
   "execution_count": null,
   "id": "bfc6b4e9-6ddd-4f32-9881-f951435d5a1d",
   "metadata": {
    "tags": []
   },
   "outputs": [],
   "source": [
    "Sample_df_03= final_df.loc[final_df['cluster'] == 3]\n",
    "Sample_df_03"
   ]
  },
  {
   "cell_type": "code",
   "execution_count": null,
   "id": "a6a59493-ba1a-4f38-b131-30b284fb712d",
   "metadata": {
    "tags": []
   },
   "outputs": [],
   "source": [
    "Sample_df_04= final_df.loc[final_df['cluster'] == 4]\n",
    "Sample_df_04"
   ]
  },
  {
   "cell_type": "code",
   "execution_count": null,
   "id": "5b26e42d-bf55-4799-b968-dc29beed13cd",
   "metadata": {
    "tags": []
   },
   "outputs": [],
   "source": [
    "Sample_df_05= final_df.loc[final_df['cluster'] == 5]\n",
    "Sample_df_05"
   ]
  },
  {
   "cell_type": "code",
   "execution_count": null,
   "id": "386446c6-a340-4707-915c-afb98a58df20",
   "metadata": {
    "tags": []
   },
   "outputs": [],
   "source": [
    "Sample_df_06= final_df.loc[final_df['cluster'] == 6]\n",
    "Sample_df_06"
   ]
  },
  {
   "cell_type": "code",
   "execution_count": null,
   "id": "5d9e2864-eb25-4ae4-bed5-99f2b08cdff7",
   "metadata": {
    "tags": []
   },
   "outputs": [],
   "source": [
    "Sample_df_07= final_df.loc[final_df['cluster'] == 7]\n",
    "Sample_df_07"
   ]
  },
  {
   "cell_type": "code",
   "execution_count": null,
   "id": "c53328be-ea13-4b7b-8ef7-640e14100fcc",
   "metadata": {
    "tags": []
   },
   "outputs": [],
   "source": [
    "Sample_df_09= final_df.loc[final_df['cluster'] == 9]\n",
    "Sample_df_09"
   ]
  },
  {
   "cell_type": "code",
   "execution_count": null,
   "id": "206c3dac-ac4d-47a0-9389-cdf2c94bb34c",
   "metadata": {
    "tags": []
   },
   "outputs": [],
   "source": [
    "Sample_df_010 = final_df.loc[final_df['cluster'] == 10]\n",
    "Sample_df_010"
   ]
  },
  {
   "cell_type": "code",
   "execution_count": null,
   "id": "a1936d98-f076-4ab1-bf66-f902c03d9a79",
   "metadata": {},
   "outputs": [],
   "source": [
    "Sample_df_11= final_df.loc[final_df['cluster'] == 11]\n",
    "Sample_df_11"
   ]
  },
  {
   "cell_type": "code",
   "execution_count": null,
   "id": "edc6f4cd-1cb7-4e22-9bf3-d70f06f1d91d",
   "metadata": {},
   "outputs": [],
   "source": [
    "Sample_df_12= final_df.loc[final_df['cluster'] == 12]\n",
    "Sample_df_12"
   ]
  },
  {
   "cell_type": "code",
   "execution_count": null,
   "id": "1a20cd58-852c-4202-a405-9eee24543a8f",
   "metadata": {},
   "outputs": [],
   "source": [
    "Sample_df_13= final_df.loc[final_df['cluster'] == 13]\n",
    "Sample_df_13"
   ]
  },
  {
   "cell_type": "code",
   "execution_count": null,
   "id": "756b37a0-37f4-46ef-9838-29904b978546",
   "metadata": {},
   "outputs": [],
   "source": [
    "Sample_df_14= final_df.loc[final_df['cluster'] == 14]\n",
    "Sample_df_14"
   ]
  },
  {
   "cell_type": "code",
   "execution_count": null,
   "id": "0027b9cc-44a3-40e5-a3f3-ccd45515f37c",
   "metadata": {},
   "outputs": [],
   "source": [
    "Sample_df_15= final_df.loc[final_df['cluster'] == 15]\n",
    "Sample_df_15"
   ]
  },
  {
   "cell_type": "code",
   "execution_count": null,
   "id": "8a4c2502-6997-479a-abb7-31016bd3c655",
   "metadata": {},
   "outputs": [],
   "source": [
    "Sample_df_16= final_df.loc[final_df['cluster'] == 16]\n",
    "Sample_df_16"
   ]
  },
  {
   "cell_type": "code",
   "execution_count": null,
   "id": "db878d4f-4ac1-4db0-b350-9e5a51aad212",
   "metadata": {},
   "outputs": [],
   "source": [
    "Sample_df_17= final_df.loc[final_df['cluster'] == 17]\n",
    "Sample_df_17"
   ]
  },
  {
   "cell_type": "code",
   "execution_count": null,
   "id": "32a0a06b-91bb-427f-8c20-3107cb6b947a",
   "metadata": {},
   "outputs": [],
   "source": [
    "Sample_df_18= final_df.loc[final_df['cluster'] == 18]\n",
    "Sample_df_18"
   ]
  },
  {
   "cell_type": "code",
   "execution_count": null,
   "id": "13b0835a-7332-45ec-8372-537b44d61a69",
   "metadata": {},
   "outputs": [],
   "source": [
    "Sample_df_19= final_df.loc[final_df['cluster'] == 19]\n",
    "Sample_df_19"
   ]
  }
 ],
 "metadata": {
  "kernelspec": {
   "display_name": "Python 3 (ipykernel)",
   "language": "python",
   "name": "python3"
  },
  "language_info": {
   "codemirror_mode": {
    "name": "ipython",
    "version": 3
   },
   "file_extension": ".py",
   "mimetype": "text/x-python",
   "name": "python",
   "nbconvert_exporter": "python",
   "pygments_lexer": "ipython3",
   "version": "3.11.5"
  }
 },
 "nbformat": 4,
 "nbformat_minor": 5
}
