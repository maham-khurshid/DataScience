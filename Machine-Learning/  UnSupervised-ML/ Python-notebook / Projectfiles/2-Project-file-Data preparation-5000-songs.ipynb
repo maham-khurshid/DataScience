{
 "cells": [
  {
   "cell_type": "code",
   "execution_count": null,
   "id": "50fa2e99-49dd-4a45-be69-f97d2c8e1ddf",
   "metadata": {},
   "outputs": [],
   "source": [
    "#Data Preparation "
   ]
  },
  {
   "cell_type": "code",
   "execution_count": 1,
   "id": "01f83899-c3f3-4d36-a041-e6cb1e9ce90a",
   "metadata": {
    "tags": []
   },
   "outputs": [],
   "source": [
    "#importing libraries\n",
    "import pandas as pd\n",
    "from sklearn.preprocessing import MinMaxScaler\n",
    "from sklearn.preprocessing import StandardScaler\n",
    "from sklearn.preprocessing import RobustScaler\n",
    "from sklearn.preprocessing import PowerTransformer\n",
    "from sklearn.preprocessing import QuantileTransformer"
   ]
  },
  {
   "cell_type": "code",
   "execution_count": 9,
   "id": "63365262-b5fc-4f35-a17f-be72b1e59316",
   "metadata": {
    "tags": []
   },
   "outputs": [],
   "source": [
    "# csv file of 5000 songs \n",
    "df_5000 = pd.read_csv(\"df_audio_features_5000.csv\")\n"
   ]
  },
  {
   "cell_type": "code",
   "execution_count": null,
   "id": "9461c693-4099-4959-84e9-56b1ea5aa8fe",
   "metadata": {},
   "outputs": [],
   "source": [
    "#Inspecting the DataFrame to Clean it"
   ]
  },
  {
   "cell_type": "code",
   "execution_count": 10,
   "id": "3ffd3c24-8951-49e3-b1e2-6bff2b543289",
   "metadata": {
    "tags": []
   },
   "outputs": [
    {
     "data": {
      "text/html": [
       "<div>\n",
       "<style scoped>\n",
       "    .dataframe tbody tr th:only-of-type {\n",
       "        vertical-align: middle;\n",
       "    }\n",
       "\n",
       "    .dataframe tbody tr th {\n",
       "        vertical-align: top;\n",
       "    }\n",
       "\n",
       "    .dataframe thead th {\n",
       "        text-align: right;\n",
       "    }\n",
       "</style>\n",
       "<table border=\"1\" class=\"dataframe\">\n",
       "  <thead>\n",
       "    <tr style=\"text-align: right;\">\n",
       "      <th></th>\n",
       "      <th>name</th>\n",
       "      <th>artist</th>\n",
       "      <th>danceability</th>\n",
       "      <th>energy</th>\n",
       "      <th>key</th>\n",
       "      <th>loudness</th>\n",
       "      <th>mode</th>\n",
       "      <th>speechiness</th>\n",
       "      <th>acousticness</th>\n",
       "      <th>instrumentalness</th>\n",
       "      <th>liveness</th>\n",
       "      <th>valence</th>\n",
       "      <th>tempo</th>\n",
       "      <th>type</th>\n",
       "      <th>duration_ms</th>\n",
       "      <th>time_signature</th>\n",
       "      <th>id</th>\n",
       "      <th>html</th>\n",
       "    </tr>\n",
       "  </thead>\n",
       "  <tbody>\n",
       "    <tr>\n",
       "      <th>471</th>\n",
       "      <td>Yaad-E-Nabi Gulshan Mehka                     ...</td>\n",
       "      <td>Nusrat Fateh Ali Khan</td>\n",
       "      <td>0.324</td>\n",
       "      <td>0.7260</td>\n",
       "      <td>0</td>\n",
       "      <td>-6.298</td>\n",
       "      <td>1</td>\n",
       "      <td>0.0329</td>\n",
       "      <td>0.00844</td>\n",
       "      <td>0.000000</td>\n",
       "      <td>0.0839</td>\n",
       "      <td>0.3560</td>\n",
       "      <td>115.891</td>\n",
       "      <td></td>\n",
       "      <td>286717</td>\n",
       "      <td>1</td>\n",
       "      <td>2Vsd9OvQoupID4ed9tWvZK</td>\n",
       "      <td>https://open.spotify.com/track/2Vsd9OvQoupID4e...</td>\n",
       "    </tr>\n",
       "    <tr>\n",
       "      <th>861</th>\n",
       "      <td>Jailhouse Rock                                ...</td>\n",
       "      <td>Elvis Presley</td>\n",
       "      <td>0.647</td>\n",
       "      <td>0.5820</td>\n",
       "      <td>10</td>\n",
       "      <td>-9.538</td>\n",
       "      <td>0</td>\n",
       "      <td>0.0755</td>\n",
       "      <td>0.41000</td>\n",
       "      <td>0.000002</td>\n",
       "      <td>0.0715</td>\n",
       "      <td>0.9150</td>\n",
       "      <td>167.396</td>\n",
       "      <td></td>\n",
       "      <td>146480</td>\n",
       "      <td>4</td>\n",
       "      <td>4gphxUgq0JSFv2BCLhNDiE</td>\n",
       "      <td>https://open.spotify.com/track/4gphxUgq0JSFv2B...</td>\n",
       "    </tr>\n",
       "    <tr>\n",
       "      <th>2238</th>\n",
       "      <td>Hypnotize - 2014 Remaster                     ...</td>\n",
       "      <td>The Notorious B.I.G.</td>\n",
       "      <td>0.901</td>\n",
       "      <td>0.6970</td>\n",
       "      <td>9</td>\n",
       "      <td>-3.439</td>\n",
       "      <td>1</td>\n",
       "      <td>0.2800</td>\n",
       "      <td>0.14500</td>\n",
       "      <td>0.000000</td>\n",
       "      <td>0.2870</td>\n",
       "      <td>0.6700</td>\n",
       "      <td>93.941</td>\n",
       "      <td></td>\n",
       "      <td>229827</td>\n",
       "      <td>4</td>\n",
       "      <td>7KwZNVEaqikRSBSpyhXK2j</td>\n",
       "      <td>https://open.spotify.com/track/7KwZNVEaqikRSBS...</td>\n",
       "    </tr>\n",
       "    <tr>\n",
       "      <th>2220</th>\n",
       "      <td>Lose Yourself - From \"8 Mile\" Soundtrack      ...</td>\n",
       "      <td>Eminem</td>\n",
       "      <td>0.701</td>\n",
       "      <td>0.7280</td>\n",
       "      <td>2</td>\n",
       "      <td>-4.554</td>\n",
       "      <td>1</td>\n",
       "      <td>0.2550</td>\n",
       "      <td>0.00971</td>\n",
       "      <td>0.001150</td>\n",
       "      <td>0.3610</td>\n",
       "      <td>0.0591</td>\n",
       "      <td>171.388</td>\n",
       "      <td></td>\n",
       "      <td>326467</td>\n",
       "      <td>4</td>\n",
       "      <td>7w9bgPAmPTtrkt2v16QWvQ</td>\n",
       "      <td>https://open.spotify.com/track/7w9bgPAmPTtrkt2...</td>\n",
       "    </tr>\n",
       "    <tr>\n",
       "      <th>1945</th>\n",
       "      <td>Despacito                                     ...</td>\n",
       "      <td>Beloved Melodies</td>\n",
       "      <td>0.293</td>\n",
       "      <td>0.0269</td>\n",
       "      <td>11</td>\n",
       "      <td>-24.601</td>\n",
       "      <td>0</td>\n",
       "      <td>0.0410</td>\n",
       "      <td>0.99200</td>\n",
       "      <td>0.940000</td>\n",
       "      <td>0.2940</td>\n",
       "      <td>0.1100</td>\n",
       "      <td>163.550</td>\n",
       "      <td></td>\n",
       "      <td>162500</td>\n",
       "      <td>4</td>\n",
       "      <td>7pOsHlryIA2ewqYHZoXsjp</td>\n",
       "      <td>https://open.spotify.com/track/7pOsHlryIA2ewqY...</td>\n",
       "    </tr>\n",
       "  </tbody>\n",
       "</table>\n",
       "</div>"
      ],
      "text/plain": [
       "     name                                                                                                                                                                               \\\n",
       "471   Yaad-E-Nabi Gulshan Mehka                     ...                                                                                                                                  \n",
       "861   Jailhouse Rock                                ...                                                                                                                                  \n",
       "2238  Hypnotize - 2014 Remaster                     ...                                                                                                                                  \n",
       "2220  Lose Yourself - From \"8 Mile\" Soundtrack      ...                                                                                                                                  \n",
       "1945  Despacito                                     ...                                                                                                                                  \n",
       "\n",
       "      artist                                            danceability   \\\n",
       "471   Nusrat Fateh Ali Khan                                     0.324   \n",
       "861   Elvis Presley                                             0.647   \n",
       "2238  The Notorious B.I.G.                                      0.901   \n",
       "2220  Eminem                                                    0.701   \n",
       "1945  Beloved Melodies                                          0.293   \n",
       "\n",
       "      energy     key   loudness   mode   speechiness   acousticness   \\\n",
       "471      0.7260     0     -6.298      1        0.0329        0.00844   \n",
       "861      0.5820    10     -9.538      0        0.0755        0.41000   \n",
       "2238     0.6970     9     -3.439      1        0.2800        0.14500   \n",
       "2220     0.7280     2     -4.554      1        0.2550        0.00971   \n",
       "1945     0.0269    11    -24.601      0        0.0410        0.99200   \n",
       "\n",
       "      instrumentalness   liveness   valence   tempo     type   duration_ms   \\\n",
       "471            0.000000     0.0839    0.3560   115.891               286717   \n",
       "861            0.000002     0.0715    0.9150   167.396               146480   \n",
       "2238           0.000000     0.2870    0.6700    93.941               229827   \n",
       "2220           0.001150     0.3610    0.0591   171.388               326467   \n",
       "1945           0.940000     0.2940    0.1100   163.550               162500   \n",
       "\n",
       "      time_signature   id                       \\\n",
       "471                 1  2Vsd9OvQoupID4ed9tWvZK    \n",
       "861                 4  4gphxUgq0JSFv2BCLhNDiE    \n",
       "2238                4  7KwZNVEaqikRSBSpyhXK2j    \n",
       "2220                4  7w9bgPAmPTtrkt2v16QWvQ    \n",
       "1945                4  7pOsHlryIA2ewqYHZoXsjp    \n",
       "\n",
       "                                                   html  \n",
       "471   https://open.spotify.com/track/2Vsd9OvQoupID4e...  \n",
       "861   https://open.spotify.com/track/4gphxUgq0JSFv2B...  \n",
       "2238  https://open.spotify.com/track/7KwZNVEaqikRSBS...  \n",
       "2220  https://open.spotify.com/track/7w9bgPAmPTtrkt2...  \n",
       "1945  https://open.spotify.com/track/7pOsHlryIA2ewqY...  "
      ]
     },
     "execution_count": 10,
     "metadata": {},
     "output_type": "execute_result"
    }
   ],
   "source": [
    "df_5000.sample(5)"
   ]
  },
  {
   "cell_type": "markdown",
   "id": "24009365-10ff-4d4f-adb2-c51ef3bd9562",
   "metadata": {},
   "source": [
    "1- Combine artist and name into one column  \n",
    "2 - droping the other 2 columns with Dtype = object ('id','html'), we need only numbers... drop 'key', 'mode', 'type', 'duration_ms', 'time_signature', since they seem meaningless for us."
   ]
  },
  {
   "cell_type": "code",
   "execution_count": null,
   "id": "e6d60df4-abc4-415e-927b-730cbb5a1da4",
   "metadata": {},
   "outputs": [],
   "source": [
    "#preparing data of 5000 songs"
   ]
  },
  {
   "cell_type": "code",
   "execution_count": 11,
   "id": "eca5db2e-a8f3-4507-894c-c028e53c1e89",
   "metadata": {
    "tags": []
   },
   "outputs": [],
   "source": [
    "df_5000.columns = df_5000.columns.str.strip()"
   ]
  },
  {
   "cell_type": "code",
   "execution_count": 12,
   "id": "69c75e50-9d3f-4b62-915b-57f820141122",
   "metadata": {
    "tags": []
   },
   "outputs": [],
   "source": [
    "df_5000['title'] = df_5000['name'] + ' - ' + df_5000['artist']"
   ]
  },
  {
   "cell_type": "code",
   "execution_count": 13,
   "id": "46ff24b3-b720-4f9d-8357-2a26e55b4e77",
   "metadata": {
    "tags": []
   },
   "outputs": [],
   "source": [
    "clustersongs_5000 = df_5000[['title','danceability','energy','key','loudness','mode','speechiness','acousticness','instrumentalness','liveness','time_signature','valence','tempo']]"
   ]
  },
  {
   "cell_type": "code",
   "execution_count": 14,
   "id": "8fb3a0ce-92a6-451f-9768-3e30d2cc71dc",
   "metadata": {
    "tags": []
   },
   "outputs": [],
   "source": [
    "clustersongs_5000.set_index('title', inplace=True)"
   ]
  },
  {
   "cell_type": "code",
   "execution_count": 15,
   "id": "ae15f438-c281-40c2-83b6-8bdcbcb34846",
   "metadata": {
    "tags": []
   },
   "outputs": [],
   "source": [
    "clustersongs_5000.to_csv(\"C:\\\\Users\\\\Lenovo\\\\Downloads\\\\df_audio_features_5000.csv\")"
   ]
  },
  {
   "cell_type": "code",
   "execution_count": null,
   "id": "0d9e654e-548c-4491-bffd-b4687ffcf5b2",
   "metadata": {},
   "outputs": [],
   "source": [
    "#Different Scalling on the csv"
   ]
  },
  {
   "cell_type": "markdown",
   "id": "01e4cfad-fe53-4e4f-a98c-7a4b6f13e7fa",
   "metadata": {},
   "source": [
    "1.MinMax Scalling"
   ]
  },
  {
   "cell_type": "code",
   "execution_count": 17,
   "id": "424ac337-1a34-4e5d-b4bf-83146a3c2703",
   "metadata": {
    "tags": []
   },
   "outputs": [],
   "source": [
    "# Create a MinMaxScaler instance\n",
    "my_min_max = MinMaxScaler()\n",
    "\n",
    "# Assuming you have already loaded your 'clustersongs_5000' DataFrame\n",
    "my_min_max.fit(clustersongs_5000)\n",
    "minmax_5000_df = my_min_max.transform(clustersongs_5000)\n",
    "\n",
    "# Create a DataFrame from the scaled data\n",
    "minmax_5000 = pd.DataFrame(minmax_5000_df,\n",
    "                            index=clustersongs_5000.index,\n",
    "                            columns=clustersongs_5000.columns)\n",
    "\n",
    "# Save the scaled data to a CSV file\n",
    "minmax_5000.to_csv('5000min_max.csv')"
   ]
  },
  {
   "cell_type": "code",
   "execution_count": null,
   "id": "ccc0ad36-f789-438a-83ec-a8622795aaa8",
   "metadata": {},
   "outputs": [],
   "source": [
    "# Robust:"
   ]
  },
  {
   "cell_type": "code",
   "execution_count": 21,
   "id": "13d26d7c-2982-4b4d-8d0f-fa5f9b1fcc48",
   "metadata": {
    "tags": []
   },
   "outputs": [],
   "source": [
    "\n",
    "# Create a RobustScaler instance\n",
    "robust = RobustScaler()\n",
    "\n",
    "# Assuming you have already loaded your 'clustersongs_5000' DataFrame\n",
    "robust_5000 = robust.fit_transform(clustersongs_5000)\n",
    "\n",
    "# Create a DataFrame from the scaled data\n",
    "robust_5000_df = pd.DataFrame(robust_5000,\n",
    "                              index=clustersongs_5000.index,\n",
    "                              columns=clustersongs_5000.columns)\n",
    "\n",
    "# Save the scaled data to a CSV file\n",
    "robust_5000_df.to_csv('5000robust.csv')"
   ]
  }
 ],
 "metadata": {
  "kernelspec": {
   "display_name": "Python 3 (ipykernel)",
   "language": "python",
   "name": "python3"
  },
  "language_info": {
   "codemirror_mode": {
    "name": "ipython",
    "version": 3
   },
   "file_extension": ".py",
   "mimetype": "text/x-python",
   "name": "python",
   "nbconvert_exporter": "python",
   "pygments_lexer": "ipython3",
   "version": "3.11.5"
  }
 },
 "nbformat": 4,
 "nbformat_minor": 5
}
