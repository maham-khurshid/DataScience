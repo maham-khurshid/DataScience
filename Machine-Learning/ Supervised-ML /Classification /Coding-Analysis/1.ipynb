{
 "cells": [
  {
   "cell_type": "code",
   "execution_count": 2,
   "id": "4127253b-2f0e-467d-8dcd-05a4ac357767",
   "metadata": {},
   "outputs": [],
   "source": [
    "#creating an intuition-based model"
   ]
  },
  {
   "cell_type": "markdown",
   "id": "b13f17f1-c620-4b89-8a08-c9d8d221a17c",
   "metadata": {},
   "source": [
    "#data description\n",
    "\n",
    "LotFrontage: Linear feet of street connected to property\n",
    "\n",
    "LotArea: Lot size in square feet\n",
    "\n",
    "TotalBsmtSF: Total square feet of basement area\n",
    "\n",
    "BedroomAbvGr: Bedrooms above grade (does NOT include basement bedrooms)\n",
    "\n",
    "Fireplaces: Number of fireplaces\n",
    "\n",
    "PoolArea: Pool area in square feet\n",
    "\n",
    "GarageCars: Size of garage in car capacity\n",
    "\n",
    "WoodDeckSF: Wood deck area in square feet\n",
    "\n",
    "ScreenPorch: Screen porch area in square feet"
   ]
  },
  {
   "cell_type": "code",
   "execution_count": 3,
   "id": "e0d6ce29-e5a6-4afc-9ad5-01735e4d11d0",
   "metadata": {},
   "outputs": [],
   "source": [
    "#Data reading & first glance"
   ]
  },
  {
   "cell_type": "code",
   "execution_count": 4,
   "id": "e6f3ec99-bbeb-4584-92bc-e8d3b5f53f7d",
   "metadata": {
    "tags": []
   },
   "outputs": [],
   "source": [
    "import pandas as pd"
   ]
  },
  {
   "cell_type": "code",
   "execution_count": 5,
   "id": "8c29d117-25ef-4815-940a-123bc87e6873",
   "metadata": {
    "tags": []
   },
   "outputs": [
    {
     "data": {
      "text/plain": [
       "Index(['LotArea', 'LotFrontage', 'TotalBsmtSF', 'BedroomAbvGr', 'Fireplaces',\n",
       "       'PoolArea', 'GarageCars', 'WoodDeckSF', 'ScreenPorch', 'Expensive'],\n",
       "      dtype='object')"
      ]
     },
     "execution_count": 5,
     "metadata": {},
     "output_type": "execute_result"
    }
   ],
   "source": [
    "path = \"housing-classification-iter-0-2.csv\"\n",
    "housing_classification = pd.read_csv(path)\n",
    "housing_classification.columns\n",
    "# data"
   ]
  },
  {
   "cell_type": "code",
   "execution_count": 6,
   "id": "5c7ace17-b108-4a9f-983a-c39bee4319fc",
   "metadata": {
    "tags": []
   },
   "outputs": [
    {
     "data": {
      "text/html": [
       "<div>\n",
       "<style scoped>\n",
       "    .dataframe tbody tr th:only-of-type {\n",
       "        vertical-align: middle;\n",
       "    }\n",
       "\n",
       "    .dataframe tbody tr th {\n",
       "        vertical-align: top;\n",
       "    }\n",
       "\n",
       "    .dataframe thead th {\n",
       "        text-align: right;\n",
       "    }\n",
       "</style>\n",
       "<table border=\"1\" class=\"dataframe\">\n",
       "  <thead>\n",
       "    <tr style=\"text-align: right;\">\n",
       "      <th></th>\n",
       "      <th>LotArea</th>\n",
       "      <th>LotFrontage</th>\n",
       "      <th>TotalBsmtSF</th>\n",
       "      <th>BedroomAbvGr</th>\n",
       "      <th>Fireplaces</th>\n",
       "      <th>PoolArea</th>\n",
       "      <th>GarageCars</th>\n",
       "      <th>WoodDeckSF</th>\n",
       "      <th>ScreenPorch</th>\n",
       "      <th>Expensive</th>\n",
       "    </tr>\n",
       "  </thead>\n",
       "  <tbody>\n",
       "    <tr>\n",
       "      <th>0</th>\n",
       "      <td>8450</td>\n",
       "      <td>65.0</td>\n",
       "      <td>856</td>\n",
       "      <td>3</td>\n",
       "      <td>0</td>\n",
       "      <td>0</td>\n",
       "      <td>2</td>\n",
       "      <td>0</td>\n",
       "      <td>0</td>\n",
       "      <td>0</td>\n",
       "    </tr>\n",
       "    <tr>\n",
       "      <th>1</th>\n",
       "      <td>9600</td>\n",
       "      <td>80.0</td>\n",
       "      <td>1262</td>\n",
       "      <td>3</td>\n",
       "      <td>1</td>\n",
       "      <td>0</td>\n",
       "      <td>2</td>\n",
       "      <td>298</td>\n",
       "      <td>0</td>\n",
       "      <td>0</td>\n",
       "    </tr>\n",
       "    <tr>\n",
       "      <th>2</th>\n",
       "      <td>11250</td>\n",
       "      <td>68.0</td>\n",
       "      <td>920</td>\n",
       "      <td>3</td>\n",
       "      <td>1</td>\n",
       "      <td>0</td>\n",
       "      <td>2</td>\n",
       "      <td>0</td>\n",
       "      <td>0</td>\n",
       "      <td>0</td>\n",
       "    </tr>\n",
       "    <tr>\n",
       "      <th>3</th>\n",
       "      <td>9550</td>\n",
       "      <td>60.0</td>\n",
       "      <td>756</td>\n",
       "      <td>3</td>\n",
       "      <td>1</td>\n",
       "      <td>0</td>\n",
       "      <td>3</td>\n",
       "      <td>0</td>\n",
       "      <td>0</td>\n",
       "      <td>0</td>\n",
       "    </tr>\n",
       "    <tr>\n",
       "      <th>4</th>\n",
       "      <td>14260</td>\n",
       "      <td>84.0</td>\n",
       "      <td>1145</td>\n",
       "      <td>4</td>\n",
       "      <td>1</td>\n",
       "      <td>0</td>\n",
       "      <td>3</td>\n",
       "      <td>192</td>\n",
       "      <td>0</td>\n",
       "      <td>0</td>\n",
       "    </tr>\n",
       "  </tbody>\n",
       "</table>\n",
       "</div>"
      ],
      "text/plain": [
       "   LotArea  LotFrontage  TotalBsmtSF  BedroomAbvGr  Fireplaces  PoolArea  \\\n",
       "0     8450         65.0          856             3           0         0   \n",
       "1     9600         80.0         1262             3           1         0   \n",
       "2    11250         68.0          920             3           1         0   \n",
       "3     9550         60.0          756             3           1         0   \n",
       "4    14260         84.0         1145             4           1         0   \n",
       "\n",
       "   GarageCars  WoodDeckSF  ScreenPorch  Expensive  \n",
       "0           2           0            0          0  \n",
       "1           2         298            0          0  \n",
       "2           2           0            0          0  \n",
       "3           3           0            0          0  \n",
       "4           3         192            0          0  "
      ]
     },
     "execution_count": 6,
     "metadata": {},
     "output_type": "execute_result"
    }
   ],
   "source": [
    "housing_classification.head()"
   ]
  },
  {
   "cell_type": "code",
   "execution_count": 7,
   "id": "92b9aa96-4f2f-47c6-a703-ace6603c36f4",
   "metadata": {
    "tags": []
   },
   "outputs": [],
   "source": [
    "y = housing_classification.pop('Expensive') "
   ]
  },
  {
   "cell_type": "code",
   "execution_count": 8,
   "id": "59b6c334-3978-43d0-9f89-2c6dde936e71",
   "metadata": {
    "tags": []
   },
   "outputs": [],
   "source": [
    "X = housing_classification"
   ]
  },
  {
   "cell_type": "code",
   "execution_count": 9,
   "id": "a68642e5-4f58-40a6-9182-e5c6d996c9f3",
   "metadata": {
    "tags": []
   },
   "outputs": [],
   "source": [
    "# from sklearn:\n",
    "from sklearn.model_selection import train_test_split\n",
    "\n",
    "X_train, X_test, y_train, y_test = train_test_split(X, y, test_size=0.25, random_state=123)"
   ]
  },
  {
   "cell_type": "code",
   "execution_count": 10,
   "id": "69ef7ac4-fed8-4adc-825d-818fa282710b",
   "metadata": {
    "tags": []
   },
   "outputs": [
    {
     "data": {
      "text/plain": [
       "[      LotArea  LotFrontage  TotalBsmtSF  BedroomAbvGr  Fireplaces  PoolArea  \\\n",
       " 1446    26142          NaN         1188             3           0         0   \n",
       " 1123     9405         50.0          698             2           0         0   \n",
       " 186      9947          NaN         1188             3           0         0   \n",
       " 1020     7024         60.0         1132             2           0         0   \n",
       " 67      10665         72.0         1453             3           0         0   \n",
       " ...       ...          ...          ...           ...         ...       ...   \n",
       " 1041     9130          NaN          800             4           0         0   \n",
       " 1122     8926          NaN          672             3           0         0   \n",
       " 1346    20781          NaN         1568             3           1         0   \n",
       " 1406     8445         70.0          768             2           0         0   \n",
       " 1389     6000         60.0          735             3           1         0   \n",
       " \n",
       "       GarageCars  WoodDeckSF  ScreenPorch  \n",
       " 1446           1         261            0  \n",
       " 1123           0           0            0  \n",
       " 186            2         168            0  \n",
       " 1020           2         252            0  \n",
       " 67             2         144            0  \n",
       " ...          ...         ...          ...  \n",
       " 1041           2           0            0  \n",
       " 1122           1          64          160  \n",
       " 1346           2           0            0  \n",
       " 1406           2          58            0  \n",
       " 1389           2           0            0  \n",
       " \n",
       " [1095 rows x 9 columns],\n",
       "       LotArea  LotFrontage  TotalBsmtSF  BedroomAbvGr  Fireplaces  PoolArea  \\\n",
       " 147      9505          NaN          884             3           1         0   \n",
       " 676      9600         60.0         1095             4           0         0   \n",
       " 1304     3363         32.0          976             3           0         0   \n",
       " 1372     9750         75.0         1108             3           1         0   \n",
       " 1427    10930         60.0          913             3           1         0   \n",
       " ...       ...          ...          ...           ...         ...       ...   \n",
       " 705      5600         70.0            0             3           0         0   \n",
       " 1401     7415         62.0          839             3           1         0   \n",
       " 55      10175        100.0         1425             3           1         0   \n",
       " 1315    11075         85.0          952             4           2         0   \n",
       " 879      7000          NaN          864             3           0         0   \n",
       " \n",
       "       GarageCars  WoodDeckSF  ScreenPorch  \n",
       " 147            2         144            0  \n",
       " 676            3           0            0  \n",
       " 1304           2           0            0  \n",
       " 1372           2         253            0  \n",
       " 1427           1           0            0  \n",
       " ...          ...         ...          ...  \n",
       " 705            0           0            0  \n",
       " 1401           2         100            0  \n",
       " 55             2           0            0  \n",
       " 1315           2         280            0  \n",
       " 879            1           0            0  \n",
       " \n",
       " [365 rows x 9 columns],\n",
       " 1446    0\n",
       " 1123    0\n",
       " 186     0\n",
       " 1020    0\n",
       " 67      0\n",
       "        ..\n",
       " 1041    0\n",
       " 1122    0\n",
       " 1346    1\n",
       " 1406    0\n",
       " 1389    0\n",
       " Name: Expensive, Length: 1095, dtype: int64,\n",
       " 147     0\n",
       " 676     0\n",
       " 1304    0\n",
       " 1372    1\n",
       " 1427    0\n",
       "        ..\n",
       " 705     0\n",
       " 1401    0\n",
       " 55      0\n",
       " 1315    0\n",
       " 879     0\n",
       " Name: Expensive, Length: 365, dtype: int64]"
      ]
     },
     "execution_count": 10,
     "metadata": {},
     "output_type": "execute_result"
    }
   ],
   "source": [
    "train_test_split(X, y, test_size=0.25, random_state=123)"
   ]
  },
  {
   "cell_type": "code",
   "execution_count": 11,
   "id": "f12b7b89-6656-4dce-a138-6a16a66d6d3f",
   "metadata": {},
   "outputs": [],
   "source": [
    "##4. Exploration of the train"
   ]
  },
  {
   "cell_type": "code",
   "execution_count": 12,
   "id": "b474709e-d8a7-4d4f-a4c8-5dd40d52f8a1",
   "metadata": {
    "tags": []
   },
   "outputs": [
    {
     "data": {
      "text/html": [
       "<div>\n",
       "<style scoped>\n",
       "    .dataframe tbody tr th:only-of-type {\n",
       "        vertical-align: middle;\n",
       "    }\n",
       "\n",
       "    .dataframe tbody tr th {\n",
       "        vertical-align: top;\n",
       "    }\n",
       "\n",
       "    .dataframe thead th {\n",
       "        text-align: right;\n",
       "    }\n",
       "</style>\n",
       "<table border=\"1\" class=\"dataframe\">\n",
       "  <thead>\n",
       "    <tr style=\"text-align: right;\">\n",
       "      <th></th>\n",
       "      <th>LotArea</th>\n",
       "      <th>LotFrontage</th>\n",
       "      <th>TotalBsmtSF</th>\n",
       "      <th>BedroomAbvGr</th>\n",
       "      <th>Fireplaces</th>\n",
       "      <th>PoolArea</th>\n",
       "      <th>GarageCars</th>\n",
       "      <th>WoodDeckSF</th>\n",
       "      <th>ScreenPorch</th>\n",
       "      <th>Expensive</th>\n",
       "    </tr>\n",
       "  </thead>\n",
       "  <tbody>\n",
       "    <tr>\n",
       "      <th>1446</th>\n",
       "      <td>26142</td>\n",
       "      <td>NaN</td>\n",
       "      <td>1188</td>\n",
       "      <td>3</td>\n",
       "      <td>0</td>\n",
       "      <td>0</td>\n",
       "      <td>1</td>\n",
       "      <td>261</td>\n",
       "      <td>0</td>\n",
       "      <td>0</td>\n",
       "    </tr>\n",
       "    <tr>\n",
       "      <th>1123</th>\n",
       "      <td>9405</td>\n",
       "      <td>50.0</td>\n",
       "      <td>698</td>\n",
       "      <td>2</td>\n",
       "      <td>0</td>\n",
       "      <td>0</td>\n",
       "      <td>0</td>\n",
       "      <td>0</td>\n",
       "      <td>0</td>\n",
       "      <td>0</td>\n",
       "    </tr>\n",
       "    <tr>\n",
       "      <th>186</th>\n",
       "      <td>9947</td>\n",
       "      <td>NaN</td>\n",
       "      <td>1188</td>\n",
       "      <td>3</td>\n",
       "      <td>0</td>\n",
       "      <td>0</td>\n",
       "      <td>2</td>\n",
       "      <td>168</td>\n",
       "      <td>0</td>\n",
       "      <td>0</td>\n",
       "    </tr>\n",
       "    <tr>\n",
       "      <th>1020</th>\n",
       "      <td>7024</td>\n",
       "      <td>60.0</td>\n",
       "      <td>1132</td>\n",
       "      <td>2</td>\n",
       "      <td>0</td>\n",
       "      <td>0</td>\n",
       "      <td>2</td>\n",
       "      <td>252</td>\n",
       "      <td>0</td>\n",
       "      <td>0</td>\n",
       "    </tr>\n",
       "    <tr>\n",
       "      <th>67</th>\n",
       "      <td>10665</td>\n",
       "      <td>72.0</td>\n",
       "      <td>1453</td>\n",
       "      <td>3</td>\n",
       "      <td>0</td>\n",
       "      <td>0</td>\n",
       "      <td>2</td>\n",
       "      <td>144</td>\n",
       "      <td>0</td>\n",
       "      <td>0</td>\n",
       "    </tr>\n",
       "    <tr>\n",
       "      <th>...</th>\n",
       "      <td>...</td>\n",
       "      <td>...</td>\n",
       "      <td>...</td>\n",
       "      <td>...</td>\n",
       "      <td>...</td>\n",
       "      <td>...</td>\n",
       "      <td>...</td>\n",
       "      <td>...</td>\n",
       "      <td>...</td>\n",
       "      <td>...</td>\n",
       "    </tr>\n",
       "    <tr>\n",
       "      <th>1041</th>\n",
       "      <td>9130</td>\n",
       "      <td>NaN</td>\n",
       "      <td>800</td>\n",
       "      <td>4</td>\n",
       "      <td>0</td>\n",
       "      <td>0</td>\n",
       "      <td>2</td>\n",
       "      <td>0</td>\n",
       "      <td>0</td>\n",
       "      <td>0</td>\n",
       "    </tr>\n",
       "    <tr>\n",
       "      <th>1122</th>\n",
       "      <td>8926</td>\n",
       "      <td>NaN</td>\n",
       "      <td>672</td>\n",
       "      <td>3</td>\n",
       "      <td>0</td>\n",
       "      <td>0</td>\n",
       "      <td>1</td>\n",
       "      <td>64</td>\n",
       "      <td>160</td>\n",
       "      <td>0</td>\n",
       "    </tr>\n",
       "    <tr>\n",
       "      <th>1346</th>\n",
       "      <td>20781</td>\n",
       "      <td>NaN</td>\n",
       "      <td>1568</td>\n",
       "      <td>3</td>\n",
       "      <td>1</td>\n",
       "      <td>0</td>\n",
       "      <td>2</td>\n",
       "      <td>0</td>\n",
       "      <td>0</td>\n",
       "      <td>1</td>\n",
       "    </tr>\n",
       "    <tr>\n",
       "      <th>1406</th>\n",
       "      <td>8445</td>\n",
       "      <td>70.0</td>\n",
       "      <td>768</td>\n",
       "      <td>2</td>\n",
       "      <td>0</td>\n",
       "      <td>0</td>\n",
       "      <td>2</td>\n",
       "      <td>58</td>\n",
       "      <td>0</td>\n",
       "      <td>0</td>\n",
       "    </tr>\n",
       "    <tr>\n",
       "      <th>1389</th>\n",
       "      <td>6000</td>\n",
       "      <td>60.0</td>\n",
       "      <td>735</td>\n",
       "      <td>3</td>\n",
       "      <td>1</td>\n",
       "      <td>0</td>\n",
       "      <td>2</td>\n",
       "      <td>0</td>\n",
       "      <td>0</td>\n",
       "      <td>0</td>\n",
       "    </tr>\n",
       "  </tbody>\n",
       "</table>\n",
       "<p>1095 rows × 10 columns</p>\n",
       "</div>"
      ],
      "text/plain": [
       "      LotArea  LotFrontage  TotalBsmtSF  BedroomAbvGr  Fireplaces  PoolArea  \\\n",
       "1446    26142          NaN         1188             3           0         0   \n",
       "1123     9405         50.0          698             2           0         0   \n",
       "186      9947          NaN         1188             3           0         0   \n",
       "1020     7024         60.0         1132             2           0         0   \n",
       "67      10665         72.0         1453             3           0         0   \n",
       "...       ...          ...          ...           ...         ...       ...   \n",
       "1041     9130          NaN          800             4           0         0   \n",
       "1122     8926          NaN          672             3           0         0   \n",
       "1346    20781          NaN         1568             3           1         0   \n",
       "1406     8445         70.0          768             2           0         0   \n",
       "1389     6000         60.0          735             3           1         0   \n",
       "\n",
       "      GarageCars  WoodDeckSF  ScreenPorch  Expensive  \n",
       "1446           1         261            0          0  \n",
       "1123           0           0            0          0  \n",
       "186            2         168            0          0  \n",
       "1020           2         252            0          0  \n",
       "67             2         144            0          0  \n",
       "...          ...         ...          ...        ...  \n",
       "1041           2           0            0          0  \n",
       "1122           1          64          160          0  \n",
       "1346           2           0            0          1  \n",
       "1406           2          58            0          0  \n",
       "1389           2           0            0          0  \n",
       "\n",
       "[1095 rows x 10 columns]"
      ]
     },
     "execution_count": 12,
     "metadata": {},
     "output_type": "execute_result"
    }
   ],
   "source": [
    "whole_train = pd.concat([X_train, y_train],axis=1)\n",
    "whole_train"
   ]
  },
  {
   "cell_type": "code",
   "execution_count": 13,
   "id": "12820afe-44a2-4c64-a05e-043a528617d3",
   "metadata": {},
   "outputs": [
    {
     "name": "stdout",
     "output_type": "stream",
     "text": [
      "<class 'pandas.core.frame.DataFrame'>\n",
      "Int64Index: 1095 entries, 1446 to 1389\n",
      "Data columns (total 10 columns):\n",
      " #   Column        Non-Null Count  Dtype  \n",
      "---  ------        --------------  -----  \n",
      " 0   LotArea       1095 non-null   int64  \n",
      " 1   LotFrontage   921 non-null    float64\n",
      " 2   TotalBsmtSF   1095 non-null   int64  \n",
      " 3   BedroomAbvGr  1095 non-null   int64  \n",
      " 4   Fireplaces    1095 non-null   int64  \n",
      " 5   PoolArea      1095 non-null   int64  \n",
      " 6   GarageCars    1095 non-null   int64  \n",
      " 7   WoodDeckSF    1095 non-null   int64  \n",
      " 8   ScreenPorch   1095 non-null   int64  \n",
      " 9   Expensive     1095 non-null   int64  \n",
      "dtypes: float64(1), int64(9)\n",
      "memory usage: 94.1 KB\n"
     ]
    }
   ],
   "source": [
    "whole_train.info()"
   ]
  },
  {
   "cell_type": "code",
   "execution_count": 14,
   "id": "4ea6de8d-6fa6-4008-8815-d531889c6b05",
   "metadata": {
    "tags": []
   },
   "outputs": [
    {
     "data": {
      "text/html": [
       "<div>\n",
       "<style scoped>\n",
       "    .dataframe tbody tr th:only-of-type {\n",
       "        vertical-align: middle;\n",
       "    }\n",
       "\n",
       "    .dataframe tbody tr th {\n",
       "        vertical-align: top;\n",
       "    }\n",
       "\n",
       "    .dataframe thead th {\n",
       "        text-align: right;\n",
       "    }\n",
       "</style>\n",
       "<table border=\"1\" class=\"dataframe\">\n",
       "  <thead>\n",
       "    <tr style=\"text-align: right;\">\n",
       "      <th></th>\n",
       "      <th>LotArea</th>\n",
       "      <th>LotFrontage</th>\n",
       "      <th>TotalBsmtSF</th>\n",
       "      <th>BedroomAbvGr</th>\n",
       "      <th>Fireplaces</th>\n",
       "      <th>PoolArea</th>\n",
       "      <th>GarageCars</th>\n",
       "      <th>WoodDeckSF</th>\n",
       "      <th>ScreenPorch</th>\n",
       "    </tr>\n",
       "    <tr>\n",
       "      <th>Expensive</th>\n",
       "      <th></th>\n",
       "      <th></th>\n",
       "      <th></th>\n",
       "      <th></th>\n",
       "      <th></th>\n",
       "      <th></th>\n",
       "      <th></th>\n",
       "      <th></th>\n",
       "      <th></th>\n",
       "    </tr>\n",
       "  </thead>\n",
       "  <tbody>\n",
       "    <tr>\n",
       "      <th>0</th>\n",
       "      <td>9556.461046</td>\n",
       "      <td>66.560664</td>\n",
       "      <td>969.213447</td>\n",
       "      <td>2.847385</td>\n",
       "      <td>0.518677</td>\n",
       "      <td>2.304162</td>\n",
       "      <td>1.614728</td>\n",
       "      <td>84.270011</td>\n",
       "      <td>13.305229</td>\n",
       "    </tr>\n",
       "    <tr>\n",
       "      <th>1</th>\n",
       "      <td>14704.943038</td>\n",
       "      <td>84.021739</td>\n",
       "      <td>1557.740506</td>\n",
       "      <td>3.018987</td>\n",
       "      <td>1.126582</td>\n",
       "      <td>8.183544</td>\n",
       "      <td>2.575949</td>\n",
       "      <td>171.974684</td>\n",
       "      <td>23.924051</td>\n",
       "    </tr>\n",
       "  </tbody>\n",
       "</table>\n",
       "</div>"
      ],
      "text/plain": [
       "                LotArea  LotFrontage  TotalBsmtSF  BedroomAbvGr  Fireplaces  \\\n",
       "Expensive                                                                     \n",
       "0           9556.461046    66.560664   969.213447      2.847385    0.518677   \n",
       "1          14704.943038    84.021739  1557.740506      3.018987    1.126582   \n",
       "\n",
       "           PoolArea  GarageCars  WoodDeckSF  ScreenPorch  \n",
       "Expensive                                                 \n",
       "0          2.304162    1.614728   84.270011    13.305229  \n",
       "1          8.183544    2.575949  171.974684    23.924051  "
      ]
     },
     "execution_count": 14,
     "metadata": {},
     "output_type": "execute_result"
    }
   ],
   "source": [
    "whole_train.groupby('Expensive').mean()"
   ]
  },
  {
   "cell_type": "code",
   "execution_count": 15,
   "id": "44d080b1-1a31-4c34-9868-d987ae2b81b6",
   "metadata": {
    "tags": []
   },
   "outputs": [
    {
     "data": {
      "text/html": [
       "<div>\n",
       "<style scoped>\n",
       "    .dataframe tbody tr th:only-of-type {\n",
       "        vertical-align: middle;\n",
       "    }\n",
       "\n",
       "    .dataframe tbody tr th {\n",
       "        vertical-align: top;\n",
       "    }\n",
       "\n",
       "    .dataframe thead th {\n",
       "        text-align: right;\n",
       "    }\n",
       "</style>\n",
       "<table border=\"1\" class=\"dataframe\">\n",
       "  <thead>\n",
       "    <tr style=\"text-align: right;\">\n",
       "      <th></th>\n",
       "      <th>LotArea</th>\n",
       "      <th>LotFrontage</th>\n",
       "      <th>TotalBsmtSF</th>\n",
       "      <th>BedroomAbvGr</th>\n",
       "      <th>Fireplaces</th>\n",
       "      <th>PoolArea</th>\n",
       "      <th>GarageCars</th>\n",
       "      <th>WoodDeckSF</th>\n",
       "      <th>ScreenPorch</th>\n",
       "    </tr>\n",
       "    <tr>\n",
       "      <th>Expensive</th>\n",
       "      <th></th>\n",
       "      <th></th>\n",
       "      <th></th>\n",
       "      <th></th>\n",
       "      <th></th>\n",
       "      <th></th>\n",
       "      <th></th>\n",
       "      <th></th>\n",
       "      <th></th>\n",
       "    </tr>\n",
       "  </thead>\n",
       "  <tbody>\n",
       "    <tr>\n",
       "      <th>0</th>\n",
       "      <td>164660</td>\n",
       "      <td>313.0</td>\n",
       "      <td>6110</td>\n",
       "      <td>8</td>\n",
       "      <td>3</td>\n",
       "      <td>648</td>\n",
       "      <td>4</td>\n",
       "      <td>736</td>\n",
       "      <td>440</td>\n",
       "    </tr>\n",
       "    <tr>\n",
       "      <th>1</th>\n",
       "      <td>215245</td>\n",
       "      <td>174.0</td>\n",
       "      <td>3200</td>\n",
       "      <td>5</td>\n",
       "      <td>2</td>\n",
       "      <td>738</td>\n",
       "      <td>4</td>\n",
       "      <td>857</td>\n",
       "      <td>480</td>\n",
       "    </tr>\n",
       "  </tbody>\n",
       "</table>\n",
       "</div>"
      ],
      "text/plain": [
       "           LotArea  LotFrontage  TotalBsmtSF  BedroomAbvGr  Fireplaces  \\\n",
       "Expensive                                                                \n",
       "0           164660        313.0         6110             8           3   \n",
       "1           215245        174.0         3200             5           2   \n",
       "\n",
       "           PoolArea  GarageCars  WoodDeckSF  ScreenPorch  \n",
       "Expensive                                                 \n",
       "0               648           4         736          440  \n",
       "1               738           4         857          480  "
      ]
     },
     "execution_count": 15,
     "metadata": {},
     "output_type": "execute_result"
    }
   ],
   "source": [
    "whole_train.groupby('Expensive').max()"
   ]
  },
  {
   "cell_type": "code",
   "execution_count": null,
   "id": "44d83ea2-f4c4-4bbb-913d-547461a957c1",
   "metadata": {},
   "outputs": [],
   "source": [
    "##5. create your intuitive model\n",
    "\n",
    "# expensive = 1 , Inexpensive = 0"
   ]
  },
  {
   "cell_type": "code",
   "execution_count": null,
   "id": "7053eb5c-f468-4d77-a289-8ffad3cafdbc",
   "metadata": {},
   "outputs": [],
   "source": [
    "##  everything is inexpensive"
   ]
  },
  {
   "cell_type": "code",
   "execution_count": 16,
   "id": "e0d4455a-0046-4256-9d7a-72396f8aae25",
   "metadata": {
    "tags": []
   },
   "outputs": [
    {
     "data": {
      "text/plain": [
       "0    1095\n",
       "dtype: int64"
      ]
     },
     "execution_count": 16,
     "metadata": {},
     "output_type": "execute_result"
    }
   ],
   "source": [
    "y_pred_train_Tim = pd.Series(0,index=X_train.index)\n",
    "y_pred_train_Tim.value_counts()"
   ]
  },
  {
   "cell_type": "code",
   "execution_count": null,
   "id": "7caedba2-8af3-4f64-90a1-a51bd61a242a",
   "metadata": {},
   "outputs": [],
   "source": [
    "## or   expensive houses have 2 or more garage places"
   ]
  },
  {
   "cell_type": "code",
   "execution_count": 17,
   "id": "1ead564a-e7e0-4c79-8854-d754e4d0988e",
   "metadata": {
    "tags": []
   },
   "outputs": [
    {
     "data": {
      "text/plain": [
       "0    963\n",
       "1    132\n",
       "dtype: int64"
      ]
     },
     "execution_count": 17,
     "metadata": {},
     "output_type": "execute_result"
    }
   ],
   "source": [
    "y_pred_train_bea = pd.Series(0,index=X_train.index)\n",
    "y_pred_train_bea[X_train['GarageCars'] > 2] = 1\n",
    "y_pred_train_bea.value_counts()"
   ]
  },
  {
   "cell_type": "code",
   "execution_count": null,
   "id": "3e1b2ac0-e203-4df0-9aa3-2c5645d195cc",
   "metadata": {},
   "outputs": [],
   "source": [
    "# 6 Make predictions for test"
   ]
  },
  {
   "cell_type": "code",
   "execution_count": 18,
   "id": "4ad694d5-8cdf-4459-a5cd-8000895a958a",
   "metadata": {
    "tags": []
   },
   "outputs": [
    {
     "data": {
      "text/plain": [
       "147     0\n",
       "676     0\n",
       "1304    0\n",
       "1372    0\n",
       "1427    0\n",
       "       ..\n",
       "705     0\n",
       "1401    0\n",
       "55      0\n",
       "1315    0\n",
       "879     0\n",
       "Length: 365, dtype: int64"
      ]
     },
     "execution_count": 18,
     "metadata": {},
     "output_type": "execute_result"
    }
   ],
   "source": [
    "# inexpensive\n",
    "y_pred_test_tim = pd.Series(0,index=X_test.index)\n",
    "y_pred_test_tim"
   ]
  },
  {
   "cell_type": "code",
   "execution_count": 19,
   "id": "ba4ddb61-635d-4ef4-9f43-42be5c14ec54",
   "metadata": {
    "tags": []
   },
   "outputs": [
    {
     "data": {
      "text/plain": [
       "0    311\n",
       "1     54\n",
       "dtype: int64"
      ]
     },
     "execution_count": 19,
     "metadata": {},
     "output_type": "execute_result"
    }
   ],
   "source": [
    "# garage one\n",
    "y_pred_test_bea = pd.Series(0,index=X_test.index)\n",
    "y_pred_test_bea[X_test['GarageCars'] > 2] = 1\n",
    "y_pred_test_bea.value_counts()"
   ]
  },
  {
   "cell_type": "code",
   "execution_count": null,
   "id": "1a5463c0-97e5-44f4-ad27-251532702f6d",
   "metadata": {},
   "outputs": [],
   "source": [
    "# 7. Evaluate your model on train - accuracy"
   ]
  },
  {
   "cell_type": "code",
   "execution_count": null,
   "id": "8dcab5f1-e14b-47c4-8b5a-bf7923715f47",
   "metadata": {},
   "outputs": [],
   "source": [
    "# inexpensive"
   ]
  },
  {
   "cell_type": "code",
   "execution_count": 20,
   "id": "c21580ba-fefa-4738-93fa-0e144eeb659e",
   "metadata": {
    "tags": []
   },
   "outputs": [],
   "source": [
    "from sklearn.metrics import accuracy_score"
   ]
  },
  {
   "cell_type": "code",
   "execution_count": 21,
   "id": "31621787-5f35-403f-a933-0551022f80a9",
   "metadata": {
    "tags": []
   },
   "outputs": [
    {
     "data": {
      "text/plain": [
       "85.57077625570776"
      ]
     },
     "execution_count": 21,
     "metadata": {},
     "output_type": "execute_result"
    }
   ],
   "source": [
    "tim_accuracy = accuracy_score(y_true=y_train,y_pred=y_pred_train_Tim)\n",
    "tim_accuracy * 100"
   ]
  },
  {
   "cell_type": "code",
   "execution_count": null,
   "id": "8a43555b-c1cd-4615-bf9e-dae98462ab34",
   "metadata": {},
   "outputs": [],
   "source": [
    "# garage one"
   ]
  },
  {
   "cell_type": "code",
   "execution_count": 22,
   "id": "8c459ba2-baca-48f4-978e-7dc39c9b8905",
   "metadata": {
    "tags": []
   },
   "outputs": [
    {
     "data": {
      "text/plain": [
       "90.31963470319636"
      ]
     },
     "execution_count": 22,
     "metadata": {},
     "output_type": "execute_result"
    }
   ],
   "source": [
    "bea_acccuracy_train = accuracy_score(y_true=y_train,y_pred=y_pred_train_bea)\n",
    "bea_acccuracy_train * 100"
   ]
  },
  {
   "cell_type": "code",
   "execution_count": null,
   "id": "54932069-19ca-4e37-a3f5-96d3cad93a5e",
   "metadata": {},
   "outputs": [],
   "source": [
    "## Evaluate your model on test - accuracy"
   ]
  },
  {
   "cell_type": "code",
   "execution_count": null,
   "id": "e0224f18-6561-44f0-8564-fcc17377b8ab",
   "metadata": {},
   "outputs": [],
   "source": [
    "# inexpensive"
   ]
  },
  {
   "cell_type": "code",
   "execution_count": 23,
   "id": "143ae735-0cd2-4dfd-beb9-305519e56caa",
   "metadata": {
    "tags": []
   },
   "outputs": [
    {
     "data": {
      "text/plain": [
       "83.83561643835617"
      ]
     },
     "execution_count": 23,
     "metadata": {},
     "output_type": "execute_result"
    }
   ],
   "source": [
    "tim_test_accuracy = accuracy_score(y_true=y_test,y_pred=y_pred_test_tim)\n",
    "tim_test_accuracy * 100"
   ]
  },
  {
   "cell_type": "code",
   "execution_count": null,
   "id": "f896d0a2-8c7b-4011-9b2e-56da209fdd3e",
   "metadata": {},
   "outputs": [],
   "source": [
    "# garage one"
   ]
  },
  {
   "cell_type": "code",
   "execution_count": 24,
   "id": "850b598a-378b-4df1-b967-76d1ff312b10",
   "metadata": {
    "tags": []
   },
   "outputs": [
    {
     "data": {
      "text/plain": [
       "89.31506849315069"
      ]
     },
     "execution_count": 24,
     "metadata": {},
     "output_type": "execute_result"
    }
   ],
   "source": [
    "bea_acccuracy_test = accuracy_score(y_true=y_test,y_pred=y_pred_test_bea)\n",
    "bea_acccuracy_test * 100"
   ]
  },
  {
   "cell_type": "code",
   "execution_count": null,
   "id": "e8842b4d-353b-451d-83f0-2dfe60d1f0d3",
   "metadata": {},
   "outputs": [],
   "source": []
  }
 ],
 "metadata": {
  "kernelspec": {
   "display_name": "Python 3 (ipykernel)",
   "language": "python",
   "name": "python3"
  },
  "language_info": {
   "codemirror_mode": {
    "name": "ipython",
    "version": 3
   },
   "file_extension": ".py",
   "mimetype": "text/x-python",
   "name": "python",
   "nbconvert_exporter": "python",
   "pygments_lexer": "ipython3",
   "version": "3.11.5"
  }
 },
 "nbformat": 4,
 "nbformat_minor": 5
}
