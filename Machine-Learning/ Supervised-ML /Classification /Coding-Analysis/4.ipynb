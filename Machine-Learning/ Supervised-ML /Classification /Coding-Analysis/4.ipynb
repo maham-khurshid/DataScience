{
 "cells": [
  {
   "cell_type": "code",
   "execution_count": 34,
   "id": "ba9d9b34-b65b-440f-b4df-e64773d8524b",
   "metadata": {},
   "outputs": [],
   "source": [
    "#Categorical encoding"
   ]
  },
  {
   "cell_type": "code",
   "execution_count": 36,
   "id": "73efaad5-0a76-42e9-9457-eba1a03dfc28",
   "metadata": {
    "tags": []
   },
   "outputs": [],
   "source": [
    "import pandas as pd\n",
    "from sklearn.model_selection import train_test_split\n",
    "from sklearn.impute import SimpleImputer\n",
    "from sklearn.tree import DecisionTreeClassifier\n",
    "from sklearn.metrics import accuracy_score\n",
    "from sklearn.pipeline import make_pipeline"
   ]
  },
  {
   "cell_type": "code",
   "execution_count": 38,
   "id": "e3b425a9-b404-4781-adda-cb88ae745f3b",
   "metadata": {
    "tags": []
   },
   "outputs": [],
   "source": [
    "path = \"housing-classification-iter3.csv\"\n",
    "data = pd.read_csv(path)"
   ]
  },
  {
   "cell_type": "code",
   "execution_count": 40,
   "id": "e42375f5-3665-4f4e-b1a9-05530541da39",
   "metadata": {},
   "outputs": [],
   "source": [
    "#X and y creation\n",
    "y = data.pop('Expensive')\n",
    "X = data"
   ]
  },
  {
   "cell_type": "code",
   "execution_count": null,
   "id": "34b81729-39a9-4ee7-ba8f-b7c6d5c073df",
   "metadata": {
    "tags": []
   },
   "outputs": [],
   "source": [
    "# data splitting\n",
    "X_train, X_test, y_train, y_test = train_test_split(X, y, test_size=0.2, random_state=123)"
   ]
  },
  {
   "cell_type": "markdown",
   "id": "9ae7d427-0ce1-4786-9386-edcca7a7890a",
   "metadata": {},
   "source": [
    "2. Categorical encoding - \"MANUAL\" approach (Without Pipelines)\n",
    "In order to encode the categorical columns numerical, we follow the following steps:\n",
    "\n",
    "Selected the categorical columns.\n",
    "Fitted a OneHotEncoder to them.\n",
    "Transformed the categorical columns with the encoder.\n",
    "Converted the sparse matrix into a dataframe.\n",
    "Recovered the names of the columns.\n",
    "Concatenated the one-hot columns with the numerical columns."
   ]
  },
  {
   "cell_type": "code",
   "execution_count": null,
   "id": "83f0afff-4abe-42e6-b0ca-4f58d137d436",
   "metadata": {
    "tags": []
   },
   "outputs": [],
   "source": [
    "#Splitting non-numerical and numerical columns, train and test\n",
    "X_train_cat = X_train.select_dtypes(exclude=\"number\")\n",
    "X_test_cat = X_test.select_dtypes(exclude=\"number\")\n",
    "X_train_num = X_train.select_dtypes(include=\"number\")\n",
    "X_test_num = X_test.select_dtypes(include=\"number\")"
   ]
  },
  {
   "cell_type": "code",
   "execution_count": null,
   "id": "768e75e5-ab1a-4554-a5d5-61431be5cdb6",
   "metadata": {
    "tags": []
   },
   "outputs": [],
   "source": [
    "#TREATMENT OF THE NUMERICAL FEATURES \n",
    "\n",
    "#Define the imputers to replace the NaNs\n",
    "num_imputer = SimpleImputer(strategy=\"mean\").set_output(transform='pandas')\n",
    "\n",
    "#Transforming (and fitting) the (training) data\n",
    "X_train_imputed_num = num_imputer.fit_transform(X_train_num)\n",
    "X_test_imputed_num = num_imputer.transform(X_test_num)"
   ]
  },
  {
   "cell_type": "code",
   "execution_count": null,
   "id": "dd16d71e-44b3-48f0-b63f-c73f859af1f7",
   "metadata": {
    "tags": []
   },
   "outputs": [],
   "source": [
    "#TREATMENT OF THE CATEGORIACAL FEATURES\n",
    "\n",
    "#NaNs\n",
    "cat_imputer = SimpleImputer(strategy=\"constant\",fill_value=\"unknown\").set_output(transform='pandas')"
   ]
  },
  {
   "cell_type": "code",
   "execution_count": null,
   "id": "c6878975-ac51-45f9-b035-0b60a62bca21",
   "metadata": {
    "tags": []
   },
   "outputs": [],
   "source": [
    "#Transforming (and tfitting) the (training) data\n",
    "X_train_imputed_cat = cat_imputer.fit_transform(X_train_cat)\n",
    "X_test_imputed_cat = cat_imputer.transform(X_test_cat)\n"
   ]
  },
  {
   "cell_type": "code",
   "execution_count": null,
   "id": "3c8ee402-c925-49a9-9609-57402cf2104b",
   "metadata": {
    "tags": []
   },
   "outputs": [],
   "source": [
    "#One-hot encoding\n",
    "#import\n",
    "from sklearn.preprocessing import OneHotEncoder"
   ]
  },
  {
   "cell_type": "code",
   "execution_count": null,
   "id": "049ab545-8aa4-41ee-a861-22596db12d1c",
   "metadata": {
    "tags": []
   },
   "outputs": [],
   "source": [
    "# initialize\n",
    "my_onehot = OneHotEncoder(drop=\"first\",sparse_output=False).set_output(transform='pandas')"
   ]
  },
  {
   "cell_type": "code",
   "execution_count": null,
   "id": "7cd6b35c-f891-4939-b9e8-bb8ef892478d",
   "metadata": {
    "tags": []
   },
   "outputs": [],
   "source": [
    "# fit\n",
    "my_onehot.fit(X_train_imputed_cat)"
   ]
  },
  {
   "cell_type": "code",
   "execution_count": null,
   "id": "5f12ed73-fa54-402e-bd64-d526eb328f51",
   "metadata": {
    "tags": []
   },
   "outputs": [],
   "source": [
    "# transform\n",
    "X_cat_imputed_onehot_train = my_onehot.transform(X_train_imputed_cat)"
   ]
  },
  {
   "cell_type": "code",
   "execution_count": null,
   "id": "53f29e55-09c6-4aaf-8c43-37cef4eb78c0",
   "metadata": {
    "tags": []
   },
   "outputs": [],
   "source": [
    "#Concatenating \"one-hot\" columns with numerical columns\n",
    "X_imputed_train = pd.concat([X_cat_imputed_onehot_train, X_train_imputed_num], axis=1)\n",
    "X_imputed_train.head()"
   ]
  },
  {
   "cell_type": "code",
   "execution_count": null,
   "id": "76cbc2c0-7219-4536-9755-e09971426414",
   "metadata": {},
   "outputs": [],
   "source": [
    "###3. Categorical encoding - \"Automated\" approach (Using Pipelines)"
   ]
  },
  {
   "cell_type": "code",
   "execution_count": null,
   "id": "8104358a-4acd-47bd-b9e5-80ed39c9912d",
   "metadata": {
    "tags": []
   },
   "outputs": [],
   "source": [
    "from sklearn.pipeline import make_pipeline\n",
    "from sklearn.compose import ColumnTransformer\n",
    "from sklearn.tree import DecisionTreeClassifier"
   ]
  },
  {
   "cell_type": "code",
   "execution_count": null,
   "id": "4edc4bed-2a95-435f-ba21-e15e4012e434",
   "metadata": {
    "tags": []
   },
   "outputs": [],
   "source": [
    "#Creating the \"numeric pipe\" and the \"categoric pipe\"\n",
    "\n",
    "#select categorical and numerical column names\n",
    "X_cat_columns = X.select_dtypes(exclude=\"number\").copy().columns\n",
    "X_num_columns = X.select_dtypes(include=\"number\").copy().columns"
   ]
  },
  {
   "cell_type": "code",
   "execution_count": null,
   "id": "ffa28c6a-09a8-431a-952d-06d6c569cd1a",
   "metadata": {
    "tags": []
   },
   "outputs": [],
   "source": [
    "#create numerical pipeline, only with the SimpleImputer(strategy=\"mean\")\n",
    "numeric_pipe = make_pipeline(SimpleImputer(strategy=\"mean\"))\n"
   ]
  },
  {
   "cell_type": "code",
   "execution_count": null,
   "id": "e72d2704-6275-4d62-b5de-ad2465c87046",
   "metadata": {
    "tags": []
   },
   "outputs": [],
   "source": [
    "#create categorical pipeline, with the SimpleImputer(fill_value=\"N_A\") and the OneHotEncoder\n",
    "categoric_pipe = make_pipeline(\n",
    "    SimpleImputer(strategy=\"constant\", fill_value=\"N_A\"),\n",
    "    OneHotEncoder(sparse_output=False,handle_unknown='ignore')\n",
    ")"
   ]
  },
  {
   "cell_type": "code",
   "execution_count": null,
   "id": "7790d0be-82aa-4f68-8f34-86202bd17d39",
   "metadata": {
    "tags": []
   },
   "outputs": [],
   "source": [
    "#Using ColumnTransformer a pipeline with 2 branches (the preprocessor)\n",
    "\n",
    "preprocessor = ColumnTransformer(\n",
    "    transformers=[\n",
    "        (\"num_pipe\", numeric_pipe, X_num_columns),\n",
    "        (\"cat_pipe\", categoric_pipe, X_cat_columns),\n",
    "    ]\n",
    ")\n"
   ]
  },
  {
   "cell_type": "code",
   "execution_count": null,
   "id": "6e58b0fa-7b30-49d3-9090-60be92848ee2",
   "metadata": {
    "tags": []
   },
   "outputs": [],
   "source": [
    "#Creating the full_pipeline (preprocessor + Decision Tree)\n",
    "full_pipeline = make_pipeline(preprocessor,\n",
    "                              DecisionTreeClassifier()).set_output(transform='pandas')"
   ]
  },
  {
   "cell_type": "code",
   "execution_count": null,
   "id": "7063a114-d851-4326-bf04-c99b859f116a",
   "metadata": {
    "tags": []
   },
   "outputs": [],
   "source": [
    "from sklearn.model_selection import GridSearchCV\n",
    "from sklearn.metrics import accuracy_score\n"
   ]
  },
  {
   "cell_type": "code",
   "execution_count": null,
   "id": "c92a3d76-e4b0-436c-ada6-35fc4fc904bc",
   "metadata": {
    "tags": []
   },
   "outputs": [],
   "source": [
    "#train a DecisionTree with GridSearch cross validation\n",
    "\n",
    "#parameter grid\n",
    "param_grid ={\n",
    "    'columntransformer__num_pipe__simpleimputer__strategy':['mean','median'],\n",
    "    'decisiontreeclassifier__max_depth': range(2, 12),\n",
    "    'decisiontreeclassifier__min_samples_leaf': range(3, 10, 2),\n",
    "    'decisiontreeclassifier__min_samples_split': range(3, 40, 5),\n",
    "    'decisiontreeclassifier__criterion':['gini', 'entropy']\n",
    "    }\n"
   ]
  },
  {
   "cell_type": "code",
   "execution_count": null,
   "id": "db6664a6-4454-453d-b11c-1e1cd820f711",
   "metadata": {
    "tags": []
   },
   "outputs": [],
   "source": [
    "# define cross validation\n",
    "search = GridSearchCV(full_pipeline,\n",
    "                      param_grid=param_grid,\n",
    "                      cv=5,\n",
    "                      verbose=0)\n"
   ]
  },
  {
   "cell_type": "code",
   "execution_count": null,
   "id": "5edde5b2-72ff-4215-b3c0-0ef558c047d3",
   "metadata": {
    "tags": []
   },
   "outputs": [],
   "source": [
    "# fit\n",
    "search.fit(X_train,y_train)\n",
    "\n",
    "print(f\"The best parameters are {search.best_params_}\")\n",
    "print(\"\")\n",
    "print(f\"The average accuracy is {search.best_score_}\")"
   ]
  },
  {
   "cell_type": "code",
   "execution_count": null,
   "id": "7c527f9e-05f8-4962-9f87-95d23b4e3cf7",
   "metadata": {
    "tags": []
   },
   "outputs": [],
   "source": [
    "# training accuracy\n",
    "#below we use X_train and not X_train_imputed because imputing is\n",
    "#built in the pipeline\n",
    "print(f\"The training accuracy is {accuracy_score(y_train, search.predict(X_train))}\")"
   ]
  },
  {
   "cell_type": "code",
   "execution_count": null,
   "id": "b9cdcd8a-db7f-44a9-baf6-eddad0679c54",
   "metadata": {
    "tags": []
   },
   "outputs": [],
   "source": [
    "# testing accuracy\n",
    "print(f\"The testing accuracy is {accuracy_score(y_test, search.predict(X_test))}\")"
   ]
  },
  {
   "cell_type": "markdown",
   "id": "8eb15e41-d506-48dc-a7f8-f6999dd4c8b1",
   "metadata": {},
   "source": [
    "The best parameters are {'columntransformer__num_pipe__simpleimputer__strategy': 'mean', 'decisiontreeclassifier__criterion': 'entropy', 'decisiontreeclassifier__max_depth': 6, 'decisiontreeclassifier__min_samples_leaf': 3, 'decisiontreeclassifier__min_samples_split': 38}\n",
    "\n",
    "The average accuracy is 0.9212317963390925\n",
    "The training accuracy is 0.9409246575342466\n",
    "The testing accuracy is 0.9075342465753424"
   ]
  }
 ],
 "metadata": {
  "kernelspec": {
   "display_name": "Python 3 (ipykernel)",
   "language": "python",
   "name": "python3"
  },
  "language_info": {
   "codemirror_mode": {
    "name": "ipython",
    "version": 3
   },
   "file_extension": ".py",
   "mimetype": "text/x-python",
   "name": "python",
   "nbconvert_exporter": "python",
   "pygments_lexer": "ipython3",
   "version": "3.11.5"
  }
 },
 "nbformat": 4,
 "nbformat_minor": 5
}
