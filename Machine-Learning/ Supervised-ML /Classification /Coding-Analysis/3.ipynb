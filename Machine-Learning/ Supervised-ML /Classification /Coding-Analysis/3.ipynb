{
 "cells": [
  {
   "cell_type": "markdown",
   "id": "c7c6b2a3-538f-49fe-9faa-bf047669e810",
   "metadata": {
    "id": "c7c6b2a3-538f-49fe-9faa-bf047669e810"
   },
   "source": [
    "# House Price - Pipeline, GridSearch, CrossValidation"
   ]
  },
  {
   "cell_type": "markdown",
   "id": "adc086ac-ed2d-435b-9f92-2b241009a6e2",
   "metadata": {
    "id": "adc086ac-ed2d-435b-9f92-2b241009a6e2"
   },
   "source": [
    "## 1. Import data and libraries"
   ]
  },
  {
   "cell_type": "code",
   "execution_count": 52,
   "id": "4aa7cfa0-fc32-4100-9ab9-72d08bef24c7",
   "metadata": {
    "executionInfo": {
     "elapsed": 254,
     "status": "ok",
     "timestamp": 1695737237897,
     "user": {
      "displayName": "Liane Gybas",
      "userId": "00850058138446702565"
     },
     "user_tz": -120
    },
    "id": "4aa7cfa0-fc32-4100-9ab9-72d08bef24c7"
   },
   "outputs": [],
   "source": [
    "import pandas as pd\n",
    "from sklearn.model_selection import train_test_split\n",
    "\n",
    "from sklearn.preprocessing import StandardScaler\n",
    "from sklearn.impute import SimpleImputer\n",
    "\n",
    "from sklearn.tree import DecisionTreeClassifier\n",
    "\n",
    "from sklearn.pipeline import make_pipeline"
   ]
  },
  {
   "cell_type": "code",
   "execution_count": 53,
   "id": "7fRf3NjMTmS4",
   "metadata": {
    "colab": {
     "base_uri": "https://localhost:8080/",
     "height": 226
    },
    "executionInfo": {
     "elapsed": 1236,
     "status": "ok",
     "timestamp": 1695737241021,
     "user": {
      "displayName": "Liane Gybas",
      "userId": "00850058138446702565"
     },
     "user_tz": -120
    },
    "id": "7fRf3NjMTmS4",
    "outputId": "ade6a2aa-bf58-4554-bcbc-b4fd7beef8f7"
   },
   "outputs": [
    {
     "data": {
      "text/html": [
       "\n",
       "  <div id=\"df-f11617a1-3d8d-45fc-856f-454fba175fde\" class=\"colab-df-container\">\n",
       "    <div>\n",
       "<style scoped>\n",
       "    .dataframe tbody tr th:only-of-type {\n",
       "        vertical-align: middle;\n",
       "    }\n",
       "\n",
       "    .dataframe tbody tr th {\n",
       "        vertical-align: top;\n",
       "    }\n",
       "\n",
       "    .dataframe thead th {\n",
       "        text-align: right;\n",
       "    }\n",
       "</style>\n",
       "<table border=\"1\" class=\"dataframe\">\n",
       "  <thead>\n",
       "    <tr style=\"text-align: right;\">\n",
       "      <th></th>\n",
       "      <th>LotArea</th>\n",
       "      <th>LotFrontage</th>\n",
       "      <th>TotalBsmtSF</th>\n",
       "      <th>BedroomAbvGr</th>\n",
       "      <th>Fireplaces</th>\n",
       "      <th>PoolArea</th>\n",
       "      <th>GarageCars</th>\n",
       "      <th>WoodDeckSF</th>\n",
       "      <th>ScreenPorch</th>\n",
       "      <th>Expensive</th>\n",
       "    </tr>\n",
       "  </thead>\n",
       "  <tbody>\n",
       "    <tr>\n",
       "      <th>0</th>\n",
       "      <td>8450</td>\n",
       "      <td>65.0</td>\n",
       "      <td>856</td>\n",
       "      <td>3</td>\n",
       "      <td>0</td>\n",
       "      <td>0</td>\n",
       "      <td>2</td>\n",
       "      <td>0</td>\n",
       "      <td>0</td>\n",
       "      <td>0</td>\n",
       "    </tr>\n",
       "    <tr>\n",
       "      <th>1</th>\n",
       "      <td>9600</td>\n",
       "      <td>80.0</td>\n",
       "      <td>1262</td>\n",
       "      <td>3</td>\n",
       "      <td>1</td>\n",
       "      <td>0</td>\n",
       "      <td>2</td>\n",
       "      <td>298</td>\n",
       "      <td>0</td>\n",
       "      <td>0</td>\n",
       "    </tr>\n",
       "    <tr>\n",
       "      <th>2</th>\n",
       "      <td>11250</td>\n",
       "      <td>68.0</td>\n",
       "      <td>920</td>\n",
       "      <td>3</td>\n",
       "      <td>1</td>\n",
       "      <td>0</td>\n",
       "      <td>2</td>\n",
       "      <td>0</td>\n",
       "      <td>0</td>\n",
       "      <td>0</td>\n",
       "    </tr>\n",
       "    <tr>\n",
       "      <th>3</th>\n",
       "      <td>9550</td>\n",
       "      <td>60.0</td>\n",
       "      <td>756</td>\n",
       "      <td>3</td>\n",
       "      <td>1</td>\n",
       "      <td>0</td>\n",
       "      <td>3</td>\n",
       "      <td>0</td>\n",
       "      <td>0</td>\n",
       "      <td>0</td>\n",
       "    </tr>\n",
       "    <tr>\n",
       "      <th>4</th>\n",
       "      <td>14260</td>\n",
       "      <td>84.0</td>\n",
       "      <td>1145</td>\n",
       "      <td>4</td>\n",
       "      <td>1</td>\n",
       "      <td>0</td>\n",
       "      <td>3</td>\n",
       "      <td>192</td>\n",
       "      <td>0</td>\n",
       "      <td>0</td>\n",
       "    </tr>\n",
       "  </tbody>\n",
       "</table>\n",
       "</div>\n",
       "    <div class=\"colab-df-buttons\">\n",
       "\n",
       "  <div class=\"colab-df-container\">\n",
       "    <button class=\"colab-df-convert\" onclick=\"convertToInteractive('df-f11617a1-3d8d-45fc-856f-454fba175fde')\"\n",
       "            title=\"Convert this dataframe to an interactive table.\"\n",
       "            style=\"display:none;\">\n",
       "\n",
       "  <svg xmlns=\"http://www.w3.org/2000/svg\" height=\"24px\" viewBox=\"0 -960 960 960\">\n",
       "    <path d=\"M120-120v-720h720v720H120Zm60-500h600v-160H180v160Zm220 220h160v-160H400v160Zm0 220h160v-160H400v160ZM180-400h160v-160H180v160Zm440 0h160v-160H620v160ZM180-180h160v-160H180v160Zm440 0h160v-160H620v160Z\"/>\n",
       "  </svg>\n",
       "    </button>\n",
       "\n",
       "  <style>\n",
       "    .colab-df-container {\n",
       "      display:flex;\n",
       "      gap: 12px;\n",
       "    }\n",
       "\n",
       "    .colab-df-convert {\n",
       "      background-color: #E8F0FE;\n",
       "      border: none;\n",
       "      border-radius: 50%;\n",
       "      cursor: pointer;\n",
       "      display: none;\n",
       "      fill: #1967D2;\n",
       "      height: 32px;\n",
       "      padding: 0 0 0 0;\n",
       "      width: 32px;\n",
       "    }\n",
       "\n",
       "    .colab-df-convert:hover {\n",
       "      background-color: #E2EBFA;\n",
       "      box-shadow: 0px 1px 2px rgba(60, 64, 67, 0.3), 0px 1px 3px 1px rgba(60, 64, 67, 0.15);\n",
       "      fill: #174EA6;\n",
       "    }\n",
       "\n",
       "    .colab-df-buttons div {\n",
       "      margin-bottom: 4px;\n",
       "    }\n",
       "\n",
       "    [theme=dark] .colab-df-convert {\n",
       "      background-color: #3B4455;\n",
       "      fill: #D2E3FC;\n",
       "    }\n",
       "\n",
       "    [theme=dark] .colab-df-convert:hover {\n",
       "      background-color: #434B5C;\n",
       "      box-shadow: 0px 1px 3px 1px rgba(0, 0, 0, 0.15);\n",
       "      filter: drop-shadow(0px 1px 2px rgba(0, 0, 0, 0.3));\n",
       "      fill: #FFFFFF;\n",
       "    }\n",
       "  </style>\n",
       "\n",
       "    <script>\n",
       "      const buttonEl =\n",
       "        document.querySelector('#df-f11617a1-3d8d-45fc-856f-454fba175fde button.colab-df-convert');\n",
       "      buttonEl.style.display =\n",
       "        google.colab.kernel.accessAllowed ? 'block' : 'none';\n",
       "\n",
       "      async function convertToInteractive(key) {\n",
       "        const element = document.querySelector('#df-f11617a1-3d8d-45fc-856f-454fba175fde');\n",
       "        const dataTable =\n",
       "          await google.colab.kernel.invokeFunction('convertToInteractive',\n",
       "                                                    [key], {});\n",
       "        if (!dataTable) return;\n",
       "\n",
       "        const docLinkHtml = 'Like what you see? Visit the ' +\n",
       "          '<a target=\"_blank\" href=https://colab.research.google.com/notebooks/data_table.ipynb>data table notebook</a>'\n",
       "          + ' to learn more about interactive tables.';\n",
       "        element.innerHTML = '';\n",
       "        dataTable['output_type'] = 'display_data';\n",
       "        await google.colab.output.renderOutput(dataTable, element);\n",
       "        const docLink = document.createElement('div');\n",
       "        docLink.innerHTML = docLinkHtml;\n",
       "        element.appendChild(docLink);\n",
       "      }\n",
       "    </script>\n",
       "  </div>\n",
       "\n",
       "\n",
       "<div id=\"df-565fa4ad-56e6-43cb-bcf9-396fe732a6be\">\n",
       "  <button class=\"colab-df-quickchart\" onclick=\"quickchart('df-565fa4ad-56e6-43cb-bcf9-396fe732a6be')\"\n",
       "            title=\"Suggest charts.\"\n",
       "            style=\"display:none;\">\n",
       "\n",
       "<svg xmlns=\"http://www.w3.org/2000/svg\" height=\"24px\"viewBox=\"0 0 24 24\"\n",
       "     width=\"24px\">\n",
       "    <g>\n",
       "        <path d=\"M19 3H5c-1.1 0-2 .9-2 2v14c0 1.1.9 2 2 2h14c1.1 0 2-.9 2-2V5c0-1.1-.9-2-2-2zM9 17H7v-7h2v7zm4 0h-2V7h2v10zm4 0h-2v-4h2v4z\"/>\n",
       "    </g>\n",
       "</svg>\n",
       "  </button>\n",
       "\n",
       "<style>\n",
       "  .colab-df-quickchart {\n",
       "      --bg-color: #E8F0FE;\n",
       "      --fill-color: #1967D2;\n",
       "      --hover-bg-color: #E2EBFA;\n",
       "      --hover-fill-color: #174EA6;\n",
       "      --disabled-fill-color: #AAA;\n",
       "      --disabled-bg-color: #DDD;\n",
       "  }\n",
       "\n",
       "  [theme=dark] .colab-df-quickchart {\n",
       "      --bg-color: #3B4455;\n",
       "      --fill-color: #D2E3FC;\n",
       "      --hover-bg-color: #434B5C;\n",
       "      --hover-fill-color: #FFFFFF;\n",
       "      --disabled-bg-color: #3B4455;\n",
       "      --disabled-fill-color: #666;\n",
       "  }\n",
       "\n",
       "  .colab-df-quickchart {\n",
       "    background-color: var(--bg-color);\n",
       "    border: none;\n",
       "    border-radius: 50%;\n",
       "    cursor: pointer;\n",
       "    display: none;\n",
       "    fill: var(--fill-color);\n",
       "    height: 32px;\n",
       "    padding: 0;\n",
       "    width: 32px;\n",
       "  }\n",
       "\n",
       "  .colab-df-quickchart:hover {\n",
       "    background-color: var(--hover-bg-color);\n",
       "    box-shadow: 0 1px 2px rgba(60, 64, 67, 0.3), 0 1px 3px 1px rgba(60, 64, 67, 0.15);\n",
       "    fill: var(--button-hover-fill-color);\n",
       "  }\n",
       "\n",
       "  .colab-df-quickchart-complete:disabled,\n",
       "  .colab-df-quickchart-complete:disabled:hover {\n",
       "    background-color: var(--disabled-bg-color);\n",
       "    fill: var(--disabled-fill-color);\n",
       "    box-shadow: none;\n",
       "  }\n",
       "\n",
       "  .colab-df-spinner {\n",
       "    border: 2px solid var(--fill-color);\n",
       "    border-color: transparent;\n",
       "    border-bottom-color: var(--fill-color);\n",
       "    animation:\n",
       "      spin 1s steps(1) infinite;\n",
       "  }\n",
       "\n",
       "  @keyframes spin {\n",
       "    0% {\n",
       "      border-color: transparent;\n",
       "      border-bottom-color: var(--fill-color);\n",
       "      border-left-color: var(--fill-color);\n",
       "    }\n",
       "    20% {\n",
       "      border-color: transparent;\n",
       "      border-left-color: var(--fill-color);\n",
       "      border-top-color: var(--fill-color);\n",
       "    }\n",
       "    30% {\n",
       "      border-color: transparent;\n",
       "      border-left-color: var(--fill-color);\n",
       "      border-top-color: var(--fill-color);\n",
       "      border-right-color: var(--fill-color);\n",
       "    }\n",
       "    40% {\n",
       "      border-color: transparent;\n",
       "      border-right-color: var(--fill-color);\n",
       "      border-top-color: var(--fill-color);\n",
       "    }\n",
       "    60% {\n",
       "      border-color: transparent;\n",
       "      border-right-color: var(--fill-color);\n",
       "    }\n",
       "    80% {\n",
       "      border-color: transparent;\n",
       "      border-right-color: var(--fill-color);\n",
       "      border-bottom-color: var(--fill-color);\n",
       "    }\n",
       "    90% {\n",
       "      border-color: transparent;\n",
       "      border-bottom-color: var(--fill-color);\n",
       "    }\n",
       "  }\n",
       "</style>\n",
       "\n",
       "  <script>\n",
       "    async function quickchart(key) {\n",
       "      const quickchartButtonEl =\n",
       "        document.querySelector('#' + key + ' button');\n",
       "      quickchartButtonEl.disabled = true;  // To prevent multiple clicks.\n",
       "      quickchartButtonEl.classList.add('colab-df-spinner');\n",
       "      try {\n",
       "        const charts = await google.colab.kernel.invokeFunction(\n",
       "            'suggestCharts', [key], {});\n",
       "      } catch (error) {\n",
       "        console.error('Error during call to suggestCharts:', error);\n",
       "      }\n",
       "      quickchartButtonEl.classList.remove('colab-df-spinner');\n",
       "      quickchartButtonEl.classList.add('colab-df-quickchart-complete');\n",
       "    }\n",
       "    (() => {\n",
       "      let quickchartButtonEl =\n",
       "        document.querySelector('#df-565fa4ad-56e6-43cb-bcf9-396fe732a6be button');\n",
       "      quickchartButtonEl.style.display =\n",
       "        google.colab.kernel.accessAllowed ? 'block' : 'none';\n",
       "    })();\n",
       "  </script>\n",
       "</div>\n",
       "    </div>\n",
       "  </div>\n"
      ],
      "text/plain": [
       "   LotArea  LotFrontage  TotalBsmtSF  BedroomAbvGr  Fireplaces  PoolArea  \\\n",
       "0     8450         65.0          856             3           0         0   \n",
       "1     9600         80.0         1262             3           1         0   \n",
       "2    11250         68.0          920             3           1         0   \n",
       "3     9550         60.0          756             3           1         0   \n",
       "4    14260         84.0         1145             4           1         0   \n",
       "\n",
       "   GarageCars  WoodDeckSF  ScreenPorch  Expensive  \n",
       "0           2           0            0          0  \n",
       "1           2         298            0          0  \n",
       "2           2           0            0          0  \n",
       "3           3           0            0          0  \n",
       "4           3         192            0          0  "
      ]
     },
     "execution_count": 53,
     "metadata": {},
     "output_type": "execute_result"
    }
   ],
   "source": [
    "url = \"https://drive.google.com/file/d/1EiiFJ7-Zb8-lyDcd2c_Kncnhasw6EbRX/view?usp=drive_linkg\"\n",
    "path = 'https://drive.google.com/uc?export=download&id='+url.split('/')[-2]\n",
    "\n",
    "data = pd.read_csv(path)\n",
    "data.head()"
   ]
  },
  {
   "cell_type": "markdown",
   "id": "03823d68-576d-4d13-82f5-7d889e548bac",
   "metadata": {
    "id": "03823d68-576d-4d13-82f5-7d889e548bac"
   },
   "source": [
    "## 2. Split X and y"
   ]
  },
  {
   "cell_type": "code",
   "execution_count": 54,
   "id": "c8dac0c6-d5e4-471c-8186-c9bebb6f59f4",
   "metadata": {
    "executionInfo": {
     "elapsed": 257,
     "status": "ok",
     "timestamp": 1695737249621,
     "user": {
      "displayName": "Liane Gybas",
      "userId": "00850058138446702565"
     },
     "user_tz": -120
    },
    "id": "c8dac0c6-d5e4-471c-8186-c9bebb6f59f4"
   },
   "outputs": [],
   "source": [
    "y = data.pop(\"Expensive\")"
   ]
  },
  {
   "cell_type": "code",
   "execution_count": 55,
   "id": "dac72a95-f5d9-499a-95f6-72c3d6ffe76c",
   "metadata": {
    "executionInfo": {
     "elapsed": 7,
     "status": "ok",
     "timestamp": 1695737251126,
     "user": {
      "displayName": "Liane Gybas",
      "userId": "00850058138446702565"
     },
     "user_tz": -120
    },
    "id": "dac72a95-f5d9-499a-95f6-72c3d6ffe76c"
   },
   "outputs": [],
   "source": [
    "X = data"
   ]
  },
  {
   "cell_type": "code",
   "execution_count": 56,
   "id": "4XyPvdym0Q0a",
   "metadata": {
    "colab": {
     "base_uri": "https://localhost:8080/"
    },
    "executionInfo": {
     "elapsed": 10,
     "status": "ok",
     "timestamp": 1695737257591,
     "user": {
      "displayName": "Liane Gybas",
      "userId": "00850058138446702565"
     },
     "user_tz": -120
    },
    "id": "4XyPvdym0Q0a",
    "outputId": "64acbf6a-ac81-44d6-9aeb-6b166c1b6535"
   },
   "outputs": [
    {
     "name": "stdout",
     "output_type": "stream",
     "text": [
      "<class 'pandas.core.frame.DataFrame'>\n",
      "RangeIndex: 1460 entries, 0 to 1459\n",
      "Data columns (total 9 columns):\n",
      " #   Column        Non-Null Count  Dtype  \n",
      "---  ------        --------------  -----  \n",
      " 0   LotArea       1460 non-null   int64  \n",
      " 1   LotFrontage   1201 non-null   float64\n",
      " 2   TotalBsmtSF   1460 non-null   int64  \n",
      " 3   BedroomAbvGr  1460 non-null   int64  \n",
      " 4   Fireplaces    1460 non-null   int64  \n",
      " 5   PoolArea      1460 non-null   int64  \n",
      " 6   GarageCars    1460 non-null   int64  \n",
      " 7   WoodDeckSF    1460 non-null   int64  \n",
      " 8   ScreenPorch   1460 non-null   int64  \n",
      "dtypes: float64(1), int64(8)\n",
      "memory usage: 102.8 KB\n"
     ]
    }
   ],
   "source": [
    "X.info()"
   ]
  },
  {
   "cell_type": "code",
   "execution_count": 58,
   "id": "zTNaKQLj0ZoM",
   "metadata": {
    "colab": {
     "base_uri": "https://localhost:8080/"
    },
    "executionInfo": {
     "elapsed": 5,
     "status": "ok",
     "timestamp": 1695737296943,
     "user": {
      "displayName": "Liane Gybas",
      "userId": "00850058138446702565"
     },
     "user_tz": -120
    },
    "id": "zTNaKQLj0ZoM",
    "outputId": "ab97750d-76f2-4512-f403-2ce72e02f0a7"
   },
   "outputs": [
    {
     "data": {
      "text/plain": [
       "LotArea           0\n",
       "LotFrontage     259\n",
       "TotalBsmtSF       0\n",
       "BedroomAbvGr      0\n",
       "Fireplaces        0\n",
       "PoolArea          0\n",
       "GarageCars        0\n",
       "WoodDeckSF        0\n",
       "ScreenPorch       0\n",
       "dtype: int64"
      ]
     },
     "execution_count": 58,
     "metadata": {},
     "output_type": "execute_result"
    }
   ],
   "source": [
    "X.isna().sum()"
   ]
  },
  {
   "cell_type": "markdown",
   "id": "01139888-a305-423e-a296-17d757cd522b",
   "metadata": {
    "id": "01139888-a305-423e-a296-17d757cd522b"
   },
   "source": [
    "### 2.1. Convert or drop strings"
   ]
  },
  {
   "cell_type": "code",
   "execution_count": null,
   "id": "62e5a781-a670-4aae-ae49-0592fa3e8caa",
   "metadata": {
    "id": "62e5a781-a670-4aae-ae49-0592fa3e8caa"
   },
   "outputs": [],
   "source": [
    "# another option: X_num = X.drop(columns=[\"column_name_1\", \"column_name_2\"])\n",
    "\n",
    "X_num = X.select_dtypes(include=\"number\") # selects datatypes that are float or integer"
   ]
  },
  {
   "cell_type": "markdown",
   "id": "f53e980b-9963-46df-a54c-1284822775ea",
   "metadata": {
    "id": "f53e980b-9963-46df-a54c-1284822775ea"
   },
   "source": [
    "## 3. Split Train and Test\n"
   ]
  },
  {
   "cell_type": "code",
   "execution_count": null,
   "id": "4d4e3594-ebce-441b-8a2a-70f10418a855",
   "metadata": {
    "id": "4d4e3594-ebce-441b-8a2a-70f10418a855"
   },
   "outputs": [],
   "source": [
    "X_train, X_test, y_train, y_test = train_test_split(X_num, y, test_size=0.2, random_state=31416)"
   ]
  },
  {
   "cell_type": "code",
   "execution_count": null,
   "id": "3d39d1c5-2d0b-4e52-8345-1608565ed345",
   "metadata": {
    "colab": {
     "base_uri": "https://localhost:8080/"
    },
    "executionInfo": {
     "elapsed": 13,
     "status": "ok",
     "timestamp": 1695729187638,
     "user": {
      "displayName": "Liane Gybas",
      "userId": "00850058138446702565"
     },
     "user_tz": -120
    },
    "id": "3d39d1c5-2d0b-4e52-8345-1608565ed345",
    "outputId": "e173bd8c-3a25-4f26-d06a-259833abd10a",
    "tags": []
   },
   "outputs": [
    {
     "name": "stdout",
     "output_type": "stream",
     "text": [
      "<class 'pandas.core.frame.DataFrame'>\n",
      "Int64Index: 1168 entries, 772 to 1391\n",
      "Data columns (total 9 columns):\n",
      " #   Column        Non-Null Count  Dtype  \n",
      "---  ------        --------------  -----  \n",
      " 0   LotArea       1168 non-null   int64  \n",
      " 1   LotFrontage   966 non-null    float64\n",
      " 2   TotalBsmtSF   1168 non-null   int64  \n",
      " 3   BedroomAbvGr  1168 non-null   int64  \n",
      " 4   Fireplaces    1168 non-null   int64  \n",
      " 5   PoolArea      1168 non-null   int64  \n",
      " 6   GarageCars    1168 non-null   int64  \n",
      " 7   WoodDeckSF    1168 non-null   int64  \n",
      " 8   ScreenPorch   1168 non-null   int64  \n",
      "dtypes: float64(1), int64(8)\n",
      "memory usage: 91.2 KB\n"
     ]
    }
   ],
   "source": [
    "X_train.info()"
   ]
  },
  {
   "cell_type": "markdown",
   "id": "ui8IxiEz04Wg",
   "metadata": {
    "id": "ui8IxiEz04Wg"
   },
   "source": [
    "## EDA - Exploratory Data Analyis  - could be done here"
   ]
  },
  {
   "cell_type": "code",
   "execution_count": null,
   "id": "Qq59z66O0_uu",
   "metadata": {
    "id": "Qq59z66O0_uu"
   },
   "outputs": [],
   "source": [
    "# check and explore the train data"
   ]
  },
  {
   "cell_type": "markdown",
   "id": "d5ba9778-03fc-4ecd-a5bb-061059ce50f3",
   "metadata": {
    "id": "d5ba9778-03fc-4ecd-a5bb-061059ce50f3"
   },
   "source": [
    "## 4. Build the pipeline"
   ]
  },
  {
   "cell_type": "code",
   "execution_count": null,
   "id": "072cb3ba-a451-4664-96c0-d40e16d7723c",
   "metadata": {
    "id": "072cb3ba-a451-4664-96c0-d40e16d7723c"
   },
   "outputs": [],
   "source": [
    "# initialize transformers & model\n",
    "imputer = SimpleImputer()\n",
    "scaler = StandardScaler()\n",
    "dtree = DecisionTreeClassifier()\n"
   ]
  },
  {
   "cell_type": "code",
   "execution_count": null,
   "id": "27338144-d664-4b58-a35a-14b099c73936",
   "metadata": {
    "id": "27338144-d664-4b58-a35a-14b099c73936"
   },
   "outputs": [],
   "source": [
    "# create the pipeline\n",
    "pipe = make_pipeline(imputer,\n",
    "                     scaler,\n",
    "                     dtree)"
   ]
  },
  {
   "cell_type": "code",
   "execution_count": null,
   "id": "37de6e28-9af1-4fb7-8898-ee13a75f8cec",
   "metadata": {
    "colab": {
     "base_uri": "https://localhost:8080/",
     "height": 159
    },
    "executionInfo": {
     "elapsed": 10,
     "status": "ok",
     "timestamp": 1695729187638,
     "user": {
      "displayName": "Liane Gybas",
      "userId": "00850058138446702565"
     },
     "user_tz": -120
    },
    "id": "37de6e28-9af1-4fb7-8898-ee13a75f8cec",
    "outputId": "e45c33d4-fa40-481e-b11b-7b8c02ac26fb"
   },
   "outputs": [
    {
     "data": {
      "text/html": [
       "<style>#sk-container-id-1 {color: black;background-color: white;}#sk-container-id-1 pre{padding: 0;}#sk-container-id-1 div.sk-toggleable {background-color: white;}#sk-container-id-1 label.sk-toggleable__label {cursor: pointer;display: block;width: 100%;margin-bottom: 0;padding: 0.3em;box-sizing: border-box;text-align: center;}#sk-container-id-1 label.sk-toggleable__label-arrow:before {content: \"▸\";float: left;margin-right: 0.25em;color: #696969;}#sk-container-id-1 label.sk-toggleable__label-arrow:hover:before {color: black;}#sk-container-id-1 div.sk-estimator:hover label.sk-toggleable__label-arrow:before {color: black;}#sk-container-id-1 div.sk-toggleable__content {max-height: 0;max-width: 0;overflow: hidden;text-align: left;background-color: #f0f8ff;}#sk-container-id-1 div.sk-toggleable__content pre {margin: 0.2em;color: black;border-radius: 0.25em;background-color: #f0f8ff;}#sk-container-id-1 input.sk-toggleable__control:checked~div.sk-toggleable__content {max-height: 200px;max-width: 100%;overflow: auto;}#sk-container-id-1 input.sk-toggleable__control:checked~label.sk-toggleable__label-arrow:before {content: \"▾\";}#sk-container-id-1 div.sk-estimator input.sk-toggleable__control:checked~label.sk-toggleable__label {background-color: #d4ebff;}#sk-container-id-1 div.sk-label input.sk-toggleable__control:checked~label.sk-toggleable__label {background-color: #d4ebff;}#sk-container-id-1 input.sk-hidden--visually {border: 0;clip: rect(1px 1px 1px 1px);clip: rect(1px, 1px, 1px, 1px);height: 1px;margin: -1px;overflow: hidden;padding: 0;position: absolute;width: 1px;}#sk-container-id-1 div.sk-estimator {font-family: monospace;background-color: #f0f8ff;border: 1px dotted black;border-radius: 0.25em;box-sizing: border-box;margin-bottom: 0.5em;}#sk-container-id-1 div.sk-estimator:hover {background-color: #d4ebff;}#sk-container-id-1 div.sk-parallel-item::after {content: \"\";width: 100%;border-bottom: 1px solid gray;flex-grow: 1;}#sk-container-id-1 div.sk-label:hover label.sk-toggleable__label {background-color: #d4ebff;}#sk-container-id-1 div.sk-serial::before {content: \"\";position: absolute;border-left: 1px solid gray;box-sizing: border-box;top: 0;bottom: 0;left: 50%;z-index: 0;}#sk-container-id-1 div.sk-serial {display: flex;flex-direction: column;align-items: center;background-color: white;padding-right: 0.2em;padding-left: 0.2em;position: relative;}#sk-container-id-1 div.sk-item {position: relative;z-index: 1;}#sk-container-id-1 div.sk-parallel {display: flex;align-items: stretch;justify-content: center;background-color: white;position: relative;}#sk-container-id-1 div.sk-item::before, #sk-container-id-1 div.sk-parallel-item::before {content: \"\";position: absolute;border-left: 1px solid gray;box-sizing: border-box;top: 0;bottom: 0;left: 50%;z-index: -1;}#sk-container-id-1 div.sk-parallel-item {display: flex;flex-direction: column;z-index: 1;position: relative;background-color: white;}#sk-container-id-1 div.sk-parallel-item:first-child::after {align-self: flex-end;width: 50%;}#sk-container-id-1 div.sk-parallel-item:last-child::after {align-self: flex-start;width: 50%;}#sk-container-id-1 div.sk-parallel-item:only-child::after {width: 0;}#sk-container-id-1 div.sk-dashed-wrapped {border: 1px dashed gray;margin: 0 0.4em 0.5em 0.4em;box-sizing: border-box;padding-bottom: 0.4em;background-color: white;}#sk-container-id-1 div.sk-label label {font-family: monospace;font-weight: bold;display: inline-block;line-height: 1.2em;}#sk-container-id-1 div.sk-label-container {text-align: center;}#sk-container-id-1 div.sk-container {/* jupyter's `normalize.less` sets `[hidden] { display: none; }` but bootstrap.min.css set `[hidden] { display: none !important; }` so we also need the `!important` here to be able to override the default hidden behavior on the sphinx rendered scikit-learn.org. See: https://github.com/scikit-learn/scikit-learn/issues/21755 */display: inline-block !important;position: relative;}#sk-container-id-1 div.sk-text-repr-fallback {display: none;}</style><div id=\"sk-container-id-1\" class=\"sk-top-container\"><div class=\"sk-text-repr-fallback\"><pre>Pipeline(steps=[(&#x27;simpleimputer&#x27;, SimpleImputer()),\n",
       "                (&#x27;standardscaler&#x27;, StandardScaler()),\n",
       "                (&#x27;decisiontreeclassifier&#x27;, DecisionTreeClassifier())])</pre><b>In a Jupyter environment, please rerun this cell to show the HTML representation or trust the notebook. <br />On GitHub, the HTML representation is unable to render, please try loading this page with nbviewer.org.</b></div><div class=\"sk-container\" hidden><div class=\"sk-item sk-dashed-wrapped\"><div class=\"sk-label-container\"><div class=\"sk-label sk-toggleable\"><input class=\"sk-toggleable__control sk-hidden--visually\" id=\"sk-estimator-id-1\" type=\"checkbox\" ><label for=\"sk-estimator-id-1\" class=\"sk-toggleable__label sk-toggleable__label-arrow\">Pipeline</label><div class=\"sk-toggleable__content\"><pre>Pipeline(steps=[(&#x27;simpleimputer&#x27;, SimpleImputer()),\n",
       "                (&#x27;standardscaler&#x27;, StandardScaler()),\n",
       "                (&#x27;decisiontreeclassifier&#x27;, DecisionTreeClassifier())])</pre></div></div></div><div class=\"sk-serial\"><div class=\"sk-item\"><div class=\"sk-estimator sk-toggleable\"><input class=\"sk-toggleable__control sk-hidden--visually\" id=\"sk-estimator-id-2\" type=\"checkbox\" ><label for=\"sk-estimator-id-2\" class=\"sk-toggleable__label sk-toggleable__label-arrow\">SimpleImputer</label><div class=\"sk-toggleable__content\"><pre>SimpleImputer()</pre></div></div></div><div class=\"sk-item\"><div class=\"sk-estimator sk-toggleable\"><input class=\"sk-toggleable__control sk-hidden--visually\" id=\"sk-estimator-id-3\" type=\"checkbox\" ><label for=\"sk-estimator-id-3\" class=\"sk-toggleable__label sk-toggleable__label-arrow\">StandardScaler</label><div class=\"sk-toggleable__content\"><pre>StandardScaler()</pre></div></div></div><div class=\"sk-item\"><div class=\"sk-estimator sk-toggleable\"><input class=\"sk-toggleable__control sk-hidden--visually\" id=\"sk-estimator-id-4\" type=\"checkbox\" ><label for=\"sk-estimator-id-4\" class=\"sk-toggleable__label sk-toggleable__label-arrow\">DecisionTreeClassifier</label><div class=\"sk-toggleable__content\"><pre>DecisionTreeClassifier()</pre></div></div></div></div></div></div></div>"
      ],
      "text/plain": [
       "Pipeline(steps=[('simpleimputer', SimpleImputer()),\n",
       "                ('standardscaler', StandardScaler()),\n",
       "                ('decisiontreeclassifier', DecisionTreeClassifier())])"
      ]
     },
     "execution_count": 10,
     "metadata": {},
     "output_type": "execute_result"
    }
   ],
   "source": [
    "pipe"
   ]
  },
  {
   "cell_type": "markdown",
   "id": "90358179-38f0-4d0f-8593-33537c7a0d55",
   "metadata": {
    "id": "90358179-38f0-4d0f-8593-33537c7a0d55"
   },
   "source": [
    "## 5. Define the SearchGrid"
   ]
  },
  {
   "cell_type": "code",
   "execution_count": 62,
   "id": "dec42ca5-277e-44a8-a6aa-3d1abb9ad7a0",
   "metadata": {
    "executionInfo": {
     "elapsed": 506,
     "status": "ok",
     "timestamp": 1695738101247,
     "user": {
      "displayName": "Liane Gybas",
      "userId": "00850058138446702565"
     },
     "user_tz": -120
    },
    "id": "dec42ca5-277e-44a8-a6aa-3d1abb9ad7a0"
   },
   "outputs": [],
   "source": [
    "# create parameter grid\n",
    "param_grid = {\n",
    "    \"simpleimputer__strategy\":[\"constant\", \"mean\", \"median\"], #\"mean\", \"median\"\n",
    "    \"standardscaler__with_mean\":[True, False],\n",
    "    \"standardscaler__with_std\":[True, False],\n",
    "    \"decisiontreeclassifier__max_depth\": range(2, 14),\n",
    "    \"decisiontreeclassifier__min_samples_leaf\": range(2, 10),\n",
    "    \"decisiontreeclassifier__criterion\":[\"gini\", \"entropy\"],\n",
    "    \"decisiontreeclassifier__max_leaf_nodes\": range(2, 10) # int so it needs numbers -- 2 is included and 10 is not included\n",
    "}"
   ]
  },
  {
   "cell_type": "code",
   "execution_count": null,
   "id": "FcgVXT4raggU",
   "metadata": {
    "id": "FcgVXT4raggU"
   },
   "outputs": [],
   "source": [
    "# # create parameter grid\n",
    "# param_grid = {\n",
    "#     \"simpleimputer__strategy\":[\"constant\", \"mean\", \"median\"], #\"mean\", \"median\"\n",
    "#     \"standardscaler__with_mean\":[True, False],\n",
    "#     \"standardscaler__with_std\":[True, False],\n",
    "#     \"decisiontreeclassifier__max_depth\": range(2, 50),\n",
    "#     \"decisiontreeclassifier__min_samples_leaf\": range(2, 30),\n",
    "#     \"decisiontreeclassifier__criterion\":[\"gini\", \"entropy\"]\n",
    "# }"
   ]
  },
  {
   "cell_type": "code",
   "execution_count": 60,
   "id": "w00waGPC2Q-r",
   "metadata": {
    "colab": {
     "base_uri": "https://localhost:8080/"
    },
    "executionInfo": {
     "elapsed": 8,
     "status": "ok",
     "timestamp": 1695737797221,
     "user": {
      "displayName": "Liane Gybas",
      "userId": "00850058138446702565"
     },
     "user_tz": -120
    },
    "id": "w00waGPC2Q-r",
    "outputId": "82b7a7b8-7863-4199-bd64-6f81074be797"
   },
   "outputs": [
    {
     "name": "stdout",
     "output_type": "stream",
     "text": [
      "2\n",
      "3\n",
      "4\n",
      "5\n",
      "6\n",
      "7\n",
      "8\n",
      "9\n"
     ]
    }
   ],
   "source": [
    "# for x in range(2, 10):\n",
    "#   print(x)"
   ]
  },
  {
   "cell_type": "markdown",
   "id": "c8f5dc05-1bcf-4295-8af3-dc28283e1586",
   "metadata": {
    "id": "c8f5dc05-1bcf-4295-8af3-dc28283e1586"
   },
   "source": [
    "## 6. Define the Cross-Validation"
   ]
  },
  {
   "cell_type": "code",
   "execution_count": 61,
   "id": "cec6c197-ba23-48d2-812f-683bc0108529",
   "metadata": {
    "executionInfo": {
     "elapsed": 364,
     "status": "ok",
     "timestamp": 1695738095470,
     "user": {
      "displayName": "Liane Gybas",
      "userId": "00850058138446702565"
     },
     "user_tz": -120
    },
    "id": "cec6c197-ba23-48d2-812f-683bc0108529"
   },
   "outputs": [],
   "source": [
    "from sklearn.model_selection import GridSearchCV\n",
    "from sklearn.model_selection import RandomizedSearchCV"
   ]
  },
  {
   "cell_type": "code",
   "execution_count": 63,
   "id": "2028ceb6-60ae-4ffe-a082-ad6dd1f97518",
   "metadata": {
    "executionInfo": {
     "elapsed": 15,
     "status": "ok",
     "timestamp": 1695738117617,
     "user": {
      "displayName": "Liane Gybas",
      "userId": "00850058138446702565"
     },
     "user_tz": -120
    },
    "id": "2028ceb6-60ae-4ffe-a082-ad6dd1f97518"
   },
   "outputs": [],
   "source": [
    "# define cross validation\n",
    "rand_search = RandomizedSearchCV(pipe,\n",
    "                      param_grid,\n",
    "                      cv=10,       # 10 folds\n",
    "                      verbose=1,   # not so much text\n",
    "                      n_jobs=-2,\n",
    "                      n_iter=10,\n",
    "                      random_state=123)  # 100 combinations from our parametergrid"
   ]
  },
  {
   "cell_type": "markdown",
   "id": "8427f806-338d-4aaa-b593-dc66588218b1",
   "metadata": {
    "id": "8427f806-338d-4aaa-b593-dc66588218b1"
   },
   "source": [
    "## 7. Build the model"
   ]
  },
  {
   "cell_type": "code",
   "execution_count": 64,
   "id": "f71b4867-161a-4579-b85f-07c5625ba539",
   "metadata": {
    "colab": {
     "base_uri": "https://localhost:8080/",
     "height": 204
    },
    "collapsed": true,
    "executionInfo": {
     "elapsed": 7566,
     "status": "ok",
     "timestamp": 1695738127427,
     "user": {
      "displayName": "Liane Gybas",
      "userId": "00850058138446702565"
     },
     "user_tz": -120
    },
    "id": "f71b4867-161a-4579-b85f-07c5625ba539",
    "jupyter": {
     "outputs_hidden": true
    },
    "outputId": "987f4fd1-668d-408e-b7fa-8e80a232d959",
    "tags": []
   },
   "outputs": [
    {
     "name": "stdout",
     "output_type": "stream",
     "text": [
      "Fitting 10 folds for each of 100 candidates, totalling 1000 fits\n"
     ]
    },
    {
     "data": {
      "text/html": [
       "<style>#sk-container-id-6 {color: black;background-color: white;}#sk-container-id-6 pre{padding: 0;}#sk-container-id-6 div.sk-toggleable {background-color: white;}#sk-container-id-6 label.sk-toggleable__label {cursor: pointer;display: block;width: 100%;margin-bottom: 0;padding: 0.3em;box-sizing: border-box;text-align: center;}#sk-container-id-6 label.sk-toggleable__label-arrow:before {content: \"▸\";float: left;margin-right: 0.25em;color: #696969;}#sk-container-id-6 label.sk-toggleable__label-arrow:hover:before {color: black;}#sk-container-id-6 div.sk-estimator:hover label.sk-toggleable__label-arrow:before {color: black;}#sk-container-id-6 div.sk-toggleable__content {max-height: 0;max-width: 0;overflow: hidden;text-align: left;background-color: #f0f8ff;}#sk-container-id-6 div.sk-toggleable__content pre {margin: 0.2em;color: black;border-radius: 0.25em;background-color: #f0f8ff;}#sk-container-id-6 input.sk-toggleable__control:checked~div.sk-toggleable__content {max-height: 200px;max-width: 100%;overflow: auto;}#sk-container-id-6 input.sk-toggleable__control:checked~label.sk-toggleable__label-arrow:before {content: \"▾\";}#sk-container-id-6 div.sk-estimator input.sk-toggleable__control:checked~label.sk-toggleable__label {background-color: #d4ebff;}#sk-container-id-6 div.sk-label input.sk-toggleable__control:checked~label.sk-toggleable__label {background-color: #d4ebff;}#sk-container-id-6 input.sk-hidden--visually {border: 0;clip: rect(1px 1px 1px 1px);clip: rect(1px, 1px, 1px, 1px);height: 1px;margin: -1px;overflow: hidden;padding: 0;position: absolute;width: 1px;}#sk-container-id-6 div.sk-estimator {font-family: monospace;background-color: #f0f8ff;border: 1px dotted black;border-radius: 0.25em;box-sizing: border-box;margin-bottom: 0.5em;}#sk-container-id-6 div.sk-estimator:hover {background-color: #d4ebff;}#sk-container-id-6 div.sk-parallel-item::after {content: \"\";width: 100%;border-bottom: 1px solid gray;flex-grow: 1;}#sk-container-id-6 div.sk-label:hover label.sk-toggleable__label {background-color: #d4ebff;}#sk-container-id-6 div.sk-serial::before {content: \"\";position: absolute;border-left: 1px solid gray;box-sizing: border-box;top: 0;bottom: 0;left: 50%;z-index: 0;}#sk-container-id-6 div.sk-serial {display: flex;flex-direction: column;align-items: center;background-color: white;padding-right: 0.2em;padding-left: 0.2em;position: relative;}#sk-container-id-6 div.sk-item {position: relative;z-index: 1;}#sk-container-id-6 div.sk-parallel {display: flex;align-items: stretch;justify-content: center;background-color: white;position: relative;}#sk-container-id-6 div.sk-item::before, #sk-container-id-6 div.sk-parallel-item::before {content: \"\";position: absolute;border-left: 1px solid gray;box-sizing: border-box;top: 0;bottom: 0;left: 50%;z-index: -1;}#sk-container-id-6 div.sk-parallel-item {display: flex;flex-direction: column;z-index: 1;position: relative;background-color: white;}#sk-container-id-6 div.sk-parallel-item:first-child::after {align-self: flex-end;width: 50%;}#sk-container-id-6 div.sk-parallel-item:last-child::after {align-self: flex-start;width: 50%;}#sk-container-id-6 div.sk-parallel-item:only-child::after {width: 0;}#sk-container-id-6 div.sk-dashed-wrapped {border: 1px dashed gray;margin: 0 0.4em 0.5em 0.4em;box-sizing: border-box;padding-bottom: 0.4em;background-color: white;}#sk-container-id-6 div.sk-label label {font-family: monospace;font-weight: bold;display: inline-block;line-height: 1.2em;}#sk-container-id-6 div.sk-label-container {text-align: center;}#sk-container-id-6 div.sk-container {/* jupyter's `normalize.less` sets `[hidden] { display: none; }` but bootstrap.min.css set `[hidden] { display: none !important; }` so we also need the `!important` here to be able to override the default hidden behavior on the sphinx rendered scikit-learn.org. See: https://github.com/scikit-learn/scikit-learn/issues/21755 */display: inline-block !important;position: relative;}#sk-container-id-6 div.sk-text-repr-fallback {display: none;}</style><div id=\"sk-container-id-6\" class=\"sk-top-container\"><div class=\"sk-text-repr-fallback\"><pre>RandomizedSearchCV(cv=10,\n",
       "                   estimator=Pipeline(steps=[(&#x27;simpleimputer&#x27;, SimpleImputer()),\n",
       "                                             (&#x27;standardscaler&#x27;,\n",
       "                                              StandardScaler()),\n",
       "                                             (&#x27;decisiontreeclassifier&#x27;,\n",
       "                                              DecisionTreeClassifier())]),\n",
       "                   n_iter=100, n_jobs=-2,\n",
       "                   param_distributions={&#x27;decisiontreeclassifier__criterion&#x27;: [&#x27;gini&#x27;,\n",
       "                                                                              &#x27;entropy&#x27;],\n",
       "                                        &#x27;decisiontreeclassifier__max_depth&#x27;: range(2, 14),\n",
       "                                        &#x27;decisiontreeclassifier__max_leaf_nodes&#x27;: range(2, 10),\n",
       "                                        &#x27;decisiontreeclassifier__min_samples_leaf&#x27;: range(2, 10),\n",
       "                                        &#x27;simpleimputer__strategy&#x27;: [&#x27;constant&#x27;,\n",
       "                                                                    &#x27;mean&#x27;,\n",
       "                                                                    &#x27;median&#x27;],\n",
       "                                        &#x27;standardscaler__with_mean&#x27;: [True,\n",
       "                                                                      False],\n",
       "                                        &#x27;standardscaler__with_std&#x27;: [True,\n",
       "                                                                     False]},\n",
       "                   verbose=1)</pre><b>In a Jupyter environment, please rerun this cell to show the HTML representation or trust the notebook. <br />On GitHub, the HTML representation is unable to render, please try loading this page with nbviewer.org.</b></div><div class=\"sk-container\" hidden><div class=\"sk-item sk-dashed-wrapped\"><div class=\"sk-label-container\"><div class=\"sk-label sk-toggleable\"><input class=\"sk-toggleable__control sk-hidden--visually\" id=\"sk-estimator-id-25\" type=\"checkbox\" ><label for=\"sk-estimator-id-25\" class=\"sk-toggleable__label sk-toggleable__label-arrow\">RandomizedSearchCV</label><div class=\"sk-toggleable__content\"><pre>RandomizedSearchCV(cv=10,\n",
       "                   estimator=Pipeline(steps=[(&#x27;simpleimputer&#x27;, SimpleImputer()),\n",
       "                                             (&#x27;standardscaler&#x27;,\n",
       "                                              StandardScaler()),\n",
       "                                             (&#x27;decisiontreeclassifier&#x27;,\n",
       "                                              DecisionTreeClassifier())]),\n",
       "                   n_iter=100, n_jobs=-2,\n",
       "                   param_distributions={&#x27;decisiontreeclassifier__criterion&#x27;: [&#x27;gini&#x27;,\n",
       "                                                                              &#x27;entropy&#x27;],\n",
       "                                        &#x27;decisiontreeclassifier__max_depth&#x27;: range(2, 14),\n",
       "                                        &#x27;decisiontreeclassifier__max_leaf_nodes&#x27;: range(2, 10),\n",
       "                                        &#x27;decisiontreeclassifier__min_samples_leaf&#x27;: range(2, 10),\n",
       "                                        &#x27;simpleimputer__strategy&#x27;: [&#x27;constant&#x27;,\n",
       "                                                                    &#x27;mean&#x27;,\n",
       "                                                                    &#x27;median&#x27;],\n",
       "                                        &#x27;standardscaler__with_mean&#x27;: [True,\n",
       "                                                                      False],\n",
       "                                        &#x27;standardscaler__with_std&#x27;: [True,\n",
       "                                                                     False]},\n",
       "                   verbose=1)</pre></div></div></div><div class=\"sk-parallel\"><div class=\"sk-parallel-item\"><div class=\"sk-item\"><div class=\"sk-label-container\"><div class=\"sk-label sk-toggleable\"><input class=\"sk-toggleable__control sk-hidden--visually\" id=\"sk-estimator-id-26\" type=\"checkbox\" ><label for=\"sk-estimator-id-26\" class=\"sk-toggleable__label sk-toggleable__label-arrow\">estimator: Pipeline</label><div class=\"sk-toggleable__content\"><pre>Pipeline(steps=[(&#x27;simpleimputer&#x27;, SimpleImputer()),\n",
       "                (&#x27;standardscaler&#x27;, StandardScaler()),\n",
       "                (&#x27;decisiontreeclassifier&#x27;, DecisionTreeClassifier())])</pre></div></div></div><div class=\"sk-serial\"><div class=\"sk-item\"><div class=\"sk-serial\"><div class=\"sk-item\"><div class=\"sk-estimator sk-toggleable\"><input class=\"sk-toggleable__control sk-hidden--visually\" id=\"sk-estimator-id-27\" type=\"checkbox\" ><label for=\"sk-estimator-id-27\" class=\"sk-toggleable__label sk-toggleable__label-arrow\">SimpleImputer</label><div class=\"sk-toggleable__content\"><pre>SimpleImputer()</pre></div></div></div><div class=\"sk-item\"><div class=\"sk-estimator sk-toggleable\"><input class=\"sk-toggleable__control sk-hidden--visually\" id=\"sk-estimator-id-28\" type=\"checkbox\" ><label for=\"sk-estimator-id-28\" class=\"sk-toggleable__label sk-toggleable__label-arrow\">StandardScaler</label><div class=\"sk-toggleable__content\"><pre>StandardScaler()</pre></div></div></div><div class=\"sk-item\"><div class=\"sk-estimator sk-toggleable\"><input class=\"sk-toggleable__control sk-hidden--visually\" id=\"sk-estimator-id-29\" type=\"checkbox\" ><label for=\"sk-estimator-id-29\" class=\"sk-toggleable__label sk-toggleable__label-arrow\">DecisionTreeClassifier</label><div class=\"sk-toggleable__content\"><pre>DecisionTreeClassifier()</pre></div></div></div></div></div></div></div></div></div></div></div></div>"
      ],
      "text/plain": [
       "RandomizedSearchCV(cv=10,\n",
       "                   estimator=Pipeline(steps=[('simpleimputer', SimpleImputer()),\n",
       "                                             ('standardscaler',\n",
       "                                              StandardScaler()),\n",
       "                                             ('decisiontreeclassifier',\n",
       "                                              DecisionTreeClassifier())]),\n",
       "                   n_iter=100, n_jobs=-2,\n",
       "                   param_distributions={'decisiontreeclassifier__criterion': ['gini',\n",
       "                                                                              'entropy'],\n",
       "                                        'decisiontreeclassifier__max_depth': range(2, 14),\n",
       "                                        'decisiontreeclassifier__max_leaf_nodes': range(2, 10),\n",
       "                                        'decisiontreeclassifier__min_samples_leaf': range(2, 10),\n",
       "                                        'simpleimputer__strategy': ['constant',\n",
       "                                                                    'mean',\n",
       "                                                                    'median'],\n",
       "                                        'standardscaler__with_mean': [True,\n",
       "                                                                      False],\n",
       "                                        'standardscaler__with_std': [True,\n",
       "                                                                     False]},\n",
       "                   verbose=1)"
      ]
     },
     "execution_count": 64,
     "metadata": {},
     "output_type": "execute_result"
    }
   ],
   "source": [
    "# fit\n",
    "rand_search.fit(X_train, y_train)"
   ]
  },
  {
   "cell_type": "code",
   "execution_count": 65,
   "id": "e15f3826-e216-4a71-b30c-81c8d7e3cc85",
   "metadata": {
    "colab": {
     "base_uri": "https://localhost:8080/"
    },
    "executionInfo": {
     "elapsed": 16,
     "status": "ok",
     "timestamp": 1695738131737,
     "user": {
      "displayName": "Liane Gybas",
      "userId": "00850058138446702565"
     },
     "user_tz": -120
    },
    "id": "e15f3826-e216-4a71-b30c-81c8d7e3cc85",
    "outputId": "57c66c47-37b9-43af-e2d0-e0bdadd0f124"
   },
   "outputs": [
    {
     "data": {
      "text/plain": [
       "0.9203801945181256"
      ]
     },
     "execution_count": 65,
     "metadata": {},
     "output_type": "execute_result"
    }
   ],
   "source": [
    "# cross validation average accuracy\n",
    "rand_search.best_score_"
   ]
  },
  {
   "cell_type": "code",
   "execution_count": 66,
   "id": "9b7ddc9d-ea54-4a5a-af44-a9a6e1d83534",
   "metadata": {
    "colab": {
     "base_uri": "https://localhost:8080/"
    },
    "executionInfo": {
     "elapsed": 15,
     "status": "ok",
     "timestamp": 1695738138665,
     "user": {
      "displayName": "Liane Gybas",
      "userId": "00850058138446702565"
     },
     "user_tz": -120
    },
    "id": "9b7ddc9d-ea54-4a5a-af44-a9a6e1d83534",
    "outputId": "6af90e5e-e022-4420-80b9-996ca738ee08"
   },
   "outputs": [
    {
     "data": {
      "text/plain": [
       "{'standardscaler__with_std': False,\n",
       " 'standardscaler__with_mean': True,\n",
       " 'simpleimputer__strategy': 'constant',\n",
       " 'decisiontreeclassifier__min_samples_leaf': 7,\n",
       " 'decisiontreeclassifier__max_leaf_nodes': 9,\n",
       " 'decisiontreeclassifier__max_depth': 6,\n",
       " 'decisiontreeclassifier__criterion': 'gini'}"
      ]
     },
     "execution_count": 66,
     "metadata": {},
     "output_type": "execute_result"
    }
   ],
   "source": [
    "# best parameters\n",
    "rand_search.best_params_"
   ]
  },
  {
   "cell_type": "markdown",
   "id": "888b101b-1717-4258-b098-6c5b40478ec6",
   "metadata": {
    "id": "888b101b-1717-4258-b098-6c5b40478ec6"
   },
   "source": [
    "## 8. Accuracy"
   ]
  },
  {
   "cell_type": "code",
   "execution_count": null,
   "id": "3c654834-3902-4f34-9008-3e6df9b1de95",
   "metadata": {
    "id": "3c654834-3902-4f34-9008-3e6df9b1de95"
   },
   "outputs": [],
   "source": [
    "from sklearn.metrics import accuracy_score"
   ]
  },
  {
   "cell_type": "code",
   "execution_count": null,
   "id": "d9c89ac7-d026-4782-bca4-fc356f1e1796",
   "metadata": {
    "colab": {
     "base_uri": "https://localhost:8080/"
    },
    "executionInfo": {
     "elapsed": 36,
     "status": "ok",
     "timestamp": 1695730650877,
     "user": {
      "displayName": "Liane Gybas",
      "userId": "00850058138446702565"
     },
     "user_tz": -120
    },
    "id": "d9c89ac7-d026-4782-bca4-fc356f1e1796",
    "outputId": "cd0e0c2f-fe95-42e8-f008-adbab047319b"
   },
   "outputs": [
    {
     "data": {
      "text/plain": [
       "0.9366438356164384"
      ]
     },
     "execution_count": 34,
     "metadata": {},
     "output_type": "execute_result"
    }
   ],
   "source": [
    "# training accuracy ON the ENTIRE TRAIN-DATA\n",
    "y_train_pred = rand_search.predict(X_train)\n",
    "\n",
    "accuracy_score(y_train, y_train_pred)"
   ]
  },
  {
   "cell_type": "code",
   "execution_count": null,
   "id": "66329eeb-b6d2-4308-a43d-c979e2cff656",
   "metadata": {
    "colab": {
     "base_uri": "https://localhost:8080/"
    },
    "executionInfo": {
     "elapsed": 347,
     "status": "ok",
     "timestamp": 1695730654915,
     "user": {
      "displayName": "Liane Gybas",
      "userId": "00850058138446702565"
     },
     "user_tz": -120
    },
    "id": "66329eeb-b6d2-4308-a43d-c979e2cff656",
    "outputId": "183d16c4-9fee-481f-ccad-6900e380661d"
   },
   "outputs": [
    {
     "data": {
      "text/plain": [
       "0.9315068493150684"
      ]
     },
     "execution_count": 35,
     "metadata": {},
     "output_type": "execute_result"
    }
   ],
   "source": [
    "# testing accuracy\n",
    "y_test_pred = rand_search.predict(X_test)\n",
    "\n",
    "accuracy_score(y_test, y_test_pred)"
   ]
  },
  {
   "cell_type": "code",
   "execution_count": null,
   "id": "4c64c93a-551e-4855-9293-f7d9bb9ee5c5",
   "metadata": {
    "id": "4c64c93a-551e-4855-9293-f7d9bb9ee5c5"
   },
   "outputs": [],
   "source": []
  },
  {
   "cell_type": "code",
   "execution_count": null,
   "id": "7ff42eae-63a7-4ef8-b962-02978fc5748a",
   "metadata": {
    "id": "7ff42eae-63a7-4ef8-b962-02978fc5748a"
   },
   "outputs": [],
   "source": []
  },
  {
   "cell_type": "code",
   "execution_count": 96,
   "id": "AIkqky8e_TZY",
   "metadata": {
    "colab": {
     "base_uri": "https://localhost:8080/"
    },
    "executionInfo": {
     "elapsed": 334,
     "status": "ok",
     "timestamp": 1695740162200,
     "user": {
      "displayName": "Liane Gybas",
      "userId": "00850058138446702565"
     },
     "user_tz": -120
    },
    "id": "AIkqky8e_TZY",
    "outputId": "d434e3bf-698c-48da-a5bb-efa79e52539e"
   },
   "outputs": [
    {
     "data": {
      "text/plain": [
       "LotArea         0.000000\n",
       "PoolArea        0.000000\n",
       "ScreenPorch     0.000000\n",
       "LotFrontage     0.035517\n",
       "WoodDeckSF      0.036661\n",
       "BedroomAbvGr    0.071784\n",
       "TotalBsmtSF     0.112779\n",
       "Fireplaces      0.141375\n",
       "GarageCars      0.601884\n",
       "Name: 0, dtype: float64"
      ]
     },
     "execution_count": 96,
     "metadata": {},
     "output_type": "execute_result"
    }
   ],
   "source": [
    "# again we can put it in a dataframe\n",
    "pd.DataFrame(rand_search.best_estimator_.named_steps['decisiontreeclassifier'].feature_importances_, index = X_num.columns)[0].sort_values()"
   ]
  },
  {
   "cell_type": "code",
   "execution_count": 88,
   "id": "ea65e2aa-97c2-432b-a3b4-746a6e22d2aa",
   "metadata": {
    "colab": {
     "base_uri": "https://localhost:8080/"
    },
    "executionInfo": {
     "elapsed": 259,
     "status": "ok",
     "timestamp": 1695740001224,
     "user": {
      "displayName": "Liane Gybas",
      "userId": "00850058138446702565"
     },
     "user_tz": -120
    },
    "id": "ea65e2aa-97c2-432b-a3b4-746a6e22d2aa",
    "outputId": "2cb2843a-87cd-4993-f33a-8190cb243c5f"
   },
   "outputs": [
    {
     "data": {
      "text/plain": [
       "array([0.        , 0.03339894, 0.13879229, 0.07290807, 0.1435895 ,\n",
       "       0.        , 0.61131121, 0.        , 0.        ])"
      ]
     },
     "execution_count": 88,
     "metadata": {},
     "output_type": "execute_result"
    }
   ],
   "source": [
    "search.best_estimator_.named_steps['decisiontreeclassifier'].feature_importances_"
   ]
  },
  {
   "cell_type": "code",
   "execution_count": 95,
   "id": "KizNRS__i6Ag",
   "metadata": {
    "colab": {
     "base_uri": "https://localhost:8080/"
    },
    "executionInfo": {
     "elapsed": 14,
     "status": "ok",
     "timestamp": 1695740098671,
     "user": {
      "displayName": "Liane Gybas",
      "userId": "00850058138446702565"
     },
     "user_tz": -120
    },
    "id": "KizNRS__i6Ag",
    "outputId": "a308ca30-a551-4e29-d732-ebd3b6764af9"
   },
   "outputs": [
    {
     "data": {
      "text/plain": [
       "LotArea         0.000000\n",
       "PoolArea        0.000000\n",
       "WoodDeckSF      0.000000\n",
       "ScreenPorch     0.000000\n",
       "LotFrontage     0.033399\n",
       "BedroomAbvGr    0.072908\n",
       "TotalBsmtSF     0.138792\n",
       "Fireplaces      0.143589\n",
       "GarageCars      0.611311\n",
       "Name: 0, dtype: float64"
      ]
     },
     "execution_count": 95,
     "metadata": {},
     "output_type": "execute_result"
    }
   ],
   "source": [
    "# again we can put it in a dataframe\n",
    "pd.DataFrame(search.best_estimator_.named_steps['decisiontreeclassifier'].feature_importances_, index = X_num.columns)[0].sort_values()"
   ]
  },
  {
   "cell_type": "code",
   "execution_count": null,
   "id": "0487d92e-7c21-4da3-8abe-49cc2f52db4a",
   "metadata": {
    "id": "0487d92e-7c21-4da3-8abe-49cc2f52db4a"
   },
   "outputs": [],
   "source": []
  },
  {
   "cell_type": "code",
   "execution_count": null,
   "id": "98d664a0-3bd9-46c7-89f8-51122968b111",
   "metadata": {
    "id": "98d664a0-3bd9-46c7-89f8-51122968b111"
   },
   "outputs": [],
   "source": []
  },
  {
   "cell_type": "markdown",
   "id": "x2oczNdlbLNa",
   "metadata": {
    "id": "x2oczNdlbLNa"
   },
   "source": [
    "## ADDITION: Now let's use the GridSearchCV to narrow down the parameter tuning"
   ]
  },
  {
   "cell_type": "markdown",
   "id": "8NTGxBHRb5X-",
   "metadata": {
    "id": "8NTGxBHRb5X-"
   },
   "source": [
    "Best results from before:\n",
    "\n",
    "- 'standardscaler__with_std': False,\n",
    "- 'standardscaler__with_mean': True,\n",
    "- 'simpleimputer__strategy': 'constant',\n",
    "- 'decisiontreeclassifier__min_samples_leaf': 7,\n",
    "- 'decisiontreeclassifier__max_leaf_nodes': 9,\n",
    "- 'decisiontreeclassifier__max_depth': 6,\n",
    "- 'decisiontreeclassifier__criterion': 'gini'}"
   ]
  },
  {
   "cell_type": "code",
   "execution_count": 70,
   "id": "YYqztPqjbR3R",
   "metadata": {
    "executionInfo": {
     "elapsed": 269,
     "status": "ok",
     "timestamp": 1695738865715,
     "user": {
      "displayName": "Liane Gybas",
      "userId": "00850058138446702565"
     },
     "user_tz": -120
    },
    "id": "YYqztPqjbR3R"
   },
   "outputs": [],
   "source": [
    "# new param_grid\n",
    "narrow_param_grid = {\n",
    "    \"simpleimputer__strategy\":[\"constant\", \"median\"], #\"mean\", \"median\"\n",
    "    \"standardscaler__with_mean\":[True, False],\n",
    "    \"standardscaler__with_std\":[True, False],\n",
    "    \"decisiontreeclassifier__max_depth\": range(4, 8),\n",
    "    \"decisiontreeclassifier__min_samples_leaf\": range(5, 10),\n",
    "    \"decisiontreeclassifier__criterion\":[\"gini\", \"entropy\"], # you could also just pass one value [\"gini\"]\n",
    "    \"decisiontreeclassifier__max_leaf_nodes\": range(7, 10)\n",
    "}"
   ]
  },
  {
   "cell_type": "code",
   "execution_count": 71,
   "id": "4p5OoCsJbKyq",
   "metadata": {
    "executionInfo": {
     "elapsed": 306,
     "status": "ok",
     "timestamp": 1695739034064,
     "user": {
      "displayName": "Liane Gybas",
      "userId": "00850058138446702565"
     },
     "user_tz": -120
    },
    "id": "4p5OoCsJbKyq"
   },
   "outputs": [],
   "source": [
    "# define cross validation\n",
    "search = GridSearchCV(pipe,\n",
    "                      narrow_param_grid,\n",
    "                      cv=10,      # number of folds\n",
    "                      verbose=1,\n",
    "                      n_jobs=-2)\n",
    "#                      n_iter=100 # this is not a parameter of gridsearch"
   ]
  },
  {
   "cell_type": "code",
   "execution_count": 72,
   "id": "2Sy8mho6bTz6",
   "metadata": {
    "colab": {
     "base_uri": "https://localhost:8080/",
     "height": 204
    },
    "executionInfo": {
     "elapsed": 71287,
     "status": "ok",
     "timestamp": 1695739107537,
     "user": {
      "displayName": "Liane Gybas",
      "userId": "00850058138446702565"
     },
     "user_tz": -120
    },
    "id": "2Sy8mho6bTz6",
    "outputId": "f510f61a-c174-49fe-a242-4ae3ae3d841a"
   },
   "outputs": [
    {
     "name": "stdout",
     "output_type": "stream",
     "text": [
      "Fitting 10 folds for each of 960 candidates, totalling 9600 fits\n"
     ]
    },
    {
     "data": {
      "text/html": [
       "<style>#sk-container-id-7 {color: black;background-color: white;}#sk-container-id-7 pre{padding: 0;}#sk-container-id-7 div.sk-toggleable {background-color: white;}#sk-container-id-7 label.sk-toggleable__label {cursor: pointer;display: block;width: 100%;margin-bottom: 0;padding: 0.3em;box-sizing: border-box;text-align: center;}#sk-container-id-7 label.sk-toggleable__label-arrow:before {content: \"▸\";float: left;margin-right: 0.25em;color: #696969;}#sk-container-id-7 label.sk-toggleable__label-arrow:hover:before {color: black;}#sk-container-id-7 div.sk-estimator:hover label.sk-toggleable__label-arrow:before {color: black;}#sk-container-id-7 div.sk-toggleable__content {max-height: 0;max-width: 0;overflow: hidden;text-align: left;background-color: #f0f8ff;}#sk-container-id-7 div.sk-toggleable__content pre {margin: 0.2em;color: black;border-radius: 0.25em;background-color: #f0f8ff;}#sk-container-id-7 input.sk-toggleable__control:checked~div.sk-toggleable__content {max-height: 200px;max-width: 100%;overflow: auto;}#sk-container-id-7 input.sk-toggleable__control:checked~label.sk-toggleable__label-arrow:before {content: \"▾\";}#sk-container-id-7 div.sk-estimator input.sk-toggleable__control:checked~label.sk-toggleable__label {background-color: #d4ebff;}#sk-container-id-7 div.sk-label input.sk-toggleable__control:checked~label.sk-toggleable__label {background-color: #d4ebff;}#sk-container-id-7 input.sk-hidden--visually {border: 0;clip: rect(1px 1px 1px 1px);clip: rect(1px, 1px, 1px, 1px);height: 1px;margin: -1px;overflow: hidden;padding: 0;position: absolute;width: 1px;}#sk-container-id-7 div.sk-estimator {font-family: monospace;background-color: #f0f8ff;border: 1px dotted black;border-radius: 0.25em;box-sizing: border-box;margin-bottom: 0.5em;}#sk-container-id-7 div.sk-estimator:hover {background-color: #d4ebff;}#sk-container-id-7 div.sk-parallel-item::after {content: \"\";width: 100%;border-bottom: 1px solid gray;flex-grow: 1;}#sk-container-id-7 div.sk-label:hover label.sk-toggleable__label {background-color: #d4ebff;}#sk-container-id-7 div.sk-serial::before {content: \"\";position: absolute;border-left: 1px solid gray;box-sizing: border-box;top: 0;bottom: 0;left: 50%;z-index: 0;}#sk-container-id-7 div.sk-serial {display: flex;flex-direction: column;align-items: center;background-color: white;padding-right: 0.2em;padding-left: 0.2em;position: relative;}#sk-container-id-7 div.sk-item {position: relative;z-index: 1;}#sk-container-id-7 div.sk-parallel {display: flex;align-items: stretch;justify-content: center;background-color: white;position: relative;}#sk-container-id-7 div.sk-item::before, #sk-container-id-7 div.sk-parallel-item::before {content: \"\";position: absolute;border-left: 1px solid gray;box-sizing: border-box;top: 0;bottom: 0;left: 50%;z-index: -1;}#sk-container-id-7 div.sk-parallel-item {display: flex;flex-direction: column;z-index: 1;position: relative;background-color: white;}#sk-container-id-7 div.sk-parallel-item:first-child::after {align-self: flex-end;width: 50%;}#sk-container-id-7 div.sk-parallel-item:last-child::after {align-self: flex-start;width: 50%;}#sk-container-id-7 div.sk-parallel-item:only-child::after {width: 0;}#sk-container-id-7 div.sk-dashed-wrapped {border: 1px dashed gray;margin: 0 0.4em 0.5em 0.4em;box-sizing: border-box;padding-bottom: 0.4em;background-color: white;}#sk-container-id-7 div.sk-label label {font-family: monospace;font-weight: bold;display: inline-block;line-height: 1.2em;}#sk-container-id-7 div.sk-label-container {text-align: center;}#sk-container-id-7 div.sk-container {/* jupyter's `normalize.less` sets `[hidden] { display: none; }` but bootstrap.min.css set `[hidden] { display: none !important; }` so we also need the `!important` here to be able to override the default hidden behavior on the sphinx rendered scikit-learn.org. See: https://github.com/scikit-learn/scikit-learn/issues/21755 */display: inline-block !important;position: relative;}#sk-container-id-7 div.sk-text-repr-fallback {display: none;}</style><div id=\"sk-container-id-7\" class=\"sk-top-container\"><div class=\"sk-text-repr-fallback\"><pre>GridSearchCV(cv=10,\n",
       "             estimator=Pipeline(steps=[(&#x27;simpleimputer&#x27;, SimpleImputer()),\n",
       "                                       (&#x27;standardscaler&#x27;, StandardScaler()),\n",
       "                                       (&#x27;decisiontreeclassifier&#x27;,\n",
       "                                        DecisionTreeClassifier())]),\n",
       "             n_jobs=-2,\n",
       "             param_grid={&#x27;decisiontreeclassifier__criterion&#x27;: [&#x27;gini&#x27;,\n",
       "                                                               &#x27;entropy&#x27;],\n",
       "                         &#x27;decisiontreeclassifier__max_depth&#x27;: range(4, 8),\n",
       "                         &#x27;decisiontreeclassifier__max_leaf_nodes&#x27;: range(7, 10),\n",
       "                         &#x27;decisiontreeclassifier__min_samples_leaf&#x27;: range(5, 10),\n",
       "                         &#x27;simpleimputer__strategy&#x27;: [&#x27;constant&#x27;, &#x27;median&#x27;],\n",
       "                         &#x27;standardscaler__with_mean&#x27;: [True, False],\n",
       "                         &#x27;standardscaler__with_std&#x27;: [True, False]},\n",
       "             verbose=1)</pre><b>In a Jupyter environment, please rerun this cell to show the HTML representation or trust the notebook. <br />On GitHub, the HTML representation is unable to render, please try loading this page with nbviewer.org.</b></div><div class=\"sk-container\" hidden><div class=\"sk-item sk-dashed-wrapped\"><div class=\"sk-label-container\"><div class=\"sk-label sk-toggleable\"><input class=\"sk-toggleable__control sk-hidden--visually\" id=\"sk-estimator-id-30\" type=\"checkbox\" ><label for=\"sk-estimator-id-30\" class=\"sk-toggleable__label sk-toggleable__label-arrow\">GridSearchCV</label><div class=\"sk-toggleable__content\"><pre>GridSearchCV(cv=10,\n",
       "             estimator=Pipeline(steps=[(&#x27;simpleimputer&#x27;, SimpleImputer()),\n",
       "                                       (&#x27;standardscaler&#x27;, StandardScaler()),\n",
       "                                       (&#x27;decisiontreeclassifier&#x27;,\n",
       "                                        DecisionTreeClassifier())]),\n",
       "             n_jobs=-2,\n",
       "             param_grid={&#x27;decisiontreeclassifier__criterion&#x27;: [&#x27;gini&#x27;,\n",
       "                                                               &#x27;entropy&#x27;],\n",
       "                         &#x27;decisiontreeclassifier__max_depth&#x27;: range(4, 8),\n",
       "                         &#x27;decisiontreeclassifier__max_leaf_nodes&#x27;: range(7, 10),\n",
       "                         &#x27;decisiontreeclassifier__min_samples_leaf&#x27;: range(5, 10),\n",
       "                         &#x27;simpleimputer__strategy&#x27;: [&#x27;constant&#x27;, &#x27;median&#x27;],\n",
       "                         &#x27;standardscaler__with_mean&#x27;: [True, False],\n",
       "                         &#x27;standardscaler__with_std&#x27;: [True, False]},\n",
       "             verbose=1)</pre></div></div></div><div class=\"sk-parallel\"><div class=\"sk-parallel-item\"><div class=\"sk-item\"><div class=\"sk-label-container\"><div class=\"sk-label sk-toggleable\"><input class=\"sk-toggleable__control sk-hidden--visually\" id=\"sk-estimator-id-31\" type=\"checkbox\" ><label for=\"sk-estimator-id-31\" class=\"sk-toggleable__label sk-toggleable__label-arrow\">estimator: Pipeline</label><div class=\"sk-toggleable__content\"><pre>Pipeline(steps=[(&#x27;simpleimputer&#x27;, SimpleImputer()),\n",
       "                (&#x27;standardscaler&#x27;, StandardScaler()),\n",
       "                (&#x27;decisiontreeclassifier&#x27;, DecisionTreeClassifier())])</pre></div></div></div><div class=\"sk-serial\"><div class=\"sk-item\"><div class=\"sk-serial\"><div class=\"sk-item\"><div class=\"sk-estimator sk-toggleable\"><input class=\"sk-toggleable__control sk-hidden--visually\" id=\"sk-estimator-id-32\" type=\"checkbox\" ><label for=\"sk-estimator-id-32\" class=\"sk-toggleable__label sk-toggleable__label-arrow\">SimpleImputer</label><div class=\"sk-toggleable__content\"><pre>SimpleImputer()</pre></div></div></div><div class=\"sk-item\"><div class=\"sk-estimator sk-toggleable\"><input class=\"sk-toggleable__control sk-hidden--visually\" id=\"sk-estimator-id-33\" type=\"checkbox\" ><label for=\"sk-estimator-id-33\" class=\"sk-toggleable__label sk-toggleable__label-arrow\">StandardScaler</label><div class=\"sk-toggleable__content\"><pre>StandardScaler()</pre></div></div></div><div class=\"sk-item\"><div class=\"sk-estimator sk-toggleable\"><input class=\"sk-toggleable__control sk-hidden--visually\" id=\"sk-estimator-id-34\" type=\"checkbox\" ><label for=\"sk-estimator-id-34\" class=\"sk-toggleable__label sk-toggleable__label-arrow\">DecisionTreeClassifier</label><div class=\"sk-toggleable__content\"><pre>DecisionTreeClassifier()</pre></div></div></div></div></div></div></div></div></div></div></div></div>"
      ],
      "text/plain": [
       "GridSearchCV(cv=10,\n",
       "             estimator=Pipeline(steps=[('simpleimputer', SimpleImputer()),\n",
       "                                       ('standardscaler', StandardScaler()),\n",
       "                                       ('decisiontreeclassifier',\n",
       "                                        DecisionTreeClassifier())]),\n",
       "             n_jobs=-2,\n",
       "             param_grid={'decisiontreeclassifier__criterion': ['gini',\n",
       "                                                               'entropy'],\n",
       "                         'decisiontreeclassifier__max_depth': range(4, 8),\n",
       "                         'decisiontreeclassifier__max_leaf_nodes': range(7, 10),\n",
       "                         'decisiontreeclassifier__min_samples_leaf': range(5, 10),\n",
       "                         'simpleimputer__strategy': ['constant', 'median'],\n",
       "                         'standardscaler__with_mean': [True, False],\n",
       "                         'standardscaler__with_std': [True, False]},\n",
       "             verbose=1)"
      ]
     },
     "execution_count": 72,
     "metadata": {},
     "output_type": "execute_result"
    }
   ],
   "source": [
    "# fit\n",
    "search.fit(X_train, y_train)"
   ]
  },
  {
   "cell_type": "code",
   "execution_count": 73,
   "id": "b5t5_I8KbVCG",
   "metadata": {
    "colab": {
     "base_uri": "https://localhost:8080/"
    },
    "executionInfo": {
     "elapsed": 236,
     "status": "ok",
     "timestamp": 1695739188649,
     "user": {
      "displayName": "Liane Gybas",
      "userId": "00850058138446702565"
     },
     "user_tz": -120
    },
    "id": "b5t5_I8KbVCG",
    "outputId": "fb318356-5ad6-4e0e-a030-737666bf1f26"
   },
   "outputs": [
    {
     "data": {
      "text/plain": [
       "{'decisiontreeclassifier__criterion': 'gini',\n",
       " 'decisiontreeclassifier__max_depth': 5,\n",
       " 'decisiontreeclassifier__max_leaf_nodes': 9,\n",
       " 'decisiontreeclassifier__min_samples_leaf': 8,\n",
       " 'simpleimputer__strategy': 'median',\n",
       " 'standardscaler__with_mean': True,\n",
       " 'standardscaler__with_std': True}"
      ]
     },
     "execution_count": 73,
     "metadata": {},
     "output_type": "execute_result"
    }
   ],
   "source": [
    "# check best_params_ and maybe check best_score_\n",
    "search.best_params_"
   ]
  },
  {
   "cell_type": "code",
   "execution_count": 74,
   "id": "OwTRMQgzcwhr",
   "metadata": {
    "colab": {
     "base_uri": "https://localhost:8080/"
    },
    "executionInfo": {
     "elapsed": 13,
     "status": "ok",
     "timestamp": 1695739270183,
     "user": {
      "displayName": "Liane Gybas",
      "userId": "00850058138446702565"
     },
     "user_tz": -120
    },
    "id": "OwTRMQgzcwhr",
    "outputId": "bec7d8ef-1291-456e-e621-6bfb18e586eb"
   },
   "outputs": [
    {
     "data": {
      "text/plain": [
       "0.9246831712348955"
      ]
     },
     "execution_count": 74,
     "metadata": {},
     "output_type": "execute_result"
    }
   ],
   "source": [
    "search.best_score_"
   ]
  },
  {
   "cell_type": "code",
   "execution_count": 75,
   "id": "1MrebBFDbbLc",
   "metadata": {
    "colab": {
     "base_uri": "https://localhost:8080/"
    },
    "executionInfo": {
     "elapsed": 254,
     "status": "ok",
     "timestamp": 1695739284476,
     "user": {
      "displayName": "Liane Gybas",
      "userId": "00850058138446702565"
     },
     "user_tz": -120
    },
    "id": "1MrebBFDbbLc",
    "outputId": "047b3a58-47ae-4938-a0d1-4c75c9495b41"
   },
   "outputs": [
    {
     "data": {
      "text/plain": [
       "0.9323630136986302"
      ]
     },
     "execution_count": 75,
     "metadata": {},
     "output_type": "execute_result"
    }
   ],
   "source": [
    "# then we could evaluate on ENTIRE train-data (with.predict())\n",
    "y_pred_train = search.predict(X_train)\n",
    "\n",
    "accuracy_score(y_true=y_train, y_pred=y_pred_train)"
   ]
  },
  {
   "cell_type": "code",
   "execution_count": 76,
   "id": "8sOkfkUGbg7w",
   "metadata": {
    "colab": {
     "base_uri": "https://localhost:8080/"
    },
    "executionInfo": {
     "elapsed": 250,
     "status": "ok",
     "timestamp": 1695739292800,
     "user": {
      "displayName": "Liane Gybas",
      "userId": "00850058138446702565"
     },
     "user_tz": -120
    },
    "id": "8sOkfkUGbg7w",
    "outputId": "970c7af5-5daf-4769-d788-268870436260"
   },
   "outputs": [
    {
     "data": {
      "text/plain": [
       "0.934931506849315"
      ]
     },
     "execution_count": 76,
     "metadata": {},
     "output_type": "execute_result"
    }
   ],
   "source": [
    "# then we can evaluate on Test data\n",
    "y_pred_test = search.predict(X_test)\n",
    "accuracy_score(y_true=y_test, y_pred=y_pred_test)"
   ]
  },
  {
   "cell_type": "markdown",
   "id": "O-nTgE8cc5fd",
   "metadata": {
    "id": "O-nTgE8cc5fd"
   },
   "source": [
    "So we used Randomized Search to find the area in which we expect the optimum.\n",
    "\n",
    "Then we used Grid Search to find the optimal parameters (in this local optimum).\n",
    "\n",
    "In this case it did not make so much of a difference."
   ]
  },
  {
   "cell_type": "code",
   "execution_count": 77,
   "id": "E75p8CKb8UY8",
   "metadata": {
    "colab": {
     "base_uri": "https://localhost:8080/"
    },
    "executionInfo": {
     "elapsed": 14,
     "status": "ok",
     "timestamp": 1695739374804,
     "user": {
      "displayName": "Liane Gybas",
      "userId": "00850058138446702565"
     },
     "user_tz": -120
    },
    "id": "E75p8CKb8UY8",
    "outputId": "917b84c7-f253-41ba-efda-9a2099d87810"
   },
   "outputs": [
    {
     "data": {
      "text/plain": [
       "0.9203801945181256"
      ]
     },
     "execution_count": 77,
     "metadata": {},
     "output_type": "execute_result"
    }
   ],
   "source": [
    "# from the randomized search\n",
    "rand_search.best_score_\n"
   ]
  },
  {
   "cell_type": "code",
   "execution_count": 83,
   "id": "iyEuyiqq8_A0",
   "metadata": {
    "colab": {
     "base_uri": "https://localhost:8080/"
    },
    "executionInfo": {
     "elapsed": 214,
     "status": "ok",
     "timestamp": 1695739543453,
     "user": {
      "displayName": "Liane Gybas",
      "userId": "00850058138446702565"
     },
     "user_tz": -120
    },
    "id": "iyEuyiqq8_A0",
    "outputId": "6ddcdbc9-03cf-4dff-e653-3f772f573f63"
   },
   "outputs": [
    {
     "data": {
      "text/plain": [
       "0.9246831712348955"
      ]
     },
     "execution_count": 83,
     "metadata": {},
     "output_type": "execute_result"
    }
   ],
   "source": [
    "# Grid search\n",
    "search.best_score_"
   ]
  },
  {
   "cell_type": "markdown",
   "id": "L7iwmYn89b3v",
   "metadata": {
    "id": "L7iwmYn89b3v"
   },
   "source": [
    "## comparing results between Randomized Search and GridSearch"
   ]
  },
  {
   "cell_type": "code",
   "execution_count": 82,
   "id": "QT8GfDmb8URs",
   "metadata": {
    "colab": {
     "base_uri": "https://localhost:8080/"
    },
    "executionInfo": {
     "elapsed": 14,
     "status": "ok",
     "timestamp": 1695739504884,
     "user": {
      "displayName": "Liane Gybas",
      "userId": "00850058138446702565"
     },
     "user_tz": -120
    },
    "id": "QT8GfDmb8URs",
    "outputId": "b45ef166-4c29-48f5-e61e-bc729e94d601"
   },
   "outputs": [
    {
     "name": "stdout",
     "output_type": "stream",
     "text": [
      "entire_train_data_score: 0.9357876712328768\n",
      "entire_test_data_score: 0.928082191780822\n"
     ]
    }
   ],
   "source": [
    "# training accuracy ON the ENTIRE TRAIN-DATA\n",
    "y_train_pred = rand_search.predict(X_train)\n",
    "\n",
    "print(f\"entire_train_data_score: {accuracy_score(y_train, y_train_pred)}\")\n",
    "\n",
    "# testing accuracy\n",
    "y_test_pred = rand_search.predict(X_test)\n",
    "\n",
    "print(f\"entire_test_data_score: {accuracy_score(y_test, y_test_pred)}\")"
   ]
  },
  {
   "cell_type": "code",
   "execution_count": 84,
   "id": "VA3VcZWZ8UMb",
   "metadata": {
    "colab": {
     "base_uri": "https://localhost:8080/"
    },
    "executionInfo": {
     "elapsed": 222,
     "status": "ok",
     "timestamp": 1695739595231,
     "user": {
      "displayName": "Liane Gybas",
      "userId": "00850058138446702565"
     },
     "user_tz": -120
    },
    "id": "VA3VcZWZ8UMb",
    "outputId": "59b3107f-d03a-4ee4-9692-78801723d134"
   },
   "outputs": [
    {
     "data": {
      "text/plain": [
       "0.9323630136986302"
      ]
     },
     "execution_count": 84,
     "metadata": {},
     "output_type": "execute_result"
    }
   ],
   "source": [
    "# then we could evaluate on ENTIRE train-data (with.predict())\n",
    "y_pred_train = search.predict(X_train)\n",
    "accuracy_score(y_true=y_train, y_pred=y_pred_train)"
   ]
  },
  {
   "cell_type": "code",
   "execution_count": 85,
   "id": "61JFQZzHbgw1",
   "metadata": {
    "colab": {
     "base_uri": "https://localhost:8080/"
    },
    "executionInfo": {
     "elapsed": 291,
     "status": "ok",
     "timestamp": 1695739651614,
     "user": {
      "displayName": "Liane Gybas",
      "userId": "00850058138446702565"
     },
     "user_tz": -120
    },
    "id": "61JFQZzHbgw1",
    "outputId": "5cde5449-e0ca-41a5-8cc8-be074d141447"
   },
   "outputs": [
    {
     "data": {
      "text/plain": [
       "0.934931506849315"
      ]
     },
     "execution_count": 85,
     "metadata": {},
     "output_type": "execute_result"
    }
   ],
   "source": [
    "# then we can evaluate on Test data\n",
    "y_pred_test = search.predict(X_test)\n",
    "accuracy_score(y_true=y_test, y_pred=y_pred_test)"
   ]
  },
  {
   "cell_type": "code",
   "execution_count": 86,
   "id": "094dftdI993c",
   "metadata": {
    "executionInfo": {
     "elapsed": 433,
     "status": "ok",
     "timestamp": 1695739817238,
     "user": {
      "displayName": "Liane Gybas",
      "userId": "00850058138446702565"
     },
     "user_tz": -120
    },
    "id": "094dftdI993c"
   },
   "outputs": [],
   "source": [
    "# Cintias way of storing the scores in a table\n",
    "Best_Score = [0.92, 0.93]\n",
    "Train = [0.92, 0.91]\n",
    "Test = [0.93, 0.93]\n",
    "\n",
    "results = pd.DataFrame([Best_Score, Train, Test],\n",
    "                                  columns = [\"Rand\", \"Grid\"],\n",
    "                                  index = [\"Best\", \"Train\",\"Test\"])"
   ]
  },
  {
   "cell_type": "code",
   "execution_count": 87,
   "id": "ZudLcKY--Cfc",
   "metadata": {
    "colab": {
     "base_uri": "https://localhost:8080/",
     "height": 143
    },
    "executionInfo": {
     "elapsed": 19,
     "status": "ok",
     "timestamp": 1695739825268,
     "user": {
      "displayName": "Liane Gybas",
      "userId": "00850058138446702565"
     },
     "user_tz": -120
    },
    "id": "ZudLcKY--Cfc",
    "outputId": "096174e5-b25f-4646-ea19-bd913047878e"
   },
   "outputs": [
    {
     "data": {
      "text/html": [
       "\n",
       "  <div id=\"df-8e64900c-9b32-4815-8a09-d7a1f80fd500\" class=\"colab-df-container\">\n",
       "    <div>\n",
       "<style scoped>\n",
       "    .dataframe tbody tr th:only-of-type {\n",
       "        vertical-align: middle;\n",
       "    }\n",
       "\n",
       "    .dataframe tbody tr th {\n",
       "        vertical-align: top;\n",
       "    }\n",
       "\n",
       "    .dataframe thead th {\n",
       "        text-align: right;\n",
       "    }\n",
       "</style>\n",
       "<table border=\"1\" class=\"dataframe\">\n",
       "  <thead>\n",
       "    <tr style=\"text-align: right;\">\n",
       "      <th></th>\n",
       "      <th>Rand</th>\n",
       "      <th>Grid</th>\n",
       "    </tr>\n",
       "  </thead>\n",
       "  <tbody>\n",
       "    <tr>\n",
       "      <th>Best</th>\n",
       "      <td>0.92</td>\n",
       "      <td>0.93</td>\n",
       "    </tr>\n",
       "    <tr>\n",
       "      <th>Train</th>\n",
       "      <td>0.92</td>\n",
       "      <td>0.91</td>\n",
       "    </tr>\n",
       "    <tr>\n",
       "      <th>Test</th>\n",
       "      <td>0.93</td>\n",
       "      <td>0.93</td>\n",
       "    </tr>\n",
       "  </tbody>\n",
       "</table>\n",
       "</div>\n",
       "    <div class=\"colab-df-buttons\">\n",
       "\n",
       "  <div class=\"colab-df-container\">\n",
       "    <button class=\"colab-df-convert\" onclick=\"convertToInteractive('df-8e64900c-9b32-4815-8a09-d7a1f80fd500')\"\n",
       "            title=\"Convert this dataframe to an interactive table.\"\n",
       "            style=\"display:none;\">\n",
       "\n",
       "  <svg xmlns=\"http://www.w3.org/2000/svg\" height=\"24px\" viewBox=\"0 -960 960 960\">\n",
       "    <path d=\"M120-120v-720h720v720H120Zm60-500h600v-160H180v160Zm220 220h160v-160H400v160Zm0 220h160v-160H400v160ZM180-400h160v-160H180v160Zm440 0h160v-160H620v160ZM180-180h160v-160H180v160Zm440 0h160v-160H620v160Z\"/>\n",
       "  </svg>\n",
       "    </button>\n",
       "\n",
       "  <style>\n",
       "    .colab-df-container {\n",
       "      display:flex;\n",
       "      gap: 12px;\n",
       "    }\n",
       "\n",
       "    .colab-df-convert {\n",
       "      background-color: #E8F0FE;\n",
       "      border: none;\n",
       "      border-radius: 50%;\n",
       "      cursor: pointer;\n",
       "      display: none;\n",
       "      fill: #1967D2;\n",
       "      height: 32px;\n",
       "      padding: 0 0 0 0;\n",
       "      width: 32px;\n",
       "    }\n",
       "\n",
       "    .colab-df-convert:hover {\n",
       "      background-color: #E2EBFA;\n",
       "      box-shadow: 0px 1px 2px rgba(60, 64, 67, 0.3), 0px 1px 3px 1px rgba(60, 64, 67, 0.15);\n",
       "      fill: #174EA6;\n",
       "    }\n",
       "\n",
       "    .colab-df-buttons div {\n",
       "      margin-bottom: 4px;\n",
       "    }\n",
       "\n",
       "    [theme=dark] .colab-df-convert {\n",
       "      background-color: #3B4455;\n",
       "      fill: #D2E3FC;\n",
       "    }\n",
       "\n",
       "    [theme=dark] .colab-df-convert:hover {\n",
       "      background-color: #434B5C;\n",
       "      box-shadow: 0px 1px 3px 1px rgba(0, 0, 0, 0.15);\n",
       "      filter: drop-shadow(0px 1px 2px rgba(0, 0, 0, 0.3));\n",
       "      fill: #FFFFFF;\n",
       "    }\n",
       "  </style>\n",
       "\n",
       "    <script>\n",
       "      const buttonEl =\n",
       "        document.querySelector('#df-8e64900c-9b32-4815-8a09-d7a1f80fd500 button.colab-df-convert');\n",
       "      buttonEl.style.display =\n",
       "        google.colab.kernel.accessAllowed ? 'block' : 'none';\n",
       "\n",
       "      async function convertToInteractive(key) {\n",
       "        const element = document.querySelector('#df-8e64900c-9b32-4815-8a09-d7a1f80fd500');\n",
       "        const dataTable =\n",
       "          await google.colab.kernel.invokeFunction('convertToInteractive',\n",
       "                                                    [key], {});\n",
       "        if (!dataTable) return;\n",
       "\n",
       "        const docLinkHtml = 'Like what you see? Visit the ' +\n",
       "          '<a target=\"_blank\" href=https://colab.research.google.com/notebooks/data_table.ipynb>data table notebook</a>'\n",
       "          + ' to learn more about interactive tables.';\n",
       "        element.innerHTML = '';\n",
       "        dataTable['output_type'] = 'display_data';\n",
       "        await google.colab.output.renderOutput(dataTable, element);\n",
       "        const docLink = document.createElement('div');\n",
       "        docLink.innerHTML = docLinkHtml;\n",
       "        element.appendChild(docLink);\n",
       "      }\n",
       "    </script>\n",
       "  </div>\n",
       "\n",
       "\n",
       "<div id=\"df-c9f4a60b-3c38-4073-927b-0cbb902073c1\">\n",
       "  <button class=\"colab-df-quickchart\" onclick=\"quickchart('df-c9f4a60b-3c38-4073-927b-0cbb902073c1')\"\n",
       "            title=\"Suggest charts.\"\n",
       "            style=\"display:none;\">\n",
       "\n",
       "<svg xmlns=\"http://www.w3.org/2000/svg\" height=\"24px\"viewBox=\"0 0 24 24\"\n",
       "     width=\"24px\">\n",
       "    <g>\n",
       "        <path d=\"M19 3H5c-1.1 0-2 .9-2 2v14c0 1.1.9 2 2 2h14c1.1 0 2-.9 2-2V5c0-1.1-.9-2-2-2zM9 17H7v-7h2v7zm4 0h-2V7h2v10zm4 0h-2v-4h2v4z\"/>\n",
       "    </g>\n",
       "</svg>\n",
       "  </button>\n",
       "\n",
       "<style>\n",
       "  .colab-df-quickchart {\n",
       "      --bg-color: #E8F0FE;\n",
       "      --fill-color: #1967D2;\n",
       "      --hover-bg-color: #E2EBFA;\n",
       "      --hover-fill-color: #174EA6;\n",
       "      --disabled-fill-color: #AAA;\n",
       "      --disabled-bg-color: #DDD;\n",
       "  }\n",
       "\n",
       "  [theme=dark] .colab-df-quickchart {\n",
       "      --bg-color: #3B4455;\n",
       "      --fill-color: #D2E3FC;\n",
       "      --hover-bg-color: #434B5C;\n",
       "      --hover-fill-color: #FFFFFF;\n",
       "      --disabled-bg-color: #3B4455;\n",
       "      --disabled-fill-color: #666;\n",
       "  }\n",
       "\n",
       "  .colab-df-quickchart {\n",
       "    background-color: var(--bg-color);\n",
       "    border: none;\n",
       "    border-radius: 50%;\n",
       "    cursor: pointer;\n",
       "    display: none;\n",
       "    fill: var(--fill-color);\n",
       "    height: 32px;\n",
       "    padding: 0;\n",
       "    width: 32px;\n",
       "  }\n",
       "\n",
       "  .colab-df-quickchart:hover {\n",
       "    background-color: var(--hover-bg-color);\n",
       "    box-shadow: 0 1px 2px rgba(60, 64, 67, 0.3), 0 1px 3px 1px rgba(60, 64, 67, 0.15);\n",
       "    fill: var(--button-hover-fill-color);\n",
       "  }\n",
       "\n",
       "  .colab-df-quickchart-complete:disabled,\n",
       "  .colab-df-quickchart-complete:disabled:hover {\n",
       "    background-color: var(--disabled-bg-color);\n",
       "    fill: var(--disabled-fill-color);\n",
       "    box-shadow: none;\n",
       "  }\n",
       "\n",
       "  .colab-df-spinner {\n",
       "    border: 2px solid var(--fill-color);\n",
       "    border-color: transparent;\n",
       "    border-bottom-color: var(--fill-color);\n",
       "    animation:\n",
       "      spin 1s steps(1) infinite;\n",
       "  }\n",
       "\n",
       "  @keyframes spin {\n",
       "    0% {\n",
       "      border-color: transparent;\n",
       "      border-bottom-color: var(--fill-color);\n",
       "      border-left-color: var(--fill-color);\n",
       "    }\n",
       "    20% {\n",
       "      border-color: transparent;\n",
       "      border-left-color: var(--fill-color);\n",
       "      border-top-color: var(--fill-color);\n",
       "    }\n",
       "    30% {\n",
       "      border-color: transparent;\n",
       "      border-left-color: var(--fill-color);\n",
       "      border-top-color: var(--fill-color);\n",
       "      border-right-color: var(--fill-color);\n",
       "    }\n",
       "    40% {\n",
       "      border-color: transparent;\n",
       "      border-right-color: var(--fill-color);\n",
       "      border-top-color: var(--fill-color);\n",
       "    }\n",
       "    60% {\n",
       "      border-color: transparent;\n",
       "      border-right-color: var(--fill-color);\n",
       "    }\n",
       "    80% {\n",
       "      border-color: transparent;\n",
       "      border-right-color: var(--fill-color);\n",
       "      border-bottom-color: var(--fill-color);\n",
       "    }\n",
       "    90% {\n",
       "      border-color: transparent;\n",
       "      border-bottom-color: var(--fill-color);\n",
       "    }\n",
       "  }\n",
       "</style>\n",
       "\n",
       "  <script>\n",
       "    async function quickchart(key) {\n",
       "      const quickchartButtonEl =\n",
       "        document.querySelector('#' + key + ' button');\n",
       "      quickchartButtonEl.disabled = true;  // To prevent multiple clicks.\n",
       "      quickchartButtonEl.classList.add('colab-df-spinner');\n",
       "      try {\n",
       "        const charts = await google.colab.kernel.invokeFunction(\n",
       "            'suggestCharts', [key], {});\n",
       "      } catch (error) {\n",
       "        console.error('Error during call to suggestCharts:', error);\n",
       "      }\n",
       "      quickchartButtonEl.classList.remove('colab-df-spinner');\n",
       "      quickchartButtonEl.classList.add('colab-df-quickchart-complete');\n",
       "    }\n",
       "    (() => {\n",
       "      let quickchartButtonEl =\n",
       "        document.querySelector('#df-c9f4a60b-3c38-4073-927b-0cbb902073c1 button');\n",
       "      quickchartButtonEl.style.display =\n",
       "        google.colab.kernel.accessAllowed ? 'block' : 'none';\n",
       "    })();\n",
       "  </script>\n",
       "</div>\n",
       "    </div>\n",
       "  </div>\n"
      ],
      "text/plain": [
       "       Rand  Grid\n",
       "Best   0.92  0.93\n",
       "Train  0.92  0.91\n",
       "Test   0.93  0.93"
      ]
     },
     "execution_count": 87,
     "metadata": {},
     "output_type": "execute_result"
    }
   ],
   "source": [
    "results"
   ]
  },
  {
   "cell_type": "code",
   "execution_count": null,
   "id": "soLdboP8-EeM",
   "metadata": {
    "id": "soLdboP8-EeM"
   },
   "outputs": [],
   "source": [
    "# the \"best\" refers to the best_score_ that is available after CV"
   ]
  }
 ],
 "metadata": {
  "colab": {
   "provenance": [
    {
     "file_id": "1AgNZAPmphOh3TxNjVer-G_QoRN34ZB8v",
     "timestamp": 1695729018226
    }
   ]
  },
  "kernelspec": {
   "display_name": "Python 3 (ipykernel)",
   "language": "python",
   "name": "python3"
  },
  "language_info": {
   "codemirror_mode": {
    "name": "ipython",
    "version": 3
   },
   "file_extension": ".py",
   "mimetype": "text/x-python",
   "name": "python",
   "nbconvert_exporter": "python",
   "pygments_lexer": "ipython3",
   "version": "3.11.5"
  }
 },
 "nbformat": 4,
 "nbformat_minor": 5
}
