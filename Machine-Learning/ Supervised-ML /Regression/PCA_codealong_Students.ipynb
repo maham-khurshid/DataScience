{
 "cells": [
  {
   "cell_type": "markdown",
   "metadata": {
    "id": "yivFOFdOWipi"
   },
   "source": [
    "# Principal component analysis\n",
    "Why is PCA important?\n",
    "* Reduce computational time\n",
    "* Reduce cost\n",
    "* Preventing overfitting\n",
    "\n"
   ]
  },
  {
   "cell_type": "markdown",
   "metadata": {
    "id": "nkJ4ibAzWipk"
   },
   "source": [
    "## Create dataset\n",
    "The purpose of this notebook is to look at PCA, so here we won't go into great detail about creating the dataset. But we'll leave it here, as opposed to just creating a CSV, as some of you maybe interested in the process. To create the dataset we used [make_classification()](https://scikit-learn.org/stable/modules/generated/sklearn.datasets.make_classification.html), which is a SKLearn funtion that allows us to create dummy data to test ML models, stating how many relevant features, irrelevant features, duplicate features, etc... we would like."
   ]
  },
  {
   "cell_type": "code",
   "execution_count": 2,
   "metadata": {
    "executionInfo": {
     "elapsed": 724,
     "status": "ok",
     "timestamp": 1696494698756,
     "user": {
      "displayName": "Liane Gybas",
      "userId": "00850058138446702565"
     },
     "user_tz": -120
    },
    "id": "d-7uNoe_Wipl"
   },
   "outputs": [],
   "source": [
    "import pandas as pd\n",
    "import numpy as np\n",
    "from sklearn.datasets import make_classification\n",
    "\n",
    "# NP equivilant of random state\n",
    "np.random.seed(123)\n",
    "\n",
    "# Return numbers spaced evenly on a log scale\n",
    "# Gives the features different scales and makes a more interesting dataset\n",
    "scale_values = np.logspace(1, 5, num=500)\n",
    "\n",
    "# Create the X and y values for the DataFrame\n",
    "X, y = make_classification(n_samples=5000,\n",
    "                           n_features=500,\n",
    "                           n_informative=280,\n",
    "                           n_redundant=180,\n",
    "                           n_repeated=3,\n",
    "                           n_classes=6,\n",
    "                           flip_y=0.1,\n",
    "                           weights=[0.1, 0.2, 0.15, 0.25, 0.05],\n",
    "                           n_clusters_per_class=1,\n",
    "                           scale = scale_values,\n",
    "                           random_state=42)\n",
    "\n",
    "# Make the created values into DataFrames\n",
    "X = pd.DataFrame(X)\n",
    "y = pd.DataFrame(y)\n",
    "\n",
    "# Rename the columns\n",
    "X = X.add_prefix(\"feature_\")\n",
    "y.rename(columns={0:\"label\"}, inplace=True)\n",
    "\n",
    "# Bring X and y together to view our DF as a whole\n",
    "codealong_df = pd.concat([X, y], axis=1)"
   ]
  },
  {
   "cell_type": "code",
   "execution_count": 4,
   "metadata": {
    "colab": {
     "base_uri": "https://localhost:8080/"
    },
    "executionInfo": {
     "elapsed": 592,
     "status": "ok",
     "timestamp": 1696494726012,
     "user": {
      "displayName": "Liane Gybas",
      "userId": "00850058138446702565"
     },
     "user_tz": -120
    },
    "id": "5Xr5pQYtWipm",
    "outputId": "6126fa52-52f5-477d-d70d-c46429b6c7ad"
   },
   "outputs": [
    {
     "data": {
      "text/plain": [
       "(5000, 501)"
      ]
     },
     "execution_count": 4,
     "metadata": {},
     "output_type": "execute_result"
    }
   ],
   "source": [
    "codealong_df.shape"
   ]
  },
  {
   "cell_type": "markdown",
   "metadata": {
    "id": "VSG5uE-NWipn"
   },
   "source": [
    "## Train-test split"
   ]
  },
  {
   "cell_type": "code",
   "execution_count": 5,
   "metadata": {
    "executionInfo": {
     "elapsed": 354,
     "status": "ok",
     "timestamp": 1696494761198,
     "user": {
      "displayName": "Liane Gybas",
      "userId": "00850058138446702565"
     },
     "user_tz": -120
    },
    "id": "_2Rvr07sWipn"
   },
   "outputs": [],
   "source": [
    "from sklearn.model_selection import train_test_split\n",
    "\n",
    "train_set, test_set = train_test_split(codealong_df,\n",
    "                                       test_size=0.2,\n",
    "                                       random_state=123)\n",
    "\n",
    "X_train = train_set.drop(columns=\"label\").copy()\n",
    "y_train = train_set[\"label\"].copy()\n",
    "\n",
    "X_test = test_set.drop(columns=\"label\").copy()\n",
    "y_test = test_set[\"label\"].copy()"
   ]
  },
  {
   "cell_type": "markdown",
   "metadata": {
    "id": "BhUTdxQhWipo"
   },
   "source": [
    "### Iteration 1: No PCA"
   ]
  },
  {
   "cell_type": "code",
   "execution_count": 6,
   "metadata": {
    "executionInfo": {
     "elapsed": 620,
     "status": "ok",
     "timestamp": 1696494787053,
     "user": {
      "displayName": "Liane Gybas",
      "userId": "00850058138446702565"
     },
     "user_tz": -120
    },
    "id": "8-Dlv9XoWipo"
   },
   "outputs": [],
   "source": [
    "from sklearn.neighbors import KNeighborsClassifier\n",
    "from sklearn.model_selection import RandomizedSearchCV\n",
    "from sklearn.metrics import accuracy_score\n",
    "from sklearn.pipeline import make_pipeline\n",
    "from sklearn.preprocessing import StandardScaler"
   ]
  },
  {
   "cell_type": "markdown",
   "metadata": {
    "id": "6hJKzgLYoGsw"
   },
   "source": [
    "To help us see the effects of PCA we will time our models.\n",
    "\n",
    "Here's a quick example of how we can time our cell and store that time as a variable."
   ]
  },
  {
   "cell_type": "code",
   "execution_count": 7,
   "metadata": {
    "colab": {
     "base_uri": "https://localhost:8080/"
    },
    "executionInfo": {
     "elapsed": 366,
     "status": "ok",
     "timestamp": 1696494864395,
     "user": {
      "displayName": "Liane Gybas",
      "userId": "00850058138446702565"
     },
     "user_tz": -120
    },
    "id": "CFyTDQe2sM1O",
    "outputId": "7a8196d7-417a-41ef-fea0-913b11c84654"
   },
   "outputs": [
    {
     "name": "stdout",
     "output_type": "stream",
     "text": [
      "hello world\n",
      "--- 0.0018777847290039062 seconds ---\n"
     ]
    }
   ],
   "source": [
    "import time\n",
    "\n",
    "# At the start of cell define the start variable\n",
    "start_time = time.time()\n",
    "\n",
    "# Next comes our code\n",
    "print(\"hello world\")\n",
    "\n",
    "# After the code define the end variable\n",
    "end_time = time.time()\n",
    "\n",
    "# Store the difference between the end and the start as a variable\n",
    "time_taken = end_time - start_time\n",
    "\n",
    "print(\"--- %s seconds ---\" % (time_taken))"
   ]
  },
  {
   "cell_type": "markdown",
   "metadata": {
    "id": "wuacH3TSutld"
   },
   "source": [
    "Now, let's time our model."
   ]
  },
  {
   "cell_type": "code",
   "execution_count": 8,
   "metadata": {
    "colab": {
     "base_uri": "https://localhost:8080/"
    },
    "executionInfo": {
     "elapsed": 283232,
     "status": "ok",
     "timestamp": 1696495741673,
     "user": {
      "displayName": "Liane Gybas",
      "userId": "00850058138446702565"
     },
     "user_tz": -120
    },
    "id": "IRzlTUz0tv7M",
    "outputId": "8b5d45ef-cc92-4776-9c4e-962ebe6e267d"
   },
   "outputs": [
    {
     "name": "stdout",
     "output_type": "stream",
     "text": [
      "Fitting 5 folds for each of 50 candidates, totalling 250 fits\n",
      "--- 282.83670139312744 seconds ---\n",
      "80.85% accuracy\n"
     ]
    }
   ],
   "source": [
    "# to change this into a regression pipeline, we need to\n",
    "### 1) change the model into a Regressor i.e. DecisionTreeRegressor() in the pipeline and the paramters in paramgrid\n",
    "### 2) change the scoring into a regression-metrics i.e. \"neg_root_mean_squared_error\"\n",
    "\n",
    "start_time = time.time()\n",
    "\n",
    "model_pipeline = make_pipeline(StandardScaler(),\n",
    "                               # here we'd put the PCA (or the feature selection)\n",
    "                               KNeighborsClassifier())   #DecisionTreeClassifier()\n",
    "\n",
    "param_grid = {\"kneighborsclassifier__n_neighbors\": list(range(3, 30)),\n",
    "              \"kneighborsclassifier__weights\":[\"uniform\", \"distance\"],\n",
    "              \"kneighborsclassifier__p\":[1,2]}\n",
    "\n",
    "neigh1_search = RandomizedSearchCV(model_pipeline,\n",
    "                                   param_grid,\n",
    "                                   scoring=\"accuracy\",\n",
    "                                   n_iter=50,\n",
    "                                   cv=5,\n",
    "                                   n_jobs=-2,\n",
    "                                   random_state=123,\n",
    "                                   verbose=1)\n",
    "\n",
    "neigh1_search.fit(X_train, y_train)\n",
    "\n",
    "end_time = time.time()\n",
    "\n",
    "time_taken_no_pca = end_time - start_time\n",
    "best_score_no_pca = neigh1_search.best_score_\n",
    "\n",
    "print(\"--- %s seconds ---\" % (time_taken_no_pca))\n",
    "print(f\"{round(best_score_no_pca * 100, 2)}% accuracy\")"
   ]
  },
  {
   "cell_type": "markdown",
   "metadata": {
    "id": "T9n6Cv53Wipp"
   },
   "source": [
    "## PCA"
   ]
  },
  {
   "cell_type": "markdown",
   "metadata": {
    "id": "50VUgxL4PAX3"
   },
   "source": [
    "### Picking the number of components 1: a manual example"
   ]
  },
  {
   "cell_type": "code",
   "execution_count": 10,
   "metadata": {
    "executionInfo": {
     "elapsed": 900,
     "status": "ok",
     "timestamp": 1696496079645,
     "user": {
      "displayName": "Liane Gybas",
      "userId": "00850058138446702565"
     },
     "user_tz": -120
    },
    "id": "QD4zNKa2Wipp"
   },
   "outputs": [],
   "source": [
    "from sklearn.decomposition import PCA\n",
    "\n",
    "pca = PCA(n_components=10) # pick number of components\n",
    "X_reduced = pca.fit_transform(X_train)"
   ]
  },
  {
   "cell_type": "code",
   "execution_count": 11,
   "metadata": {
    "colab": {
     "base_uri": "https://localhost:8080/"
    },
    "executionInfo": {
     "elapsed": 256,
     "status": "ok",
     "timestamp": 1696496081572,
     "user": {
      "displayName": "Liane Gybas",
      "userId": "00850058138446702565"
     },
     "user_tz": -120
    },
    "id": "47WL4CjtWipp",
    "outputId": "2e53e317-c870-40a0-c62f-44b65ebbf2f8",
    "scrolled": true
   },
   "outputs": [
    {
     "data": {
      "text/plain": [
       "(4000, 10)"
      ]
     },
     "execution_count": 11,
     "metadata": {},
     "output_type": "execute_result"
    }
   ],
   "source": [
    "X_reduced.shape"
   ]
  },
  {
   "cell_type": "code",
   "execution_count": 12,
   "metadata": {
    "colab": {
     "base_uri": "https://localhost:8080/",
     "height": 443
    },
    "executionInfo": {
     "elapsed": 531,
     "status": "ok",
     "timestamp": 1696496093178,
     "user": {
      "displayName": "Liane Gybas",
      "userId": "00850058138446702565"
     },
     "user_tz": -120
    },
    "id": "n9jGL4XmWipp",
    "outputId": "858bcbfc-e9ce-40dd-8dbb-150976e230ee"
   },
   "outputs": [
    {
     "data": {
      "text/html": [
       "\n",
       "  <div id=\"df-4b3c9693-33de-46fe-9d49-67bc49cc229f\" class=\"colab-df-container\">\n",
       "    <div>\n",
       "<style scoped>\n",
       "    .dataframe tbody tr th:only-of-type {\n",
       "        vertical-align: middle;\n",
       "    }\n",
       "\n",
       "    .dataframe tbody tr th {\n",
       "        vertical-align: top;\n",
       "    }\n",
       "\n",
       "    .dataframe thead th {\n",
       "        text-align: right;\n",
       "    }\n",
       "</style>\n",
       "<table border=\"1\" class=\"dataframe\">\n",
       "  <thead>\n",
       "    <tr style=\"text-align: right;\">\n",
       "      <th></th>\n",
       "      <th>0</th>\n",
       "      <th>1</th>\n",
       "      <th>2</th>\n",
       "      <th>3</th>\n",
       "      <th>4</th>\n",
       "      <th>5</th>\n",
       "      <th>6</th>\n",
       "      <th>7</th>\n",
       "      <th>8</th>\n",
       "      <th>9</th>\n",
       "    </tr>\n",
       "  </thead>\n",
       "  <tbody>\n",
       "    <tr>\n",
       "      <th>0</th>\n",
       "      <td>2.242329e+06</td>\n",
       "      <td>1.499770e+06</td>\n",
       "      <td>-3.552828e+06</td>\n",
       "      <td>3.404796e+06</td>\n",
       "      <td>4.758192e+06</td>\n",
       "      <td>3.260702e+06</td>\n",
       "      <td>-2.473214e+06</td>\n",
       "      <td>3.923069e+06</td>\n",
       "      <td>-2.681167e+06</td>\n",
       "      <td>1.440817e+06</td>\n",
       "    </tr>\n",
       "    <tr>\n",
       "      <th>1</th>\n",
       "      <td>8.138280e+05</td>\n",
       "      <td>1.777081e+06</td>\n",
       "      <td>-3.954372e+05</td>\n",
       "      <td>2.547296e+06</td>\n",
       "      <td>-7.020762e+06</td>\n",
       "      <td>4.811726e+06</td>\n",
       "      <td>-6.397595e+06</td>\n",
       "      <td>-4.308334e+06</td>\n",
       "      <td>-8.632591e+06</td>\n",
       "      <td>4.847201e+06</td>\n",
       "    </tr>\n",
       "    <tr>\n",
       "      <th>2</th>\n",
       "      <td>5.394411e+06</td>\n",
       "      <td>3.920421e+06</td>\n",
       "      <td>4.358932e+05</td>\n",
       "      <td>3.791027e+06</td>\n",
       "      <td>-7.748778e+06</td>\n",
       "      <td>4.181669e+06</td>\n",
       "      <td>1.307103e+06</td>\n",
       "      <td>-2.480762e+06</td>\n",
       "      <td>-2.005078e+06</td>\n",
       "      <td>1.607825e+06</td>\n",
       "    </tr>\n",
       "    <tr>\n",
       "      <th>3</th>\n",
       "      <td>-1.330090e+07</td>\n",
       "      <td>-1.482946e+06</td>\n",
       "      <td>-5.624582e+06</td>\n",
       "      <td>9.054270e+05</td>\n",
       "      <td>3.348938e+06</td>\n",
       "      <td>-1.360695e+06</td>\n",
       "      <td>6.520830e+06</td>\n",
       "      <td>1.202507e+06</td>\n",
       "      <td>1.843187e+06</td>\n",
       "      <td>-5.741201e+06</td>\n",
       "    </tr>\n",
       "    <tr>\n",
       "      <th>4</th>\n",
       "      <td>7.362607e+06</td>\n",
       "      <td>-4.354630e+06</td>\n",
       "      <td>-1.165859e+07</td>\n",
       "      <td>-4.664822e+05</td>\n",
       "      <td>4.891941e+06</td>\n",
       "      <td>2.844969e+06</td>\n",
       "      <td>7.466716e+06</td>\n",
       "      <td>-6.273848e+06</td>\n",
       "      <td>-8.602994e+06</td>\n",
       "      <td>-1.444685e+06</td>\n",
       "    </tr>\n",
       "    <tr>\n",
       "      <th>...</th>\n",
       "      <td>...</td>\n",
       "      <td>...</td>\n",
       "      <td>...</td>\n",
       "      <td>...</td>\n",
       "      <td>...</td>\n",
       "      <td>...</td>\n",
       "      <td>...</td>\n",
       "      <td>...</td>\n",
       "      <td>...</td>\n",
       "      <td>...</td>\n",
       "    </tr>\n",
       "    <tr>\n",
       "      <th>3995</th>\n",
       "      <td>-2.996059e+06</td>\n",
       "      <td>1.432155e+06</td>\n",
       "      <td>-9.025084e+05</td>\n",
       "      <td>-5.627994e+06</td>\n",
       "      <td>-5.300577e+06</td>\n",
       "      <td>-4.362612e+06</td>\n",
       "      <td>-3.574193e+06</td>\n",
       "      <td>7.780106e+05</td>\n",
       "      <td>-4.247038e+06</td>\n",
       "      <td>2.427715e+06</td>\n",
       "    </tr>\n",
       "    <tr>\n",
       "      <th>3996</th>\n",
       "      <td>6.884203e+06</td>\n",
       "      <td>3.115770e+06</td>\n",
       "      <td>3.033555e+06</td>\n",
       "      <td>7.209340e+05</td>\n",
       "      <td>-4.376324e+06</td>\n",
       "      <td>2.957824e+06</td>\n",
       "      <td>2.125534e+06</td>\n",
       "      <td>8.215452e+05</td>\n",
       "      <td>-2.306068e+06</td>\n",
       "      <td>-9.066719e+05</td>\n",
       "    </tr>\n",
       "    <tr>\n",
       "      <th>3997</th>\n",
       "      <td>5.175947e+06</td>\n",
       "      <td>-3.215260e+06</td>\n",
       "      <td>2.456789e+06</td>\n",
       "      <td>-5.247994e+06</td>\n",
       "      <td>-1.722428e+06</td>\n",
       "      <td>1.123004e+06</td>\n",
       "      <td>4.174641e+06</td>\n",
       "      <td>-8.808715e+05</td>\n",
       "      <td>-2.532054e+06</td>\n",
       "      <td>3.392128e+06</td>\n",
       "    </tr>\n",
       "    <tr>\n",
       "      <th>3998</th>\n",
       "      <td>-4.392218e+04</td>\n",
       "      <td>1.011949e+07</td>\n",
       "      <td>3.804045e+06</td>\n",
       "      <td>3.519990e+06</td>\n",
       "      <td>-1.702743e+06</td>\n",
       "      <td>-1.072220e+06</td>\n",
       "      <td>6.723666e+06</td>\n",
       "      <td>-3.685875e+06</td>\n",
       "      <td>1.747922e+06</td>\n",
       "      <td>-3.424222e+05</td>\n",
       "    </tr>\n",
       "    <tr>\n",
       "      <th>3999</th>\n",
       "      <td>2.898115e+06</td>\n",
       "      <td>-4.641946e+06</td>\n",
       "      <td>-3.960386e+06</td>\n",
       "      <td>3.847446e+06</td>\n",
       "      <td>5.353883e+06</td>\n",
       "      <td>8.634196e+05</td>\n",
       "      <td>-3.302163e+06</td>\n",
       "      <td>-8.741548e+05</td>\n",
       "      <td>1.173998e+06</td>\n",
       "      <td>1.693624e+06</td>\n",
       "    </tr>\n",
       "  </tbody>\n",
       "</table>\n",
       "<p>4000 rows × 10 columns</p>\n",
       "</div>\n",
       "    <div class=\"colab-df-buttons\">\n",
       "\n",
       "  <div class=\"colab-df-container\">\n",
       "    <button class=\"colab-df-convert\" onclick=\"convertToInteractive('df-4b3c9693-33de-46fe-9d49-67bc49cc229f')\"\n",
       "            title=\"Convert this dataframe to an interactive table.\"\n",
       "            style=\"display:none;\">\n",
       "\n",
       "  <svg xmlns=\"http://www.w3.org/2000/svg\" height=\"24px\" viewBox=\"0 -960 960 960\">\n",
       "    <path d=\"M120-120v-720h720v720H120Zm60-500h600v-160H180v160Zm220 220h160v-160H400v160Zm0 220h160v-160H400v160ZM180-400h160v-160H180v160Zm440 0h160v-160H620v160ZM180-180h160v-160H180v160Zm440 0h160v-160H620v160Z\"/>\n",
       "  </svg>\n",
       "    </button>\n",
       "\n",
       "  <style>\n",
       "    .colab-df-container {\n",
       "      display:flex;\n",
       "      gap: 12px;\n",
       "    }\n",
       "\n",
       "    .colab-df-convert {\n",
       "      background-color: #E8F0FE;\n",
       "      border: none;\n",
       "      border-radius: 50%;\n",
       "      cursor: pointer;\n",
       "      display: none;\n",
       "      fill: #1967D2;\n",
       "      height: 32px;\n",
       "      padding: 0 0 0 0;\n",
       "      width: 32px;\n",
       "    }\n",
       "\n",
       "    .colab-df-convert:hover {\n",
       "      background-color: #E2EBFA;\n",
       "      box-shadow: 0px 1px 2px rgba(60, 64, 67, 0.3), 0px 1px 3px 1px rgba(60, 64, 67, 0.15);\n",
       "      fill: #174EA6;\n",
       "    }\n",
       "\n",
       "    .colab-df-buttons div {\n",
       "      margin-bottom: 4px;\n",
       "    }\n",
       "\n",
       "    [theme=dark] .colab-df-convert {\n",
       "      background-color: #3B4455;\n",
       "      fill: #D2E3FC;\n",
       "    }\n",
       "\n",
       "    [theme=dark] .colab-df-convert:hover {\n",
       "      background-color: #434B5C;\n",
       "      box-shadow: 0px 1px 3px 1px rgba(0, 0, 0, 0.15);\n",
       "      filter: drop-shadow(0px 1px 2px rgba(0, 0, 0, 0.3));\n",
       "      fill: #FFFFFF;\n",
       "    }\n",
       "  </style>\n",
       "\n",
       "    <script>\n",
       "      const buttonEl =\n",
       "        document.querySelector('#df-4b3c9693-33de-46fe-9d49-67bc49cc229f button.colab-df-convert');\n",
       "      buttonEl.style.display =\n",
       "        google.colab.kernel.accessAllowed ? 'block' : 'none';\n",
       "\n",
       "      async function convertToInteractive(key) {\n",
       "        const element = document.querySelector('#df-4b3c9693-33de-46fe-9d49-67bc49cc229f');\n",
       "        const dataTable =\n",
       "          await google.colab.kernel.invokeFunction('convertToInteractive',\n",
       "                                                    [key], {});\n",
       "        if (!dataTable) return;\n",
       "\n",
       "        const docLinkHtml = 'Like what you see? Visit the ' +\n",
       "          '<a target=\"_blank\" href=https://colab.research.google.com/notebooks/data_table.ipynb>data table notebook</a>'\n",
       "          + ' to learn more about interactive tables.';\n",
       "        element.innerHTML = '';\n",
       "        dataTable['output_type'] = 'display_data';\n",
       "        await google.colab.output.renderOutput(dataTable, element);\n",
       "        const docLink = document.createElement('div');\n",
       "        docLink.innerHTML = docLinkHtml;\n",
       "        element.appendChild(docLink);\n",
       "      }\n",
       "    </script>\n",
       "  </div>\n",
       "\n",
       "\n",
       "<div id=\"df-3a32c8f9-2aab-47db-b12b-3e5419a2e5f2\">\n",
       "  <button class=\"colab-df-quickchart\" onclick=\"quickchart('df-3a32c8f9-2aab-47db-b12b-3e5419a2e5f2')\"\n",
       "            title=\"Suggest charts.\"\n",
       "            style=\"display:none;\">\n",
       "\n",
       "<svg xmlns=\"http://www.w3.org/2000/svg\" height=\"24px\"viewBox=\"0 0 24 24\"\n",
       "     width=\"24px\">\n",
       "    <g>\n",
       "        <path d=\"M19 3H5c-1.1 0-2 .9-2 2v14c0 1.1.9 2 2 2h14c1.1 0 2-.9 2-2V5c0-1.1-.9-2-2-2zM9 17H7v-7h2v7zm4 0h-2V7h2v10zm4 0h-2v-4h2v4z\"/>\n",
       "    </g>\n",
       "</svg>\n",
       "  </button>\n",
       "\n",
       "<style>\n",
       "  .colab-df-quickchart {\n",
       "      --bg-color: #E8F0FE;\n",
       "      --fill-color: #1967D2;\n",
       "      --hover-bg-color: #E2EBFA;\n",
       "      --hover-fill-color: #174EA6;\n",
       "      --disabled-fill-color: #AAA;\n",
       "      --disabled-bg-color: #DDD;\n",
       "  }\n",
       "\n",
       "  [theme=dark] .colab-df-quickchart {\n",
       "      --bg-color: #3B4455;\n",
       "      --fill-color: #D2E3FC;\n",
       "      --hover-bg-color: #434B5C;\n",
       "      --hover-fill-color: #FFFFFF;\n",
       "      --disabled-bg-color: #3B4455;\n",
       "      --disabled-fill-color: #666;\n",
       "  }\n",
       "\n",
       "  .colab-df-quickchart {\n",
       "    background-color: var(--bg-color);\n",
       "    border: none;\n",
       "    border-radius: 50%;\n",
       "    cursor: pointer;\n",
       "    display: none;\n",
       "    fill: var(--fill-color);\n",
       "    height: 32px;\n",
       "    padding: 0;\n",
       "    width: 32px;\n",
       "  }\n",
       "\n",
       "  .colab-df-quickchart:hover {\n",
       "    background-color: var(--hover-bg-color);\n",
       "    box-shadow: 0 1px 2px rgba(60, 64, 67, 0.3), 0 1px 3px 1px rgba(60, 64, 67, 0.15);\n",
       "    fill: var(--button-hover-fill-color);\n",
       "  }\n",
       "\n",
       "  .colab-df-quickchart-complete:disabled,\n",
       "  .colab-df-quickchart-complete:disabled:hover {\n",
       "    background-color: var(--disabled-bg-color);\n",
       "    fill: var(--disabled-fill-color);\n",
       "    box-shadow: none;\n",
       "  }\n",
       "\n",
       "  .colab-df-spinner {\n",
       "    border: 2px solid var(--fill-color);\n",
       "    border-color: transparent;\n",
       "    border-bottom-color: var(--fill-color);\n",
       "    animation:\n",
       "      spin 1s steps(1) infinite;\n",
       "  }\n",
       "\n",
       "  @keyframes spin {\n",
       "    0% {\n",
       "      border-color: transparent;\n",
       "      border-bottom-color: var(--fill-color);\n",
       "      border-left-color: var(--fill-color);\n",
       "    }\n",
       "    20% {\n",
       "      border-color: transparent;\n",
       "      border-left-color: var(--fill-color);\n",
       "      border-top-color: var(--fill-color);\n",
       "    }\n",
       "    30% {\n",
       "      border-color: transparent;\n",
       "      border-left-color: var(--fill-color);\n",
       "      border-top-color: var(--fill-color);\n",
       "      border-right-color: var(--fill-color);\n",
       "    }\n",
       "    40% {\n",
       "      border-color: transparent;\n",
       "      border-right-color: var(--fill-color);\n",
       "      border-top-color: var(--fill-color);\n",
       "    }\n",
       "    60% {\n",
       "      border-color: transparent;\n",
       "      border-right-color: var(--fill-color);\n",
       "    }\n",
       "    80% {\n",
       "      border-color: transparent;\n",
       "      border-right-color: var(--fill-color);\n",
       "      border-bottom-color: var(--fill-color);\n",
       "    }\n",
       "    90% {\n",
       "      border-color: transparent;\n",
       "      border-bottom-color: var(--fill-color);\n",
       "    }\n",
       "  }\n",
       "</style>\n",
       "\n",
       "  <script>\n",
       "    async function quickchart(key) {\n",
       "      const quickchartButtonEl =\n",
       "        document.querySelector('#' + key + ' button');\n",
       "      quickchartButtonEl.disabled = true;  // To prevent multiple clicks.\n",
       "      quickchartButtonEl.classList.add('colab-df-spinner');\n",
       "      try {\n",
       "        const charts = await google.colab.kernel.invokeFunction(\n",
       "            'suggestCharts', [key], {});\n",
       "      } catch (error) {\n",
       "        console.error('Error during call to suggestCharts:', error);\n",
       "      }\n",
       "      quickchartButtonEl.classList.remove('colab-df-spinner');\n",
       "      quickchartButtonEl.classList.add('colab-df-quickchart-complete');\n",
       "    }\n",
       "    (() => {\n",
       "      let quickchartButtonEl =\n",
       "        document.querySelector('#df-3a32c8f9-2aab-47db-b12b-3e5419a2e5f2 button');\n",
       "      quickchartButtonEl.style.display =\n",
       "        google.colab.kernel.accessAllowed ? 'block' : 'none';\n",
       "    })();\n",
       "  </script>\n",
       "</div>\n",
       "    </div>\n",
       "  </div>\n"
      ],
      "text/plain": [
       "                 0             1             2             3             4  \\\n",
       "0     2.242329e+06  1.499770e+06 -3.552828e+06  3.404796e+06  4.758192e+06   \n",
       "1     8.138280e+05  1.777081e+06 -3.954372e+05  2.547296e+06 -7.020762e+06   \n",
       "2     5.394411e+06  3.920421e+06  4.358932e+05  3.791027e+06 -7.748778e+06   \n",
       "3    -1.330090e+07 -1.482946e+06 -5.624582e+06  9.054270e+05  3.348938e+06   \n",
       "4     7.362607e+06 -4.354630e+06 -1.165859e+07 -4.664822e+05  4.891941e+06   \n",
       "...            ...           ...           ...           ...           ...   \n",
       "3995 -2.996059e+06  1.432155e+06 -9.025084e+05 -5.627994e+06 -5.300577e+06   \n",
       "3996  6.884203e+06  3.115770e+06  3.033555e+06  7.209340e+05 -4.376324e+06   \n",
       "3997  5.175947e+06 -3.215260e+06  2.456789e+06 -5.247994e+06 -1.722428e+06   \n",
       "3998 -4.392218e+04  1.011949e+07  3.804045e+06  3.519990e+06 -1.702743e+06   \n",
       "3999  2.898115e+06 -4.641946e+06 -3.960386e+06  3.847446e+06  5.353883e+06   \n",
       "\n",
       "                 5             6             7             8             9  \n",
       "0     3.260702e+06 -2.473214e+06  3.923069e+06 -2.681167e+06  1.440817e+06  \n",
       "1     4.811726e+06 -6.397595e+06 -4.308334e+06 -8.632591e+06  4.847201e+06  \n",
       "2     4.181669e+06  1.307103e+06 -2.480762e+06 -2.005078e+06  1.607825e+06  \n",
       "3    -1.360695e+06  6.520830e+06  1.202507e+06  1.843187e+06 -5.741201e+06  \n",
       "4     2.844969e+06  7.466716e+06 -6.273848e+06 -8.602994e+06 -1.444685e+06  \n",
       "...            ...           ...           ...           ...           ...  \n",
       "3995 -4.362612e+06 -3.574193e+06  7.780106e+05 -4.247038e+06  2.427715e+06  \n",
       "3996  2.957824e+06  2.125534e+06  8.215452e+05 -2.306068e+06 -9.066719e+05  \n",
       "3997  1.123004e+06  4.174641e+06 -8.808715e+05 -2.532054e+06  3.392128e+06  \n",
       "3998 -1.072220e+06  6.723666e+06 -3.685875e+06  1.747922e+06 -3.424222e+05  \n",
       "3999  8.634196e+05 -3.302163e+06 -8.741548e+05  1.173998e+06  1.693624e+06  \n",
       "\n",
       "[4000 rows x 10 columns]"
      ]
     },
     "execution_count": 12,
     "metadata": {},
     "output_type": "execute_result"
    }
   ],
   "source": [
    "pd.DataFrame(X_reduced)"
   ]
  },
  {
   "cell_type": "markdown",
   "metadata": {
    "id": "AtxkGcR5Wipp"
   },
   "source": [
    "### Iteration 2: with PCA\n",
    "Now that we've reduced the number of features to 10, from 500, let's see the effects that has."
   ]
  },
  {
   "cell_type": "code",
   "execution_count": 13,
   "metadata": {
    "colab": {
     "base_uri": "https://localhost:8080/"
    },
    "executionInfo": {
     "elapsed": 71314,
     "status": "ok",
     "timestamp": 1696496226842,
     "user": {
      "displayName": "Liane Gybas",
      "userId": "00850058138446702565"
     },
     "user_tz": -120
    },
    "id": "cB3B2xsBtiFp",
    "outputId": "e1e0bd89-59a5-4235-ef0a-52c8ca70d6fd"
   },
   "outputs": [
    {
     "name": "stdout",
     "output_type": "stream",
     "text": [
      "--- 70.98466944694519 seconds ---\n",
      "29.9% accuracy\n"
     ]
    }
   ],
   "source": [
    "start_time = time.time()\n",
    "\n",
    "model_pipeline = make_pipeline(StandardScaler(),\n",
    "                               PCA(n_components=10),\n",
    "                               KNeighborsClassifier())\n",
    "\n",
    "param_grid = {\"kneighborsclassifier__n_neighbors\": list(range(3, 30)),\n",
    "              \"kneighborsclassifier__weights\":[\"uniform\", \"distance\"],\n",
    "              \"kneighborsclassifier__p\":[1,2]}\n",
    "\n",
    "neigh2_search = RandomizedSearchCV(model_pipeline,\n",
    "                                   param_grid,\n",
    "                                   scoring=\"accuracy\",\n",
    "                                   n_iter=50,\n",
    "                                   cv=5,\n",
    "                                   n_jobs=-1,\n",
    "                                   random_state=123)\n",
    "\n",
    "neigh2_search.fit(X_train, y_train)\n",
    "\n",
    "end_time = time.time()\n",
    "\n",
    "time_taken_10_pca = end_time - start_time\n",
    "best_score_10_pca = neigh2_search.best_score_\n",
    "\n",
    "print(\"--- %s seconds ---\" % (time_taken_10_pca))\n",
    "print(f\"{round(best_score_10_pca * 100, 2)}% accuracy\")"
   ]
  },
  {
   "cell_type": "markdown",
   "metadata": {
    "id": "fSJoYfPDWipq"
   },
   "source": [
    "### Picking the number of components 2: by variance\n",
    "As you saw above, if we are too heavy handed with PCA, and reduce the amount of columns too drastically, we have a massive effect on the accuracy. So, how do we know what the optimal amount of columns are?\n",
    "\n",
    "We can explore the features using PCA's `explained_variance_ratio_` attribute. This highlights the amount of variance explained by each of the selected components. In other words, this will show us how much of the total variance, as a percentage, each of the columns accounts for.\n",
    "\n",
    "We'll set `n_components` to `None` so we can explore the amount of variance of all components."
   ]
  },
  {
   "cell_type": "code",
   "execution_count": 14,
   "metadata": {
    "colab": {
     "base_uri": "https://localhost:8080/"
    },
    "executionInfo": {
     "elapsed": 620,
     "status": "ok",
     "timestamp": 1696496377238,
     "user": {
      "displayName": "Liane Gybas",
      "userId": "00850058138446702565"
     },
     "user_tz": -120
    },
    "id": "biRSx_mTWipq",
    "outputId": "f3697818-b92e-488b-b68e-e9dd535f7bbe"
   },
   "outputs": [
    {
     "data": {
      "text/plain": [
       "array([5.54, 4.85, 4.19, 4.  , 3.75, 3.52, 3.28, 3.24, 3.03, 2.83, 2.79,\n",
       "       2.5 , 2.38, 2.3 , 2.23, 2.08, 1.96, 1.88, 1.82, 1.78, 1.73, 1.66,\n",
       "       1.54, 1.47, 1.42, 1.37, 1.31, 1.24, 1.19, 1.17, 1.12, 1.09, 1.01,\n",
       "       0.96, 0.92, 0.89, 0.86, 0.81, 0.81, 0.78, 0.73, 0.69, 0.66, 0.63,\n",
       "       0.6 , 0.57, 0.56, 0.55, 0.52, 0.49, 0.46, 0.43, 0.42, 0.4 , 0.38,\n",
       "       0.37, 0.35, 0.34, 0.33, 0.31, 0.3 , 0.29, 0.28, 0.27, 0.25, 0.24,\n",
       "       0.23, 0.21, 0.21, 0.2 , 0.19, 0.19, 0.18, 0.17, 0.16, 0.15, 0.15,\n",
       "       0.14, 0.14, 0.13, 0.12, 0.12, 0.12, 0.11, 0.1 , 0.1 , 0.1 , 0.09,\n",
       "       0.08, 0.08, 0.08, 0.07, 0.07, 0.07, 0.07, 0.07, 0.06, 0.06, 0.05,\n",
       "       0.05, 0.05, 0.05, 0.05, 0.04, 0.04, 0.04, 0.04, 0.04, 0.04, 0.03,\n",
       "       0.03, 0.03, 0.03, 0.03, 0.03, 0.03, 0.03, 0.02, 0.02, 0.02, 0.02,\n",
       "       0.02, 0.02, 0.02, 0.02, 0.02, 0.02, 0.02, 0.01, 0.01, 0.01, 0.01,\n",
       "       0.01, 0.01, 0.01, 0.01, 0.01, 0.01, 0.01, 0.01, 0.01, 0.01, 0.01,\n",
       "       0.01, 0.01, 0.01, 0.01, 0.01, 0.01, 0.01, 0.  , 0.  , 0.  , 0.  ,\n",
       "       0.  , 0.  , 0.  , 0.  , 0.  , 0.  , 0.  , 0.  , 0.  , 0.  , 0.  ,\n",
       "       0.  , 0.  , 0.  , 0.  , 0.  , 0.  , 0.  , 0.  , 0.  , 0.  , 0.  ,\n",
       "       0.  , 0.  , 0.  , 0.  , 0.  , 0.  , 0.  , 0.  , 0.  , 0.  , 0.  ,\n",
       "       0.  , 0.  , 0.  , 0.  , 0.  , 0.  , 0.  , 0.  , 0.  , 0.  , 0.  ,\n",
       "       0.  , 0.  , 0.  , 0.  , 0.  , 0.  , 0.  , 0.  , 0.  , 0.  , 0.  ,\n",
       "       0.  , 0.  , 0.  , 0.  , 0.  , 0.  , 0.  , 0.  , 0.  , 0.  , 0.  ,\n",
       "       0.  , 0.  , 0.  , 0.  , 0.  , 0.  , 0.  , 0.  , 0.  , 0.  , 0.  ,\n",
       "       0.  , 0.  , 0.  , 0.  , 0.  , 0.  , 0.  , 0.  , 0.  , 0.  , 0.  ,\n",
       "       0.  , 0.  , 0.  , 0.  , 0.  , 0.  , 0.  , 0.  , 0.  , 0.  , 0.  ,\n",
       "       0.  , 0.  , 0.  , 0.  , 0.  , 0.  , 0.  , 0.  , 0.  , 0.  , 0.  ,\n",
       "       0.  , 0.  , 0.  , 0.  , 0.  , 0.  , 0.  , 0.  , 0.  , 0.  , 0.  ,\n",
       "       0.  , 0.  , 0.  , 0.  , 0.  , 0.  , 0.  , 0.  , 0.  , 0.  , 0.  ,\n",
       "       0.  , 0.  , 0.  , 0.  , 0.  , 0.  , 0.  , 0.  , 0.  , 0.  , 0.  ,\n",
       "       0.  , 0.  , 0.  , 0.  , 0.  , 0.  , 0.  , 0.  , 0.  , 0.  , 0.  ,\n",
       "       0.  , 0.  , 0.  , 0.  , 0.  , 0.  , 0.  , 0.  , 0.  , 0.  , 0.  ,\n",
       "       0.  , 0.  , 0.  , 0.  , 0.  , 0.  , 0.  , 0.  , 0.  , 0.  , 0.  ,\n",
       "       0.  , 0.  , 0.  , 0.  , 0.  , 0.  , 0.  , 0.  , 0.  , 0.  , 0.  ,\n",
       "       0.  , 0.  , 0.  , 0.  , 0.  , 0.  , 0.  , 0.  , 0.  , 0.  , 0.  ,\n",
       "       0.  , 0.  , 0.  , 0.  , 0.  , 0.  , 0.  , 0.  , 0.  , 0.  , 0.  ,\n",
       "       0.  , 0.  , 0.  , 0.  , 0.  , 0.  , 0.  , 0.  , 0.  , 0.  , 0.  ,\n",
       "       0.  , 0.  , 0.  , 0.  , 0.  , 0.  , 0.  , 0.  , 0.  , 0.  , 0.  ,\n",
       "       0.  , 0.  , 0.  , 0.  , 0.  , 0.  , 0.  , 0.  , 0.  , 0.  , 0.  ,\n",
       "       0.  , 0.  , 0.  , 0.  , 0.  , 0.  , 0.  , 0.  , 0.  , 0.  , 0.  ,\n",
       "       0.  , 0.  , 0.  , 0.  , 0.  , 0.  , 0.  , 0.  , 0.  , 0.  , 0.  ,\n",
       "       0.  , 0.  , 0.  , 0.  , 0.  , 0.  , 0.  , 0.  , 0.  , 0.  , 0.  ,\n",
       "       0.  , 0.  , 0.  , 0.  , 0.  , 0.  , 0.  , 0.  , 0.  , 0.  , 0.  ,\n",
       "       0.  , 0.  , 0.  , 0.  , 0.  , 0.  , 0.  , 0.  , 0.  , 0.  , 0.  ,\n",
       "       0.  , 0.  , 0.  , 0.  , 0.  , 0.  , 0.  , 0.  , 0.  , 0.  , 0.  ,\n",
       "       0.  , 0.  , 0.  , 0.  , 0.  , 0.  , 0.  , 0.  , 0.  , 0.  , 0.  ,\n",
       "       0.  , 0.  , 0.  , 0.  , 0.  , 0.  , 0.  , 0.  , 0.  , 0.  , 0.  ,\n",
       "       0.  , 0.  , 0.  , 0.  , 0.  , 0.  , 0.  , 0.  , 0.  , 0.  , 0.  ,\n",
       "       0.  , 0.  , 0.  , 0.  , 0.  ])"
      ]
     },
     "execution_count": 14,
     "metadata": {},
     "output_type": "execute_result"
    }
   ],
   "source": [
    "pca = PCA(n_components=None)\n",
    "pca.fit(X_train)\n",
    "\n",
    "np.round(pca.explained_variance_ratio_, 4)*100"
   ]
  },
  {
   "cell_type": "markdown",
   "metadata": {
    "id": "IP57e4Fc0t8A"
   },
   "source": [
    "Look at all of the 0's at the end, looks like we have quite a few columns that are providing our model without a lot of information.\n",
    "\n",
    "We can also visualise cumulative total of `pca.explained_variance_ratio_` to see how many of our columns are useful."
   ]
  },
  {
   "cell_type": "code",
   "execution_count": 15,
   "metadata": {
    "colab": {
     "base_uri": "https://localhost:8080/",
     "height": 522
    },
    "executionInfo": {
     "elapsed": 983,
     "status": "ok",
     "timestamp": 1696496445631,
     "user": {
      "displayName": "Liane Gybas",
      "userId": "00850058138446702565"
     },
     "user_tz": -120
    },
    "id": "gnRttEPaWips",
    "outputId": "b94f17d6-0fcc-4c04-9ea2-4f4c74d6ccd4"
   },
   "outputs": [
    {
     "data": {
      "image/png": "[encoded data removed]",
      "text/plain": [
       "<Figure size 1200x600 with 1 Axes>"
      ]
     },
     "metadata": {},
     "output_type": "display_data"
    }
   ],
   "source": [
    "import matplotlib.pyplot as plt\n",
    "\n",
    "cumsum = np.cumsum(pca.explained_variance_ratio_)\n",
    "\n",
    "fig, ax = plt.subplots(figsize=(12, 6))\n",
    "ax.plot(cumsum, label = \"Explained variance\");"
   ]
  },
  {
   "cell_type": "markdown",
   "metadata": {
    "id": "SOJ8xTWXEsDH"
   },
   "source": [
    "It's common to choose the amount of features that make up 95% of the variance. This way we are feeding our model almost the same amount of data, but reducing the number of features. The cell below calculates the number of features that make up 95% of the variance."
   ]
  },
  {
   "cell_type": "code",
   "execution_count": null,
   "metadata": {
    "colab": {
     "base_uri": "https://localhost:8080/"
    },
    "executionInfo": {
     "elapsed": 11,
     "status": "ok",
     "timestamp": 1661849586892,
     "user": {
      "displayName": "Ben Elvin",
      "userId": "09111547648527423041"
     },
     "user_tz": -120
    },
    "id": "ASaU-z4iEXYd",
    "outputId": "c4339677-c70f-43a2-9530-9ba14e824267"
   },
   "outputs": [
    {
     "data": {
      "text/plain": [
       "67"
      ]
     },
     "execution_count": 73,
     "metadata": {},
     "output_type": "execute_result"
    }
   ],
   "source": [
    "sum(cumsum < 0.95)"
   ]
  },
  {
   "cell_type": "markdown",
   "metadata": {
    "id": "V7zmDhKoWips"
   },
   "source": [
    "### Iteration 3: PCA and variance\n",
    "In our pipeline we'll set the `n_components` of `PCA` to `0.95`. As the number is a float and not an integer, this tells SKLearn that we'd like PCA to reduce the number of column to those that contain 95% of the total variance."
   ]
  },
  {
   "cell_type": "code",
   "execution_count": 16,
   "metadata": {
    "colab": {
     "base_uri": "https://localhost:8080/"
    },
    "executionInfo": {
     "elapsed": 246206,
     "status": "ok",
     "timestamp": 1696496752601,
     "user": {
      "displayName": "Liane Gybas",
      "userId": "00850058138446702565"
     },
     "user_tz": -120
    },
    "id": "_o3UF2BGs5VL",
    "outputId": "b990ef46-5457-4fe7-b8b9-864e50c2bd7a"
   },
   "outputs": [
    {
     "name": "stdout",
     "output_type": "stream",
     "text": [
      "--- 245.9454848766327 seconds ---\n",
      "81.27% accuracy\n"
     ]
    }
   ],
   "source": [
    "start_time = time.time()\n",
    "\n",
    "model_pipeline = make_pipeline(StandardScaler(),\n",
    "                               PCA(n_components=0.95),\n",
    "                               KNeighborsClassifier())\n",
    "\n",
    "param_grid = {\"kneighborsclassifier__n_neighbors\": list(range(3, 30)),\n",
    "              \"kneighborsclassifier__weights\":[\"uniform\", \"distance\"],\n",
    "              \"kneighborsclassifier__p\":[1,2]}\n",
    "\n",
    "neigh3_search = RandomizedSearchCV(model_pipeline,\n",
    "                                   param_grid,\n",
    "                                   scoring=\"accuracy\",\n",
    "                                   n_iter=50,\n",
    "                                   cv=5,\n",
    "                                   n_jobs=-1,\n",
    "                                   random_state=123)\n",
    "\n",
    "neigh3_search.fit(X_train, y_train)\n",
    "\n",
    "end_time = time.time()\n",
    "\n",
    "time_taken_95_pca = end_time - start_time\n",
    "best_score_95_pca = neigh3_search.best_score_\n",
    "\n",
    "print(\"--- %s seconds ---\" % (time_taken_95_pca))\n",
    "print(f\"{round(best_score_95_pca * 100, 2)}% accuracy\")"
   ]
  },
  {
   "cell_type": "markdown",
   "metadata": {
    "id": "jM2mhpYO9uhZ"
   },
   "source": [
    "### Comparing the first 3 iterations\n",
    "Let's have a look at the differences in time and accuracy across our 3 experiments."
   ]
  },
  {
   "cell_type": "code",
   "execution_count": 17,
   "metadata": {
    "colab": {
     "base_uri": "https://localhost:8080/",
     "height": 174
    },
    "executionInfo": {
     "elapsed": 351,
     "status": "ok",
     "timestamp": 1696496841555,
     "user": {
      "displayName": "Liane Gybas",
      "userId": "00850058138446702565"
     },
     "user_tz": -120
    },
    "id": "7nLwxzBw7xdF",
    "outputId": "fb6fcdf5-4a9e-4f11-df20-396dd897821b"
   },
   "outputs": [
    {
     "data": {
      "text/html": [
       "\n",
       "  <div id=\"df-d2fc5c83-3971-4bcd-9140-031bb689e072\" class=\"colab-df-container\">\n",
       "    <div>\n",
       "<style scoped>\n",
       "    .dataframe tbody tr th:only-of-type {\n",
       "        vertical-align: middle;\n",
       "    }\n",
       "\n",
       "    .dataframe tbody tr th {\n",
       "        vertical-align: top;\n",
       "    }\n",
       "\n",
       "    .dataframe thead th {\n",
       "        text-align: right;\n",
       "    }\n",
       "</style>\n",
       "<table border=\"1\" class=\"dataframe\">\n",
       "  <thead>\n",
       "    <tr style=\"text-align: right;\">\n",
       "      <th></th>\n",
       "      <th>time</th>\n",
       "      <th>accuracy</th>\n",
       "    </tr>\n",
       "    <tr>\n",
       "      <th>pca_version</th>\n",
       "      <th></th>\n",
       "      <th></th>\n",
       "    </tr>\n",
       "  </thead>\n",
       "  <tbody>\n",
       "    <tr>\n",
       "      <th>None</th>\n",
       "      <td>282.836701</td>\n",
       "      <td>0.80850</td>\n",
       "    </tr>\n",
       "    <tr>\n",
       "      <th>10</th>\n",
       "      <td>70.984669</td>\n",
       "      <td>0.29900</td>\n",
       "    </tr>\n",
       "    <tr>\n",
       "      <th>0.95</th>\n",
       "      <td>245.945485</td>\n",
       "      <td>0.81275</td>\n",
       "    </tr>\n",
       "  </tbody>\n",
       "</table>\n",
       "</div>\n",
       "    <div class=\"colab-df-buttons\">\n",
       "\n",
       "  <div class=\"colab-df-container\">\n",
       "    <button class=\"colab-df-convert\" onclick=\"convertToInteractive('df-d2fc5c83-3971-4bcd-9140-031bb689e072')\"\n",
       "            title=\"Convert this dataframe to an interactive table.\"\n",
       "            style=\"display:none;\">\n",
       "\n",
       "  <svg xmlns=\"http://www.w3.org/2000/svg\" height=\"24px\" viewBox=\"0 -960 960 960\">\n",
       "    <path d=\"M120-120v-720h720v720H120Zm60-500h600v-160H180v160Zm220 220h160v-160H400v160Zm0 220h160v-160H400v160ZM180-400h160v-160H180v160Zm440 0h160v-160H620v160ZM180-180h160v-160H180v160Zm440 0h160v-160H620v160Z\"/>\n",
       "  </svg>\n",
       "    </button>\n",
       "\n",
       "  <style>\n",
       "    .colab-df-container {\n",
       "      display:flex;\n",
       "      gap: 12px;\n",
       "    }\n",
       "\n",
       "    .colab-df-convert {\n",
       "      background-color: #E8F0FE;\n",
       "      border: none;\n",
       "      border-radius: 50%;\n",
       "      cursor: pointer;\n",
       "      display: none;\n",
       "      fill: #1967D2;\n",
       "      height: 32px;\n",
       "      padding: 0 0 0 0;\n",
       "      width: 32px;\n",
       "    }\n",
       "\n",
       "    .colab-df-convert:hover {\n",
       "      background-color: #E2EBFA;\n",
       "      box-shadow: 0px 1px 2px rgba(60, 64, 67, 0.3), 0px 1px 3px 1px rgba(60, 64, 67, 0.15);\n",
       "      fill: #174EA6;\n",
       "    }\n",
       "\n",
       "    .colab-df-buttons div {\n",
       "      margin-bottom: 4px;\n",
       "    }\n",
       "\n",
       "    [theme=dark] .colab-df-convert {\n",
       "      background-color: #3B4455;\n",
       "      fill: #D2E3FC;\n",
       "    }\n",
       "\n",
       "    [theme=dark] .colab-df-convert:hover {\n",
       "      background-color: #434B5C;\n",
       "      box-shadow: 0px 1px 3px 1px rgba(0, 0, 0, 0.15);\n",
       "      filter: drop-shadow(0px 1px 2px rgba(0, 0, 0, 0.3));\n",
       "      fill: #FFFFFF;\n",
       "    }\n",
       "  </style>\n",
       "\n",
       "    <script>\n",
       "      const buttonEl =\n",
       "        document.querySelector('#df-d2fc5c83-3971-4bcd-9140-031bb689e072 button.colab-df-convert');\n",
       "      buttonEl.style.display =\n",
       "        google.colab.kernel.accessAllowed ? 'block' : 'none';\n",
       "\n",
       "      async function convertToInteractive(key) {\n",
       "        const element = document.querySelector('#df-d2fc5c83-3971-4bcd-9140-031bb689e072');\n",
       "        const dataTable =\n",
       "          await google.colab.kernel.invokeFunction('convertToInteractive',\n",
       "                                                    [key], {});\n",
       "        if (!dataTable) return;\n",
       "\n",
       "        const docLinkHtml = 'Like what you see? Visit the ' +\n",
       "          '<a target=\"_blank\" href=https://colab.research.google.com/notebooks/data_table.ipynb>data table notebook</a>'\n",
       "          + ' to learn more about interactive tables.';\n",
       "        element.innerHTML = '';\n",
       "        dataTable['output_type'] = 'display_data';\n",
       "        await google.colab.output.renderOutput(dataTable, element);\n",
       "        const docLink = document.createElement('div');\n",
       "        docLink.innerHTML = docLinkHtml;\n",
       "        element.appendChild(docLink);\n",
       "      }\n",
       "    </script>\n",
       "  </div>\n",
       "\n",
       "\n",
       "<div id=\"df-c2abf7a3-e901-4bd6-9601-5101db72239c\">\n",
       "  <button class=\"colab-df-quickchart\" onclick=\"quickchart('df-c2abf7a3-e901-4bd6-9601-5101db72239c')\"\n",
       "            title=\"Suggest charts.\"\n",
       "            style=\"display:none;\">\n",
       "\n",
       "<svg xmlns=\"http://www.w3.org/2000/svg\" height=\"24px\"viewBox=\"0 0 24 24\"\n",
       "     width=\"24px\">\n",
       "    <g>\n",
       "        <path d=\"M19 3H5c-1.1 0-2 .9-2 2v14c0 1.1.9 2 2 2h14c1.1 0 2-.9 2-2V5c0-1.1-.9-2-2-2zM9 17H7v-7h2v7zm4 0h-2V7h2v10zm4 0h-2v-4h2v4z\"/>\n",
       "    </g>\n",
       "</svg>\n",
       "  </button>\n",
       "\n",
       "<style>\n",
       "  .colab-df-quickchart {\n",
       "      --bg-color: #E8F0FE;\n",
       "      --fill-color: #1967D2;\n",
       "      --hover-bg-color: #E2EBFA;\n",
       "      --hover-fill-color: #174EA6;\n",
       "      --disabled-fill-color: #AAA;\n",
       "      --disabled-bg-color: #DDD;\n",
       "  }\n",
       "\n",
       "  [theme=dark] .colab-df-quickchart {\n",
       "      --bg-color: #3B4455;\n",
       "      --fill-color: #D2E3FC;\n",
       "      --hover-bg-color: #434B5C;\n",
       "      --hover-fill-color: #FFFFFF;\n",
       "      --disabled-bg-color: #3B4455;\n",
       "      --disabled-fill-color: #666;\n",
       "  }\n",
       "\n",
       "  .colab-df-quickchart {\n",
       "    background-color: var(--bg-color);\n",
       "    border: none;\n",
       "    border-radius: 50%;\n",
       "    cursor: pointer;\n",
       "    display: none;\n",
       "    fill: var(--fill-color);\n",
       "    height: 32px;\n",
       "    padding: 0;\n",
       "    width: 32px;\n",
       "  }\n",
       "\n",
       "  .colab-df-quickchart:hover {\n",
       "    background-color: var(--hover-bg-color);\n",
       "    box-shadow: 0 1px 2px rgba(60, 64, 67, 0.3), 0 1px 3px 1px rgba(60, 64, 67, 0.15);\n",
       "    fill: var(--button-hover-fill-color);\n",
       "  }\n",
       "\n",
       "  .colab-df-quickchart-complete:disabled,\n",
       "  .colab-df-quickchart-complete:disabled:hover {\n",
       "    background-color: var(--disabled-bg-color);\n",
       "    fill: var(--disabled-fill-color);\n",
       "    box-shadow: none;\n",
       "  }\n",
       "\n",
       "  .colab-df-spinner {\n",
       "    border: 2px solid var(--fill-color);\n",
       "    border-color: transparent;\n",
       "    border-bottom-color: var(--fill-color);\n",
       "    animation:\n",
       "      spin 1s steps(1) infinite;\n",
       "  }\n",
       "\n",
       "  @keyframes spin {\n",
       "    0% {\n",
       "      border-color: transparent;\n",
       "      border-bottom-color: var(--fill-color);\n",
       "      border-left-color: var(--fill-color);\n",
       "    }\n",
       "    20% {\n",
       "      border-color: transparent;\n",
       "      border-left-color: var(--fill-color);\n",
       "      border-top-color: var(--fill-color);\n",
       "    }\n",
       "    30% {\n",
       "      border-color: transparent;\n",
       "      border-left-color: var(--fill-color);\n",
       "      border-top-color: var(--fill-color);\n",
       "      border-right-color: var(--fill-color);\n",
       "    }\n",
       "    40% {\n",
       "      border-color: transparent;\n",
       "      border-right-color: var(--fill-color);\n",
       "      border-top-color: var(--fill-color);\n",
       "    }\n",
       "    60% {\n",
       "      border-color: transparent;\n",
       "      border-right-color: var(--fill-color);\n",
       "    }\n",
       "    80% {\n",
       "      border-color: transparent;\n",
       "      border-right-color: var(--fill-color);\n",
       "      border-bottom-color: var(--fill-color);\n",
       "    }\n",
       "    90% {\n",
       "      border-color: transparent;\n",
       "      border-bottom-color: var(--fill-color);\n",
       "    }\n",
       "  }\n",
       "</style>\n",
       "\n",
       "  <script>\n",
       "    async function quickchart(key) {\n",
       "      const quickchartButtonEl =\n",
       "        document.querySelector('#' + key + ' button');\n",
       "      quickchartButtonEl.disabled = true;  // To prevent multiple clicks.\n",
       "      quickchartButtonEl.classList.add('colab-df-spinner');\n",
       "      try {\n",
       "        const charts = await google.colab.kernel.invokeFunction(\n",
       "            'suggestCharts', [key], {});\n",
       "      } catch (error) {\n",
       "        console.error('Error during call to suggestCharts:', error);\n",
       "      }\n",
       "      quickchartButtonEl.classList.remove('colab-df-spinner');\n",
       "      quickchartButtonEl.classList.add('colab-df-quickchart-complete');\n",
       "    }\n",
       "    (() => {\n",
       "      let quickchartButtonEl =\n",
       "        document.querySelector('#df-c2abf7a3-e901-4bd6-9601-5101db72239c button');\n",
       "      quickchartButtonEl.style.display =\n",
       "        google.colab.kernel.accessAllowed ? 'block' : 'none';\n",
       "    })();\n",
       "  </script>\n",
       "</div>\n",
       "    </div>\n",
       "  </div>\n"
      ],
      "text/plain": [
       "                   time  accuracy\n",
       "pca_version                      \n",
       "None         282.836701   0.80850\n",
       "10            70.984669   0.29900\n",
       "0.95         245.945485   0.81275"
      ]
     },
     "execution_count": 17,
     "metadata": {},
     "output_type": "execute_result"
    }
   ],
   "source": [
    "variables_data = {'pca_version': ['None', '10', '0.95'],\n",
    "                  'time': [time_taken_no_pca, time_taken_10_pca, time_taken_95_pca],\n",
    "                  'accuracy': [best_score_no_pca, best_score_10_pca, best_score_95_pca]}\n",
    "\n",
    "times_df = pd.DataFrame(variables_data)\n",
    "\n",
    "times_df.set_index('pca_version', inplace=True)\n",
    "\n",
    "times_df"
   ]
  },
  {
   "cell_type": "markdown",
   "metadata": {
    "id": "1-pYgkLKWipu"
   },
   "source": [
    "### Picking the number of components 3: cross validation\n",
    "\n",
    "It is also possible to place different values for PCA in your parameter search to ensure you get the best fit for your data. This may seem counter productive at first, as we are training many pca models, and therefore losing our time gains. However, if you are retraining a model, as you've added some extra data to the dataset, you would just use the previous best value of `n_components` and retrain the model without full cross validation, and therefore benefit from the time gains.\n",
    "\n",
    "First, let's look at how we would do the initial training with cross validation."
   ]
  },
  {
   "cell_type": "code",
   "execution_count": null,
   "metadata": {
    "colab": {
     "base_uri": "https://localhost:8080/"
    },
    "executionInfo": {
     "elapsed": 114501,
     "status": "ok",
     "timestamp": 1661850004845,
     "user": {
      "displayName": "Ben Elvin",
      "userId": "09111547648527423041"
     },
     "user_tz": -120
    },
    "id": "rMCKyC5Lp1Pb",
    "outputId": "8560be03-997b-45c8-cc23-6e5f9ea18951"
   },
   "outputs": [
    {
     "name": "stdout",
     "output_type": "stream",
     "text": [
      "--- 114.5195164680481 seconds ---\n",
      "81.18% accuracy\n"
     ]
    }
   ],
   "source": [
    "start_time = time.time()\n",
    "\n",
    "model_pipeline = make_pipeline(StandardScaler(),\n",
    "                               PCA(),\n",
    "                               KNeighborsClassifier())\n",
    "\n",
    "param_grid = {\"pca__n_components\": list(range(10, 310, 20)),\n",
    "              \"kneighborsclassifier__n_neighbors\": list(range(3, 30)),\n",
    "              \"kneighborsclassifier__weights\":[\"uniform\", \"distance\"],\n",
    "              \"kneighborsclassifier__p\":[1,2]}\n",
    "\n",
    "neigh4_search = RandomizedSearchCV(model_pipeline,\n",
    "                                   param_grid,\n",
    "                                   scoring=\"accuracy\",\n",
    "                                   n_iter=50,\n",
    "                                   cv=5,\n",
    "                                   n_jobs=-1,\n",
    "                                   random_state=123)\n",
    "\n",
    "neigh4_search.fit(X_train, y_train)\n",
    "\n",
    "end_time = time.time()\n",
    "\n",
    "time_taken_search_pca = end_time - start_time\n",
    "best_score_search_pca = neigh4_search.best_score_\n",
    "\n",
    "print(\"--- %s seconds ---\" % (time_taken_search_pca))\n",
    "print(f\"{round(best_score_search_pca * 100, 2)}% accuracy\")"
   ]
  },
  {
   "cell_type": "markdown",
   "metadata": {
    "id": "yHgK6HmXwvrK"
   },
   "source": [
    "Next, let's look at how quick it would be to retrain our model using the same parameters."
   ]
  },
  {
   "cell_type": "code",
   "execution_count": null,
   "metadata": {
    "colab": {
     "base_uri": "https://localhost:8080/"
    },
    "executionInfo": {
     "elapsed": 23,
     "status": "ok",
     "timestamp": 1661850004846,
     "user": {
      "displayName": "Ben Elvin",
      "userId": "09111547648527423041"
     },
     "user_tz": -120
    },
    "id": "oUTT0nHQskZV",
    "outputId": "0098d740-dfc5-48e7-aa26-4f55a3a7b40e"
   },
   "outputs": [
    {
     "data": {
      "text/plain": [
       "{'pca__n_components': 250,\n",
       " 'kneighborsclassifier__weights': 'uniform',\n",
       " 'kneighborsclassifier__p': 2,\n",
       " 'kneighborsclassifier__n_neighbors': 27}"
      ]
     },
     "execution_count": 77,
     "metadata": {},
     "output_type": "execute_result"
    }
   ],
   "source": [
    "neigh4_search.best_params_"
   ]
  },
  {
   "cell_type": "code",
   "execution_count": null,
   "metadata": {
    "colab": {
     "base_uri": "https://localhost:8080/"
    },
    "executionInfo": {
     "elapsed": 1701,
     "status": "ok",
     "timestamp": 1661850006532,
     "user": {
      "displayName": "Ben Elvin",
      "userId": "09111547648527423041"
     },
     "user_tz": -120
    },
    "id": "3obd0sVjuFMf",
    "outputId": "2eae6d54-9450-4e00-a389-f3f8d2e5b27d"
   },
   "outputs": [
    {
     "name": "stdout",
     "output_type": "stream",
     "text": [
      "--- 0.7278356552124023 seconds ---\n",
      "85.72% accuracy\n"
     ]
    }
   ],
   "source": [
    "start_time = time.time()\n",
    "\n",
    "model_pipeline = make_pipeline(StandardScaler(),\n",
    "                               PCA(n_components=250),\n",
    "                               KNeighborsClassifier(weights='uniform',\n",
    "                                                    p=2,\n",
    "                                                    n_neighbors=27))\n",
    "\n",
    "model_pipeline.fit(X_train, y_train)\n",
    "\n",
    "end_time = time.time()\n",
    "\n",
    "time_taken_retrain_pca = end_time - start_time\n",
    "best_score_retrain_pca = model_pipeline.score(X_train, y_train)\n",
    "\n",
    "print(\"--- %s seconds ---\" % (time_taken_retrain_pca))\n",
    "print(f\"{round(best_score_retrain_pca * 100, 2)}% accuracy\")"
   ]
  },
  {
   "cell_type": "markdown",
   "metadata": {
    "id": "eb2Fk-f144S_"
   },
   "source": [
    "\n",
    "\n",
    "> **Note:** the uptick in accuracy for the retrained model is likely due to the fact that this is the only model not using cross validation. Remember, cross validation breaks the training data down into smaller chunks and uses each as a test set, then gives us the average accuracy of all tests. Here we just have the a non-averaged accuracy of a larger training set.\n",
    "\n"
   ]
  },
  {
   "cell_type": "markdown",
   "metadata": {
    "id": "10s4oa25xCTs"
   },
   "source": [
    "### Comparing all 5 models"
   ]
  },
  {
   "cell_type": "code",
   "execution_count": null,
   "metadata": {
    "colab": {
     "base_uri": "https://localhost:8080/",
     "height": 238
    },
    "executionInfo": {
     "elapsed": 155,
     "status": "ok",
     "timestamp": 1661850006537,
     "user": {
      "displayName": "Ben Elvin",
      "userId": "09111547648527423041"
     },
     "user_tz": -120
    },
    "id": "HQCJ5dpZxFzs",
    "outputId": "f36a96e8-97bf-4c42-f3d8-c0500d410886"
   },
   "outputs": [
    {
     "data": {
      "text/html": [
       "\n",
       "  <div id=\"df-3d7e6992-d43d-41f9-893d-d7e16a18e082\">\n",
       "    <div class=\"colab-df-container\">\n",
       "      <div>\n",
       "<style scoped>\n",
       "    .dataframe tbody tr th:only-of-type {\n",
       "        vertical-align: middle;\n",
       "    }\n",
       "\n",
       "    .dataframe tbody tr th {\n",
       "        vertical-align: top;\n",
       "    }\n",
       "\n",
       "    .dataframe thead th {\n",
       "        text-align: right;\n",
       "    }\n",
       "</style>\n",
       "<table border=\"1\" class=\"dataframe\">\n",
       "  <thead>\n",
       "    <tr style=\"text-align: right;\">\n",
       "      <th></th>\n",
       "      <th>time</th>\n",
       "      <th>accuracy</th>\n",
       "    </tr>\n",
       "    <tr>\n",
       "      <th>pca_version</th>\n",
       "      <th></th>\n",
       "      <th></th>\n",
       "    </tr>\n",
       "  </thead>\n",
       "  <tbody>\n",
       "    <tr>\n",
       "      <th>None</th>\n",
       "      <td>499.795150</td>\n",
       "      <td>0.80850</td>\n",
       "    </tr>\n",
       "    <tr>\n",
       "      <th>10</th>\n",
       "      <td>43.906825</td>\n",
       "      <td>0.29825</td>\n",
       "    </tr>\n",
       "    <tr>\n",
       "      <th>0.95</th>\n",
       "      <td>303.465890</td>\n",
       "      <td>0.81275</td>\n",
       "    </tr>\n",
       "    <tr>\n",
       "      <th>Cross validation</th>\n",
       "      <td>114.519516</td>\n",
       "      <td>0.81175</td>\n",
       "    </tr>\n",
       "    <tr>\n",
       "      <th>Retrain only</th>\n",
       "      <td>0.727836</td>\n",
       "      <td>0.85725</td>\n",
       "    </tr>\n",
       "  </tbody>\n",
       "</table>\n",
       "</div>\n",
       "      <button class=\"colab-df-convert\" onclick=\"convertToInteractive('df-3d7e6992-d43d-41f9-893d-d7e16a18e082')\"\n",
       "              title=\"Convert this dataframe to an interactive table.\"\n",
       "              style=\"display:none;\">\n",
       "        \n",
       "  <svg xmlns=\"http://www.w3.org/2000/svg\" height=\"24px\"viewBox=\"0 0 24 24\"\n",
       "       width=\"24px\">\n",
       "    <path d=\"M0 0h24v24H0V0z\" fill=\"none\"/>\n",
       "    <path d=\"M18.56 5.44l.94 2.06.94-2.06 2.06-.94-2.06-.94-.94-2.06-.94 2.06-2.06.94zm-11 1L8.5 8.5l.94-2.06 2.06-.94-2.06-.94L8.5 2.5l-.94 2.06-2.06.94zm10 10l.94 2.06.94-2.06 2.06-.94-2.06-.94-.94-2.06-.94 2.06-2.06.94z\"/><path d=\"M17.41 7.96l-1.37-1.37c-.4-.4-.92-.59-1.43-.59-.52 0-1.04.2-1.43.59L10.3 9.45l-7.72 7.72c-.78.78-.78 2.05 0 2.83L4 21.41c.39.39.9.59 1.41.59.51 0 1.02-.2 1.41-.59l7.78-7.78 2.81-2.81c.8-.78.8-2.07 0-2.86zM5.41 20L4 18.59l7.72-7.72 1.47 1.35L5.41 20z\"/>\n",
       "  </svg>\n",
       "      </button>\n",
       "      \n",
       "  <style>\n",
       "    .colab-df-container {\n",
       "      display:flex;\n",
       "      flex-wrap:wrap;\n",
       "      gap: 12px;\n",
       "    }\n",
       "\n",
       "    .colab-df-convert {\n",
       "      background-color: #E8F0FE;\n",
       "      border: none;\n",
       "      border-radius: 50%;\n",
       "      cursor: pointer;\n",
       "      display: none;\n",
       "      fill: #1967D2;\n",
       "      height: 32px;\n",
       "      padding: 0 0 0 0;\n",
       "      width: 32px;\n",
       "    }\n",
       "\n",
       "    .colab-df-convert:hover {\n",
       "      background-color: #E2EBFA;\n",
       "      box-shadow: 0px 1px 2px rgba(60, 64, 67, 0.3), 0px 1px 3px 1px rgba(60, 64, 67, 0.15);\n",
       "      fill: #174EA6;\n",
       "    }\n",
       "\n",
       "    [theme=dark] .colab-df-convert {\n",
       "      background-color: #3B4455;\n",
       "      fill: #D2E3FC;\n",
       "    }\n",
       "\n",
       "    [theme=dark] .colab-df-convert:hover {\n",
       "      background-color: #434B5C;\n",
       "      box-shadow: 0px 1px 3px 1px rgba(0, 0, 0, 0.15);\n",
       "      filter: drop-shadow(0px 1px 2px rgba(0, 0, 0, 0.3));\n",
       "      fill: #FFFFFF;\n",
       "    }\n",
       "  </style>\n",
       "\n",
       "      <script>\n",
       "        const buttonEl =\n",
       "          document.querySelector('#df-3d7e6992-d43d-41f9-893d-d7e16a18e082 button.colab-df-convert');\n",
       "        buttonEl.style.display =\n",
       "          google.colab.kernel.accessAllowed ? 'block' : 'none';\n",
       "\n",
       "        async function convertToInteractive(key) {\n",
       "          const element = document.querySelector('#df-3d7e6992-d43d-41f9-893d-d7e16a18e082');\n",
       "          const dataTable =\n",
       "            await google.colab.kernel.invokeFunction('convertToInteractive',\n",
       "                                                     [key], {});\n",
       "          if (!dataTable) return;\n",
       "\n",
       "          const docLinkHtml = 'Like what you see? Visit the ' +\n",
       "            '<a target=\"_blank\" href=https://colab.research.google.com/notebooks/data_table.ipynb>data table notebook</a>'\n",
       "            + ' to learn more about interactive tables.';\n",
       "          element.innerHTML = '';\n",
       "          dataTable['output_type'] = 'display_data';\n",
       "          await google.colab.output.renderOutput(dataTable, element);\n",
       "          const docLink = document.createElement('div');\n",
       "          docLink.innerHTML = docLinkHtml;\n",
       "          element.appendChild(docLink);\n",
       "        }\n",
       "      </script>\n",
       "    </div>\n",
       "  </div>\n",
       "  "
      ],
      "text/plain": [
       "                        time  accuracy\n",
       "pca_version                           \n",
       "None              499.795150   0.80850\n",
       "10                 43.906825   0.29825\n",
       "0.95              303.465890   0.81275\n",
       "Cross validation  114.519516   0.81175\n",
       "Retrain only        0.727836   0.85725"
      ]
     },
     "execution_count": 79,
     "metadata": {},
     "output_type": "execute_result"
    }
   ],
   "source": [
    "variables_data = {'pca_version': ['None', '10', '0.95', 'Cross validation', 'Retrain only'],\n",
    "                  'time': [time_taken_no_pca, time_taken_10_pca, time_taken_95_pca, time_taken_search_pca, time_taken_retrain_pca],\n",
    "                  'accuracy': [best_score_no_pca, best_score_10_pca, best_score_95_pca, best_score_search_pca, best_score_retrain_pca]}\n",
    "\n",
    "times_df = pd.DataFrame(variables_data)\n",
    "\n",
    "times_df.set_index('pca_version', inplace=True)\n",
    "\n",
    "times_df"
   ]
  },
  {
   "cell_type": "markdown",
   "metadata": {
    "id": "tofz_P91Wipw"
   },
   "source": [
    "## Practice:\n",
    "\n",
    "- Apply PCA to the Diamonds dataset.\n",
    "- Apply PCA to the Housing case study Pipeline.\n",
    "\n",
    "In both cases, tune the number of components and analyse whether the performance improves, stays stable or decreases."
   ]
  },
  {
   "cell_type": "code",
   "execution_count": null,
   "metadata": {
    "id": "58Gm3YSAWipw"
   },
   "outputs": [],
   "source": []
  }
 ],
 "metadata": {
  "colab": {
   "provenance": [
    {
     "file_id": "1pCBKLtxsKgvCw81SmvnCMTXOmTN-vUew",
     "timestamp": 1661504046666
    }
   ]
  },
  "kernelspec": {
   "display_name": "Python 3 (ipykernel)",
   "language": "python",
   "name": "python3"
  },
  "language_info": {
   "codemirror_mode": {
    "name": "ipython",
    "version": 3
   },
   "file_extension": ".py",
   "mimetype": "text/x-python",
   "name": "python",
   "nbconvert_exporter": "python",
   "pygments_lexer": "ipython3",
   "version": "3.11.3"
  },
  "toc": {
   "base_numbering": 1,
   "nav_menu": {},
   "number_sections": true,
   "sideBar": true,
   "skip_h1_title": false,
   "title_cell": "Table of Contents",
   "title_sidebar": "Contents",
   "toc_cell": false,
   "toc_position": {},
   "toc_section_display": true,
   "toc_window_display": false
  },
  "varInspector": {
   "cols": {
    "lenName": 16,
    "lenType": 16,
    "lenVar": 40
   },
   "kernels_config": {
    "python": {
     "delete_cmd_postfix": "",
     "delete_cmd_prefix": "del ",
     "library": "var_list.py",
     "varRefreshCmd": "print(var_dic_list())"
    },
    "r": {
     "delete_cmd_postfix": ") ",
     "delete_cmd_prefix": "rm(",
     "library": "var_list.r",
     "varRefreshCmd": "cat(var_dic_list()) "
    }
   },
   "types_to_exclude": [
    "module",
    "function",
    "builtin_function_or_method",
    "instance",
    "_Feature"
   ],
   "window_display": false
  }
 },
 "nbformat": 4,
 "nbformat_minor": 4
}
