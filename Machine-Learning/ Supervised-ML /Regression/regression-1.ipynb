{
 "cells": [
  {
   "cell_type": "markdown",
   "metadata": {
    "id": "NKEPDCc63ysQ"
   },
   "source": [
    "# Predicting House Prices (Regression)"
   ]
  },
  {
   "cell_type": "markdown",
   "metadata": {
    "id": "dDNBZIKl350e"
   },
   "source": [
    "## 1) Import, Load data, Splitting"
   ]
  },
  {
   "cell_type": "markdown",
   "metadata": {
    "id": "SfHJJuQB4-0N"
   },
   "source": [
    "Imports"
   ]
  },
  {
   "cell_type": "code",
   "execution_count": null,
   "metadata": {
    "executionInfo": {
     "elapsed": 248,
     "status": "ok",
     "timestamp": 1695994126038,
     "user": {
      "displayName": "Liane Gybas",
      "userId": "00850058138446702565"
     },
     "user_tz": -120
    },
    "id": "DJvDOgl2_2f9"
   },
   "outputs": [],
   "source": [
    "import pandas as pd\n",
    "import matplotlib.pyplot as plt\n",
    "import seaborn as sns\n",
    "\n",
    "from sklearn.model_selection import train_test_split\n",
    "from sklearn.impute import SimpleImputer\n",
    "\n",
    "from sklearn.preprocessing import OrdinalEncoder\n",
    "from sklearn.preprocessing import OneHotEncoder\n",
    "from sklearn.preprocessing import StandardScaler\n",
    "\n",
    "from sklearn.pipeline import make_pipeline\n",
    "from sklearn.compose import ColumnTransformer\n",
    "\n",
    "# Regression models\n",
    "from sklearn.tree import DecisionTreeRegressor\n",
    "\n",
    "# Metrics\n",
    "from sklearn.metrics import mean_absolute_error\n",
    "from sklearn.metrics import mean_squared_error     #for mean_squared_error and root_mean_squared_error\n",
    "from sklearn.metrics import mean_absolute_percentage_error\n",
    "from sklearn.metrics import r2_score               # good overall measure for linear relationships\n",
    "\n"
   ]
  },
  {
   "cell_type": "markdown",
   "metadata": {
    "id": "3yn-1mTf5BPl"
   },
   "source": [
    "Load data"
   ]
  },
  {
   "cell_type": "code",
   "execution_count": null,
   "metadata": {
    "executionInfo": {
     "elapsed": 814,
     "status": "ok",
     "timestamp": 1695994129570,
     "user": {
      "displayName": "Liane Gybas",
      "userId": "00850058138446702565"
     },
     "user_tz": -120
    },
    "id": "iNUiErM3AXzb"
   },
   "outputs": [],
   "source": [
    "# iteration 7\n",
    "url = 'https://drive.google.com/file/d/1WN_JAZVHmpi_KMk4Zgyv7S3G3BekEn82/view?usp=share_link'\n",
    "path = 'https://drive.google.com/uc?export=download&id='+url.split('/')[-2]\n",
    "data = pd.read_csv(path)"
   ]
  },
  {
   "cell_type": "code",
   "execution_count": null,
   "metadata": {
    "colab": {
     "base_uri": "https://localhost:8080/"
    },
    "executionInfo": {
     "elapsed": 24,
     "status": "ok",
     "timestamp": 1695994130035,
     "user": {
      "displayName": "Liane Gybas",
      "userId": "00850058138446702565"
     },
     "user_tz": -120
    },
    "id": "WWaCGozTAlI1",
    "outputId": "626ae9e6-5758-4f18-9f7b-0a62f1b3b8a2"
   },
   "outputs": [],
   "source": [
    "data.info()"
   ]
  },
  {
   "cell_type": "markdown",
   "metadata": {
    "id": "q6kx6eQ25tpd"
   },
   "source": [
    "Split X and y"
   ]
  },
  {
   "cell_type": "code",
   "execution_count": null,
   "metadata": {
    "executionInfo": {
     "elapsed": 533,
     "status": "ok",
     "timestamp": 1695994134897,
     "user": {
      "displayName": "Liane Gybas",
      "userId": "00850058138446702565"
     },
     "user_tz": -120
    },
    "id": "4qu2ZishAxG3"
   },
   "outputs": [],
   "source": [
    "X = data.copy()\n",
    "y = X.pop('SalePrice')"
   ]
  },
  {
   "cell_type": "code",
   "execution_count": null,
   "metadata": {
    "colab": {
     "base_uri": "https://localhost:8080/"
    },
    "executionInfo": {
     "elapsed": 10,
     "status": "ok",
     "timestamp": 1695994135253,
     "user": {
      "displayName": "Liane Gybas",
      "userId": "00850058138446702565"
     },
     "user_tz": -120
    },
    "id": "aq1smLsgHKWL",
    "outputId": "1f34dc31-77e6-410a-fa00-21a029d89dc5"
   },
   "outputs": [],
   "source": [
    "y"
   ]
  },
  {
   "cell_type": "markdown",
   "metadata": {
    "id": "WhAtB2fzHdio"
   },
   "source": [
    "Please drop the ID column before the train-test split"
   ]
  },
  {
   "cell_type": "code",
   "execution_count": null,
   "metadata": {
    "id": "zxGvsggoHkyr"
   },
   "outputs": [],
   "source": [
    "# for example Menna dropped these columns:\n",
    "#X = X.drop(['Alley','PoolQC','Fence','MiscFeature' ,'FireplaceQu'],axis=1)"
   ]
  },
  {
   "cell_type": "code",
   "execution_count": null,
   "metadata": {
    "id": "TY5owMGmHvQs"
   },
   "outputs": [],
   "source": [
    "# missing data - shows the 10 columns with the highest percentage of missing values\n",
    "\n",
    "per = data.isna().sum()/len(data)*100\n",
    "per.nlargest(10)"
   ]
  },
  {
   "cell_type": "markdown",
   "metadata": {
    "id": "iEuDD3vV51hN"
   },
   "source": [
    "Split train- and testdata"
   ]
  },
  {
   "cell_type": "code",
   "execution_count": null,
   "metadata": {
    "executionInfo": {
     "elapsed": 357,
     "status": "ok",
     "timestamp": 1695994140521,
     "user": {
      "displayName": "Liane Gybas",
      "userId": "00850058138446702565"
     },
     "user_tz": -120
    },
    "id": "CpoBP2GN504d"
   },
   "outputs": [],
   "source": [
    "X_train, X_test, y_train, y_test = train_test_split(X, y, train_size=.8, random_state=8)"
   ]
  },
  {
   "cell_type": "markdown",
   "metadata": {
    "id": "uNU0yPhj580f"
   },
   "source": [
    "## 2) EDA and Dummy Model"
   ]
  },
  {
   "cell_type": "code",
   "execution_count": null,
   "metadata": {
    "colab": {
     "base_uri": "https://localhost:8080/"
    },
    "executionInfo": {
     "elapsed": 6,
     "status": "ok",
     "timestamp": 1695992565625,
     "user": {
      "displayName": "Liane Gybas",
      "userId": "00850058138446702565"
     },
     "user_tz": -120
    },
    "id": "N3ik9vLMA5Ik",
    "outputId": "31c78fe7-1cb1-4de8-93c0-5f8b58e999ce"
   },
   "outputs": [],
   "source": [
    "# let's find a column that is highly correlated\n",
    "data.corrwith(data['SalePrice']).sort_values(ascending=False).head()"
   ]
  },
  {
   "cell_type": "code",
   "execution_count": null,
   "metadata": {
    "colab": {
     "base_uri": "https://localhost:8080/",
     "height": 624
    },
    "executionInfo": {
     "elapsed": 611,
     "status": "ok",
     "timestamp": 1695992566233,
     "user": {
      "displayName": "Liane Gybas",
      "userId": "00850058138446702565"
     },
     "user_tz": -120
    },
    "id": "49Z9yMykBO00",
    "outputId": "84e4a1af-047a-4051-e7ec-b69e2925a29d"
   },
   "outputs": [],
   "source": [
    "# plot the relationship\n",
    "sns.relplot(x=X_train['GrLivArea'],y=y_train,height=6)\n"
   ]
  },
  {
   "cell_type": "markdown",
   "metadata": {
    "id": "SG-ptsys-aaG"
   },
   "source": [
    "Conclude about a good relation"
   ]
  },
  {
   "cell_type": "code",
   "execution_count": null,
   "metadata": {
    "executionInfo": {
     "elapsed": 479,
     "status": "ok",
     "timestamp": 1695994424094,
     "user": {
      "displayName": "Liane Gybas",
      "userId": "00850058138446702565"
     },
     "user_tz": -120
    },
    "id": "LOpf0ZpkCIe_"
   },
   "outputs": [],
   "source": [
    "# GrLivArea * 100"
   ]
  },
  {
   "cell_type": "code",
   "execution_count": null,
   "metadata": {
    "colab": {
     "base_uri": "https://localhost:8080/"
    },
    "executionInfo": {
     "elapsed": 14,
     "status": "ok",
     "timestamp": 1695994424440,
     "user": {
      "displayName": "Liane Gybas",
      "userId": "00850058138446702565"
     },
     "user_tz": -120
    },
    "id": "ieN4To75774D",
    "outputId": "39c6a60e-dd66-433e-d5a2-c3492bb9b2e2"
   },
   "outputs": [],
   "source": [
    "# calculate the endpoint for the red line\n",
    "5000 * 100"
   ]
  },
  {
   "cell_type": "code",
   "execution_count": null,
   "metadata": {
    "colab": {
     "base_uri": "https://localhost:8080/",
     "height": 607
    },
    "executionInfo": {
     "elapsed": 923,
     "status": "ok",
     "timestamp": 1695994506037,
     "user": {
      "displayName": "Liane Gybas",
      "userId": "00850058138446702565"
     },
     "user_tz": -120
    },
    "id": "KGmYV1F-6qsL",
    "outputId": "e6e0add6-b00e-415e-c939-73085ef5bf37"
   },
   "outputs": [],
   "source": [
    "# plot the relationship again, this time with our dumb-model prediction line\n",
    "sns.relplot(x=X_train['GrLivArea'],y=y_train,height=6)\n",
    "plt.plot([0, 5000], [0, 500000], 'r-')\n",
    "plt.show();"
   ]
  },
  {
   "cell_type": "markdown",
   "metadata": {
    "id": "mLXmppvf82fK"
   },
   "source": [
    "yay! Dummy model looks ok. Let's check how it performs."
   ]
  },
  {
   "cell_type": "code",
   "execution_count": null,
   "metadata": {
    "colab": {
     "base_uri": "https://localhost:8080/"
    },
    "executionInfo": {
     "elapsed": 12,
     "status": "ok",
     "timestamp": 1695992566847,
     "user": {
      "displayName": "Liane Gybas",
      "userId": "00850058138446702565"
     },
     "user_tz": -120
    },
    "id": "H5VEvPiE7bB7",
    "outputId": "898682fd-e75a-4b75-eef0-8bb3d84dd60c"
   },
   "outputs": [],
   "source": [
    "# get the prediction for test\n",
    "dummy_model_predictions = X_test['GrLivArea'] *100\n",
    "dummy_model_predictions"
   ]
  },
  {
   "cell_type": "markdown",
   "metadata": {
    "id": "KsD-k3xL8tdB"
   },
   "source": [
    "--- with the four regression scores:"
   ]
  },
  {
   "cell_type": "code",
   "execution_count": null,
   "metadata": {
    "colab": {
     "base_uri": "https://localhost:8080/",
     "height": 81
    },
    "executionInfo": {
     "elapsed": 11,
     "status": "ok",
     "timestamp": 1695992566847,
     "user": {
      "displayName": "Liane Gybas",
      "userId": "00850058138446702565"
     },
     "user_tz": -120
    },
    "id": "DNkWeF14CqdE",
    "outputId": "012bc0a4-1827-4f00-82e8-deae695513fd"
   },
   "outputs": [],
   "source": [
    "# Mean absolute error\n",
    "dummy_mae = mean_absolute_error(y_true = y_test, y_pred = dummy_model_predictions)\n",
    "\n",
    "# Root mean squared error\n",
    "dummy_rmse = mean_squared_error(y_true = y_test, y_pred = dummy_model_predictions, squared=False)\n",
    "\n",
    "# mean absolute percentage error\n",
    "dummy_mape = mean_absolute_percentage_error(y_true = y_test, y_pred = dummy_model_predictions)\n",
    "\n",
    "# R2\n",
    "dummy_r2 = r2_score(y_true = y_test, y_pred = dummy_model_predictions)\n",
    "\n",
    "pd.DataFrame({\"MAE\": [dummy_mae],\n",
    "              \"RMSE\": [dummy_rmse],\n",
    "              \"MAPE\": [dummy_mape],\n",
    "              \"R2\": [dummy_r2]},\n",
    "             index=[\"dummy_model\"])"
   ]
  },
  {
   "cell_type": "markdown",
   "metadata": {
    "id": "V0loBchuKxd2"
   },
   "source": [
    "- The Mean absolute Error tells us, that our estimates are on average 45.000 EUR off\n",
    "\n",
    "- And the Root mean squared error is higher than Mean absolute Error, so it tells us that we have outliers that contribute more to this value.\n",
    "\n",
    "- The Mean Percentage Error tells us, that we are on average 23% wrong\n",
    "\n",
    "- And the R2 value tells us that 26% of the variance of the data can be explained with our prediction.\n"
   ]
  },
  {
   "cell_type": "markdown",
   "metadata": {
    "id": "hsaQY2nr99vR"
   },
   "source": [
    "## 3) Preprocessing"
   ]
  },
  {
   "cell_type": "code",
   "execution_count": null,
   "metadata": {
    "executionInfo": {
     "elapsed": 256,
     "status": "ok",
     "timestamp": 1695995072243,
     "user": {
      "displayName": "Liane Gybas",
      "userId": "00850058138446702565"
     },
     "user_tz": -120
    },
    "id": "lwb4g1TI-1LZ"
   },
   "outputs": [],
   "source": [
    "X_cat = X_train.select_dtypes(exclude=\"number\").copy()\n",
    "X_num = X_train.select_dtypes(include=\"number\").copy()"
   ]
  },
  {
   "cell_type": "markdown",
   "metadata": {
    "id": "UgGWKSPS-8LQ"
   },
   "source": [
    "### Numeric pipe"
   ]
  },
  {
   "cell_type": "code",
   "execution_count": null,
   "metadata": {
    "executionInfo": {
     "elapsed": 272,
     "status": "ok",
     "timestamp": 1695995082925,
     "user": {
      "displayName": "Liane Gybas",
      "userId": "00850058138446702565"
     },
     "user_tz": -120
    },
    "id": "-qfHo5j4--4I"
   },
   "outputs": [],
   "source": [
    "numerical_pipe = make_pipeline(SimpleImputer())"
   ]
  },
  {
   "cell_type": "markdown",
   "metadata": {
    "id": "OWudsy4R_AWy"
   },
   "source": [
    "### Ordinal pipe (OPTIONAL)"
   ]
  },
  {
   "cell_type": "code",
   "execution_count": null,
   "metadata": {
    "executionInfo": {
     "elapsed": 342,
     "status": "ok",
     "timestamp": 1695995243733,
     "user": {
      "displayName": "Liane Gybas",
      "userId": "00850058138446702565"
     },
     "user_tz": -120
    },
    "id": "AZPv-hZE_JTx"
   },
   "outputs": [],
   "source": [
    "# Column index for ordinal encoded columns - we need this later\n",
    "ordinal_columns = X.columns.get_indexer([\"LotShape\", \"Utilities\", \"LandSlope\"])\n",
    "\n",
    "# ---\n",
    "\n",
    "# Order of values for each column in a list\n",
    "LotShape_cats = [\"Reg\", \"IR1\", \"IR2\", \"IR3\"]\n",
    "Utilities_cats = [\"AllPub\", \"NoSewr\", \"NoSeWa\", \"ELO\"]\n",
    "LandSlope_cats = [\"Gtl\", \"Mod\", \"Sev\"]\n",
    "\n",
    "# List of lists for each column\n",
    "ordinal_cats = [LotShape_cats, Utilities_cats, LandSlope_cats]\n",
    "\n",
    "# initialize the OrdinalEncoder with list of columns and their ordered categories\n",
    "ordinal_encoder = OrdinalEncoder(categories=ordinal_cats)"
   ]
  },
  {
   "cell_type": "code",
   "execution_count": null,
   "metadata": {
    "executionInfo": {
     "elapsed": 14,
     "status": "ok",
     "timestamp": 1695995245623,
     "user": {
      "displayName": "Liane Gybas",
      "userId": "00850058138446702565"
     },
     "user_tz": -120
    },
    "id": "hSGArMkPAET5"
   },
   "outputs": [],
   "source": [
    "# create an ordinal_Pipeline\n",
    "ordinal_pipe = make_pipeline(SimpleImputer(strategy=\"constant\", fill_value=\"N_A\"),\n",
    "                                 ordinal_encoder)"
   ]
  },
  {
   "cell_type": "markdown",
   "metadata": {
    "id": "hlyxC79UrJzq"
   },
   "source": [
    "### OneHotEncoding pipe"
   ]
  },
  {
   "cell_type": "code",
   "execution_count": null,
   "metadata": {
    "executionInfo": {
     "elapsed": 731,
     "status": "ok",
     "timestamp": 1695995249335,
     "user": {
      "displayName": "Liane Gybas",
      "userId": "00850058138446702565"
     },
     "user_tz": -120
    },
    "id": "FytIby7H8Jov"
   },
   "outputs": [],
   "source": [
    "# remaining categorical columns need to go to OneHotEncoding - we will need this later\n",
    "list_of_categorical_column_names_for_OHE = list(set(X_cat) - set(ordinal_columns))\n",
    "ohe_columns = X.columns.get_indexer(list_of_categorical_column_names_for_OHE)"
   ]
  },
  {
   "cell_type": "code",
   "execution_count": null,
   "metadata": {
    "executionInfo": {
     "elapsed": 245,
     "status": "ok",
     "timestamp": 1695995256262,
     "user": {
      "displayName": "Liane Gybas",
      "userId": "00850058138446702565"
     },
     "user_tz": -120
    },
    "id": "bzxabeWzrNfI"
   },
   "outputs": [],
   "source": [
    "# initialize OneHotEncoder\n",
    "ohe_encoder = OneHotEncoder(handle_unknown=\"ignore\")"
   ]
  },
  {
   "cell_type": "code",
   "execution_count": null,
   "metadata": {
    "executionInfo": {
     "elapsed": 10,
     "status": "ok",
     "timestamp": 1695995257060,
     "user": {
      "displayName": "Liane Gybas",
      "userId": "00850058138446702565"
     },
     "user_tz": -120
    },
    "id": "etxJ2GHopRsK"
   },
   "outputs": [],
   "source": [
    "# create a OHE_pipeline\n",
    "ohe_pipe = make_pipeline(SimpleImputer(strategy=\"constant\", fill_value=\"N_A\"),\n",
    "                                 ohe_encoder)"
   ]
  },
  {
   "cell_type": "markdown",
   "metadata": {
    "id": "Q6Tk6JRPz6Af"
   },
   "source": [
    "### All pipes together"
   ]
  },
  {
   "cell_type": "code",
   "execution_count": null,
   "metadata": {
    "executionInfo": {
     "elapsed": 265,
     "status": "ok",
     "timestamp": 1695995430740,
     "user": {
      "displayName": "Liane Gybas",
      "userId": "00850058138446702565"
     },
     "user_tz": -120
    },
    "id": "9YGMncRT0KzK"
   },
   "outputs": [],
   "source": [
    "# Final preprocessor\n",
    "preprocessor = ColumnTransformer(\n",
    "    transformers=[\n",
    "        (\"num_pipe\", numerical_pipe, X_num.columns),\n",
    "        (\"ordinal_pipe\", ordinal_pipe, ordinal_columns),\n",
    "        (\"one_hot_pipe\", ohe_pipe, ohe_columns),\n",
    "    ]\n",
    ")"
   ]
  },
  {
   "cell_type": "markdown",
   "metadata": {
    "id": "UjVgD8HLCQu_"
   },
   "source": [
    "## 4) Model with pipeline and Search"
   ]
  },
  {
   "cell_type": "markdown",
   "metadata": {
    "id": "CjiMoiurDI3P"
   },
   "source": [
    "### DecisionTreeRegressor"
   ]
  },
  {
   "cell_type": "code",
   "execution_count": null,
   "metadata": {
    "colab": {
     "base_uri": "https://localhost:8080/",
     "height": 225
    },
    "executionInfo": {
     "elapsed": 415,
     "status": "ok",
     "timestamp": 1695995564599,
     "user": {
      "displayName": "Liane Gybas",
      "userId": "00850058138446702565"
     },
     "user_tz": -120
    },
    "id": "NcI7QsqDLhcw",
    "outputId": "0fc238c2-b927-4f5e-9809-34787172e371"
   },
   "outputs": [],
   "source": [
    "dt_pipeline = make_pipeline(preprocessor,\n",
    "                            DecisionTreeRegressor())\n",
    "\n",
    "dt_pipeline"
   ]
  },
  {
   "cell_type": "code",
   "execution_count": null,
   "metadata": {
    "colab": {
     "base_uri": "https://localhost:8080/",
     "height": 225
    },
    "executionInfo": {
     "elapsed": 921,
     "status": "ok",
     "timestamp": 1695995611552,
     "user": {
      "displayName": "Liane Gybas",
      "userId": "00850058138446702565"
     },
     "user_tz": -120
    },
    "id": "6fmBwBcXNYGj",
    "outputId": "f762adda-304d-4a9f-895f-1599b647310d"
   },
   "outputs": [],
   "source": [
    "dt_pipeline.fit(X_train,y_train)"
   ]
  },
  {
   "cell_type": "code",
   "execution_count": null,
   "metadata": {
    "executionInfo": {
     "elapsed": 9,
     "status": "ok",
     "timestamp": 1695995611807,
     "user": {
      "displayName": "Liane Gybas",
      "userId": "00850058138446702565"
     },
     "user_tz": -120
    },
    "id": "JA_IvUp4Nhob"
   },
   "outputs": [],
   "source": [
    "# we want to compare the two models, so we predict X_test\n",
    "dt_predictions = dt_pipeline.predict(X_test)"
   ]
  },
  {
   "cell_type": "code",
   "execution_count": null,
   "metadata": {
    "executionInfo": {
     "elapsed": 417,
     "status": "ok",
     "timestamp": 1695995614453,
     "user": {
      "displayName": "Liane Gybas",
      "userId": "00850058138446702565"
     },
     "user_tz": -120
    },
    "id": "FBs73ZjhNqHM"
   },
   "outputs": [],
   "source": [
    "# Evaluate the performance\n",
    "dt_mae = mean_absolute_error(y_true = y_test, y_pred = dt_predictions)\n",
    "dt_rmse = mean_squared_error(y_true = y_test, y_pred = dt_predictions, squared=False)\n",
    "dt_mape = mean_absolute_percentage_error(y_true = y_test, y_pred = dt_predictions)\n",
    "dt_r2 = r2_score(y_true = y_test, y_pred = dt_predictions)"
   ]
  },
  {
   "cell_type": "code",
   "execution_count": null,
   "metadata": {
    "colab": {
     "base_uri": "https://localhost:8080/",
     "height": 112
    },
    "executionInfo": {
     "elapsed": 288,
     "status": "ok",
     "timestamp": 1695995620011,
     "user": {
      "displayName": "Liane Gybas",
      "userId": "00850058138446702565"
     },
     "user_tz": -120
    },
    "id": "SAcKgYmRNs2j",
    "outputId": "02e2ab26-3778-4c5c-e8f6-6a7c6617cb7a"
   },
   "outputs": [],
   "source": [
    "# Creating a Dataframe with all results\n",
    "results = pd.DataFrame({\"MAE\": [dummy_mae, dt_mae],\n",
    "              \"RMSE\": [dummy_rmse, dt_rmse],\n",
    "              \"MAPE\": [dummy_mape, dt_mape],\n",
    "              \"R2\": [dummy_r2, dt_r2]},\n",
    "             index=[\"dummy_model\", \"decision_tree\"])\n",
    "results"
   ]
  },
  {
   "cell_type": "code",
   "execution_count": null,
   "metadata": {
    "colab": {
     "base_uri": "https://localhost:8080/",
     "height": 788
    },
    "executionInfo": {
     "elapsed": 1122,
     "status": "ok",
     "timestamp": 1695995633122,
     "user": {
      "displayName": "Liane Gybas",
      "userId": "00850058138446702565"
     },
     "user_tz": -120
    },
    "id": "VyrmTPSHEPng",
    "outputId": "f9d1df5e-71c4-4783-feea-842b5868c853"
   },
   "outputs": [],
   "source": [
    "results.plot.bar(subplots=True,\n",
    "                             figsize=(4, 8));"
   ]
  },
  {
   "cell_type": "markdown",
   "metadata": {
    "id": "rnmvduf3C3ne"
   },
   "source": [
    "**To put everything into a searchCV**\n",
    "- create a paramgrid\n",
    "- create the search (RandomizedSearchCV or GridSearchCV)\n",
    "    - pipeline that contains the preprocessor and Tree\n",
    "    - paramgrid\n",
    "    - some more parameters\n",
    "    - change the scoring to your measure of regression\n",
    "        - \"neg...\" if you use a score that is minimized (MAE...)\n",
    "- search.fit(X_train, y_train)\n",
    "- search.predict(X_train)\n",
    "- search.predict(X_test)\n",
    "- check evalutation / scores\n",
    "\n",
    "You can explore the parameters of the search.\n"
   ]
  },
  {
   "cell_type": "markdown",
   "metadata": {
    "id": "lzQUKPA1DVWG"
   },
   "source": [
    "### Other model 2 - empty"
   ]
  },
  {
   "cell_type": "code",
   "execution_count": null,
   "metadata": {
    "id": "KO3vac7sDaLX"
   },
   "outputs": [],
   "source": []
  },
  {
   "cell_type": "code",
   "execution_count": null,
   "metadata": {
    "id": "DFce56uNDZO1"
   },
   "outputs": [],
   "source": []
  },
  {
   "cell_type": "markdown",
   "metadata": {
    "id": "Ml-uHg_RDa2u"
   },
   "source": [
    "### Other model 3 - empty"
   ]
  },
  {
   "cell_type": "code",
   "execution_count": null,
   "metadata": {
    "id": "9H8Px9tiDcpe"
   },
   "outputs": [],
   "source": []
  },
  {
   "cell_type": "code",
   "execution_count": null,
   "metadata": {
    "id": "ApciA3uZDdKV"
   },
   "outputs": [],
   "source": []
  }
 ],
 "metadata": {
  "colab": {
   "provenance": [
    {
     "file_id": "16_bBfVdj5VRW3yzcnOaHs02GS0bV0XXA",
     "timestamp": 1695990320266
    },
    {
     "file_id": "1iF1uU66X3xDKhoZtcBNEwjLBqqxx-D4U",
     "timestamp": 1695987653326
    }
   ],
   "toc_visible": true
  },
  "kernelspec": {
   "display_name": "Python 3 (ipykernel)",
   "language": "python",
   "name": "python3"
  },
  "language_info": {
   "codemirror_mode": {
    "name": "ipython",
    "version": 3
   },
   "file_extension": ".py",
   "mimetype": "text/x-python",
   "name": "python",
   "nbconvert_exporter": "python",
   "pygments_lexer": "ipython3",
   "version": "3.11.3"
  }
 },
 "nbformat": 4,
 "nbformat_minor": 4
}
