{
 "cells": [
  {
   "cell_type": "code",
   "execution_count": 1,
   "id": "ef32a729-0067-46f4-8eaf-6508181afcb9",
   "metadata": {
    "tags": []
   },
   "outputs": [],
   "source": [
    "import pandas as pd\n",
    "import numpy as np\n",
    "from scipy.stats import t, ttest_ind"
   ]
  },
  {
   "cell_type": "code",
   "execution_count": 2,
   "id": "82da0da6-38ce-48e8-836f-e17f446a149e",
   "metadata": {
    "tags": []
   },
   "outputs": [],
   "source": [
    "# Load the data\n",
    "url = 'https://drive.google.com/file/d/1nYRMCgv3OKaiIUDBPgq-EnE2sWhgrJI3/view?usp=sharing'\n",
    "path = 'https://drive.google.com/uc?export=download&id='+url.split('/')[-2]\n",
    "session_times = pd.read_csv(path)\n"
   ]
  },
  {
   "cell_type": "code",
   "execution_count": 3,
   "id": "94042a47-5836-4c0c-8cbc-1b710dd43b6f",
   "metadata": {
    "tags": []
   },
   "outputs": [],
   "source": [
    "# Separate data for each page\n",
    "page_a_data = session_times[session_times['Page'] == 'Page A']['Time']\n",
    "page_b_data = session_times[session_times['Page'] == 'Page B']['Time']\n"
   ]
  },
  {
   "cell_type": "code",
   "execution_count": 4,
   "id": "1d5db672-6e93-4d0b-8695-8f7bf1427a40",
   "metadata": {
    "tags": []
   },
   "outputs": [],
   "source": [
    "# Calculate sample statistics\n",
    "sample_mean_a = page_a_data.mean()\n",
    "sample_mean_b = page_b_data.mean()\n",
    "sample_std_a = page_a_data.std()\n",
    "sample_std_b = page_b_data.std()\n",
    "sample_size_a = len(page_a_data)\n",
    "sample_size_b = len(page_b_data)\n"
   ]
  },
  {
   "cell_type": "code",
   "execution_count": null,
   "id": "b65c0b9b-9cc8-4d0f-849b-958924e94cf5",
   "metadata": {},
   "outputs": [],
   "source": [
    "#above code explanation\n",
    "sample_mean_a = page_a_data.mean():\n",
    "\n",
    "page_a_data is a pandas Series containing the session times for Page A.\n",
    ".mean() calculates the average (mean) of the session times for Page A and assigns it to sample_mean_a.\n",
    "sample_mean_b = page_b_data.mean():\n",
    "\n",
    "Similarly, this line calculates the average session time for Page B and assigns it to sample_mean_b.\n",
    "sample_std_a = page_a_data.std():\n",
    "\n",
    "page_a_data.std() calculates the sample standard deviation of the session times for Page A.\n",
    "The standard deviation is a measure of how spread out the data points are around the mean.\n",
    "sample_std_b = page_b_data.std():\n",
    "\n",
    "This line calculates the sample standard deviation for Page B in the same way.\n",
    "sample_size_a = len(page_a_data):\n",
    "\n",
    "len(page_a_data) returns the number of observations (session times) in Page A.\n",
    "This number is assigned to sample_size_a, representing the sample size for Page A.\n",
    "sample_size_b = len(page_b_data):\n",
    "\n",
    "Similarly, this line calculates the sample size for Page B."
   ]
  },
  {
   "cell_type": "code",
   "execution_count": 13,
   "id": "090fcf8c-2ba2-4b30-ad4c-31bc38924849",
   "metadata": {
    "tags": []
   },
   "outputs": [
    {
     "data": {
      "text/plain": [
       "126.33333333333333"
      ]
     },
     "execution_count": 13,
     "metadata": {},
     "output_type": "execute_result"
    }
   ],
   "source": [
    "sample_mean_a \n"
   ]
  },
  {
   "cell_type": "code",
   "execution_count": 14,
   "id": "0762c6ca-bfb5-4443-8ed1-a9629b62748e",
   "metadata": {
    "tags": []
   },
   "outputs": [
    {
     "data": {
      "text/plain": [
       "162.0"
      ]
     },
     "execution_count": 14,
     "metadata": {},
     "output_type": "execute_result"
    }
   ],
   "source": [
    "sample_mean_b \n"
   ]
  },
  {
   "cell_type": "code",
   "execution_count": 15,
   "id": "fef640b7-efa1-4658-9b03-8026473d1401",
   "metadata": {
    "tags": []
   },
   "outputs": [
    {
     "data": {
      "text/plain": [
       "88.46317501273248"
      ]
     },
     "execution_count": 15,
     "metadata": {},
     "output_type": "execute_result"
    }
   ],
   "source": [
    "sample_std_a\n"
   ]
  },
  {
   "cell_type": "code",
   "execution_count": 16,
   "id": "9fc56090-a7d1-4187-b310-3ec0044b0397",
   "metadata": {
    "tags": []
   },
   "outputs": [
    {
     "data": {
      "text/plain": [
       "101.13640011673063"
      ]
     },
     "execution_count": 16,
     "metadata": {},
     "output_type": "execute_result"
    }
   ],
   "source": [
    "sample_std_b \n"
   ]
  },
  {
   "cell_type": "code",
   "execution_count": 17,
   "id": "cbaf2003-8546-4b41-bb62-64b820774656",
   "metadata": {
    "tags": []
   },
   "outputs": [
    {
     "data": {
      "text/plain": [
       "21"
      ]
     },
     "execution_count": 17,
     "metadata": {},
     "output_type": "execute_result"
    }
   ],
   "source": [
    "sample_size_a \n"
   ]
  },
  {
   "cell_type": "code",
   "execution_count": 18,
   "id": "1511d33c-b15f-4461-a1f5-0df1ff94abf2",
   "metadata": {
    "tags": []
   },
   "outputs": [
    {
     "data": {
      "text/plain": [
       "15"
      ]
     },
     "execution_count": 18,
     "metadata": {},
     "output_type": "execute_result"
    }
   ],
   "source": [
    "sample_size_b"
   ]
  },
  {
   "cell_type": "code",
   "execution_count": 10,
   "id": "73068db3-1e3e-4766-948d-d81f4e844cee",
   "metadata": {
    "tags": []
   },
   "outputs": [],
   "source": [
    "#performing t-test\n",
    "numerator = ((sample_std_a**2 / sample_size_a) + (sample_std_b**2 / sample_size_b))**2\n",
    "denominator = ((sample_std_a**2 / sample_size_a)**2 / (sample_size_a - 1)) + ((sample_std_b**2 / sample_size_b)**2 / (sample_size_b - 1))\n",
    "degrees_of_freedom = numerator / denominator\n",
    "\n",
    "t_score = (sample_mean_a - sample_mean_b) / np.sqrt((sample_std_a**2 / sample_size_a) + (sample_std_b**2 / sample_size_b))\n",
    "p_value = 2 * (1 - t.cdf(abs(t_score), df=degrees_of_freedom))"
   ]
  },
  {
   "cell_type": "code",
   "execution_count": 19,
   "id": "cd4eadc8-30e7-444d-832a-c265f8463f7f",
   "metadata": {
    "tags": []
   },
   "outputs": [
    {
     "data": {
      "text/plain": [
       "27.693370059531308"
      ]
     },
     "execution_count": 19,
     "metadata": {},
     "output_type": "execute_result"
    }
   ],
   "source": [
    "degrees_of_freedom"
   ]
  },
  {
   "cell_type": "code",
   "execution_count": 6,
   "id": "67da28ae-462c-4ef6-9b3b-694a268d96b7",
   "metadata": {
    "tags": []
   },
   "outputs": [
    {
     "data": {
      "text/plain": [
       "-1.1237042154424814"
      ]
     },
     "execution_count": 6,
     "metadata": {},
     "output_type": "execute_result"
    }
   ],
   "source": [
    "t_score"
   ]
  },
  {
   "cell_type": "code",
   "execution_count": 7,
   "id": "b5ed7328-9202-4831-abb3-0bd7b21c1808",
   "metadata": {
    "tags": []
   },
   "outputs": [
    {
     "data": {
      "text/plain": [
       "0.2690102436392605"
      ]
     },
     "execution_count": 7,
     "metadata": {},
     "output_type": "execute_result"
    }
   ],
   "source": [
    "p_value"
   ]
  },
  {
   "cell_type": "code",
   "execution_count": 8,
   "id": "efa3b4c0-9125-4dba-832d-78e0ad55c1d3",
   "metadata": {
    "tags": []
   },
   "outputs": [],
   "source": [
    "# Define significance level (alpha)\n",
    "alpha = 0.10\n"
   ]
  },
  {
   "cell_type": "code",
   "execution_count": 9,
   "id": "de19af5e-d9a4-4932-8b13-9ad9126a6a85",
   "metadata": {
    "tags": []
   },
   "outputs": [
    {
     "name": "stdout",
     "output_type": "stream",
     "text": [
      "Fail to reject the null hypothesis. There is no significant difference.\n",
      "T-Score: -1.1237042154424814\n",
      "P-Value: 0.2690102436392605\n"
     ]
    }
   ],
   "source": [
    "# Interpret the results\n",
    "if p_value < alpha:\n",
    "    print(\"Reject the null hypothesis. There is a statistically significant difference.\")\n",
    "else:\n",
    "    print(\"Fail to reject the null hypothesis. There is no significant difference.\")\n",
    "\n",
    "# Display t-score and p-value\n",
    "print(\"T-Score:\", t_score)\n",
    "print(\"P-Value:\", p_value)"
   ]
  },
  {
   "cell_type": "code",
   "execution_count": null,
   "id": "7c61ec01-d1af-403c-94e1-861660e82e9c",
   "metadata": {},
   "outputs": [],
   "source": []
  }
 ],
 "metadata": {
  "kernelspec": {
   "display_name": "Python 3 (ipykernel)",
   "language": "python",
   "name": "python3"
  },
  "language_info": {
   "codemirror_mode": {
    "name": "ipython",
    "version": 3
   },
   "file_extension": ".py",
   "mimetype": "text/x-python",
   "name": "python",
   "nbconvert_exporter": "python",
   "pygments_lexer": "ipython3",
   "version": "3.11.5"
  }
 },
 "nbformat": 4,
 "nbformat_minor": 5
}
